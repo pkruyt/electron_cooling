{
 "cells": [
  {
   "cell_type": "code",
   "execution_count": 6,
   "id": "e0cf7130",
   "metadata": {},
   "outputs": [],
   "source": [
    "# copyright ############################### #\n",
    "# This file is part of the Xtrack Package.  #\n",
    "# Copyright (c) CERN, 2021.                 #\n",
    "# ######################################### #\n",
    "\n",
    "\n",
    "import ducktrack as dtk\n",
    "import numpy as np\n",
    "import matplotlib.pyplot as plt\n",
    "from matplotlib.widgets import Slider\n",
    "from tqdm import tqdm\n",
    "\n",
    "import xtrack as xt\n",
    "import xobjects as xo\n",
    "import xpart as xp\n",
    "\n",
    "\n",
    "beta_rel = 0.305\n",
    "#beta_rel = 0.106\n",
    "\n",
    "gamma = 1.050\n",
    "#gamma = 1.006\n",
    "\n",
    "\n",
    "current=2.4\n",
    "length = 1.5 # m cooler length\n",
    "r_beam=25*1e-3\n",
    "\n",
    "mass0=938.27208816*1e6 #ev/c^2\n",
    "\n",
    "T_perp = 100e-3 # <E> [eV] = kb*T\n",
    "T_l =  1e-3 # <E> [eV]\n",
    "B = 0.060 # T for AD\n",
    "B_ratio=1e-10\n",
    "Z=1\n",
    "\n",
    "\n",
    "c=299792458.0\n",
    "\n",
    "p0c = mass0*beta_rel*gamma #eV/c\n",
    "\n",
    "\n",
    "\n",
    "circumference = 182.43280000000 #m\n",
    "T = circumference/(c*beta_rel)\n",
    "s_per_turn = T\n",
    "\n",
    "\n",
    "beta_x=10 \n",
    "beta_y=4\n",
    "\n",
    "disp_x=0.12\n",
    "#disp_x=0\n",
    "\n",
    "arc=xt.LinearTransferMatrix(Q_x=5.44, Q_y=5.42,\n",
    "                            beta_x_0=beta_x, beta_x_1=beta_x,\n",
    "                            beta_y_0=beta_y,  beta_y_1=beta_y,\n",
    "                            alpha_x_0=0,   alpha_x_1=0,\n",
    "                            alpha_y_0=0,   alpha_y_1=0,\n",
    "                            disp_x_0=disp_x,disp_x_1=disp_x,\n",
    "                            disp_y_0=0,    disp_y_1=0,\n",
    "                            beta_s=1*1e40,\n",
    "                            Q_s=0,\n",
    "                            chroma_x=0.0, chroma_y=0)\n",
    "                                        \n"
   ]
  },
  {
   "attachments": {},
   "cell_type": "markdown",
   "id": "a546f082",
   "metadata": {},
   "source": [
    "Parameters: $I=2.4 A, B=0.060 T, \\beta_x=10 m,\\beta_y=4,D_x=0.12 m T_\\perp=100meV,T_\\parallel=1meV,\\epsilon_{x}=35*1e-6,\\epsilon_{y}=35*1e-6,dp/p=1e-3$"
   ]
  },
  {
   "cell_type": "code",
   "execution_count": 7,
   "id": "3946c763",
   "metadata": {},
   "outputs": [
    {
     "name": "stderr",
     "output_type": "stream",
     "text": [
      "100%|██████████| 1000000/1000000 [00:31<00:00, 31967.56it/s]\n"
     ]
    }
   ],
   "source": [
    "num_particles=1\n",
    "#old\n",
    "emittance=35*1e-6 #inital emittance\n",
    "delta=1e-3\n",
    "\n",
    "# #1_sigma\n",
    "# emittance1=5*1e-6 #inital emittance\n",
    "# delta1=5e-4\n",
    "\n",
    "# #2_sigma\n",
    "# emittance=emittance2\n",
    "# delta=delta1\n",
    "\n",
    "\n",
    "x_init=np.sqrt(beta_x*emittance)\n",
    "y_init=np.sqrt(beta_y*emittance)\n",
    "\n",
    "dtk_particle = xp.Particles(\n",
    "        \n",
    "        mass0=mass0,\n",
    "        p0c=p0c,\n",
    "        x=x_init,\n",
    "        px=0,\n",
    "        y=0,\n",
    "        py=0,\n",
    "        delta=0,\n",
    "        zeta=0)\n",
    "\n",
    "dtk_cooler = xt.ElectronCooler(current=current,length=length,r_beam=r_beam,\n",
    "                                         T_perp=T_perp,T_l=T_l,\n",
    "                                         B=B,B_ratio=1e-4,\n",
    "                                         Neutralisation_space_charge=0)\n",
    "\n",
    "       \n",
    "\n",
    "\n",
    "num_turns=int(3*1e7)\n",
    "num_turns=int(1*1e6)\n",
    "step=100\n",
    "\n",
    "# initialize arrays\n",
    "x = []\n",
    "px = []\n",
    "delta =[]\n",
    "action_x = []\n",
    "\n",
    "\n",
    "\n",
    "for i in tqdm(range(num_turns)):\n",
    "    if i % step == 0:\n",
    "        x.append(dtk_particle.x)\n",
    "        px.append(dtk_particle.px)\n",
    "        delta.append(dtk_particle.delta)\n",
    "   \n",
    "        # calculate action in horizontal plane\n",
    "        action_x_temp = (dtk_particle.x**2/beta_x + beta_x*dtk_particle.px**2)\n",
    "        action_x.append(action_x_temp)\n",
    "           \n",
    "\n",
    "    arc.track(dtk_particle)\n",
    "    dtk_cooler.track(dtk_particle)\n",
    "    \n",
    "\n",
    "# convert arrays to numpy arrays\n",
    "x = np.array(x)\n",
    "px = np.array(px)\n",
    "action_x = np.array(action_x)\n",
    "delta = np.array(delta)\n",
    "\n",
    "\n",
    "\n",
    "time = np.arange(0, num_turns, step) * s_per_turn\n",
    "\n"
   ]
  },
  {
   "cell_type": "code",
   "execution_count": 11,
   "id": "18e3068b",
   "metadata": {},
   "outputs": [
    {
     "data": {
      "image/png": "[encoded data removed]",
      "text/plain": [
       "<Figure size 640x480 with 1 Axes>"
      ]
     },
     "metadata": {},
     "output_type": "display_data"
    }
   ],
   "source": [
    "# Plot the horizontal action versus time\n",
    "plt.figure()\n",
    "plt.plot(time,delta,label='delta')\n",
    "#plt.plot(time,action_x,label='horizontal action')\n",
    "plt.xlabel('Time [s]')\n",
    "plt.ylabel('Action [m rad]')\n",
    "plt.title('AD (300MeV): Time evolution of action')\n",
    "plt.legend()\n",
    "plt.ticklabel_format(useOffset=False)\n",
    "\n"
   ]
  }
 ],
 "metadata": {
  "kernelspec": {
   "display_name": "base",
   "language": "python",
   "name": "python3"
  },
  "language_info": {
   "codemirror_mode": {
    "name": "ipython",
    "version": 3
   },
   "file_extension": ".py",
   "mimetype": "text/x-python",
   "name": "python",
   "nbconvert_exporter": "python",
   "pygments_lexer": "ipython3",
   "version": "3.11.2"
  },
  "vscode": {
   "interpreter": {
    "hash": "b3c9a0a5475e728b39e61ac58d244ad936924f9cf82746515a9faeb1f1a0b703"
   }
  }
 },
 "nbformat": 4,
 "nbformat_minor": 5
}
