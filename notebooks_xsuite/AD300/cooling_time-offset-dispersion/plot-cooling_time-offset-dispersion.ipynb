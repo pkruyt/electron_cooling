{
 "cells": [
  {
   "cell_type": "code",
   "execution_count": null,
   "id": "f1b3d5b1",
   "metadata": {},
   "outputs": [],
   "source": [
    "import numpy as np\n",
    "import matplotlib.pyplot as plt\n",
    "\n",
    "file='cooling_time_data.npz'\n",
    "\n",
    "data = np.load(file)\n",
    "\n",
    "import matplotlib.pyplot as plt\n",
    "import numpy as np\n",
    "\n",
    "# Assuming you have already loaded the data into the following arrays\n",
    "disp_values = data['disp_values']\n",
    "offset_values = data['offset_values']\n",
    "cooling_time = data['cooling_time']\n",
    "\n",
    "# Reshape cooling_time list to a 20x10 array\n",
    "cooling_time = np.reshape(cooling_time, (10, 10))\n",
    "\n",
    "# Create a heatmap\n",
    "plt.figure(figsize=(10, 6))\n",
    "plt.imshow(cooling_time, cmap='hot', aspect='auto', origin='lower',\n",
    "           extent=[offset_values[0], offset_values[-1], disp_values[0], disp_values[-1]])\n",
    "plt.colorbar(label='Cooling Time (Temperature)')\n",
    "plt.xlabel('Delta Values')\n",
    "plt.ylabel('Disp Values')\n",
    "plt.title('Cooling Time Heatmap')\n",
    "plt.show()"
   ]
  }
 ],
 "metadata": {
  "kernelspec": {
   "display_name": "Python 3",
   "language": "python",
   "name": "python3"
  },
  "language_info": {
   "codemirror_mode": {
    "name": "ipython",
    "version": 3
   },
   "file_extension": ".py",
   "mimetype": "text/x-python",
   "name": "python",
   "nbconvert_exporter": "python",
   "pygments_lexer": "ipython3",
   "version": "3.11.3"
  },
  "vscode": {
   "interpreter": {
    "hash": "b3c9a0a5475e728b39e61ac58d244ad936924f9cf82746515a9faeb1f1a0b703"
   }
  }
 },
 "nbformat": 4,
 "nbformat_minor": 5
}
