{
 "cells": [
  {
   "cell_type": "code",
   "execution_count": 3,
   "id": "e0cf7130",
   "metadata": {},
   "outputs": [],
   "source": [
    "# copyright ############################### #\n",
    "# This file is part of the Xtrack Package.  #\n",
    "# Copyright (c) CERN, 2021.                 #\n",
    "# ######################################### #\n",
    "\n",
    "\n",
    "import ducktrack as dtk\n",
    "import numpy as np\n",
    "import matplotlib.pyplot as plt\n",
    "from matplotlib.widgets import Slider\n",
    "from tqdm import tqdm\n",
    "\n",
    "import xtrack as xt\n",
    "import xobjects as xo\n",
    "import xpart as xp\n",
    "\n",
    "\n",
    "beta_rel = 0.305\n",
    "#beta_rel = 0.106\n",
    "\n",
    "gamma = 1.050\n",
    "#gamma = 1.006\n",
    "\n",
    "\n",
    "current=2.4\n",
    "length = 1.5 # m cooler length\n",
    "r_beam=25*1e-3\n",
    "\n",
    "mass0=938.27208816*1e6 #ev/c^2\n",
    "\n",
    "T_perp = 100e-3 # <E> [eV] = kb*T\n",
    "T_l =  1e-3 # <E> [eV]\n",
    "magnetic_field = 0.060 # T for AD\n",
    "B_ratio=1e-10\n",
    "\n",
    "\n",
    "\n",
    "c=299792458.0\n",
    "\n",
    "p0c = mass0*beta_rel*gamma #eV/c\n",
    "\n",
    "\n",
    "\n",
    "circumference = 182.43280000000 #m\n",
    "T = circumference/(c*beta_rel)\n",
    "s_per_turn = T\n",
    "\n",
    "\n",
    "beta_x=10 \n",
    "beta_y=4\n",
    "\n",
    "disp_x=0\n",
    "\n",
    "                                        \n"
   ]
  },
  {
   "attachments": {},
   "cell_type": "markdown",
   "id": "a546f082",
   "metadata": {},
   "source": [
    "Parameters: $I=2.4 A, B=0.060 T, \\beta_x=10 m,\\beta_y=4,D_x=0.12 m T_\\perp=100meV,T_\\parallel=1meV,\\epsilon_{x}=35*1e-6,\\epsilon_{y}=35*1e-6,dp/p=1e-3$"
   ]
  },
  {
   "cell_type": "code",
   "execution_count": 4,
   "id": "3946c763",
   "metadata": {},
   "outputs": [
    {
     "name": "stderr",
     "output_type": "stream",
     "text": [
      "  0%|          | 0/20 [00:00<?, ?it/s]"
     ]
    },
    {
     "name": "stdout",
     "output_type": "stream",
     "text": [
      "Compiling ContextCpu kernels...\n",
      "Done compiling ContextCpu kernels.\n",
      "Compiling ContextCpu kernels...\n"
     ]
    },
    {
     "name": "stderr",
     "output_type": "stream",
     "text": []
    },
    {
     "name": "stdout",
     "output_type": "stream",
     "text": [
      "Done compiling ContextCpu kernels.\n"
     ]
    },
    {
     "name": "stderr",
     "output_type": "stream",
     "text": [
      "100%|██████████| 20/20 [51:04<00:00, 153.25s/it]  \n"
     ]
    }
   ],
   "source": [
    "cooling_time=[]\n",
    "num_particles=1\n",
    "\n",
    "beta_values=np.linspace(1, 500, num=20)\n",
    "\n",
    "#beta_values=[1000]\n",
    "\n",
    "for beta in tqdm(beta_values):\n",
    "     \n",
    "    beta_x=beta\n",
    "    \n",
    "\n",
    "    arc=xt.LinearTransferMatrix(Q_x=5.44, Q_y=5.42,\n",
    "                                beta_x_0=beta_x, beta_x_1=beta_x,\n",
    "                                beta_y_0=beta_y,  beta_y_1=beta_y,\n",
    "                                alpha_x_0=0,   alpha_x_1=0,\n",
    "                                alpha_y_0=0,   alpha_y_1=0,\n",
    "                                disp_x_0=disp_x,disp_x_1=disp_x,\n",
    "                                disp_y_0=0,    disp_y_1=0,\n",
    "                                beta_s=1*1e40,\n",
    "                                Q_s=0,\n",
    "                                chroma_x=0.0, chroma_y=0)\n",
    "\n",
    "    \n",
    "\n",
    "\n",
    "    #num_particles=1000\n",
    "    #old\n",
    "    emittance=5*1e-6 #inital emittance\n",
    "    \n",
    "    sigma_x = np.sqrt(beta_x*emittance)\n",
    "    sigma_px = np.sqrt(emittance*1/beta_x)\n",
    "    sigma_y = np.sqrt(beta_y*emittance)\n",
    "    sigma_py = np.sqrt(emittance*1/beta_y)\n",
    "    sigma_p = 5e-4\n",
    "\n",
    "\n",
    "    delta = np.random.normal(loc=0.0, scale=sigma_p,  size=num_particles)\n",
    "    x =     np.random.normal(loc=0.0, scale=sigma_x,  size=num_particles)+disp_x*delta\n",
    "    px =    np.random.normal(loc=0.0, scale=sigma_px, size=num_particles)\n",
    "    y =     np.random.normal(loc=0.0, scale=sigma_y,  size=num_particles)\n",
    "    py =    np.random.normal(loc=0.0, scale=sigma_py, size=num_particles)\n",
    "\n",
    "    emittance_tail=35*1e-6\n",
    "    x_tail = np.sqrt(beta_x*emittance_tail)\n",
    "\n",
    "    particles = xp.Particles(\n",
    "            \n",
    "            mass0=mass0,\n",
    "            p0c=p0c,\n",
    "            x=x_tail,\n",
    "            px=0,\n",
    "            y=0,\n",
    "            py=0,\n",
    "            delta=0,\n",
    "            zeta=0)\n",
    "\n",
    "\n",
    "    cooler = xt.ElectronCooler(current=current,length=length,r_beam=r_beam,\n",
    "                                            T_perp=T_perp,T_l=T_l,\n",
    "                                            magnetic_field=magnetic_field,B_ratio=B_ratio,\n",
    "                                            Neutralisation_space_charge=1)\n",
    "\n",
    "        \n",
    "\n",
    "    num_turns=int(1*1e7)\n",
    "    step=int(num_turns/100)\n",
    "\n",
    "    # initialize arrays\n",
    "    x, px, delta, action_x = [], [], [], []\n",
    "    \n",
    "    # loop over turns\n",
    "    for i in tqdm(range(num_turns), desc='Cooling Progress', leave=False):\n",
    "        action_x_temp = (particles.x**2/beta_x + beta_x*particles.px**2)\n",
    "        if action_x_temp < 0.1* emittance_tail:\n",
    "                    cooling_time.append(i*s_per_turn)\n",
    "                    break\n",
    "\n",
    "        \n",
    "        # track particle\n",
    "        arc.track(particles)\n",
    "        cooler.track(particles)\n",
    "    \n",
    "   \n",
    "    if action_x_temp >= 0.1* emittance_tail:\n",
    "        cooling_time.append(num_turns * s_per_turn)  # Append default value if cooling condition is not met\n",
    "            "
   ]
  },
  {
   "cell_type": "code",
   "execution_count": 5,
   "id": "9e0e63a7",
   "metadata": {},
   "outputs": [
    {
     "name": "stderr",
     "output_type": "stream",
     "text": [
      "No artists with labels found to put in legend.  Note that artists whose label start with an underscore are ignored when legend() is called with no argument.\n"
     ]
    },
    {
     "data": {
      "image/png": "[encoded data removed]",
      "text/plain": [
       "<Figure size 640x480 with 1 Axes>"
      ]
     },
     "metadata": {},
     "output_type": "display_data"
    }
   ],
   "source": [
    "# Plot the horizontal action versus time\n",
    "plt.figure()\n",
    "plt.plot(beta_values,cooling_time)\n",
    "plt.xlabel(r'$\\beta_x$ [m]')\n",
    "plt.ylabel('Time [s]')\n",
    "plt.title('AD (300MeV): Beta vs Cooling time')\n",
    "plt.legend()\n",
    "plt.ticklabel_format(useOffset=False)"
   ]
  }
 ],
 "metadata": {
  "kernelspec": {
   "display_name": "base",
   "language": "python",
   "name": "python3"
  },
  "language_info": {
   "codemirror_mode": {
    "name": "ipython",
    "version": 3
   },
   "file_extension": ".py",
   "mimetype": "text/x-python",
   "name": "python",
   "nbconvert_exporter": "python",
   "pygments_lexer": "ipython3",
   "version": "3.11.3"
  },
  "vscode": {
   "interpreter": {
    "hash": "b3c9a0a5475e728b39e61ac58d244ad936924f9cf82746515a9faeb1f1a0b703"
   }
  }
 },
 "nbformat": 4,
 "nbformat_minor": 5
}
