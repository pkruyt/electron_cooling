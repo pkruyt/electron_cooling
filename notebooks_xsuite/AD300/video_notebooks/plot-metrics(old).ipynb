{
 "cells": [
  {
   "cell_type": "code",
   "execution_count": 12,
   "id": "1450fceb",
   "metadata": {},
   "outputs": [
    {
     "ename": "FileNotFoundError",
     "evalue": "[Errno 2] No such file or directory: 'output/metrics/IQR.npz'",
     "output_type": "error",
     "traceback": [
      "\u001b[0;31m---------------------------------------------------------------------------\u001b[0m",
      "\u001b[0;31mFileNotFoundError\u001b[0m                         Traceback (most recent call last)",
      "Cell \u001b[0;32mIn[12], line 20\u001b[0m\n\u001b[1;32m     17\u001b[0m point_delta_second_moment \u001b[39m=\u001b[39m second_moment_data[\u001b[39m'\u001b[39m\u001b[39mpoint_delta_list\u001b[39m\u001b[39m'\u001b[39m]\n\u001b[1;32m     19\u001b[0m \u001b[39m# Load the data from the \"IQR\" file\u001b[39;00m\n\u001b[0;32m---> 20\u001b[0m iqr_data \u001b[39m=\u001b[39m np\u001b[39m.\u001b[39mload(iqr_file)\n\u001b[1;32m     22\u001b[0m \u001b[39m# Extract the arrays from the loaded data\u001b[39;00m\n\u001b[1;32m     23\u001b[0m q1_x_iqr \u001b[39m=\u001b[39m iqr_data[\u001b[39m'\u001b[39m\u001b[39mq1_x_list\u001b[39m\u001b[39m'\u001b[39m]\n",
      "File \u001b[0;32m~/miniforge3/envs/xsuite/lib/python3.11/site-packages/numpy/lib/npyio.py:405\u001b[0m, in \u001b[0;36mload\u001b[0;34m(file, mmap_mode, allow_pickle, fix_imports, encoding, max_header_size)\u001b[0m\n\u001b[1;32m    403\u001b[0m     own_fid \u001b[39m=\u001b[39m \u001b[39mFalse\u001b[39;00m\n\u001b[1;32m    404\u001b[0m \u001b[39melse\u001b[39;00m:\n\u001b[0;32m--> 405\u001b[0m     fid \u001b[39m=\u001b[39m stack\u001b[39m.\u001b[39menter_context(\u001b[39mopen\u001b[39m(os_fspath(file), \u001b[39m\"\u001b[39m\u001b[39mrb\u001b[39m\u001b[39m\"\u001b[39m))\n\u001b[1;32m    406\u001b[0m     own_fid \u001b[39m=\u001b[39m \u001b[39mTrue\u001b[39;00m\n\u001b[1;32m    408\u001b[0m \u001b[39m# Code to distinguish from NumPy binary files and pickles.\u001b[39;00m\n",
      "\u001b[0;31mFileNotFoundError\u001b[0m: [Errno 2] No such file or directory: 'output/metrics/IQR.npz'"
     ]
    }
   ],
   "source": [
    "import numpy as np\n",
    "import os\n",
    "import numpy as np\n",
    "import matplotlib.pyplot as plt\n",
    "# Specify the file paths of the saved data\n",
    "second_moment_file = 'output/metrics/2nd-moment.npz'\n",
    "iqr_file = 'output/metrics/IQR.npz'\n",
    "min_distance_file='output/metrics/min_distance_metric.npz'\n",
    "\n",
    "# Load the data from the \"2nd moment\" file\n",
    "second_moment_data = np.load(second_moment_file)\n",
    "\n",
    "# Extract the arrays from the loaded data\n",
    "min_distance_x_second_moment = second_moment_data['min_distance_x_list']\n",
    "point_x_second_moment = second_moment_data['point_x_list']\n",
    "min_distance_delta_second_moment = second_moment_data['min_distance_delta_list']\n",
    "point_delta_second_moment = second_moment_data['point_delta_list']\n",
    "\n",
    "# Load the data from the \"IQR\" file\n",
    "iqr_data = np.load(iqr_file)\n",
    "\n",
    "# Extract the arrays from the loaded data\n",
    "q1_x_iqr = iqr_data['q1_x_list']\n",
    "point_x_iqr = iqr_data['point_x_list']\n",
    "q3_x_iqr = iqr_data['q3_x_list']\n",
    "q1_delta_iqr = iqr_data['q1_delta_list']\n",
    "point_delta_iqr = iqr_data['point_delta_list']\n",
    "q3_delta_iqr = iqr_data['q3_delta_list']\n",
    "\n",
    "\n",
    "\n",
    "min_distance_data = np.load(min_distance_file)\n",
    "\n",
    "min_distance_x_array = min_distance_data['min_distance_x_list']\n",
    "min_distance_point_x_array = min_distance_data['point_x_list']\n",
    "min_distance_delta_array = min_distance_data['min_distance_delta_list']\n",
    "min_distance_point_delta_array = min_distance_data['point_delta_list']\n",
    "\n",
    "\n",
    "# time = np.arange(0, 100) * s_per_turn   \n",
    "# Plot the arrays\n",
    "plt.figure()\n",
    "plt.fill_between(range(len(point_x_second_moment)),\n",
    "                 point_x_second_moment + min_distance_x_second_moment,\n",
    "                 point_x_second_moment - min_distance_x_second_moment,\n",
    "                 color='green',  \n",
    "                 alpha=0.2,\n",
    "                 label='second moment'\n",
    "                 )\n",
    "plt.plot(point_x_second_moment,color='green',linestyle='--',alpha=0.6)\n",
    "plt.fill_between(range(len(point_x_second_moment)),\n",
    "                 min_distance_point_x_array + min_distance_x_array,\n",
    "                 min_distance_point_x_array - min_distance_x_array,\n",
    "                 color='blue',  \n",
    "                 alpha=0.2,\n",
    "                 label='min distance'\n",
    "                 )\n",
    "\n",
    "plt.plot(min_distance_point_x_array,color='blue',linestyle='--',alpha=0.6)\n",
    "\n",
    "plt.fill_between(range(len(point_x_second_moment)),\n",
    "                 q1_x_iqr,\n",
    "                 q3_x_iqr,\n",
    "                 color='red',  \n",
    "                 alpha=0.2,\n",
    "                 label='IQR'\n",
    "                 )\n",
    "\n",
    "\n",
    "\n",
    "plt.legend(loc='best')\n",
    "plt.show()\n",
    "\n"
   ]
  }
 ],
 "metadata": {
  "kernelspec": {
   "display_name": "base",
   "language": "python",
   "name": "python3"
  },
  "language_info": {
   "codemirror_mode": {
    "name": "ipython",
    "version": 3
   },
   "file_extension": ".py",
   "mimetype": "text/x-python",
   "name": "python",
   "nbconvert_exporter": "python",
   "pygments_lexer": "ipython3",
   "version": "3.11.3"
  },
  "vscode": {
   "interpreter": {
    "hash": "b3c9a0a5475e728b39e61ac58d244ad936924f9cf82746515a9faeb1f1a0b703"
   }
  }
 },
 "nbformat": 4,
 "nbformat_minor": 5
}
