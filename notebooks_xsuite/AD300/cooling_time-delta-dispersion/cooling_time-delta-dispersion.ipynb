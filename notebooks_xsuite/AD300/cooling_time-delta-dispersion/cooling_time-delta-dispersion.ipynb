{
 "cells": [
  {
   "cell_type": "code",
   "execution_count": 5,
   "id": "e0cf7130",
   "metadata": {},
   "outputs": [
    {
     "ename": "ModuleNotFoundError",
     "evalue": "No module named 'ducktrack'",
     "output_type": "error",
     "traceback": [
      "\u001b[0;31m---------------------------------------------------------------------------\u001b[0m",
      "\u001b[0;31mModuleNotFoundError\u001b[0m                       Traceback (most recent call last)",
      "\u001b[0;32m/tmp/ipykernel_537/2881073840.py\u001b[0m in \u001b[0;36m<module>\u001b[0;34m\u001b[0m\n\u001b[1;32m      5\u001b[0m \u001b[0;34m\u001b[0m\u001b[0m\n\u001b[1;32m      6\u001b[0m \u001b[0;34m\u001b[0m\u001b[0m\n\u001b[0;32m----> 7\u001b[0;31m \u001b[0;32mimport\u001b[0m \u001b[0mducktrack\u001b[0m \u001b[0;32mas\u001b[0m \u001b[0mdtk\u001b[0m\u001b[0;34m\u001b[0m\u001b[0;34m\u001b[0m\u001b[0m\n\u001b[0m\u001b[1;32m      8\u001b[0m \u001b[0;32mimport\u001b[0m \u001b[0mnumpy\u001b[0m \u001b[0;32mas\u001b[0m \u001b[0mnp\u001b[0m\u001b[0;34m\u001b[0m\u001b[0;34m\u001b[0m\u001b[0m\n\u001b[1;32m      9\u001b[0m \u001b[0;32mimport\u001b[0m \u001b[0mmatplotlib\u001b[0m\u001b[0;34m.\u001b[0m\u001b[0mpyplot\u001b[0m \u001b[0;32mas\u001b[0m \u001b[0mplt\u001b[0m\u001b[0;34m\u001b[0m\u001b[0;34m\u001b[0m\u001b[0m\n",
      "\u001b[0;31mModuleNotFoundError\u001b[0m: No module named 'ducktrack'"
     ]
    }
   ],
   "source": [
    "# copyright ############################### #\n",
    "# This file is part of the Xtrack Package.  #\n",
    "# Copyright (c) CERN, 2021.                 #\n",
    "# ######################################### #\n",
    "\n",
    "\n",
    "import ducktrack as dtk\n",
    "import numpy as np\n",
    "import matplotlib.pyplot as plt\n",
    "from matplotlib.widgets import Slider\n",
    "from tqdm import tqdm\n",
    "\n",
    "import xtrack as xt\n",
    "import xobjects as xo\n",
    "import xpart as xp\n",
    "\n",
    "\n",
    "beta_rel = 0.305\n",
    "#beta_rel = 0.106\n",
    "\n",
    "gamma = 1.050\n",
    "#gamma = 1.006\n",
    "\n",
    "\n",
    "current=2.4\n",
    "length = 1.5 # m cooler length\n",
    "r_beam=25*1e-3\n",
    "\n",
    "mass0=938.27208816*1e6 #ev/c^2\n",
    "\n",
    "T_perp = 100e-3 # <E> [eV] = kb*T\n",
    "T_l =  1e-3 # <E> [eV]\n",
    "B = 0.060 # T for AD\n",
    "B_ratio=1e-10\n",
    "\n",
    "\n",
    "\n",
    "c=299792458.0\n",
    "\n",
    "p0c = mass0*beta_rel*gamma #eV/c\n",
    "\n",
    "\n",
    "\n",
    "circumference = 182.43280000000 #m\n",
    "T = circumference/(c*beta_rel)\n",
    "s_per_turn = T\n",
    "\n",
    "\n",
    "beta_x=10 \n",
    "beta_y=4\n",
    "\n",
    "#disp_x=0.12\n",
    "\n",
    "                                        \n"
   ]
  },
  {
   "cell_type": "code",
   "execution_count": null,
   "id": "f3d4380e",
   "metadata": {},
   "outputs": [],
   "source": [
    "#dispersion and space charge parabola\n",
    "\n",
    "dtk_cooler = dtk.elements.ElectronCooler(current=current,length=length,r_beam=r_beam,\n",
    "                                         T_perp=T_perp,T_l=T_l,\n",
    "                                         B=B,B_ratio=B_ratio,\n",
    "                                         Neutralisation_space_charge=1,Neutralisation_rotation=0)      \n",
    "\n",
    "\n",
    "r=np.arange(start=-50*1e-2, stop=50*1e-2, step=1e-3)\n",
    "\n",
    "#beta_diff=dtk_cooler.radial_velocity_dependence(gamma,r,current,beta_rel,r_beam)   \n",
    "# beta2=beta_diff+beta_rel\n",
    "\n",
    "dE_E = (1.2e-4*current/(beta_rel**3))*(r/r_beam)**2\n",
    "\n",
    "\n",
    "E = dtk_cooler.beta_to_kinetic_energy(beta_rel, dtk_cooler.me_ev)# + Pb_m0_MeV_c2 #Mev/c^2\n",
    "E_diff = dE_E*E\n",
    "E_tot = E + E_diff\n",
    "beta2=dtk_cooler.kinetic_energy_to_beta(E_tot, dtk_cooler.me_ev)\n",
    "#beta_ratio = beta2/beta\n",
    "beta_diff = beta2-beta_rel\n",
    "\n",
    "p0 = beta_rel*dtk_cooler.me_ev*gamma\n",
    "p2 = beta2*dtk_cooler.me_ev*gamma\n",
    "\n",
    "dp_p=(p2-p0)/p0                                         "
   ]
  },
  {
   "cell_type": "markdown",
   "id": "a546f082",
   "metadata": {},
   "source": [
    "Parameters: $I=2.4 A, B=0.060 T, \\beta_x=10 m,\\beta_y=4,D_x=0.12 m T_\\perp=100meV,T_\\parallel=1meV,\\epsilon_{x}=35*1e-6,\\epsilon_{y}=35*1e-6,dp/p=1e-3$"
   ]
  },
  {
   "cell_type": "code",
   "execution_count": 6,
   "id": "3946c763",
   "metadata": {},
   "outputs": [
    {
     "name": "stderr",
     "output_type": "stream",
     "text": [
      "  1%|          | 64635/10000000 [00:05<13:24, 12351.31it/s]\n",
      "  0%|          | 0/50 [00:05<?, ?it/s]\n"
     ]
    },
    {
     "ename": "KeyboardInterrupt",
     "evalue": "",
     "output_type": "error",
     "traceback": [
      "\u001b[0;31m---------------------------------------------------------------------------\u001b[0m",
      "\u001b[0;31mKeyboardInterrupt\u001b[0m                         Traceback (most recent call last)",
      "Cell \u001b[0;32mIn[6], line 58\u001b[0m\n\u001b[1;32m     56\u001b[0m \u001b[39m# track particle\u001b[39;00m\n\u001b[1;32m     57\u001b[0m arc\u001b[39m.\u001b[39mtrack(dtk_particle)\n\u001b[0;32m---> 58\u001b[0m dtk_cooler\u001b[39m.\u001b[39;49mtrack(dtk_particle)\n\u001b[1;32m     61\u001b[0m \u001b[39mif\u001b[39;00m \u001b[39mnot\u001b[39;00m cooling_time_found:\n\u001b[1;32m     62\u001b[0m     \u001b[39m#cooling_time.append(num_turns * s_per_turn)  # Append default value if cooling condition is not met\u001b[39;00m\n\u001b[1;32m     63\u001b[0m     cooling_time\u001b[39m.\u001b[39mappend(\u001b[39m10\u001b[39m\u001b[39m*\u001b[39mnum_turns \u001b[39m*\u001b[39m s_per_turn)  \u001b[39m# Append default value if cooling condition is not met\u001b[39;00m\n",
      "File \u001b[0;32m~/cernbox/xsuite-env/xtrack/xtrack/base_element.py:275\u001b[0m, in \u001b[0;36mBeamElement.track\u001b[0;34m(self, particles, increment_at_element)\u001b[0m\n\u001b[1;32m    272\u001b[0m     io_buffer_arr \u001b[39m=\u001b[39m context\u001b[39m.\u001b[39mzeros(\u001b[39m1\u001b[39m, dtype\u001b[39m=\u001b[39mnp\u001b[39m.\u001b[39mint8)  \u001b[39m# dummy\u001b[39;00m\n\u001b[1;32m    274\u001b[0m _track_kernel\u001b[39m.\u001b[39mdescription\u001b[39m.\u001b[39mn_threads \u001b[39m=\u001b[39m particles\u001b[39m.\u001b[39m_capacity\n\u001b[0;32m--> 275\u001b[0m _track_kernel(el\u001b[39m=\u001b[39;49m\u001b[39mself\u001b[39;49m\u001b[39m.\u001b[39;49m_xobject, particles\u001b[39m=\u001b[39;49mparticles,\n\u001b[1;32m    276\u001b[0m               flag_increment_at_element\u001b[39m=\u001b[39;49mincrement_at_element,\n\u001b[1;32m    277\u001b[0m               io_buffer\u001b[39m=\u001b[39;49mio_buffer_arr)\n",
      "File \u001b[0;32m~/cernbox/xsuite-env/xobjects/xobjects/context_cpu.py:761\u001b[0m, in \u001b[0;36mKernelCpu.__call__\u001b[0;34m(self, **kwargs)\u001b[0m\n\u001b[1;32m    759\u001b[0m \u001b[39mfor\u001b[39;00m arg \u001b[39min\u001b[39;00m \u001b[39mself\u001b[39m\u001b[39m.\u001b[39mdescription\u001b[39m.\u001b[39margs:\n\u001b[1;32m    760\u001b[0m     vv \u001b[39m=\u001b[39m kwargs[arg\u001b[39m.\u001b[39mname]\n\u001b[0;32m--> 761\u001b[0m     arg_list\u001b[39m.\u001b[39mappend(\u001b[39mself\u001b[39;49m\u001b[39m.\u001b[39;49mto_function_arg(arg, vv))\n\u001b[1;32m    763\u001b[0m \u001b[39mif\u001b[39;00m \u001b[39mself\u001b[39m\u001b[39m.\u001b[39mcontext\u001b[39m.\u001b[39momp_num_threads \u001b[39m>\u001b[39m \u001b[39m0\u001b[39m:\n\u001b[1;32m    764\u001b[0m     \u001b[39mself\u001b[39m\u001b[39m.\u001b[39mcontext\u001b[39m.\u001b[39momp_set_num_threads(\u001b[39mself\u001b[39m\u001b[39m.\u001b[39mcontext\u001b[39m.\u001b[39momp_num_threads)\n",
      "File \u001b[0;32m~/cernbox/xsuite-env/xobjects/xobjects/context_cpu.py:711\u001b[0m, in \u001b[0;36mKernelCpu.to_function_arg\u001b[0;34m(self, arg, value)\u001b[0m\n\u001b[1;32m    708\u001b[0m \u001b[39mif\u001b[39;00m \u001b[39mhasattr\u001b[39m(value, \u001b[39m\"\u001b[39m\u001b[39mdtype\u001b[39m\u001b[39m\"\u001b[39m):  \u001b[39m# nparray\u001b[39;00m\n\u001b[1;32m    709\u001b[0m     slice_first_elem \u001b[39m=\u001b[39m value[\u001b[39mtuple\u001b[39m(value\u001b[39m.\u001b[39mndim \u001b[39m*\u001b[39m [\u001b[39mslice\u001b[39m(\u001b[39m0\u001b[39m, \u001b[39m1\u001b[39m)])]\n\u001b[1;32m    710\u001b[0m     \u001b[39mreturn\u001b[39;00m \u001b[39mself\u001b[39m\u001b[39m.\u001b[39mffi_interface\u001b[39m.\u001b[39mcast(\n\u001b[0;32m--> 711\u001b[0m         dtype2ctype(value\u001b[39m.\u001b[39;49mdtype) \u001b[39m+\u001b[39m \u001b[39m\"\u001b[39m\u001b[39m*\u001b[39m\u001b[39m\"\u001b[39m,\n\u001b[1;32m    712\u001b[0m         \u001b[39mself\u001b[39m\u001b[39m.\u001b[39mffi_interface\u001b[39m.\u001b[39mfrom_buffer(slice_first_elem\u001b[39m.\u001b[39mdata),\n\u001b[1;32m    713\u001b[0m     )\n\u001b[1;32m    714\u001b[0m \u001b[39melif\u001b[39;00m \u001b[39mhasattr\u001b[39m(value, \u001b[39m\"\u001b[39m\u001b[39m_shape\u001b[39m\u001b[39m\"\u001b[39m):  \u001b[39m# xobject array\u001b[39;00m\n\u001b[1;32m    715\u001b[0m     \u001b[39massert\u001b[39;00m \u001b[39misinstance\u001b[39m(\n\u001b[1;32m    716\u001b[0m         value\u001b[39m.\u001b[39m_buffer\u001b[39m.\u001b[39mcontext, ContextCpu\n\u001b[1;32m    717\u001b[0m     ), \u001b[39mf\u001b[39m\u001b[39m\"\u001b[39m\u001b[39mIncompatible context for argument `\u001b[39m\u001b[39m{\u001b[39;00marg\u001b[39m.\u001b[39mname\u001b[39m}\u001b[39;00m\u001b[39m`.\u001b[39m\u001b[39m\"\u001b[39m\n",
      "File \u001b[0;32m~/cernbox/xsuite-env/xobjects/xobjects/context_cpu.py:71\u001b[0m, in \u001b[0;36mdtype2ctype\u001b[0;34m(dtype)\u001b[0m\n\u001b[1;32m     70\u001b[0m \u001b[39mdef\u001b[39;00m \u001b[39mdtype2ctype\u001b[39m(dtype):\n\u001b[0;32m---> 71\u001b[0m     \u001b[39mreturn\u001b[39;00m dtype_dict[dtype\u001b[39m.\u001b[39;49mname]\n",
      "File \u001b[0;32m~/miniforge3/envs/xsuite/lib/python3.11/site-packages/numpy/core/_dtype.py:358\u001b[0m, in \u001b[0;36m_name_get\u001b[0;34m(dtype)\u001b[0m\n\u001b[1;32m    355\u001b[0m     name \u001b[39m=\u001b[39m _kind_name(dtype)\n\u001b[1;32m    357\u001b[0m \u001b[39m# append bit counts\u001b[39;00m\n\u001b[0;32m--> 358\u001b[0m \u001b[39mif\u001b[39;00m _name_includes_bit_suffix(dtype):\n\u001b[1;32m    359\u001b[0m     name \u001b[39m+\u001b[39m\u001b[39m=\u001b[39m \u001b[39m\"\u001b[39m\u001b[39m{}\u001b[39;00m\u001b[39m\"\u001b[39m\u001b[39m.\u001b[39mformat(dtype\u001b[39m.\u001b[39mitemsize \u001b[39m*\u001b[39m \u001b[39m8\u001b[39m)\n\u001b[1;32m    361\u001b[0m \u001b[39m# append metadata to datetimes\u001b[39;00m\n",
      "File \u001b[0;32m~/miniforge3/envs/xsuite/lib/python3.11/site-packages/numpy/core/_dtype.py:337\u001b[0m, in \u001b[0;36m_name_includes_bit_suffix\u001b[0;34m(dtype)\u001b[0m\n\u001b[1;32m    334\u001b[0m \u001b[39melif\u001b[39;00m dtype\u001b[39m.\u001b[39mtype \u001b[39m==\u001b[39m np\u001b[39m.\u001b[39mbool_:\n\u001b[1;32m    335\u001b[0m     \u001b[39m# implied\u001b[39;00m\n\u001b[1;32m    336\u001b[0m     \u001b[39mreturn\u001b[39;00m \u001b[39mFalse\u001b[39;00m\n\u001b[0;32m--> 337\u001b[0m \u001b[39melif\u001b[39;00m np\u001b[39m.\u001b[39;49missubdtype(dtype, np\u001b[39m.\u001b[39;49mflexible) \u001b[39mand\u001b[39;00m _isunsized(dtype):\n\u001b[1;32m    338\u001b[0m     \u001b[39m# unspecified\u001b[39;00m\n\u001b[1;32m    339\u001b[0m     \u001b[39mreturn\u001b[39;00m \u001b[39mFalse\u001b[39;00m\n\u001b[1;32m    340\u001b[0m \u001b[39melse\u001b[39;00m:\n",
      "File \u001b[0;32m~/miniforge3/envs/xsuite/lib/python3.11/site-packages/numpy/core/numerictypes.py:416\u001b[0m, in \u001b[0;36missubdtype\u001b[0;34m(arg1, arg2)\u001b[0m\n\u001b[1;32m    358\u001b[0m \u001b[39m\u001b[39m\u001b[39mr\u001b[39m\u001b[39m\"\"\"\u001b[39;00m\n\u001b[1;32m    359\u001b[0m \u001b[39mReturns True if first argument is a typecode lower/equal in type hierarchy.\u001b[39;00m\n\u001b[1;32m    360\u001b[0m \n\u001b[0;32m   (...)\u001b[0m\n\u001b[1;32m    413\u001b[0m \n\u001b[1;32m    414\u001b[0m \u001b[39m\"\"\"\u001b[39;00m\n\u001b[1;32m    415\u001b[0m \u001b[39mif\u001b[39;00m \u001b[39mnot\u001b[39;00m issubclass_(arg1, generic):\n\u001b[0;32m--> 416\u001b[0m     arg1 \u001b[39m=\u001b[39m dtype(arg1)\u001b[39m.\u001b[39mtype\n\u001b[1;32m    417\u001b[0m \u001b[39mif\u001b[39;00m \u001b[39mnot\u001b[39;00m issubclass_(arg2, generic):\n\u001b[1;32m    418\u001b[0m     arg2 \u001b[39m=\u001b[39m dtype(arg2)\u001b[39m.\u001b[39mtype\n",
      "\u001b[0;31mKeyboardInterrupt\u001b[0m: "
     ]
    }
   ],
   "source": [
    "cooling_time = []\n",
    "num_particles = 1\n",
    "\n",
    "disp_values = np.linspace(1, 20, num=20)\n",
    "delta_values = np.linspace(-5e-3, 5e-3, num=10)  # example delta values, adjust as needed\n",
    "\n",
    "cooling_time = np.zeros((len(disp_values), len(delta_values)))  # initialize empty array to store cooling_time values\n",
    "\n",
    "for i, disp in enumerate(tqdm(disp_values)):\n",
    "    for j, delta in enumerate(delta_values):\n",
    "        disp_x = disp\n",
    "        cooling_time_found = False\n",
    "\n",
    "        arc=xt.LinearTransferMatrix(Q_x=5.44, Q_y=5.42,\n",
    "                            beta_x_0=beta_x, beta_x_1=beta_x,\n",
    "                            beta_y_0=beta_y,  beta_y_1=beta_y,\n",
    "                            alpha_x_0=0,   alpha_x_1=0,\n",
    "                            alpha_y_0=0,   alpha_y_1=0,\n",
    "                            disp_x_0=disp_x,disp_x_1=disp_x,\n",
    "                            disp_y_0=0,    disp_y_1=0,\n",
    "                            beta_s=1*1e40,\n",
    "                            Q_s=0,\n",
    "                            chroma_x=0.0, chroma_y=0)\n",
    "\n",
    "        delta_single = delta\n",
    "\n",
    "        dtk_particle = xp.Particles(\n",
    "                mass0=mass0,\n",
    "                p0c=p0c,\n",
    "                x=disp_x*delta_single,\n",
    "                px=0,\n",
    "                y=0,\n",
    "                py=0,\n",
    "                delta=delta_single,\n",
    "                zeta=0)\n",
    "\n",
    "        dtk_cooler = xt.ElectronCooler(current=current,length=length,r_beam=r_beam,\n",
    "                                                T_perp=T_perp,T_l=T_l,\n",
    "                                                B=B,B_ratio=1e-4,\n",
    "                                                Neutralisation_space_charge=1)\n",
    "\n",
    "        num_turns = int(1*1e7)\n",
    "        step = int(num_turns/100)\n",
    "\n",
    "        \n",
    "        # loop over turns\n",
    "        for turn in tqdm(range(num_turns)):\n",
    "            if dtk_particle.delta < 0.1 * delta_single:\n",
    "                cooling_time[i, j] = turn * s_per_turn  # store cooling_time value in the corresponding array position\n",
    "                cooling_time_found = True\n",
    "                break\n",
    "\n",
    "            # track particle\n",
    "            arc.track(dtk_particle)\n",
    "            dtk_cooler.track(dtk_particle)\n",
    "\n",
    "        if not cooling_time_found:\n",
    "            cooling_time[i, j] = turn * s_per_turn  # store cooling_time value in the corresponding array position\n",
    "\n",
    "# Save arrays to .npz file\n",
    "np.savez('cooling_time_data.npz', cooling_time=cooling_time, delta_values=delta_values, disp_values=disp_values)\n",
    "\n",
    "\n"
   ]
  },
  {
   "cell_type": "code",
   "execution_count": 8,
   "id": "9e0e63a7",
   "metadata": {},
   "outputs": [
    {
     "data": {
      "image/png": "[encoded data removed]",
      "text/plain": [
       "<Figure size 1000x600 with 2 Axes>"
      ]
     },
     "metadata": {},
     "output_type": "display_data"
    }
   ],
   "source": [
    "import numpy as np\n",
    "import matplotlib.pyplot as plt\n",
    "\n",
    "file='cooling_time_data.npz'\n",
    "\n",
    "data = np.load(file)\n",
    "\n",
    "import matplotlib.pyplot as plt\n",
    "import numpy as np\n",
    "\n",
    "# Assuming you have already loaded the data into the following arrays\n",
    "disp_values = data['disp_values']\n",
    "delta_values = data['delta_values']\n",
    "cooling_time = data['cooling_time']\n",
    "\n",
    "# Reshape cooling_time list to a 20x10 array\n",
    "cooling_time = np.reshape(cooling_time, (20, 10))\n",
    "\n",
    "# Create a heatmap\n",
    "plt.figure(figsize=(10, 6))\n",
    "plt.imshow(cooling_time, cmap='hot', aspect='auto', origin='lower',\n",
    "           extent=[delta_values[0], delta_values[-1], disp_values[0], disp_values[-1]])\n",
    "plt.colorbar(label='Cooling Time (Temperature)')\n",
    "plt.xlabel('Delta Values')\n",
    "plt.ylabel('Disp Values')\n",
    "plt.title('Cooling Time Heatmap')\n",
    "plt.show()\n"
   ]
  }
 ],
 "metadata": {
  "kernelspec": {
   "display_name": "Python 3",
   "language": "python",
   "name": "python3"
  },
  "language_info": {
   "codemirror_mode": {
    "name": "ipython",
    "version": 3
   },
   "file_extension": ".py",
   "mimetype": "text/x-python",
   "name": "python",
   "nbconvert_exporter": "python",
   "pygments_lexer": "ipython3",
   "version": "3.11.2"
  },
  "vscode": {
   "interpreter": {
    "hash": "b3c9a0a5475e728b39e61ac58d244ad936924f9cf82746515a9faeb1f1a0b703"
   }
  }
 },
 "nbformat": 4,
 "nbformat_minor": 5
}
