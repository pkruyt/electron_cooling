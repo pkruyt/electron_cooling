{
 "cells": [
  {
   "cell_type": "code",
   "execution_count": 25,
   "id": "e0cf7130",
   "metadata": {},
   "outputs": [],
   "source": [
    "# copyright ############################### #\n",
    "# This file is part of the Xtrack Package.  #\n",
    "# Copyright (c) CERN, 2021.                 #\n",
    "# ######################################### #\n",
    "\n",
    "\n",
    "import ducktrack as dtk\n",
    "import numpy as np\n",
    "import matplotlib.pyplot as plt\n",
    "from matplotlib.widgets import Slider\n",
    "from tqdm import tqdm\n",
    "\n",
    "import xtrack as xt\n",
    "import xobjects as xo\n",
    "import xpart as xp\n",
    "\n",
    "\n",
    "beta_rel = 0.305\n",
    "#beta_rel = 0.106\n",
    "\n",
    "gamma = 1.050\n",
    "#gamma = 1.006\n",
    "\n",
    "\n",
    "current=2.4\n",
    "length = 1.5 # m cooler length\n",
    "r_beam=25*1e-3\n",
    "\n",
    "mass0=938.27208816*1e6 #ev/c^2\n",
    "\n",
    "T_perp = 100e-3 # <E> [eV] = kb*T\n",
    "T_l =  1e-3 # <E> [eV]\n",
    "magnetic_field = 0.060 # T for AD\n",
    "B_ratio=1e-10\n",
    "\n",
    "\n",
    "\n",
    "c=299792458.0\n",
    "\n",
    "p0c = mass0*beta_rel*gamma #eV/c\n",
    "\n",
    "\n",
    "\n",
    "circumference = 182.43280000000 #m\n",
    "T = circumference/(c*beta_rel)\n",
    "s_per_turn = T\n",
    "\n",
    "\n",
    "beta_x=10 \n",
    "beta_y=4\n",
    "\n",
    "#disp_x=0.12\n",
    "\n",
    "                                        \n"
   ]
  },
  {
   "attachments": {},
   "cell_type": "markdown",
   "id": "a546f082",
   "metadata": {},
   "source": [
    "Parameters: $I=2.4 A, B=0.060 T, \\beta_x=10 m,\\beta_y=4,D_x=0.12 m T_\\perp=100meV,T_\\parallel=1meV,\\epsilon_{x}=35*1e-6,\\epsilon_{y}=35*1e-6,dp/p=1e-3$"
   ]
  },
  {
   "cell_type": "code",
   "execution_count": 26,
   "id": "3946c763",
   "metadata": {},
   "outputs": [
    {
     "name": "stderr",
     "output_type": "stream",
     "text": [
      "100%|██████████| 2/2 [01:31<00:00, 45.63s/it]\n"
     ]
    },
    {
     "data": {
      "image/png": "[encoded data removed]",
      "text/plain": [
       "<Figure size 640x480 with 1 Axes>"
      ]
     },
     "metadata": {},
     "output_type": "display_data"
    }
   ],
   "source": [
    "cooling_time=[]\n",
    "num_particles=10\n",
    "\n",
    "k_values=np.linspace(1e-6, 1e1, num=7)\n",
    "#k_values=[1e-4,1e-3,1]\n",
    "Ksq = 0.001\n",
    "k_values=[0,Ksq]\n",
    "for k in tqdm(k_values):\n",
    "\n",
    "\n",
    "    disp_x=1\n",
    "    \n",
    "\n",
    "    arc=xt.LinearTransferMatrix(Q_x=5.44, Q_y=5.42,\n",
    "                                beta_x_0=beta_x, beta_x_1=beta_x,\n",
    "                                beta_y_0=beta_y,  beta_y_1=beta_y,\n",
    "                                alpha_x_0=0,   alpha_x_1=0,\n",
    "                                alpha_y_0=0,   alpha_y_1=0,\n",
    "                                disp_x_0=disp_x,disp_x_1=disp_x,\n",
    "                                disp_y_0=0,    disp_y_1=0,\n",
    "                                beta_s=1*1e40,\n",
    "                                Q_s=0,\n",
    "                                chroma_x=0.0, chroma_y=0)\n",
    "\n",
    "    emittance=5*1e-6 #inital emittance\n",
    "    \n",
    "    sigma_x = np.sqrt(beta_x*emittance)\n",
    "    sigma_px = np.sqrt(emittance*1/beta_x)\n",
    "    sigma_y = np.sqrt(beta_y*emittance)\n",
    "    sigma_py = np.sqrt(emittance*1/beta_y)\n",
    "    sigma_p = 5e-4\n",
    "\n",
    "\n",
    "    delta = np.random.normal(loc=0.0, scale=sigma_p,  size=num_particles)\n",
    "    x =     np.random.normal(loc=0.0, scale=sigma_x,  size=num_particles)+disp_x*delta\n",
    "    px =    np.random.normal(loc=0.0, scale=sigma_px, size=num_particles)\n",
    "    y =     np.random.normal(loc=0.0, scale=sigma_y,  size=num_particles)\n",
    "    py =    np.random.normal(loc=0.0, scale=sigma_py, size=num_particles)\n",
    "    \n",
    "    particles = xp.Particles(\n",
    "            \n",
    "            mass0=mass0,\n",
    "            p0c=p0c,\n",
    "            x=x,\n",
    "            px=px,\n",
    "            y=y,\n",
    "            py=py,\n",
    "            delta=delta,\n",
    "            zeta=0)\n",
    "   \n",
    "    cooler = xt.ElectronCooler(current=current,length=length,r_beam=r_beam,\n",
    "                                            T_perp=T_perp,T_l=T_l,\n",
    "                                            magnetic_field=magnetic_field,B_ratio=B_ratio,\n",
    "                                            Neutralisation_space_charge=1)\n",
    "\n",
    "    ########################\n",
    "    #    Skew-quadrupole   #\n",
    "    ########################\n",
    "\n",
    "    Lsq = 1.0 # m\n",
    "    Ksq = 0.001 # 1/m^2\n",
    "    #Ksq = k # 1/m^2\n",
    "\n",
    "    #Ksq = 0.00001 # 1/m^2\n",
    "\n",
    "    #k  = np.sqrt(Ksq) # 1/m\n",
    "    #kl = k*Lsq\n",
    "\n",
    "    skew_quad=xt.Multipole(\n",
    "                       ksl=[0,k],\n",
    "                       length=Lsq\n",
    "                       )    \n",
    "\n",
    "    num_turns=int(2*1e5)\n",
    "    num_turns=int(2*1e5)\n",
    "\n",
    "\n",
    "    # initialize arrays\n",
    "    x, px, delta, action_x = [], [], [], []\n",
    "    action_x_big_list=[]\n",
    "    \n",
    "    cutoff=0.75\n",
    "    # loop over turns\n",
    "    for i in tqdm(range(num_turns), desc='Cooling Progress', leave=False):\n",
    "        action_x_temp1 = (particles.x**2/beta_x + beta_x*particles.px**2)\n",
    "        action_x_temp = np.percentile(action_x_temp1, 95)\n",
    "        action_x.append(action_x_temp)\n",
    "        # if action_x_temp < cutoff* action_x[0]:\n",
    "        #             cooling_time.append(i*s_per_turn)\n",
    "        #             break\n",
    "\n",
    "        \n",
    "        # track particle\n",
    "        arc.track(particles)\n",
    "        cooler.track(particles)\n",
    "        skew_quad.track(particles)\n",
    "\n",
    "    plt.plot(action_x)\n",
    "\n",
    "\n",
    "    # if action_x_temp >= cutoff* action_x[0]:\n",
    "    #     cooling_time.append(num_turns * s_per_turn)  # Append default value if cooling condition is not met\n",
    "    # import math    \n",
    "    # if math.isnan(action_x_temp):\n",
    "    #     cooling_time.append(0)\n",
    "    # # action_x_big_list.append(action_x)        \n",
    "   "
   ]
  },
  {
   "cell_type": "code",
   "execution_count": 27,
   "id": "ddb13bb0",
   "metadata": {},
   "outputs": [
    {
     "data": {
      "text/plain": [
       "array([ 2.21587516e-04,  4.32625380e-04, -5.55300647e-06, -3.94440144e-05,\n",
       "       -1.55106842e-03, -1.97167737e-04,  1.29053993e-03,  1.22348061e-03,\n",
       "       -8.00989643e-04,  8.19658355e-04])"
      ]
     },
     "execution_count": 27,
     "metadata": {},
     "output_type": "execute_result"
    }
   ],
   "source": [
    "#particles.x\n",
    "particles.px"
   ]
  },
  {
   "cell_type": "code",
   "execution_count": 28,
   "id": "9e0e63a7",
   "metadata": {},
   "outputs": [
    {
     "ename": "ValueError",
     "evalue": "x and y must have same first dimension, but have shapes (2,) and (0,)",
     "output_type": "error",
     "traceback": [
      "\u001b[0;31m---------------------------------------------------------------------------\u001b[0m",
      "\u001b[0;31mValueError\u001b[0m                                Traceback (most recent call last)",
      "Cell \u001b[0;32mIn[28], line 5\u001b[0m\n\u001b[1;32m      2\u001b[0m \u001b[39mimport\u001b[39;00m \u001b[39mmatplotlib\u001b[39;00m\u001b[39m.\u001b[39;00m\u001b[39mpyplot\u001b[39;00m \u001b[39mas\u001b[39;00m \u001b[39mplt\u001b[39;00m\n\u001b[1;32m      4\u001b[0m plt\u001b[39m.\u001b[39mfigure()\n\u001b[0;32m----> 5\u001b[0m plt\u001b[39m.\u001b[39mplot(k_values,cooling_time)\n\u001b[1;32m      6\u001b[0m plt\u001b[39m.\u001b[39mxlabel(\u001b[39mr\u001b[39m\u001b[39m'\u001b[39m\u001b[39m$k$ [m]\u001b[39m\u001b[39m'\u001b[39m)\n\u001b[1;32m      7\u001b[0m plt\u001b[39m.\u001b[39mylabel(\u001b[39m'\u001b[39m\u001b[39mcooling time [s]\u001b[39m\u001b[39m'\u001b[39m)\n",
      "File \u001b[0;32m~/miniforge3/envs/xsuite/lib/python3.11/site-packages/matplotlib/pyplot.py:2812\u001b[0m, in \u001b[0;36mplot\u001b[0;34m(scalex, scaley, data, *args, **kwargs)\u001b[0m\n\u001b[1;32m   2810\u001b[0m \u001b[39m@_copy_docstring_and_deprecators\u001b[39m(Axes\u001b[39m.\u001b[39mplot)\n\u001b[1;32m   2811\u001b[0m \u001b[39mdef\u001b[39;00m \u001b[39mplot\u001b[39m(\u001b[39m*\u001b[39margs, scalex\u001b[39m=\u001b[39m\u001b[39mTrue\u001b[39;00m, scaley\u001b[39m=\u001b[39m\u001b[39mTrue\u001b[39;00m, data\u001b[39m=\u001b[39m\u001b[39mNone\u001b[39;00m, \u001b[39m*\u001b[39m\u001b[39m*\u001b[39mkwargs):\n\u001b[0;32m-> 2812\u001b[0m     \u001b[39mreturn\u001b[39;00m gca()\u001b[39m.\u001b[39mplot(\n\u001b[1;32m   2813\u001b[0m         \u001b[39m*\u001b[39margs, scalex\u001b[39m=\u001b[39mscalex, scaley\u001b[39m=\u001b[39mscaley,\n\u001b[1;32m   2814\u001b[0m         \u001b[39m*\u001b[39m\u001b[39m*\u001b[39m({\u001b[39m\"\u001b[39m\u001b[39mdata\u001b[39m\u001b[39m\"\u001b[39m: data} \u001b[39mif\u001b[39;00m data \u001b[39mis\u001b[39;00m \u001b[39mnot\u001b[39;00m \u001b[39mNone\u001b[39;00m \u001b[39melse\u001b[39;00m {}), \u001b[39m*\u001b[39m\u001b[39m*\u001b[39mkwargs)\n",
      "File \u001b[0;32m~/miniforge3/envs/xsuite/lib/python3.11/site-packages/matplotlib/axes/_axes.py:1688\u001b[0m, in \u001b[0;36mAxes.plot\u001b[0;34m(self, scalex, scaley, data, *args, **kwargs)\u001b[0m\n\u001b[1;32m   1445\u001b[0m \u001b[39m\"\"\"\u001b[39;00m\n\u001b[1;32m   1446\u001b[0m \u001b[39mPlot y versus x as lines and/or markers.\u001b[39;00m\n\u001b[1;32m   1447\u001b[0m \n\u001b[0;32m   (...)\u001b[0m\n\u001b[1;32m   1685\u001b[0m \u001b[39m(``'green'``) or hex strings (``'#008000'``).\u001b[39;00m\n\u001b[1;32m   1686\u001b[0m \u001b[39m\"\"\"\u001b[39;00m\n\u001b[1;32m   1687\u001b[0m kwargs \u001b[39m=\u001b[39m cbook\u001b[39m.\u001b[39mnormalize_kwargs(kwargs, mlines\u001b[39m.\u001b[39mLine2D)\n\u001b[0;32m-> 1688\u001b[0m lines \u001b[39m=\u001b[39m [\u001b[39m*\u001b[39m\u001b[39mself\u001b[39m\u001b[39m.\u001b[39m_get_lines(\u001b[39m*\u001b[39margs, data\u001b[39m=\u001b[39mdata, \u001b[39m*\u001b[39m\u001b[39m*\u001b[39mkwargs)]\n\u001b[1;32m   1689\u001b[0m \u001b[39mfor\u001b[39;00m line \u001b[39min\u001b[39;00m lines:\n\u001b[1;32m   1690\u001b[0m     \u001b[39mself\u001b[39m\u001b[39m.\u001b[39madd_line(line)\n",
      "File \u001b[0;32m~/miniforge3/envs/xsuite/lib/python3.11/site-packages/matplotlib/axes/_base.py:311\u001b[0m, in \u001b[0;36m_process_plot_var_args.__call__\u001b[0;34m(self, data, *args, **kwargs)\u001b[0m\n\u001b[1;32m    309\u001b[0m     this \u001b[39m+\u001b[39m\u001b[39m=\u001b[39m args[\u001b[39m0\u001b[39m],\n\u001b[1;32m    310\u001b[0m     args \u001b[39m=\u001b[39m args[\u001b[39m1\u001b[39m:]\n\u001b[0;32m--> 311\u001b[0m \u001b[39myield from\u001b[39;00m \u001b[39mself\u001b[39m\u001b[39m.\u001b[39m_plot_args(\n\u001b[1;32m    312\u001b[0m     this, kwargs, ambiguous_fmt_datakey\u001b[39m=\u001b[39mambiguous_fmt_datakey)\n",
      "File \u001b[0;32m~/miniforge3/envs/xsuite/lib/python3.11/site-packages/matplotlib/axes/_base.py:504\u001b[0m, in \u001b[0;36m_process_plot_var_args._plot_args\u001b[0;34m(self, tup, kwargs, return_kwargs, ambiguous_fmt_datakey)\u001b[0m\n\u001b[1;32m    501\u001b[0m     \u001b[39mself\u001b[39m\u001b[39m.\u001b[39maxes\u001b[39m.\u001b[39myaxis\u001b[39m.\u001b[39mupdate_units(y)\n\u001b[1;32m    503\u001b[0m \u001b[39mif\u001b[39;00m x\u001b[39m.\u001b[39mshape[\u001b[39m0\u001b[39m] \u001b[39m!=\u001b[39m y\u001b[39m.\u001b[39mshape[\u001b[39m0\u001b[39m]:\n\u001b[0;32m--> 504\u001b[0m     \u001b[39mraise\u001b[39;00m \u001b[39mValueError\u001b[39;00m(\u001b[39mf\u001b[39m\u001b[39m\"\u001b[39m\u001b[39mx and y must have same first dimension, but \u001b[39m\u001b[39m\"\u001b[39m\n\u001b[1;32m    505\u001b[0m                      \u001b[39mf\u001b[39m\u001b[39m\"\u001b[39m\u001b[39mhave shapes \u001b[39m\u001b[39m{\u001b[39;00mx\u001b[39m.\u001b[39mshape\u001b[39m}\u001b[39;00m\u001b[39m and \u001b[39m\u001b[39m{\u001b[39;00my\u001b[39m.\u001b[39mshape\u001b[39m}\u001b[39;00m\u001b[39m\"\u001b[39m)\n\u001b[1;32m    506\u001b[0m \u001b[39mif\u001b[39;00m x\u001b[39m.\u001b[39mndim \u001b[39m>\u001b[39m \u001b[39m2\u001b[39m \u001b[39mor\u001b[39;00m y\u001b[39m.\u001b[39mndim \u001b[39m>\u001b[39m \u001b[39m2\u001b[39m:\n\u001b[1;32m    507\u001b[0m     \u001b[39mraise\u001b[39;00m \u001b[39mValueError\u001b[39;00m(\u001b[39mf\u001b[39m\u001b[39m\"\u001b[39m\u001b[39mx and y can be no greater than 2D, but have \u001b[39m\u001b[39m\"\u001b[39m\n\u001b[1;32m    508\u001b[0m                      \u001b[39mf\u001b[39m\u001b[39m\"\u001b[39m\u001b[39mshapes \u001b[39m\u001b[39m{\u001b[39;00mx\u001b[39m.\u001b[39mshape\u001b[39m}\u001b[39;00m\u001b[39m and \u001b[39m\u001b[39m{\u001b[39;00my\u001b[39m.\u001b[39mshape\u001b[39m}\u001b[39;00m\u001b[39m\"\u001b[39m)\n",
      "\u001b[0;31mValueError\u001b[0m: x and y must have same first dimension, but have shapes (2,) and (0,)"
     ]
    },
    {
     "data": {
      "image/png": "[encoded data removed]",
      "text/plain": [
       "<Figure size 640x480 with 1 Axes>"
      ]
     },
     "metadata": {},
     "output_type": "display_data"
    }
   ],
   "source": [
    "import numpy as np\n",
    "import matplotlib.pyplot as plt\n",
    "\n",
    "plt.figure()\n",
    "plt.plot(k_values,cooling_time)\n",
    "plt.xlabel(r'$k$ [m]')\n",
    "plt.ylabel('cooling time [s]')\n",
    "plt.title(r'cooling time vs k')\n",
    "plt.show()\n"
   ]
  },
  {
   "cell_type": "code",
   "execution_count": null,
   "id": "d4719241",
   "metadata": {},
   "outputs": [],
   "source": []
  }
 ],
 "metadata": {
  "kernelspec": {
   "display_name": "base",
   "language": "python",
   "name": "python3"
  },
  "language_info": {
   "codemirror_mode": {
    "name": "ipython",
    "version": 3
   },
   "file_extension": ".py",
   "mimetype": "text/x-python",
   "name": "python",
   "nbconvert_exporter": "python",
   "pygments_lexer": "ipython3",
   "version": "3.11.3"
  },
  "vscode": {
   "interpreter": {
    "hash": "b3c9a0a5475e728b39e61ac58d244ad936924f9cf82746515a9faeb1f1a0b703"
   }
  }
 },
 "nbformat": 4,
 "nbformat_minor": 5
}
