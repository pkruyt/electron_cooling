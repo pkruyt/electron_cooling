{
 "cells": [
  {
   "cell_type": "code",
   "execution_count": 25,
   "id": "e0cf7130",
   "metadata": {},
   "outputs": [],
   "source": [
    "# copyright ############################### #\n",
    "# This file is part of the Xtrack Package.  #\n",
    "# Copyright (c) CERN, 2021.                 #\n",
    "# ######################################### #\n",
    "\n",
    "\n",
    "import ducktrack as dtk\n",
    "import numpy as np\n",
    "import matplotlib.pyplot as plt\n",
    "from matplotlib.widgets import Slider\n",
    "from tqdm import tqdm\n",
    "\n",
    "import xtrack as xt\n",
    "import xobjects as xo\n",
    "import xpart as xp\n",
    "\n",
    "\n",
    "beta_rel = 0.305\n",
    "#beta_rel = 0.106\n",
    "\n",
    "gamma = 1.050\n",
    "#gamma = 1.006\n",
    "\n",
    "\n",
    "current=2.4\n",
    "length = 1.5 # m cooler length\n",
    "r_beam=25*1e-3\n",
    "\n",
    "mass0=938.27208816*1e6 #ev/c^2\n",
    "\n",
    "T_perp = 100e-3 # <E> [eV] = kb*T\n",
    "T_l =  1e-3 # <E> [eV]\n",
    "B = 0.060 # T for AD\n",
    "B_ratio=1e-10\n",
    "\n",
    "\n",
    "\n",
    "c=299792458.0\n",
    "\n",
    "p0c = mass0*beta_rel*gamma #eV/c\n",
    "\n",
    "\n",
    "\n",
    "circumference = 182.43280000000 #m\n",
    "T = circumference/(c*beta_rel)\n",
    "s_per_turn = T\n",
    "\n",
    "\n",
    "beta_x=10 \n",
    "beta_y=4\n",
    "\n",
    "#disp_x=0.12\n",
    "\n",
    "                                        \n"
   ]
  },
  {
   "cell_type": "code",
   "execution_count": 26,
   "id": "f3d4380e",
   "metadata": {},
   "outputs": [],
   "source": [
    "#dispersion and space charge parabola\n",
    "\n",
    "dtk_cooler = dtk.elements.ElectronCooler(current=current,length=length,r_beam=r_beam,\n",
    "                                         T_perp=T_perp,T_l=T_l,\n",
    "                                         B=B,B_ratio=B_ratio,\n",
    "                                         Neutralisation_space_charge=1,Neutralisation_rotation=0)      \n",
    "\n",
    "\n",
    "r=np.arange(start=-50*1e-2, stop=50*1e-2, step=1e-3)\n",
    "\n",
    "#beta_diff=dtk_cooler.radial_velocity_dependence(gamma,r,current,beta_rel,r_beam)   \n",
    "# beta2=beta_diff+beta_rel\n",
    "\n",
    "dE_E = (1.2e-4*current/(beta_rel**3))*(r/r_beam)**2\n",
    "\n",
    "\n",
    "E = dtk_cooler.beta_to_kinetic_energy(beta_rel, dtk_cooler.me_ev)# + Pb_m0_MeV_c2 #Mev/c^2\n",
    "E_diff = dE_E*E\n",
    "E_tot = E + E_diff\n",
    "beta2=dtk_cooler.kinetic_energy_to_beta(E_tot, dtk_cooler.me_ev)\n",
    "#beta_ratio = beta2/beta\n",
    "beta_diff = beta2-beta_rel\n",
    "\n",
    "p0 = beta_rel*dtk_cooler.me_ev*gamma\n",
    "p2 = beta2*dtk_cooler.me_ev*gamma\n",
    "\n",
    "dp_p=(p2-p0)/p0                                         "
   ]
  },
  {
   "attachments": {},
   "cell_type": "markdown",
   "id": "a546f082",
   "metadata": {},
   "source": [
    "Parameters: $I=2.4 A, B=0.060 T, \\beta_x=10 m,\\beta_y=4,D_x=0.12 m T_\\perp=100meV,T_\\parallel=1meV,\\epsilon_{x}=35*1e-6,\\epsilon_{y}=35*1e-6,dp/p=1e-3$"
   ]
  },
  {
   "cell_type": "code",
   "execution_count": 27,
   "id": "3946c763",
   "metadata": {},
   "outputs": [
    {
     "name": "stderr",
     "output_type": "stream",
     "text": [
      " 38%|███▊      | 3800000/10000000 [02:03<03:21, 30795.12it/s]\n",
      " 37%|███▋      | 3700000/10000000 [02:02<03:29, 30088.09it/s]\n",
      " 32%|███▏      | 3200000/10000000 [01:41<03:34, 31661.48it/s]\n",
      " 23%|██▎       | 2300000/10000000 [01:14<04:09, 30849.59it/s]\n",
      " 29%|██▉       | 2900000/10000000 [01:38<03:59, 29583.39it/s]\n",
      "100%|██████████| 5/5 [08:40<00:00, 104.01s/it]\n"
     ]
    }
   ],
   "source": [
    "cooling_time=[]\n",
    "num_particles=1\n",
    "\n",
    "disp_values=np.linspace(1, 10, num=5)\n",
    "\n",
    "for disp in tqdm(disp_values):\n",
    "     \n",
    "    disp_x=disp\n",
    "\n",
    "    arc=xt.LinearTransferMatrix(Q_x=5.44, Q_y=5.42,\n",
    "                                beta_x_0=beta_x, beta_x_1=beta_x,\n",
    "                                beta_y_0=beta_y,  beta_y_1=beta_y,\n",
    "                                alpha_x_0=0,   alpha_x_1=0,\n",
    "                                alpha_y_0=0,   alpha_y_1=0,\n",
    "                                disp_x_0=0,disp_x_1=disp_x,\n",
    "                                disp_y_0=0,    disp_y_1=0,\n",
    "                                beta_s=1*1e40,\n",
    "                                Q_s=0,\n",
    "                                chroma_x=0.0, chroma_y=0)\n",
    "\n",
    "    delta_single=2e-3\n",
    "\n",
    "    dtk_particle = xp.Particles(\n",
    "            \n",
    "            mass0=mass0,\n",
    "            p0c=p0c,\n",
    "            x=disp_x*delta_single,\n",
    "            px=0,\n",
    "            y=0,\n",
    "            py=0,\n",
    "            delta=delta_single,\n",
    "            zeta=0)\n",
    "\n",
    "\n",
    "    dtk_cooler = xt.ElectronCooler(current=current,length=length,r_beam=r_beam,\n",
    "                                            T_perp=T_perp,T_l=T_l,\n",
    "                                            B=B,B_ratio=1e-4,\n",
    "                                            Neutralisation_space_charge=1)\n",
    "\n",
    "        \n",
    "\n",
    "    num_turns=int(1*1e7)\n",
    "    step=int(num_turns/100)\n",
    "\n",
    "    # initialize arrays\n",
    "    x, px, delta, action_x = [], [], [], []\n",
    "    \n",
    "    # loop over turns\n",
    "    for i in tqdm(range(num_turns)):\n",
    "        if i % step == 0 or i==0:\n",
    "            #x.append(dtk_particle.x)\n",
    "            #px.append(dtk_particle.px)\n",
    "            #delta.append(dtk_particle.delta)\n",
    "            \n",
    "            # calculate action in horizontal plane\n",
    "            action_x_temp = (dtk_particle.x**2/beta_x + beta_x*dtk_particle.px**2)\n",
    "            action_x.append(action_x_temp)\n",
    "        \n",
    "            \n",
    "            if dtk_particle.delta < 0.1* delta_single:\n",
    "                    cooling_time.append(i*s_per_turn)\n",
    "                    break\n",
    "\n",
    "        \n",
    "        # track particle\n",
    "        arc.track(dtk_particle)\n",
    "        dtk_cooler.track(dtk_particle)\n",
    "    \n",
    "   \n"
   ]
  },
  {
   "cell_type": "code",
   "execution_count": 28,
   "id": "9e0e63a7",
   "metadata": {},
   "outputs": [
    {
     "data": {
      "image/png": "[encoded data removed]",
      "text/plain": [
       "<Figure size 640x480 with 1 Axes>"
      ]
     },
     "metadata": {},
     "output_type": "display_data"
    }
   ],
   "source": [
    "import numpy as np\n",
    "import matplotlib.pyplot as plt\n",
    "\n",
    "plt.figure()\n",
    "plt.plot(disp_values,cooling_time)\n",
    "plt.xlabel('disp_x [m]')\n",
    "plt.ylabel('cooling time [s]')\n",
    "plt.title(f'delta')\n",
    "plt.show()\n"
   ]
  }
 ],
 "metadata": {
  "kernelspec": {
   "display_name": "base",
   "language": "python",
   "name": "python3"
  },
  "language_info": {
   "codemirror_mode": {
    "name": "ipython",
    "version": 3
   },
   "file_extension": ".py",
   "mimetype": "text/x-python",
   "name": "python",
   "nbconvert_exporter": "python",
   "pygments_lexer": "ipython3",
   "version": "3.11.2"
  },
  "vscode": {
   "interpreter": {
    "hash": "b3c9a0a5475e728b39e61ac58d244ad936924f9cf82746515a9faeb1f1a0b703"
   }
  }
 },
 "nbformat": 4,
 "nbformat_minor": 5
}
