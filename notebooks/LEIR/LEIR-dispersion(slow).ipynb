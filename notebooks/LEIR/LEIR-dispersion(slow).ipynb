{
 "cells": [
  {
   "cell_type": "code",
   "execution_count": 108,
   "id": "16460ba6",
   "metadata": {},
   "outputs": [
    {
     "name": "stderr",
     "output_type": "stream",
     "text": [
      "100%|██████████| 1000000/1000000 [01:46<00:00, 9365.04it/s]\n"
     ]
    }
   ],
   "source": [
    "# copyright ############################### #\n",
    "# This file is part of the Xtrack Package.  #\n",
    "# Copyright (c) CERN, 2021.                 #\n",
    "# ######################################### #\n",
    "\n",
    "\n",
    "import xtrack as xt\n",
    "import xobjects as xo\n",
    "import xpart as xp\n",
    "\n",
    "import ducktrack as dtk\n",
    "import numpy as np\n",
    "import matplotlib.pyplot as plt\n",
    "from matplotlib.widgets import Slider\n",
    "from tqdm import tqdm\n",
    "\n",
    "\n",
    "\n",
    "\n",
    "\n",
    "\n",
    "beta_rel=0.09405801936973575\n",
    "gamma = 1.004453024014182\n",
    "\n",
    "I=0.6\n",
    "L = 2.5 # m cooler length\n",
    "r_beam=25*1e-3\n",
    "\n",
    "\n",
    "\n",
    "T_perp = 0.1 # <E> [eV] = kb*T\n",
    "T_l =  0.01 # <E> [eV]\n",
    "B = 0.075 # T for LEIR\n",
    "B_ratio=1e-10\n",
    "Z=54\n",
    "\n",
    "mass0=193729.0248722061*1e6 #eV/c2\n",
    "c=299792458.0\n",
    "p0c = mass0*beta_rel*gamma #eV/c\n",
    "\n",
    "length = 78.54370266 #m\n",
    "T = length/(c*beta_rel)\n",
    "ms_per_turn = 1000*T\n",
    "\n",
    "\n",
    "\n",
    "beta_x=5\n",
    "beta_y=5\n",
    "disp_x=-10\n",
    "#disp_x=0\n",
    "Q_x=5.38518956965\n",
    "Q_y=5.36921653748\n",
    "\n",
    "emittance=14*1e-6\n",
    "\n",
    "\n",
    "\n",
    "arc=dtk.LinearTransferMatrix(Q_x=Q_x-1, Q_y=Q_y-1,\n",
    "                            beta_x_0=beta_x, beta_x_1=beta_x,\n",
    "                            beta_y_0=beta_y,  beta_y_1=beta_y,\n",
    "                            alpha_x_0=0,   alpha_x_1=0,\n",
    "                            alpha_y_0=0,   alpha_y_1=0,\n",
    "                            disp_x_0=0,disp_x_1=disp_x,\n",
    "                            disp_y_0=0,    disp_y_1=0,\n",
    "                            beta_s=1*1e40,\n",
    "                            Q_s=0,\n",
    "                            chroma_x=0.0, chroma_y=0\n",
    "                                           \n",
    "                 )\n",
    "\n",
    "\n",
    "arc2=dtk.LinearTransferMatrix(Q_x=5.1, Q_y=5.1,\n",
    "                            beta_x_0=beta_x, beta_x_1=beta_x,\n",
    "                            beta_y_0=beta_y,  beta_y_1=beta_y,\n",
    "                            alpha_x_0=0,   alpha_x_1=0,\n",
    "                            alpha_y_0=0,   alpha_y_1=0,\n",
    "                            disp_x_0=disp_x,disp_x_1=0,\n",
    "                            disp_y_0=0,    disp_y_1=0,\n",
    "                            beta_s=1*1e40,\n",
    "                            Q_s=0,\n",
    "                            chroma_x=0.0, chroma_y=0\n",
    "                                           \n",
    "                 )\n",
    "\n",
    "\n",
    "\n",
    "num_particles=int(1)\n",
    "num_turns=int(1e6)\n",
    "step=1\n",
    "#x=np.random.normal(0,np.sqrt(5*emittance) ,num_particles),\n",
    "#px=np.random.normal(0, np.sqrt(emittance/5), num_particles),\n",
    "#x=np.linspace(1*1e-3, 20*1e-3, num_particles),\n",
    "#px=np.random.uniform(0, 0, num_particles),\n",
    "\n",
    "x_initial=np.linspace(-20e-3,20*1e-3,num_particles)\n",
    "delta_initial=np.linspace(-20e-3,20*1e-3,num_particles)\n",
    "\n",
    "delta_initial=10*1e-3\n",
    "\n",
    "#x_initial=np.array([-15e-3,-2e-3,15e-3])\n",
    "\n",
    "\n",
    "dtk_particle = dtk.TestParticles(\n",
    "        \n",
    "        mass0=mass0,\n",
    "        p0c=p0c,\n",
    "        x=delta_initial*disp_x,\n",
    "        px=0,\n",
    "        y=0,\n",
    "        py=0,\n",
    "        delta=delta_initial,\n",
    "        zeta=0)\n",
    "\n",
    "dtk_particle_copy_old=dtk_particle.copy()\n",
    "\n",
    "\n",
    "dtk_cooler = dtk.elements.ElectronCooler(I=I,L=L,r_beam=r_beam,\n",
    "                                         T_perp=T_perp,T_l=T_l,\n",
    "                                         B=B,Z=Z,B_ratio=B_ratio,\n",
    "                                         Neutralisation_space_charge=1)\n",
    "\n",
    "       \n",
    "\n",
    "\n",
    "\n",
    "\n",
    "x=[]\n",
    "px=[]\n",
    "action = []\n",
    "force = []\n",
    "delta = []\n",
    "\n",
    "\n",
    "\n",
    "for i in tqdm(range(num_turns)):\n",
    "    if i % step == 0:\n",
    "\n",
    "        x.append(dtk_particle.x)\n",
    "        px.append(dtk_particle.px)\n",
    "        delta.append(dtk_particle.delta)\n",
    "    \n",
    "        action_temp = 0.5*(dtk_particle.x**2/beta_x + beta_x*dtk_particle.px**2) #Joule sec\n",
    "        action.append(action_temp)\n",
    "    \n",
    "        \n",
    "    \n",
    "    arc.track(dtk_particle)\n",
    "        \n",
    "    dtk_cooler.track(dtk_particle)\n",
    "    arc2.track(dtk_particle)  \n",
    "\n",
    "\n",
    "x = np.array(x)\n",
    "px = np.array(px)\n",
    "action = np.array(action)\n",
    "force = np.array(force)\n",
    "delta = np.array(delta)\n",
    "\n",
    "amplitude_x=np.sqrt(2*action[::1]*beta_x)\n",
    "time = np.arange(0, num_turns, step) * ms_per_turn\n"
   ]
  },
  {
   "cell_type": "code",
   "execution_count": 107,
   "id": "9f212932",
   "metadata": {},
   "outputs": [
    {
     "data": {
      "image/png": "[encoded data removed]",
      "text/plain": [
       "<Figure size 640x480 with 1 Axes>"
      ]
     },
     "metadata": {},
     "output_type": "display_data"
    }
   ],
   "source": [
    "plt.figure()\n",
    "for i in range(num_particles):\n",
    "    \n",
    "    plt.scatter(time,delta)\n",
    "\n",
    "plt.ylabel('delta [m]')\n",
    "plt.xlabel(('Time [ms]'))\n",
    "plt.ticklabel_format(useOffset=False)\n",
    "plt.show()"
   ]
  },
  {
   "cell_type": "code",
   "execution_count": 103,
   "metadata": {},
   "outputs": [
    {
     "ename": "IndexError",
     "evalue": "too many indices for array: array is 1-dimensional, but 2 were indexed",
     "output_type": "error",
     "traceback": [
      "\u001b[0;31m---------------------------------------------------------------------------\u001b[0m",
      "\u001b[0;31mIndexError\u001b[0m                                Traceback (most recent call last)",
      "Cell \u001b[0;32mIn [103], line 5\u001b[0m\n\u001b[1;32m      3\u001b[0m plt\u001b[39m.\u001b[39mfigure()\n\u001b[1;32m      4\u001b[0m \u001b[39mfor\u001b[39;00m i \u001b[39min\u001b[39;00m \u001b[39mrange\u001b[39m(num_particles):\n\u001b[0;32m----> 5\u001b[0m     mask \u001b[39m=\u001b[39m np\u001b[39m.\u001b[39margmax(amplitude_x[:,i] \u001b[39m>\u001b[39m cutoff)\n\u001b[1;32m      7\u001b[0m     \u001b[39mif\u001b[39;00m mask\u001b[39m==\u001b[39m\u001b[39m0\u001b[39m:\n\u001b[1;32m      8\u001b[0m         mask\u001b[39m=\u001b[39m\u001b[39m-\u001b[39m\u001b[39m1\u001b[39m\n",
      "\u001b[0;31mIndexError\u001b[0m: too many indices for array: array is 1-dimensional, but 2 were indexed"
     ]
    },
    {
     "data": {
      "text/plain": [
       "<Figure size 640x480 with 0 Axes>"
      ]
     },
     "metadata": {},
     "output_type": "display_data"
    }
   ],
   "source": [
    "cutoff=0.025\n",
    "mask_list=[]\n",
    "plt.figure()\n",
    "for i in range(num_particles):\n",
    "    mask = np.argmax(amplitude_x[:,i] > cutoff)\n",
    "       \n",
    "    if mask==0:\n",
    "        mask=-1\n",
    "        mask_list.append(True)\n",
    "    else: mask_list.append(False)    \n",
    "    plt.scatter(time[:mask],amplitude_x[:,i][:mask])\n",
    "\n",
    "plt.ylabel('x [m]')\n",
    "plt.xlabel(('Time [ms]'))\n",
    "plt.ticklabel_format(useOffset=False)\n",
    "plt.show()"
   ]
  },
  {
   "cell_type": "code",
   "execution_count": null,
   "id": "8af18780",
   "metadata": {},
   "outputs": [],
   "source": [
    "import numpy as np\n",
    "import matplotlib.pyplot as plt\n",
    "\n",
    "# Generate a random boolean array\n",
    "\n",
    "# Plot the boolean array as a scatter plot\n",
    "plt.figure()\n",
    "plt.scatter(x_initial,mask_list)\n",
    "\n",
    "plt.title(f'Particles that remain in beam vs initial position({time[-1]/1e3:.1f} s)')\n",
    "plt.xlabel('x initial [m]')\n",
    "plt.ylabel('Boolean Value')\n",
    "plt.text(0.01, 0.9,f'Losses:{100-100*np.mean(mask_list)}%', fontsize=12)\n",
    "plt.show()"
   ]
  },
  {
   "cell_type": "code",
   "execution_count": null,
   "id": "77ead747",
   "metadata": {},
   "outputs": [],
   "source": [
    "1-np.mean(mask_list)"
   ]
  }
 ],
 "metadata": {
  "kernelspec": {
   "display_name": "base",
   "language": "python",
   "name": "python3"
  },
  "language_info": {
   "codemirror_mode": {
    "name": "ipython",
    "version": 3
   },
   "file_extension": ".py",
   "mimetype": "text/x-python",
   "name": "python",
   "nbconvert_exporter": "python",
   "pygments_lexer": "ipython3",
   "version": "3.9.13"
  },
  "vscode": {
   "interpreter": {
    "hash": "b3c9a0a5475e728b39e61ac58d244ad936924f9cf82746515a9faeb1f1a0b703"
   }
  }
 },
 "nbformat": 4,
 "nbformat_minor": 5
}
