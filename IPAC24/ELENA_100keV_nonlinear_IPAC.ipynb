{
 "cells": [
  {
   "cell_type": "code",
   "execution_count": 260,
   "metadata": {},
   "outputs": [
    {
     "name": "stderr",
     "output_type": "stream",
     "text": [
      "Loading line from dict: 100%|██████████| 1336/1336 [00:00<00:00, 12111.89it/s]\n"
     ]
    },
    {
     "name": "stdout",
     "output_type": "stream",
     "text": [
      "Done loading line from dict.           \n",
      "Compiling ContextCpu kernels...\n",
      "Done compiling ContextCpu kernels.\n"
     ]
    }
   ],
   "source": [
    "# copyright ############################### #\n",
    "# This file is part of the Xtrack Package.  #\n",
    "# Copyright (c) CERN, 2021.                 #\n",
    "# ######################################### #\n",
    "\n",
    "import xtrack as xt\n",
    "import xobjects as xo\n",
    "import xpart as xp\n",
    "import ducktrack as dtk\n",
    "import numpy as np\n",
    "import matplotlib.pyplot as plt\n",
    "from tqdm import tqdm\n",
    "from scipy import constants \n",
    "\n",
    "line = xt.Line.from_json('elena.json')\n",
    "particle_ref = line.particle_ref\n",
    "line.build_tracker()\n",
    "twiss = line.twiss()\n",
    "\n",
    "beta0=particle_ref.beta0\n",
    "gamma0 = particle_ref.gamma0\n",
    "circumference = twiss.circumference #m\n",
    "\n",
    "clight=constants.speed_of_light\n",
    "T_per_turn = circumference/(clight*beta0)\n",
    "\n",
    "# # optics at e-cooler (approximate), in m\n",
    "# beta_x=5\n",
    "# beta_y=5\n",
    "# D_x=1\n",
    "\n",
    "ec_index=698\n",
    "\n",
    "D_x=twiss.dx[ec_index]\n",
    "D_y=twiss.dy[ec_index]"
   ]
  },
  {
   "cell_type": "code",
   "execution_count": 261,
   "metadata": {},
   "outputs": [
    {
     "name": "stdout",
     "output_type": "stream",
     "text": [
      "beta_x: 1.5167200298578212\n",
      "beta_y: 2.64374313074297\n",
      "d_x: 0.9887268976216608\n",
      "d_y: 0.0\n"
     ]
    }
   ],
   "source": [
    "print('beta_x:',twiss.betx[ec_index])\n",
    "print('beta_y:',twiss.bety[ec_index])\n",
    "print('d_x:',twiss.dx[ec_index])\n",
    "print('d_y:',twiss.dy[ec_index])"
   ]
  },
  {
   "cell_type": "code",
   "execution_count": 262,
   "metadata": {},
   "outputs": [
    {
     "data": {
      "text/plain": [
       "-469.32883416440933"
      ]
     },
     "execution_count": 262,
     "metadata": {},
     "output_type": "execute_result"
    }
   ],
   "source": [
    "twiss.keys()\n",
    "twiss.bets0"
   ]
  },
  {
   "cell_type": "code",
   "execution_count": 263,
   "metadata": {},
   "outputs": [
    {
     "name": "stdout",
     "output_type": "stream",
     "text": [
      "sigma_z 0.0\n"
     ]
    }
   ],
   "source": [
    "num_particles=int(1e4)\n",
    "\n",
    "beta_x_sem = 7.6 #m\n",
    "beta_y_sem = 1.3 #m\n",
    "\n",
    "#bunch_length=75*1e-9*clight #https://cds.cern.ch/record/2845870/files/document.pdf\n",
    "bunch_intensity=5e7\n",
    "sigma_dp = 1e-3*0\n",
    "delta = np.random.normal(loc=0.0, scale=sigma_dp, size=num_particles)\n",
    "\n",
    "sigma_z=-twiss.bets0*sigma_dp\n",
    "\n",
    "print('sigma_z',sigma_z)\n",
    "\n",
    "eps_x= 2.25*1e-6-(D_x*sigma_dp)**2/beta_x_sem\n",
    "eps_x= 2.25*1e-6\n",
    "\n",
    "gemitt_x = eps_x\n",
    "gemitt_y = 2.25*1e-6\n",
    "nemitt_x = gemitt_x*beta0*gamma0\n",
    "nemitt_y = gemitt_y*beta0*gamma0\n",
    "\n",
    "# particles = xp.generate_matched_gaussian_bunch(\n",
    "#         num_particles=num_particles,\n",
    "#         # total_intensity_particles=bunch_intensity,\n",
    "#         nemitt_x=nemitt_x, nemitt_y=nemitt_y, sigma_z=sigma_z,\n",
    "#         particle_ref=particle_ref,\n",
    "#         line=line,        \n",
    "#         )\n",
    "\n",
    "# particles.delta = np.random.normal(0, sigma_dp, num_particles)\n",
    "# particles.zeta = np.random.uniform(-circumference/2, circumference/2, num_particles)\n",
    "# particles0=particles.copy()\n"
   ]
  },
  {
   "cell_type": "code",
   "execution_count": 264,
   "metadata": {},
   "outputs": [],
   "source": [
    "# electron cooler parameters\n",
    "current = 0.34*1e-3 # A current\n",
    "cooler_length = 1 # m cooler length\n",
    "radius_e_beam = 14*1e-3 #m radius of the electron beam\n",
    "temp_perp = 100e-3 # <E> [eV] = kb*T\n",
    "temp_long =  1e-3 # <E> [eV]\n",
    "magnetic_field = 0.010 # 100 Gauss in ELENA\n",
    "\n",
    "electron_cooler = xt.ElectronCooler(\n",
    "        length=cooler_length,\n",
    "        radius_e_beam=radius_e_beam,\n",
    "        current=current,\n",
    "        temp_perp=temp_perp,\n",
    "        temp_long=temp_long,\n",
    "        magnetic_field=magnetic_field, \n",
    "        magnetic_field_ratio=1e-3,\n",
    "        space_charge=1)"
   ]
  },
  {
   "cell_type": "code",
   "execution_count": 265,
   "metadata": {},
   "outputs": [
    {
     "name": "stdout",
     "output_type": "stream",
     "text": [
      "monitor\n"
     ]
    },
    {
     "name": "stderr",
     "output_type": "stream",
     "text": [
      "/tmp/ipykernel_2641/1891338104.py:6: DeprecationWarning: Conversion of an array with ndim > 0 to a scalar is deprecated, and will error in future. Ensure you extract a single element from your array before performing this operation. (Deprecated NumPy 1.25.)\n",
      "  num_turns = int(max_time_s/T_per_turn)\n",
      "/tmp/ipykernel_2641/1891338104.py:7: DeprecationWarning: Conversion of an array with ndim > 0 to a scalar is deprecated, and will error in future. Ensure you extract a single element from your array before performing this operation. (Deprecated NumPy 1.25.)\n",
      "  save_interval = int(int_time_s/T_per_turn)\n"
     ]
    }
   ],
   "source": [
    "# simulation parameters: simulate 1 s of cooling, and take data once every 10 ms\n",
    "max_time_s = 1.75\n",
    "int_time_s = 0.01\n",
    "\n",
    "# compute length of simulation, as well as sample interval, in turns\n",
    "num_turns = int(max_time_s/T_per_turn)\n",
    "save_interval = int(int_time_s/T_per_turn)\n",
    "\n",
    "# create a monitor object, to reduce holded data\n",
    "monitor = xt.ParticlesMonitor(start_at_turn=0, stop_at_turn=1,\n",
    "                              n_repetitions=int(num_turns/save_interval),\n",
    "                              repetition_period=save_interval,\n",
    "                              num_particles=num_particles)\n",
    "\n",
    "line.discard_tracker()\n",
    "\n",
    "# line = xt.Line.from_json('elena_coasting.json')\n",
    "\n",
    "\n",
    "line.insert_element('ecooler', element=electron_cooler, index=ec_index) #this way monitor comes after the cooler\n",
    "line.insert_element('monitor', element=monitor, index=ec_index)\n",
    "\n",
    "beta_x  = twiss.betx[ec_index]\n",
    "beta_y  = twiss.bety[ec_index]\n",
    "alpha_x = twiss.alfx[ec_index]\n",
    "alpha_y = twiss.alfy[ec_index]\n",
    "gamma_x = twiss.gamx[ec_index]\n",
    "gamma_y = twiss.gamy[ec_index]\n",
    "\n",
    "Dx  =  twiss.dx[ec_index]\n",
    "Dpx =  twiss.dpx[ec_index]\n",
    "\n",
    "Dy  =  twiss.dy[ec_index]\n",
    "Dpy =  twiss.dpy[ec_index]\n",
    "\n",
    "print(line.element_names[ec_index])"
   ]
  },
  {
   "cell_type": "code",
   "execution_count": 266,
   "metadata": {},
   "outputs": [
    {
     "name": "stdout",
     "output_type": "stream",
     "text": [
      "Compiling ContextCpu kernels...\n",
      "Done compiling ContextCpu kernels.\n",
      "Disable xdeps expressions\n",
      "Replance slices with equivalent elements\n",
      "Remove markers\n",
      "Remove inactive multipoles\n",
      "Merge consecutive multipoles\n",
      "Remove redundant apertures\n",
      "Remove zero length drifts\n",
      "Merge consecutive drifts\n",
      "Use simple bends\n",
      "Use simple quadrupoles\n",
      "Rebuild tracker data\n",
      "Compiling ContextCpu kernels...\n",
      "Done compiling ContextCpu kernels.\n",
      "All cavities switched off.\n"
     ]
    },
    {
     "name": "stderr",
     "output_type": "stream",
     "text": [
      "Tracking: 100%|██████████| 251900/251900 [33:34<00:00, 125.07it/s]\n"
     ]
    }
   ],
   "source": [
    "context = xo.ContextCpu(omp_num_threads=4)\n",
    "# context = xo.ContextCupy()\n",
    "# context = xo.ContextPyopencl()\n",
    "line.build_tracker(_context=context)\n",
    "# line.freeze_longitudinal()\n",
    "line.optimize_for_tracking()\n",
    "\n",
    "# Build a line without spacecharge (recycling the track kernel)\n",
    "line_sc_off = line.filter_elements(exclude_types_starting_with='SpaceCh')\n",
    "line_sc_off.build_tracker(track_kernel=line.tracker.track_kernel)\n",
    "\n",
    "# (we choose to match the distribution without accounting for spacecharge)\n",
    "particles = xp.generate_matched_gaussian_bunch(line=line_sc_off,\n",
    "         num_particles=num_particles, total_intensity_particles=bunch_intensity,\n",
    "         nemitt_x=nemitt_x, nemitt_y=nemitt_y, sigma_z=sigma_z)\n",
    "\n",
    "line_table = line.get_table()\n",
    "element_mask = np.where(line_table['element_type']=='Cavity')[0]\n",
    "for i in element_mask:\n",
    "    cav_name = line_table['name'][i]\n",
    "    line.elements[i].voltage = 0\n",
    "    line.elements[i].frequency = 0\n",
    "print('All cavities switched off.')\n",
    "\n",
    "# just track all particles, and keep turn-by-turn data (memory expensive!)\n",
    "line.track(particles, num_turns=num_turns,\n",
    "              turn_by_turn_monitor=False,with_progress=True)\n",
    "\n"
   ]
  },
  {
   "cell_type": "code",
   "execution_count": 267,
   "metadata": {},
   "outputs": [],
   "source": [
    " # extract relevant values\n",
    "x = monitor.x[:,:,0]\n",
    "px = monitor.px[:,:,0]\n",
    "y = monitor.y[:,:,0]\n",
    "py = monitor.py[:,:,0]\n",
    "delta = monitor.delta[:,:,0]\n",
    "zeta = monitor.zeta[:,:,0]\n",
    "time = monitor.at_turn[:, 0, 0] * T_per_turn\n",
    "\n",
    "# compute actions. for x, remove the dp/p contribution:\n",
    "action_x = ((x-D_x*delta)**2/beta_x + beta_x*px**2)\n",
    "action_y = (y**2/beta_y + beta_y*py**2)\n",
    "\n",
    "action_x = (gamma_x*(x-Dx*delta)**2 \n",
    "            + 2*alpha_x*(x-Dx*delta)*(px-Dpx*delta) \n",
    "            + beta_x*(px-Dpx*delta)**2)\n",
    "action_y = (gamma_y*(y-Dy*delta)**2\n",
    "             + 2*alpha_y*(y-Dy*delta)*(py-Dpy*delta) \n",
    "             + beta_y*(py-Dpy*delta)**2)\n",
    "\n",
    "norm_emittance_x=np.mean(action_x,axis=1)/2*gamma0*beta0\n",
    "norm_emittance_y=np.mean(action_y,axis=1)/2*gamma0*beta0\n",
    "\n",
    "geo_emittance_x=np.mean(action_x,axis=1)/2\n",
    "geo_emittance_y=np.mean(action_y,axis=1)/2\n",
    "\n",
    "\n",
    "np.savez(f'results/IPAC_nonlinear.npz',\n",
    "        \n",
    "        # emittance_x_twiss=emittance_x_twiss,\n",
    "        # emittance_y_twiss=emittance_y_twiss,\n",
    "        geo_emittance_x=geo_emittance_x,\n",
    "        geo_emittance_y=geo_emittance_y,\n",
    "        norm_emittance_x=norm_emittance_x,\n",
    "        norm_emittance_y=norm_emittance_y,\n",
    "        x=x,  \n",
    "        y=y,  \n",
    "        px=px,  \n",
    "        py=py,\n",
    "        delta=delta,\n",
    "        zeta=zeta,\n",
    "        time=time)  "
   ]
  },
  {
   "cell_type": "code",
   "execution_count": 268,
   "metadata": {},
   "outputs": [
    {
     "name": "stdout",
     "output_type": "stream",
     "text": [
      "geo_emittance_x 2.2543146083591308e-06\n",
      "geo_emittance_y 2.2477692980527533e-06\n"
     ]
    }
   ],
   "source": [
    "print('geo_emittance_x',geo_emittance_x[0])\n",
    "print('geo_emittance_y',geo_emittance_y[0])"
   ]
  },
  {
   "cell_type": "code",
   "execution_count": 269,
   "metadata": {},
   "outputs": [
    {
     "data": {
      "image/png": "[encoded data removed]",
      "text/plain": [
       "<Figure size 1000x500 with 1 Axes>"
      ]
     },
     "metadata": {},
     "output_type": "display_data"
    }
   ],
   "source": [
    "# plot some overall values\n",
    "plt.figure(figsize=(10, 5))\n",
    "plt.rcParams.update({'font.size': 14})  # set the default fontsize to 14\n",
    "plt.plot(time, geo_emittance_y * 1e6)\n",
    "plt.xlabel('Time [s]')\n",
    "plt.ylabel('$\\\\epsilon_y$ [$\\\\mu$m]')\n",
    "plt.show()"
   ]
  }
 ],
 "metadata": {
  "kernelspec": {
   "display_name": "xsuite_2023",
   "language": "python",
   "name": "python3"
  },
  "language_info": {
   "codemirror_mode": {
    "name": "ipython",
    "version": 3
   },
   "file_extension": ".py",
   "mimetype": "text/x-python",
   "name": "python",
   "nbconvert_exporter": "python",
   "pygments_lexer": "ipython3",
   "version": "3.12.3"
  },
  "orig_nbformat": 4
 },
 "nbformat": 4,
 "nbformat_minor": 2
}
