{
 "cells": [
  {
   "cell_type": "code",
   "execution_count": 37,
   "id": "9bb243bb",
   "metadata": {},
   "outputs": [],
   "source": [
    "import numpy as np\n",
    "import xtrack as xt\n",
    "import xobjects as xo\n",
    "import xpart as xp\n",
    "import numpy as np\n",
    "import matplotlib.pyplot as plt\n",
    "from tqdm import tqdm\n",
    "import json"
   ]
  },
  {
   "cell_type": "code",
   "execution_count": 38,
   "id": "602a6bb4",
   "metadata": {},
   "outputs": [
    {
     "name": "stdout",
     "output_type": "stream",
     "text": [
      "Compiling ContextCpu kernels...\n",
      "Done compiling ContextCpu kernels.\n"
     ]
    },
    {
     "data": {
      "text/plain": [
       "<xtrack.tracker.Tracker at 0x7ff2158f35f0>"
      ]
     },
     "execution_count": 38,
     "metadata": {},
     "output_type": "execute_result"
    }
   ],
   "source": [
    "#lattice parameters for ELENA at 100 keV\n",
    "# from https://acc-models.web.cern.ch/acc-models/elena/scenarios/highenergy/highenergy.tfs\n",
    "qx = 2.36168984503\n",
    "qy = 1.38992572490\n",
    "circumference = 30.40531277976 #m\n",
    "\n",
    "# relativistic factors\n",
    "gamma_rel = 1.0001066 # at 100 keV\n",
    "\n",
    "# optics at e-cooler (approximate), in m\n",
    "beta_x = 1.7\n",
    "beta_y = 2.7\n",
    "D_x = 1\n",
    "\n",
    "# electron cooler parameters\n",
    "current = 0.34*1e-3 # A current\n",
    "length = 1 # m cooler length\n",
    "radius_e_beam = 14*1e-3 #m radius of the electron beam\n",
    "temp_perp = 100e-3 # <E> [eV] = kb*T\n",
    "temp_long =  1e-3 # <E> [eV]\n",
    "magnetic_field = 0.010 # 100 Gauss in ELENA\n",
    "# idea is to study magnetic field imperfections\n",
    "magnetic_field_ratio_list = [0,5e-4,1e-3,5e-3] #Iterate over different values of the magnetic field quality to see effect on cooling performance.\n",
    "#magnetic_field_ratio is the ratio of transverse componenet of magnetic field and the longitudinal component. In the ideal case, the ratio is 0.\n",
    "\n",
    "qs=0.007718714437902285\n",
    "bets0=-469.32883416451523\n",
    "\n",
    "arc_matching = xt.LineSegmentMap(\n",
    "        qx=qx, qy=qy,\n",
    "        dqx=0, dqy=0,\n",
    "        length=circumference,\n",
    "        betx=beta_x,\n",
    "        bety=beta_y,\n",
    "        dx=D_x,\n",
    "        qs=qs,\n",
    "        bets=bets0)\n",
    "\n",
    "line_matching=xt.Line([arc_matching])\n",
    "line_matching.build_tracker()\n",
    "\n"
   ]
  },
  {
   "cell_type": "code",
   "execution_count": 54,
   "id": "588164be",
   "metadata": {},
   "outputs": [
    {
     "name": "stdout",
     "output_type": "stream",
     "text": [
      "emittance: 2.534392191611407e-06\n",
      "emittance2: 2.8097671276783866e-06\n"
     ]
    }
   ],
   "source": [
    "# some constants, and simple computations\n",
    "clight = 299792458.0\n",
    "mass0 = 938.27208816*1e6 #ev/c^2\n",
    "\n",
    "beta_rel = np.sqrt(gamma_rel**2 - 1)/gamma_rel\n",
    "p0c = mass0*beta_rel*gamma_rel #eV/c\n",
    "T_per_turn = circumference/(clight*beta_rel)\n",
    "\n",
    "particle_ref= xp.Particles(mass0=mass0, q0=1, p0c=p0c)\n",
    "\n",
    "line_matching.particle_ref = particle_ref\n",
    "\n",
    "beta_gamma = line_matching.particle_ref._beta0*line_matching.particle_ref._gamma0\n",
    "\n",
    "n_part = int(1e4)\n",
    "\n",
    "beta_x_sem = 7.6 #m\n",
    "beta_y_sem = 1.3 #m\n",
    "\n",
    "# create desired beam\n",
    "bunch_intensity = None\n",
    "sigma_dp = 1e-3\n",
    "sigma_z=-bets0*sigma_dp\n",
    "\n",
    "\n",
    "\n",
    "eps_x= 2.25*1e-6-((D_x*sigma_dp)**2/beta_x_sem)\n",
    "gemitt_x = 2.5*1e-6\n",
    "gemitt_y = 2.5*1e-6\n",
    "nemitt_x = gemitt_x*beta_gamma\n",
    "nemitt_y = gemitt_y*beta_gamma\n",
    "\n",
    "particles_old = xp.generate_matched_gaussian_bunch(\n",
    "        num_particles=n_part,\n",
    "        # total_intensity_particles=bunch_intensity,\n",
    "        nemitt_x=nemitt_x, nemitt_y=nemitt_y, sigma_z = sigma_z, # in m,\n",
    "        particle_ref=particle_ref ,\n",
    "        line=line_matching,        \n",
    ")\n",
    "\n",
    "#particles_old.delta = np.random.normal(0, sigma_dp, n_part)\n",
    "particles_old.zeta = np.random.uniform(-circumference/2, circumference/2, n_part)\n",
    "\n",
    "# Save particles to json\n",
    "\n",
    "with open('part.json', 'w') as fid:\n",
    "    json.dump(particles_old.to_dict(), fid, cls=xo.JEncoder)\n",
    "\n",
    "# Load particles from json file to selected context\n",
    "\n",
    "\n",
    "action_x = ((particles_old.x-D_x*particles_old.delta)**2/beta_x + beta_x*particles_old.px**2)\n",
    "geo_emittance_x=np.mean(action_x)/2\n",
    "\n",
    "print('emittance:',geo_emittance_x)\n",
    "\n",
    "action_x2 = ((particles_old.x)**2/beta_x + beta_x*particles_old.px**2)\n",
    "geo_emittance_x2=np.mean(action_x2)/2\n",
    "\n",
    "print('emittance2:',geo_emittance_x2)\n",
    "\n"
   ]
  },
  {
   "cell_type": "code",
   "execution_count": null,
   "id": "1b003c0e",
   "metadata": {},
   "outputs": [],
   "source": []
  },
  {
   "cell_type": "code",
   "execution_count": 55,
   "id": "aee0be09",
   "metadata": {},
   "outputs": [
    {
     "name": "stderr",
     "output_type": "stream",
     "text": [
      "  0%|          | 0/51 [00:00<?, ?it/s]"
     ]
    },
    {
     "name": "stdout",
     "output_type": "stream",
     "text": [
      "Compiling ContextCpu kernels...\n",
      "Done compiling ContextCpu kernels.\n"
     ]
    },
    {
     "name": "stderr",
     "output_type": "stream",
     "text": [
      "  2%|▏         | 1/51 [00:44<36:51, 44.23s/it]"
     ]
    },
    {
     "name": "stdout",
     "output_type": "stream",
     "text": [
      "Compiling ContextCpu kernels...\n",
      "Done compiling ContextCpu kernels.\n"
     ]
    },
    {
     "name": "stderr",
     "output_type": "stream",
     "text": [
      "  4%|▍         | 2/51 [01:27<35:35, 43.57s/it]"
     ]
    },
    {
     "name": "stdout",
     "output_type": "stream",
     "text": [
      "Compiling ContextCpu kernels...\n",
      "Done compiling ContextCpu kernels.\n"
     ]
    },
    {
     "name": "stderr",
     "output_type": "stream",
     "text": [
      "  6%|▌         | 3/51 [02:09<34:20, 42.92s/it]"
     ]
    },
    {
     "name": "stdout",
     "output_type": "stream",
     "text": [
      "Compiling ContextCpu kernels...\n",
      "Done compiling ContextCpu kernels.\n"
     ]
    },
    {
     "name": "stderr",
     "output_type": "stream",
     "text": [
      "  8%|▊         | 4/51 [02:52<33:44, 43.07s/it]"
     ]
    },
    {
     "name": "stdout",
     "output_type": "stream",
     "text": [
      "Compiling ContextCpu kernels...\n",
      "Done compiling ContextCpu kernels.\n"
     ]
    },
    {
     "name": "stderr",
     "output_type": "stream",
     "text": [
      " 10%|▉         | 5/51 [03:35<32:54, 42.92s/it]"
     ]
    },
    {
     "name": "stdout",
     "output_type": "stream",
     "text": [
      "Compiling ContextCpu kernels...\n",
      "Done compiling ContextCpu kernels.\n"
     ]
    },
    {
     "name": "stderr",
     "output_type": "stream",
     "text": [
      " 12%|█▏        | 6/51 [04:17<32:02, 42.73s/it]"
     ]
    },
    {
     "name": "stdout",
     "output_type": "stream",
     "text": [
      "Compiling ContextCpu kernels...\n",
      "Done compiling ContextCpu kernels.\n"
     ]
    },
    {
     "name": "stderr",
     "output_type": "stream",
     "text": [
      " 14%|█▎        | 7/51 [04:59<31:12, 42.55s/it]"
     ]
    },
    {
     "name": "stdout",
     "output_type": "stream",
     "text": [
      "Compiling ContextCpu kernels...\n",
      "Done compiling ContextCpu kernels.\n"
     ]
    },
    {
     "name": "stderr",
     "output_type": "stream",
     "text": [
      " 16%|█▌        | 8/51 [05:41<30:21, 42.36s/it]"
     ]
    },
    {
     "name": "stdout",
     "output_type": "stream",
     "text": [
      "Compiling ContextCpu kernels...\n",
      "Done compiling ContextCpu kernels.\n"
     ]
    },
    {
     "name": "stderr",
     "output_type": "stream",
     "text": [
      " 18%|█▊        | 9/51 [06:24<29:35, 42.28s/it]"
     ]
    },
    {
     "name": "stdout",
     "output_type": "stream",
     "text": [
      "Compiling ContextCpu kernels...\n",
      "Done compiling ContextCpu kernels.\n"
     ]
    },
    {
     "name": "stderr",
     "output_type": "stream",
     "text": [
      " 20%|█▉        | 10/51 [07:06<28:52, 42.25s/it]"
     ]
    },
    {
     "name": "stdout",
     "output_type": "stream",
     "text": [
      "Compiling ContextCpu kernels...\n",
      "Done compiling ContextCpu kernels.\n"
     ]
    },
    {
     "name": "stderr",
     "output_type": "stream",
     "text": [
      " 22%|██▏       | 11/51 [07:49<28:16, 42.42s/it]"
     ]
    },
    {
     "name": "stdout",
     "output_type": "stream",
     "text": [
      "Compiling ContextCpu kernels...\n",
      "Done compiling ContextCpu kernels.\n"
     ]
    },
    {
     "name": "stderr",
     "output_type": "stream",
     "text": [
      " 24%|██▎       | 12/51 [08:31<27:34, 42.43s/it]"
     ]
    },
    {
     "name": "stdout",
     "output_type": "stream",
     "text": [
      "Compiling ContextCpu kernels...\n",
      "Done compiling ContextCpu kernels.\n"
     ]
    },
    {
     "name": "stderr",
     "output_type": "stream",
     "text": [
      " 25%|██▌       | 13/51 [09:13<26:49, 42.36s/it]"
     ]
    },
    {
     "name": "stdout",
     "output_type": "stream",
     "text": [
      "Compiling ContextCpu kernels...\n",
      "Done compiling ContextCpu kernels.\n"
     ]
    },
    {
     "name": "stderr",
     "output_type": "stream",
     "text": [
      " 27%|██▋       | 14/51 [09:56<26:10, 42.45s/it]"
     ]
    },
    {
     "name": "stdout",
     "output_type": "stream",
     "text": [
      "Compiling ContextCpu kernels...\n",
      "Done compiling ContextCpu kernels.\n"
     ]
    },
    {
     "name": "stderr",
     "output_type": "stream",
     "text": [
      " 29%|██▉       | 15/51 [11:00<29:28, 49.12s/it]"
     ]
    },
    {
     "name": "stdout",
     "output_type": "stream",
     "text": [
      "Compiling ContextCpu kernels...\n",
      "Done compiling ContextCpu kernels.\n"
     ]
    },
    {
     "name": "stderr",
     "output_type": "stream",
     "text": [
      " 31%|███▏      | 16/51 [11:53<29:14, 50.13s/it]"
     ]
    },
    {
     "name": "stdout",
     "output_type": "stream",
     "text": [
      "Compiling ContextCpu kernels...\n",
      "Done compiling ContextCpu kernels.\n"
     ]
    },
    {
     "name": "stderr",
     "output_type": "stream",
     "text": [
      " 33%|███▎      | 17/51 [12:36<27:07, 47.87s/it]"
     ]
    },
    {
     "name": "stdout",
     "output_type": "stream",
     "text": [
      "Compiling ContextCpu kernels...\n",
      "Done compiling ContextCpu kernels.\n"
     ]
    },
    {
     "name": "stderr",
     "output_type": "stream",
     "text": [
      " 35%|███▌      | 18/51 [13:17<25:18, 46.03s/it]"
     ]
    },
    {
     "name": "stdout",
     "output_type": "stream",
     "text": [
      "Compiling ContextCpu kernels...\n",
      "Done compiling ContextCpu kernels.\n"
     ]
    },
    {
     "name": "stderr",
     "output_type": "stream",
     "text": [
      " 37%|███▋      | 19/51 [13:59<23:54, 44.81s/it]"
     ]
    },
    {
     "name": "stdout",
     "output_type": "stream",
     "text": [
      "Compiling ContextCpu kernels...\n",
      "Done compiling ContextCpu kernels.\n"
     ]
    },
    {
     "name": "stderr",
     "output_type": "stream",
     "text": [
      " 39%|███▉      | 20/51 [14:41<22:37, 43.81s/it]"
     ]
    },
    {
     "name": "stdout",
     "output_type": "stream",
     "text": [
      "Compiling ContextCpu kernels...\n",
      "Done compiling ContextCpu kernels.\n"
     ]
    },
    {
     "name": "stderr",
     "output_type": "stream",
     "text": [
      " 41%|████      | 21/51 [15:22<21:35, 43.17s/it]"
     ]
    },
    {
     "name": "stdout",
     "output_type": "stream",
     "text": [
      "Compiling ContextCpu kernels...\n",
      "Done compiling ContextCpu kernels.\n"
     ]
    },
    {
     "name": "stderr",
     "output_type": "stream",
     "text": [
      " 43%|████▎     | 22/51 [16:04<20:41, 42.81s/it]"
     ]
    },
    {
     "name": "stdout",
     "output_type": "stream",
     "text": [
      "Compiling ContextCpu kernels...\n",
      "Done compiling ContextCpu kernels.\n"
     ]
    },
    {
     "name": "stderr",
     "output_type": "stream",
     "text": [
      " 45%|████▌     | 23/51 [16:46<19:48, 42.44s/it]"
     ]
    },
    {
     "name": "stdout",
     "output_type": "stream",
     "text": [
      "Compiling ContextCpu kernels...\n",
      "Done compiling ContextCpu kernels.\n"
     ]
    },
    {
     "name": "stderr",
     "output_type": "stream",
     "text": [
      " 47%|████▋     | 24/51 [17:27<18:57, 42.13s/it]"
     ]
    },
    {
     "name": "stdout",
     "output_type": "stream",
     "text": [
      "Compiling ContextCpu kernels...\n",
      "Done compiling ContextCpu kernels.\n"
     ]
    },
    {
     "name": "stderr",
     "output_type": "stream",
     "text": [
      " 49%|████▉     | 25/51 [18:11<18:24, 42.47s/it]"
     ]
    },
    {
     "name": "stdout",
     "output_type": "stream",
     "text": [
      "Compiling ContextCpu kernels...\n",
      "Done compiling ContextCpu kernels.\n"
     ]
    },
    {
     "name": "stderr",
     "output_type": "stream",
     "text": [
      " 51%|█████     | 26/51 [18:52<17:36, 42.28s/it]"
     ]
    },
    {
     "name": "stdout",
     "output_type": "stream",
     "text": [
      "Compiling ContextCpu kernels...\n",
      "Done compiling ContextCpu kernels.\n"
     ]
    },
    {
     "name": "stderr",
     "output_type": "stream",
     "text": [
      " 53%|█████▎    | 27/51 [19:34<16:51, 42.14s/it]"
     ]
    },
    {
     "name": "stdout",
     "output_type": "stream",
     "text": [
      "Compiling ContextCpu kernels...\n",
      "Done compiling ContextCpu kernels.\n"
     ]
    },
    {
     "name": "stderr",
     "output_type": "stream",
     "text": [
      " 55%|█████▍    | 28/51 [20:16<16:08, 42.11s/it]"
     ]
    },
    {
     "name": "stdout",
     "output_type": "stream",
     "text": [
      "Compiling ContextCpu kernels...\n",
      "Done compiling ContextCpu kernels.\n"
     ]
    },
    {
     "name": "stderr",
     "output_type": "stream",
     "text": [
      " 57%|█████▋    | 29/51 [20:58<15:25, 42.06s/it]"
     ]
    },
    {
     "name": "stdout",
     "output_type": "stream",
     "text": [
      "Compiling ContextCpu kernels...\n",
      "Done compiling ContextCpu kernels.\n"
     ]
    },
    {
     "name": "stderr",
     "output_type": "stream",
     "text": [
      " 59%|█████▉    | 30/51 [21:40<14:39, 41.89s/it]"
     ]
    },
    {
     "name": "stdout",
     "output_type": "stream",
     "text": [
      "Compiling ContextCpu kernels...\n",
      "Done compiling ContextCpu kernels.\n"
     ]
    },
    {
     "name": "stderr",
     "output_type": "stream",
     "text": [
      " 61%|██████    | 31/51 [22:22<14:02, 42.15s/it]"
     ]
    },
    {
     "name": "stdout",
     "output_type": "stream",
     "text": [
      "Compiling ContextCpu kernels...\n",
      "Done compiling ContextCpu kernels.\n"
     ]
    },
    {
     "name": "stderr",
     "output_type": "stream",
     "text": [
      " 63%|██████▎   | 32/51 [23:05<13:20, 42.12s/it]"
     ]
    },
    {
     "name": "stdout",
     "output_type": "stream",
     "text": [
      "Compiling ContextCpu kernels...\n",
      "Done compiling ContextCpu kernels.\n"
     ]
    },
    {
     "name": "stderr",
     "output_type": "stream",
     "text": [
      " 65%|██████▍   | 33/51 [23:46<12:32, 41.83s/it]"
     ]
    },
    {
     "name": "stdout",
     "output_type": "stream",
     "text": [
      "Compiling ContextCpu kernels...\n",
      "Done compiling ContextCpu kernels.\n"
     ]
    },
    {
     "name": "stderr",
     "output_type": "stream",
     "text": [
      " 67%|██████▋   | 34/51 [24:28<11:55, 42.10s/it]"
     ]
    },
    {
     "name": "stdout",
     "output_type": "stream",
     "text": [
      "Compiling ContextCpu kernels...\n",
      "Done compiling ContextCpu kernels.\n"
     ]
    },
    {
     "name": "stderr",
     "output_type": "stream",
     "text": [
      " 69%|██████▊   | 35/51 [25:10<11:11, 41.98s/it]"
     ]
    },
    {
     "name": "stdout",
     "output_type": "stream",
     "text": [
      "Compiling ContextCpu kernels...\n",
      "Done compiling ContextCpu kernels.\n"
     ]
    },
    {
     "name": "stderr",
     "output_type": "stream",
     "text": [
      " 71%|███████   | 36/51 [25:57<10:51, 43.44s/it]"
     ]
    },
    {
     "name": "stdout",
     "output_type": "stream",
     "text": [
      "Compiling ContextCpu kernels...\n",
      "Done compiling ContextCpu kernels.\n"
     ]
    },
    {
     "name": "stderr",
     "output_type": "stream",
     "text": [
      " 73%|███████▎  | 37/51 [26:41<10:11, 43.66s/it]"
     ]
    },
    {
     "name": "stdout",
     "output_type": "stream",
     "text": [
      "Compiling ContextCpu kernels...\n",
      "Done compiling ContextCpu kernels.\n"
     ]
    },
    {
     "name": "stderr",
     "output_type": "stream",
     "text": [
      " 75%|███████▍  | 38/51 [27:22<09:18, 42.95s/it]"
     ]
    },
    {
     "name": "stdout",
     "output_type": "stream",
     "text": [
      "Compiling ContextCpu kernels...\n",
      "Done compiling ContextCpu kernels.\n"
     ]
    },
    {
     "name": "stderr",
     "output_type": "stream",
     "text": [
      " 76%|███████▋  | 39/51 [28:04<08:30, 42.57s/it]"
     ]
    },
    {
     "name": "stdout",
     "output_type": "stream",
     "text": [
      "Compiling ContextCpu kernels...\n",
      "Done compiling ContextCpu kernels.\n"
     ]
    },
    {
     "name": "stderr",
     "output_type": "stream",
     "text": [
      " 78%|███████▊  | 40/51 [28:46<07:45, 42.30s/it]"
     ]
    },
    {
     "name": "stdout",
     "output_type": "stream",
     "text": [
      "Compiling ContextCpu kernels...\n",
      "Done compiling ContextCpu kernels.\n"
     ]
    },
    {
     "name": "stderr",
     "output_type": "stream",
     "text": [
      " 80%|████████  | 41/51 [29:28<07:04, 42.42s/it]"
     ]
    },
    {
     "name": "stdout",
     "output_type": "stream",
     "text": [
      "Compiling ContextCpu kernels...\n",
      "Done compiling ContextCpu kernels.\n"
     ]
    },
    {
     "name": "stderr",
     "output_type": "stream",
     "text": [
      " 82%|████████▏ | 42/51 [30:12<06:24, 42.72s/it]"
     ]
    },
    {
     "name": "stdout",
     "output_type": "stream",
     "text": [
      "Compiling ContextCpu kernels...\n",
      "Done compiling ContextCpu kernels.\n"
     ]
    },
    {
     "name": "stderr",
     "output_type": "stream",
     "text": [
      " 84%|████████▍ | 43/51 [30:55<05:43, 42.95s/it]"
     ]
    },
    {
     "name": "stdout",
     "output_type": "stream",
     "text": [
      "Compiling ContextCpu kernels...\n",
      "Done compiling ContextCpu kernels.\n"
     ]
    },
    {
     "name": "stderr",
     "output_type": "stream",
     "text": [
      " 86%|████████▋ | 44/51 [31:39<05:02, 43.14s/it]"
     ]
    },
    {
     "name": "stdout",
     "output_type": "stream",
     "text": [
      "Compiling ContextCpu kernels...\n",
      "Done compiling ContextCpu kernels.\n"
     ]
    },
    {
     "name": "stderr",
     "output_type": "stream",
     "text": [
      " 88%|████████▊ | 45/51 [32:22<04:19, 43.20s/it]"
     ]
    },
    {
     "name": "stdout",
     "output_type": "stream",
     "text": [
      "Compiling ContextCpu kernels...\n",
      "Done compiling ContextCpu kernels.\n"
     ]
    },
    {
     "name": "stderr",
     "output_type": "stream",
     "text": [
      " 90%|█████████ | 46/51 [33:04<03:33, 42.75s/it]"
     ]
    },
    {
     "name": "stdout",
     "output_type": "stream",
     "text": [
      "Compiling ContextCpu kernels...\n",
      "Done compiling ContextCpu kernels.\n"
     ]
    },
    {
     "name": "stderr",
     "output_type": "stream",
     "text": [
      " 92%|█████████▏| 47/51 [33:46<02:50, 42.65s/it]"
     ]
    },
    {
     "name": "stdout",
     "output_type": "stream",
     "text": [
      "Compiling ContextCpu kernels...\n",
      "Done compiling ContextCpu kernels.\n"
     ]
    },
    {
     "name": "stderr",
     "output_type": "stream",
     "text": [
      " 94%|█████████▍| 48/51 [34:28<02:07, 42.41s/it]"
     ]
    },
    {
     "name": "stdout",
     "output_type": "stream",
     "text": [
      "Compiling ContextCpu kernels...\n",
      "Done compiling ContextCpu kernels.\n"
     ]
    },
    {
     "name": "stderr",
     "output_type": "stream",
     "text": [
      " 96%|█████████▌| 49/51 [35:11<01:25, 42.58s/it]"
     ]
    },
    {
     "name": "stdout",
     "output_type": "stream",
     "text": [
      "Compiling ContextCpu kernels...\n",
      "Done compiling ContextCpu kernels.\n"
     ]
    },
    {
     "name": "stderr",
     "output_type": "stream",
     "text": [
      " 98%|█████████▊| 50/51 [35:53<00:42, 42.37s/it]"
     ]
    },
    {
     "name": "stdout",
     "output_type": "stream",
     "text": [
      "Compiling ContextCpu kernels...\n",
      "Done compiling ContextCpu kernels.\n"
     ]
    },
    {
     "name": "stderr",
     "output_type": "stream",
     "text": [
      "100%|██████████| 51/51 [36:35<00:00, 43.05s/it]\n"
     ]
    }
   ],
   "source": [
    "data=np.load('H_angles/angles.npz')\n",
    "\n",
    "n_steps=data['n_steps']\n",
    "num_samples=data['num_samples']\n",
    "delay_list=data['delay_list']\n",
    "repeated_delay=data['repeated_delay']\n",
    "\n",
    "\n",
    "data = np.load('results/optimize_angles.npz')\n",
    "\n",
    "# Access the shifted_angles and filter_horizontal arrays\n",
    "shifted_angles = data['shifted_angles']\n",
    "filter_horizontal = data['filter_horizontal']\n",
    "\n",
    "\n",
    "sorted_unique_values = np.sort(np.unique(repeated_delay))\n",
    "second_min_nonzero_value = sorted_unique_values[1]\n",
    "simulation_time=(np.max(repeated_delay)-second_min_nonzero_value)/1000\n",
    "\n",
    "# angle_list=np.linspace(-40e-3,40e-3,50)\n",
    "\n",
    "final_emittance_x=[]\n",
    "final_emittance_x_normalised=[]\n",
    "sigma_x_list=[]\n",
    "\n",
    "final_emittance_y=[]\n",
    "final_emittance_y_normalised=[]\n",
    "sigma_y_list=[]\n",
    "\n",
    "# simulation parameters: simulate 10 s of cooling, and take data once every 10 ms\n",
    "max_time_s = 715*1e-3\n",
    "int_time_s = 0.01\n",
    "\n",
    "# compute length of simulation, as well as sample interval, in turns\n",
    "num_turns = int(max_time_s/T_per_turn)\n",
    "save_interval = int(int_time_s/T_per_turn)\n",
    "\n",
    "# num_turns=50000\n",
    "\n",
    "\n",
    "#plot some overall values\n",
    "\n",
    "arc = xt.LineSegmentMap(\n",
    "                qx=qx, qy=qx,\n",
    "                dqx=0, dqy=0,\n",
    "                length=circumference,\n",
    "                betx=beta_x,\n",
    "                bety=beta_y,\n",
    "                dx=D_x)\n",
    "\n",
    "beta_x_sem = 7.6 #m\n",
    "beta_y_sem = 1.3 #m\n",
    "\n",
    "\n",
    "\n",
    "for angle in tqdm(shifted_angles):\n",
    "\n",
    "        # data = np.load(f'results/angle_x/horizontal/ELENA_angle{angle}.npz')\n",
    "\n",
    "        # # Extract the data using the keys used when saving\n",
    "        # h_delay_unique = data['h_delay_unique']\n",
    "        # h_delay_unique_shifted = h_delay_unique[1:]\n",
    "        # h_delay_unique_shifted=h_delay_unique_shifted-h_delay_unique_shifted[0]\n",
    "\n",
    "        # means_h = data['means_h']\n",
    "        # initial_horizontal_emittance = means_h[1]*1e-6 # because first point was faulty\n",
    "        # means_sigma=data['means_sigma']\n",
    "\n",
    "        # data = np.load(f'results/angle_x/vertical/ELENA_angle{angle}.npz')\n",
    "        # means_v = data['means_v']        \n",
    "        # initial_vertical_emittance = means_v[1]*1e-6 # because first point was faulty\n",
    "        # # Define the whole machine\n",
    "        \n",
    "        electron_cooler = xt.ElectronCooler(\n",
    "                length=length,\n",
    "                radius_e_beam=radius_e_beam,\n",
    "                current=current,\n",
    "                temp_perp=temp_perp,\n",
    "                temp_long=temp_long,\n",
    "                magnetic_field=magnetic_field, \n",
    "                magnetic_field_ratio=1e-3,\n",
    "                offset_px=angle*1e-3,\n",
    "                space_charge=1)\n",
    "\n",
    "        # create a monitor object, to reduce holded data\n",
    "        monitor = xt.ParticlesMonitor(start_at_turn=0, stop_at_turn=1,\n",
    "                                n_repetitions=int(num_turns/save_interval),\n",
    "                                repetition_period=save_interval,\n",
    "                                num_particles=n_part)\n",
    "\n",
    "        line = xt.Line(\n",
    "                elements=[monitor, electron_cooler, arc])\n",
    "        line.particle_ref = particle_ref\n",
    "        context = xo.ContextCpu(omp_num_threads=6)\n",
    "        line.build_tracker(_context=context)\n",
    "\n",
    "        particles=particles_old.copy()\n",
    "\n",
    "        with open('part.json', 'r') as fid:\n",
    "                particles= xp.Particles.from_dict(json.load(fid), _context=context)\n",
    "\n",
    "        # just track all particles, and keep turn-by-turn data (memory expensive!)\n",
    "        line.track(particles, num_turns=num_turns,\n",
    "                turn_by_turn_monitor=False)\n",
    "\n",
    "        # extract relevant values\n",
    "        x = monitor.x[:,:,0]\n",
    "        px = monitor.px[:,:,0]\n",
    "        y = monitor.y[:,:,0]\n",
    "        py = monitor.py[:,:,0]\n",
    "        delta = monitor.delta[:,:,0]\n",
    "        zeta = monitor.zeta[:,:,0]\n",
    "        time = monitor.at_turn[:, 0, 0] * T_per_turn\n",
    "\n",
    "        # compute actions. for x, remove the dp/p contribution:\n",
    "        action_x = ((x-D_x*delta)**2/beta_x + beta_x*px**2)\n",
    "        # for y, simple compute:\n",
    "        action_y = (y**2/beta_y + beta_y*py**2)\n",
    "\n",
    "        # compute actions. for x, remove the dp/p contribution:\n",
    "        action_x2 = ((x)**2/beta_x + beta_x*px**2)\n",
    "        # for y, simple compute:\n",
    "        action_y2 = (y**2/beta_y + beta_y*py**2)\n",
    "\n",
    "        norm_emittance_x=np.mean(action_x,axis=1)/2*gamma_rel*beta_rel\n",
    "        norm_emittance_y=np.mean(action_y,axis=1)/2*gamma_rel*beta_rel\n",
    "\n",
    "        geo_emittance_x=np.mean(action_x,axis=1)/2\n",
    "        geo_emittance_y=np.mean(action_y,axis=1)/2\n",
    "\n",
    "        geo_emittance_x2=np.mean(action_x2,axis=1)/2\n",
    "\n",
    "\n",
    "        np.savez(f'results/optimize_angles/angle_{angle}.npz',\n",
    "                \n",
    "                geo_emittance_x2=geo_emittance_x2,\n",
    "                geo_emittance_x=geo_emittance_x,\n",
    "                geo_emittance_y=geo_emittance_y,\n",
    "                norm_emittance_x=norm_emittance_x,\n",
    "                norm_emittance_y=norm_emittance_y,\n",
    "                x=x,  \n",
    "                y=y,  \n",
    "                px=px,  \n",
    "                py=py,\n",
    "                delta=delta,\n",
    "                zeta=zeta,\n",
    "                time=time)  "
   ]
  },
  {
   "cell_type": "code",
   "execution_count": 41,
   "id": "7138c9b5",
   "metadata": {},
   "outputs": [
    {
     "data": {
      "text/plain": [
       "2.484341552125965e-06"
      ]
     },
     "execution_count": 41,
     "metadata": {},
     "output_type": "execute_result"
    }
   ],
   "source": [
    "geo_emittance_y[0]\n",
    "# geo_emittance_y[0]"
   ]
  }
 ],
 "metadata": {
  "kernelspec": {
   "display_name": "base",
   "language": "python",
   "name": "python3"
  },
  "language_info": {
   "codemirror_mode": {
    "name": "ipython",
    "version": 3
   },
   "file_extension": ".py",
   "mimetype": "text/x-python",
   "name": "python",
   "nbconvert_exporter": "python",
   "pygments_lexer": "ipython3",
   "version": "3.12.2"
  },
  "vscode": {
   "interpreter": {
    "hash": "b3c9a0a5475e728b39e61ac58d244ad936924f9cf82746515a9faeb1f1a0b703"
   }
  }
 },
 "nbformat": 4,
 "nbformat_minor": 5
}
