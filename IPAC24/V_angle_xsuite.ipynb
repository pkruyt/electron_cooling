{
 "cells": [
  {
   "cell_type": "code",
   "execution_count": 8,
   "id": "9bb243bb",
   "metadata": {},
   "outputs": [],
   "source": [
    "import numpy as np\n",
    "import xtrack as xt\n",
    "import xobjects as xo\n",
    "import xpart as xp\n",
    "import numpy as np\n",
    "import matplotlib.pyplot as plt"
   ]
  },
  {
   "cell_type": "code",
   "execution_count": 9,
   "id": "602a6bb4",
   "metadata": {},
   "outputs": [
    {
     "name": "stdout",
     "output_type": "stream",
     "text": [
      "Compiling ContextCpu kernels...\n",
      "Done compiling ContextCpu kernels.\n"
     ]
    },
    {
     "data": {
      "text/plain": [
       "<xtrack.tracker.Tracker at 0x7f726fcd1880>"
      ]
     },
     "execution_count": 9,
     "metadata": {},
     "output_type": "execute_result"
    }
   ],
   "source": [
    "#lattice parameters for ELENA at 100 keV\n",
    "# from https://acc-models.web.cern.ch/acc-models/elena/scenarios/highenergy/highenergy.tfs\n",
    "qx = 2.36168984503\n",
    "qy = 1.38992572490\n",
    "circumference = 30.40531277976 #m\n",
    "\n",
    "# relativistic factors\n",
    "gamma_rel = 1.0001066 # at 100 keV\n",
    "\n",
    "# optics at e-cooler (approximate), in m\n",
    "beta_x = 1.7\n",
    "beta_y = 2.7\n",
    "D_x = 1\n",
    "\n",
    "# electron cooler parameters\n",
    "current = 0.34*1e-3 # A current\n",
    "length = 1 # m cooler length\n",
    "radius_e_beam = 14*1e-3 #m radius of the electron beam\n",
    "temp_perp = 100e-3 # <E> [eV] = kb*T\n",
    "temp_long =  1e-3 # <E> [eV]\n",
    "magnetic_field = 0.010 # 100 Gauss in ELENA\n",
    "# idea is to study magnetic field imperfections\n",
    "magnetic_field_ratio_list = [0,5e-4,1e-3,5e-3] #Iterate over different values of the magnetic field quality to see effect on cooling performance.\n",
    "#magnetic_field_ratio is the ratio of transverse componenet of magnetic field and the longitudinal component. In the ideal case, the ratio is 0.\n",
    "\n",
    "# simulation parameters: simulate 10 s of cooling, and take data once every 10 ms\n",
    "max_time_s = 10\n",
    "int_time_s = 0.01\n",
    "\n",
    "qs=0.007718714437902285\n",
    "bets0=-469.32883416451523\n",
    "\n",
    "arc_matching = xt.LineSegmentMap(\n",
    "        qx=qx, qy=qy,\n",
    "        dqx=0, dqy=0,\n",
    "        length=circumference,\n",
    "        betx=beta_x,\n",
    "        bety=beta_y,\n",
    "        dx=D_x,\n",
    "        qs=qs,\n",
    "        bets=bets0)\n",
    "\n",
    "line_matching=xt.Line([arc_matching])\n",
    "line_matching.build_tracker()"
   ]
  },
  {
   "cell_type": "code",
   "execution_count": 10,
   "id": "588164be",
   "metadata": {},
   "outputs": [],
   "source": [
    "# some constants, and simple computations\n",
    "clight = 299792458.0\n",
    "mass0 = 938.27208816*1e6 #ev/c^2\n",
    "\n",
    "beta_rel = np.sqrt(gamma_rel**2 - 1)/gamma_rel\n",
    "p0c = mass0*beta_rel*gamma_rel #eV/c\n",
    "T_per_turn = circumference/(clight*beta_rel)\n",
    "\n",
    "particle_ref= xp.Particles(mass0=mass0, q0=1, p0c=p0c)\n",
    "\n",
    "\n",
    "line_matching.particle_ref = particle_ref\n",
    "\n",
    "beta_gamma = line_matching.particle_ref._beta0*line_matching.particle_ref._gamma0\n",
    "\n",
    "n_part = int(2e4)\n",
    "\n",
    "beta_x_sem = 7.6 #m\n",
    "beta_y_sem = 1.3 #m\n",
    "\n",
    "# create desired beam\n",
    "bunch_intensity = None\n",
    "sigma_dp = 1e-3\n",
    "sigma_z=-bets0*sigma_dp\n",
    "\n",
    "eps_x= 2.25*1e-6-((D_x*sigma_dp)**2/beta_x_sem)\n",
    "gemitt_x = 2.5*1e-6\n",
    "gemitt_y = 2.5*1e-6\n",
    "nemitt_x = gemitt_x*beta_gamma\n",
    "nemitt_y = gemitt_y*beta_gamma\n",
    "\n",
    "particles_old = xp.generate_matched_gaussian_bunch(\n",
    "        num_particles=n_part,\n",
    "        # total_intensity_particles=bunch_intensity,\n",
    "        nemitt_x=nemitt_x, nemitt_y=nemitt_y, sigma_z = 0.3284, # in m,\n",
    "        particle_ref=particle_ref ,\n",
    "        line=line_matching,        \n",
    ")\n",
    "\n",
    "# particles_old.delta = np.random.normal(0, sigma_dp, n_part)\n",
    "particles_old.zeta = np.random.uniform(-circumference/2, circumference/2, n_part)"
   ]
  },
  {
   "cell_type": "code",
   "execution_count": 11,
   "metadata": {},
   "outputs": [
    {
     "name": "stderr",
     "output_type": "stream",
     "text": [
      "  0%|          | 0/7 [00:00<?, ?it/s]"
     ]
    },
    {
     "name": "stdout",
     "output_type": "stream",
     "text": [
      "Compiling ContextCpu kernels...\n",
      "Done compiling ContextCpu kernels.\n"
     ]
    },
    {
     "name": "stderr",
     "output_type": "stream",
     "text": [
      " 14%|█▍        | 1/7 [04:17<25:46, 257.76s/it]"
     ]
    },
    {
     "name": "stdout",
     "output_type": "stream",
     "text": [
      "Compiling ContextCpu kernels...\n",
      "Done compiling ContextCpu kernels.\n"
     ]
    },
    {
     "name": "stderr",
     "output_type": "stream",
     "text": [
      " 29%|██▊       | 2/7 [08:32<21:20, 256.04s/it]"
     ]
    },
    {
     "name": "stdout",
     "output_type": "stream",
     "text": [
      "Compiling ContextCpu kernels...\n",
      "Done compiling ContextCpu kernels.\n"
     ]
    },
    {
     "name": "stderr",
     "output_type": "stream",
     "text": [
      " 43%|████▎     | 3/7 [12:34<16:39, 249.81s/it]"
     ]
    },
    {
     "name": "stdout",
     "output_type": "stream",
     "text": [
      "Compiling ContextCpu kernels...\n",
      "Done compiling ContextCpu kernels.\n"
     ]
    },
    {
     "name": "stderr",
     "output_type": "stream",
     "text": [
      " 57%|█████▋    | 4/7 [16:34<12:17, 245.73s/it]"
     ]
    },
    {
     "name": "stdout",
     "output_type": "stream",
     "text": [
      "Compiling ContextCpu kernels...\n",
      "Done compiling ContextCpu kernels.\n"
     ]
    },
    {
     "name": "stderr",
     "output_type": "stream",
     "text": [
      " 71%|███████▏  | 5/7 [20:35<08:07, 243.95s/it]"
     ]
    },
    {
     "name": "stdout",
     "output_type": "stream",
     "text": [
      "Compiling ContextCpu kernels...\n",
      "Done compiling ContextCpu kernels.\n"
     ]
    },
    {
     "name": "stderr",
     "output_type": "stream",
     "text": [
      " 86%|████████▌ | 6/7 [24:35<04:02, 242.74s/it]"
     ]
    },
    {
     "name": "stdout",
     "output_type": "stream",
     "text": [
      "Compiling ContextCpu kernels...\n",
      "Done compiling ContextCpu kernels.\n"
     ]
    },
    {
     "name": "stderr",
     "output_type": "stream",
     "text": [
      "100%|██████████| 7/7 [28:40<00:00, 245.72s/it]\n"
     ]
    }
   ],
   "source": [
    "from tqdm import tqdm\n",
    "\n",
    "\n",
    "data=np.load('V_angles/angles.npz')\n",
    "\n",
    "n_steps=data['n_steps']\n",
    "num_samples=data['num_samples']\n",
    "delay_list=data['delay_list']\n",
    "repeated_delay=data['repeated_delay']\n",
    "angles_list=data['angles_list']\n",
    "\n",
    "angles_list=[-3,-2,-1,0,1,2,3]\n",
    "\n",
    "sorted_unique_values = np.sort(np.unique(repeated_delay))\n",
    "second_min_nonzero_value = sorted_unique_values[1]\n",
    "simulation_time=(np.max(repeated_delay)-second_min_nonzero_value)/1000\n",
    "\n",
    "# angle_list=np.linspace(-40e-3,40e-3,50)\n",
    "\n",
    "final_emittance_x=[]\n",
    "final_emittance_x_normalised=[]\n",
    "sigma_x_list=[]\n",
    "\n",
    "final_emittance_y=[]\n",
    "final_emittance_y_normalised=[]\n",
    "sigma_y_list=[]\n",
    "\n",
    "# simulation parameters: simulate 10 s of cooling, and take data once every 10 ms\n",
    "max_time_s = simulation_time\n",
    "int_time_s = 0.01\n",
    "\n",
    "# compute length of simulation, as well as sample interval, in turns\n",
    "num_turns = int(max_time_s/T_per_turn)\n",
    "save_interval = int(int_time_s/T_per_turn)\n",
    "\n",
    "\n",
    "#plot some overall values\n",
    "\n",
    "arc = xt.LineSegmentMap(\n",
    "                qx=qx, qy=qx,\n",
    "                dqx=0, dqy=0,\n",
    "                length=circumference,\n",
    "                betx=beta_x,\n",
    "                bety=beta_y,\n",
    "                dx=D_x)\n",
    "\n",
    "\n",
    "\n",
    "for angle in tqdm(angles_list):\n",
    "\n",
    "        data = np.load(f'results/angle_y/horizontal/ELENA_angle{angle}.npz')\n",
    "\n",
    "        # Extract the data using the keys used when saving\n",
    "        h_delay_unique = data['h_delay_unique']\n",
    "        h_delay_unique_shifted = h_delay_unique[1:]\n",
    "        h_delay_unique_shifted=h_delay_unique_shifted-h_delay_unique_shifted[0]\n",
    "\n",
    "        means_h = data['means_h']\n",
    "        initial_horizontal_emittance = means_h[1] *1e-6 # because first point was faulty\n",
    "\n",
    "        data = np.load(f'results/angle_y/vertical/ELENA_angle{angle}.npz')\n",
    "        means_v = data['means_v']        \n",
    "        initial_vertical_emittance = means_v[1] *1e-6 # because first point was faulty\n",
    "        # Define the whole machine\n",
    "        \n",
    "        electron_cooler = xt.ElectronCooler(\n",
    "                length=length,\n",
    "                radius_e_beam=radius_e_beam,\n",
    "                current=current,\n",
    "                temp_perp=temp_perp,\n",
    "                temp_long=temp_long,\n",
    "                magnetic_field=magnetic_field, \n",
    "                magnetic_field_ratio=1e-3,\n",
    "                offset_py=angle*1e-3,\n",
    "                space_charge=1)\n",
    "\n",
    "        # create a monitor object, to reduce holded data\n",
    "        monitor = xt.ParticlesMonitor(start_at_turn=0, stop_at_turn=1,\n",
    "                                n_repetitions=int(num_turns/save_interval),\n",
    "                                repetition_period=save_interval,\n",
    "                                num_particles=n_part)\n",
    "\n",
    "        line = xt.Line(\n",
    "                elements=[monitor, electron_cooler, arc])\n",
    "        line.particle_ref = xp.Particles(mass0=mass0, q0=1, p0c=p0c)\n",
    "        context = xo.ContextCpu(omp_num_threads=4)\n",
    "        line.build_tracker(_context=context)\n",
    "\n",
    "        particles=particles_old.copy()\n",
    "\n",
    "        # just track all particles, and keep turn-by-turn data (memory expensive!)\n",
    "        line.track(particles, num_turns=num_turns,\n",
    "                turn_by_turn_monitor=False)\n",
    "\n",
    "        # extract relevant values\n",
    "        x = monitor.x[:,:,0]\n",
    "        px = monitor.px[:,:,0]\n",
    "        y = monitor.y[:,:,0]\n",
    "        py = monitor.py[:,:,0]\n",
    "        delta = monitor.delta[:,:,0]\n",
    "        zeta = monitor.zeta[:,:,0]\n",
    "        time = monitor.at_turn[:, 0, 0] * T_per_turn\n",
    "\n",
    "        # compute actions. for x, remove the dp/p contribution:\n",
    "        action_x = ((x-D_x*delta)**2/beta_x + beta_x*px**2)\n",
    "        # for y, simple compute:\n",
    "        action_y = (y**2/beta_y + beta_y*py**2)\n",
    "\n",
    "        norm_emittance_x=np.mean(action_x,axis=1)/2*gamma_rel*beta_rel\n",
    "        norm_emittance_y=np.mean(action_y,axis=1)/2*gamma_rel*beta_rel\n",
    "\n",
    "        geo_emittance_x=np.mean(action_x,axis=1)/2\n",
    "        geo_emittance_y=np.mean(action_y,axis=1)/2\n",
    "\n",
    "\n",
    "        np.savez(f'results/angle_y/angle_{angle}.npz',\n",
    "                \n",
    "                # emittance_x_twiss=emittance_x_twiss,\n",
    "                # emittance_y_twiss=emittance_y_twiss,\n",
    "                geo_emittance_x=geo_emittance_x,\n",
    "                geo_emittance_y=geo_emittance_y,\n",
    "                norm_emittance_x=norm_emittance_x,\n",
    "                norm_emittance_y=norm_emittance_y,\n",
    "                x=x,  \n",
    "                y=y,  \n",
    "                px=px,  \n",
    "                py=py,\n",
    "                delta=delta,\n",
    "                zeta=zeta,\n",
    "                time=time)  "
   ]
  },
  {
   "cell_type": "code",
   "execution_count": 12,
   "id": "cee31172",
   "metadata": {},
   "outputs": [
    {
     "data": {
      "text/plain": [
       "array([0.01460176])"
      ]
     },
     "execution_count": 12,
     "metadata": {},
     "output_type": "execute_result"
    }
   ],
   "source": [
    "beta_gamma"
   ]
  },
  {
   "cell_type": "code",
   "execution_count": 13,
   "id": "d3979780",
   "metadata": {},
   "outputs": [
    {
     "data": {
      "text/plain": [
       "2.4739628582582312e-06"
      ]
     },
     "execution_count": 13,
     "metadata": {},
     "output_type": "execute_result"
    }
   ],
   "source": [
    "geo_emittance_x[0]"
   ]
  }
 ],
 "metadata": {
  "kernelspec": {
   "display_name": "base",
   "language": "python",
   "name": "python3"
  },
  "language_info": {
   "codemirror_mode": {
    "name": "ipython",
    "version": 3
   },
   "file_extension": ".py",
   "mimetype": "text/x-python",
   "name": "python",
   "nbconvert_exporter": "python",
   "pygments_lexer": "ipython3",
   "version": "3.12.2"
  },
  "vscode": {
   "interpreter": {
    "hash": "b3c9a0a5475e728b39e61ac58d244ad936924f9cf82746515a9faeb1f1a0b703"
   }
  }
 },
 "nbformat": 4,
 "nbformat_minor": 5
}
