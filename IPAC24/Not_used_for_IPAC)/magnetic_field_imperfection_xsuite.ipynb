{
 "cells": [
  {
   "cell_type": "code",
   "execution_count": 10,
   "id": "9bb243bb",
   "metadata": {},
   "outputs": [],
   "source": [
    "import numpy as np\n",
    "import xtrack as xt\n",
    "import xobjects as xo\n",
    "import xpart as xp\n",
    "import numpy as np\n",
    "import matplotlib.pyplot as plt"
   ]
  },
  {
   "cell_type": "code",
   "execution_count": 11,
   "id": "602a6bb4",
   "metadata": {},
   "outputs": [
    {
     "name": "stdout",
     "output_type": "stream",
     "text": [
      "Compiling ContextCpu kernels...\n",
      "Done compiling ContextCpu kernels.\n"
     ]
    },
    {
     "data": {
      "text/plain": [
       "<xtrack.tracker.Tracker at 0x7f3da5a94650>"
      ]
     },
     "execution_count": 11,
     "metadata": {},
     "output_type": "execute_result"
    }
   ],
   "source": [
    "#lattice parameters for ELENA at 100 keV\n",
    "# from https://acc-models.web.cern.ch/acc-models/elena/scenarios/highenergy/highenergy.tfs\n",
    "qx = 2.36168984503\n",
    "qy = 1.38992572490\n",
    "circumference = 30.40531277976 #m\n",
    "\n",
    "# relativistic factors\n",
    "gamma_rel = 1.0001066 # at 100 keV\n",
    "\n",
    "# optics at e-cooler (approximate), in m\n",
    "beta_x = 1.7\n",
    "beta_y = 2.7\n",
    "D_x = 1\n",
    "\n",
    "# electron cooler parameters\n",
    "current = 0.001 # A current\n",
    "length = 1 # m cooler length\n",
    "radius_e_beam = 25*1e-3 #m radius of the electron beam\n",
    "temp_perp = 100e-3 # <E> [eV] = kb*T\n",
    "temp_long =  1e-3 # <E> [eV]\n",
    "magnetic_field = 0.010 # 100 Gauss in ELENA\n",
    "# idea is to study magnetic field imperfections\n",
    "magnetic_field_ratio_list = [0,5e-4,1e-3,5e-3] #Iterate over different values of the magnetic field quality to see effect on cooling performance.\n",
    "#magnetic_field_ratio is the ratio of transverse componenet of magnetic field and the longitudinal component. In the ideal case, the ratio is 0.\n",
    "\n",
    "# some initial beam parameters\n",
    "emittance = 5e-6\n",
    "dp_p = 2e-3 \n",
    "\n",
    "# simulation parameters: simulate 10 s of cooling, and take data once every 10 ms\n",
    "max_time_s = 10\n",
    "int_time_s = 0.01\n",
    "\n",
    "qs=0.007718714437902285\n",
    "bets0=-469.32883416451523\n",
    "\n",
    "arc_matching = xt.LineSegmentMap(\n",
    "        qx=qx, qy=qy,\n",
    "        dqx=0, dqy=0,\n",
    "        length=circumference,\n",
    "        betx=beta_x,\n",
    "        bety=beta_y,\n",
    "        dx=0,\n",
    "        qs=qs,\n",
    "        bets=bets0)\n",
    "\n",
    "line_matching=xt.Line([arc_matching])\n",
    "line_matching.build_tracker()"
   ]
  },
  {
   "cell_type": "code",
   "execution_count": 12,
   "id": "588164be",
   "metadata": {},
   "outputs": [],
   "source": [
    "# some constants, and simple computations\n",
    "clight = 299792458.0\n",
    "mass0 = 938.27208816*1e6 #ev/c^2\n",
    "\n",
    "beta_rel = np.sqrt(gamma_rel**2 - 1)/gamma_rel\n",
    "p0c = mass0*beta_rel*gamma_rel #eV/c\n",
    "T_per_turn = circumference/(clight*beta_rel)\n",
    "\n",
    "# compute length of simulation, as well as sample interval, in turns\n",
    "num_turns = int(max_time_s/T_per_turn)\n",
    "save_interval = int(int_time_s/T_per_turn)\n",
    "\n",
    "# # compute initial beam parameters\n",
    "# x_init = np.sqrt(beta_x*emittance)\n",
    "# y_init = np.sqrt(beta_y*emittance)\n"
   ]
  },
  {
   "cell_type": "code",
   "execution_count": 13,
   "metadata": {},
   "outputs": [
    {
     "name": "stderr",
     "output_type": "stream",
     "text": [
      "  0%|          | 0/4 [00:00<?, ?it/s]"
     ]
    },
    {
     "name": "stdout",
     "output_type": "stream",
     "text": [
      "Compiling ContextCpu kernels...\n",
      "Done compiling ContextCpu kernels.\n"
     ]
    },
    {
     "name": "stderr",
     "output_type": "stream",
     "text": [
      " 25%|██▌       | 1/4 [01:39<04:57, 99.24s/it]"
     ]
    },
    {
     "name": "stdout",
     "output_type": "stream",
     "text": [
      "Compiling ContextCpu kernels...\n",
      "Done compiling ContextCpu kernels.\n"
     ]
    },
    {
     "name": "stderr",
     "output_type": "stream",
     "text": [
      " 50%|█████     | 2/4 [03:13<03:13, 96.55s/it]"
     ]
    },
    {
     "name": "stdout",
     "output_type": "stream",
     "text": [
      "Compiling ContextCpu kernels...\n",
      "Done compiling ContextCpu kernels.\n"
     ]
    },
    {
     "name": "stderr",
     "output_type": "stream",
     "text": [
      " 75%|███████▌  | 3/4 [04:51<01:36, 96.96s/it]"
     ]
    },
    {
     "name": "stdout",
     "output_type": "stream",
     "text": [
      "Compiling ContextCpu kernels...\n",
      "Done compiling ContextCpu kernels.\n"
     ]
    },
    {
     "name": "stderr",
     "output_type": "stream",
     "text": [
      "100%|██████████| 4/4 [06:28<00:00, 97.15s/it]\n"
     ]
    }
   ],
   "source": [
    "from tqdm import tqdm\n",
    "\n",
    "n_part = 10000\n",
    "\n",
    "data=np.load('H_bumps/bumps.npz')\n",
    "\n",
    "n_steps=data['n_steps']\n",
    "num_samples=data['num_samples']\n",
    "delay_list=data['delay_list']\n",
    "repeated_delay=data['repeated_delay']\n",
    "bumps_list=data['bumps_list']\n",
    "\n",
    "\n",
    "min_nonzero_value = np.min(repeated_delay[repeated_delay != 0])\n",
    "simulation_time=(np.max(repeated_delay)-min_nonzero_value)/1000\n",
    "\n",
    "# bump_list=np.linspace(-40e-3,40e-3,50)\n",
    "\n",
    "final_emittance_x=[]\n",
    "final_emittance_x_normalised=[]\n",
    "sigma_x_list=[]\n",
    "\n",
    "final_emittance_y=[]\n",
    "final_emittance_y_normalised=[]\n",
    "sigma_y_list=[]\n",
    "\n",
    "# simulation parameters: simulate 10 s of cooling, and take data once every 10 ms\n",
    "max_time_s = simulation_time\n",
    "int_time_s = 0.01\n",
    "\n",
    "# compute length of simulation, as well as sample interval, in turns\n",
    "num_turns = int(max_time_s/T_per_turn)\n",
    "save_interval = int(int_time_s/T_per_turn)\n",
    "\n",
    "\n",
    "#plot some overall values\n",
    "\n",
    "arc = xt.LineSegmentMap(\n",
    "                qx=qx, qy=qx,\n",
    "                dqx=0, dqy=0,\n",
    "                length=circumference,\n",
    "                betx=beta_x,\n",
    "                bety=beta_y,\n",
    "                dx=D_x)\n",
    "\n",
    "\n",
    "for magnetic_ratio in tqdm(magnetic_field_ratio_list):\n",
    "        # Define the whole machine\n",
    "        \n",
    "        electron_cooler = xt.ElectronCooler(\n",
    "                length=length,\n",
    "                radius_e_beam=radius_e_beam,\n",
    "                current=current,\n",
    "                temp_perp=temp_perp,\n",
    "                temp_long=temp_long,\n",
    "                magnetic_field=magnetic_field, \n",
    "                magnetic_field_ratio=magnetic_ratio,\n",
    "                space_charge=1)\n",
    "\n",
    "        # create a monitor object, to reduce holded data\n",
    "        monitor = xt.ParticlesMonitor(start_at_turn=0, stop_at_turn=1,\n",
    "                                n_repetitions=int(num_turns/save_interval),\n",
    "                                repetition_period=save_interval,\n",
    "                                num_particles=n_part)\n",
    "\n",
    "        line = xt.Line(\n",
    "                elements=[monitor, electron_cooler, arc])\n",
    "        line.particle_ref = xp.Particles(mass0=mass0, q0=1, p0c=p0c)\n",
    "        context = xo.ContextCpu(omp_num_threads=6)\n",
    "        line.build_tracker(_context=context)\n",
    "\n",
    "        # create desired beam\n",
    "        bunch_intensity = None\n",
    "        beta_gamma = line.particle_ref._beta0*line.particle_ref._gamma0\n",
    "        gemitt_x = 10e-6\n",
    "        gemitt_y = 5e-6\n",
    "        nemitt_x = gemitt_x*beta_gamma\n",
    "        nemitt_y = gemitt_y*beta_gamma\n",
    "        sigma_dp = 1e-3\n",
    "        # particles = xp.generate_matched_gaussian_bunch(\n",
    "        #         num_particles=n_part, total_intensity_particles=bunch_intensity,\n",
    "        #         nemitt_x=nemitt_x, nemitt_y=nemitt_y, sigma_dp=sigma_dp,\n",
    "        #         coasting=True,\n",
    "        #         line=line)\n",
    "\n",
    "        particles = xp.generate_matched_gaussian_bunch(\n",
    "                num_particles=n_part,\n",
    "                # total_intensity_particles=bunch_intensity,\n",
    "                nemitt_x=nemitt_x, nemitt_y=nemitt_y, sigma_z = 0.3284, # in m,\n",
    "                particle_ref=line.particle_ref ,\n",
    "                line=line_matching,        \n",
    "        )\n",
    "\n",
    "        sigma_x = np.sqrt(beta_x*emittance)\n",
    "        sigma_px = np.sqrt(emittance*1/beta_x)\n",
    "        sigma_y = np.sqrt(beta_y*emittance)\n",
    "        sigma_py = np.sqrt(emittance*1/beta_y)\n",
    "        sigma_p = 5e-3\n",
    "\n",
    "        delta = np.random.uniform(-sigma_dp,sigma_dp,n_part)\n",
    "        # x = np.random.normal(loc=0.0, scale=sigma_x, size=n_part) + D_x * delta\n",
    "        # px = np.random.normal(loc=0.0, scale=sigma_px, size=n_part)\n",
    "        # y = np.random.normal(loc=0.0, scale=sigma_y, size=n_part)\n",
    "        # py = np.random.normal(loc=0.0, scale=sigma_py, size=n_part)\n",
    "\n",
    "        # particles = xp.Particles(\n",
    "        # mass0=mass0,\n",
    "        # p0c=p0c,\n",
    "        # q0=1,\n",
    "        # x=x,\n",
    "        # px=px,\n",
    "        # y=y,\n",
    "        # py=py,\n",
    "        # delta=delta,\n",
    "        # zeta=0\n",
    "        # )\n",
    "\n",
    "        particles.zeta = np.random.uniform(-circumference/2, circumference/2, n_part)\n",
    "\n",
    "        # just track all particles, and keep turn-by-turn data (memory expensive!)\n",
    "        line.track(particles, num_turns=num_turns,\n",
    "                turn_by_turn_monitor=False)\n",
    "\n",
    "        # extract relevant values\n",
    "        x = monitor.x[:,:,0]\n",
    "        px = monitor.px[:,:,0]\n",
    "        y = monitor.y[:,:,0]\n",
    "        py = monitor.py[:,:,0]\n",
    "        delta = monitor.delta[:,:,0]\n",
    "        zeta = monitor.zeta[:,:,0]\n",
    "        time = monitor.at_turn[:, 0, 0] * T_per_turn\n",
    "\n",
    "        # compute actions. for x, remove the dp/p contribution:\n",
    "        action_x = ((x-D_x*delta)**2/beta_x + beta_x*px**2)\n",
    "        # for y, simple compute:\n",
    "        action_y = (y**2/beta_y + beta_y*py**2)\n",
    "\n",
    "        norm_emittance_x=np.mean(action_x,axis=1)/2*gamma_rel*beta_rel\n",
    "        norm_emittance_y=np.mean(action_y,axis=1)/2*gamma_rel*beta_rel\n",
    "\n",
    "        geo_emittance_x=np.mean(action_x,axis=1)/2\n",
    "        geo_emittance_y=np.mean(action_y,axis=1)/2\n",
    "\n",
    "\n",
    "        np.savez(f'results/magnetic_field_imperfection/magnetic_ratio_{magnetic_ratio}.npz',\n",
    "                \n",
    "                # emittance_x_twiss=emittance_x_twiss,\n",
    "                # emittance_y_twiss=emittance_y_twiss,\n",
    "                geo_emittance_x=geo_emittance_x,\n",
    "                geo_emittance_y=geo_emittance_y,\n",
    "                norm_emittance_x=norm_emittance_x,\n",
    "                norm_emittance_y=norm_emittance_y,\n",
    "                x=x,  \n",
    "                y=y,  \n",
    "                px=px, \n",
    "                py=py,\n",
    "                delta=delta,\n",
    "                zeta=zeta,\n",
    "                time=time)  "
   ]
  },
  {
   "cell_type": "code",
   "execution_count": 14,
   "id": "cee31172",
   "metadata": {},
   "outputs": [
    {
     "data": {
      "text/plain": [
       "array([0.01460176])"
      ]
     },
     "execution_count": 14,
     "metadata": {},
     "output_type": "execute_result"
    }
   ],
   "source": [
    "beta_gamma"
   ]
  }
 ],
 "metadata": {
  "kernelspec": {
   "display_name": "base",
   "language": "python",
   "name": "python3"
  },
  "language_info": {
   "codemirror_mode": {
    "name": "ipython",
    "version": 3
   },
   "file_extension": ".py",
   "mimetype": "text/x-python",
   "name": "python",
   "nbconvert_exporter": "python",
   "pygments_lexer": "ipython3",
   "version": "3.11.3"
  },
  "vscode": {
   "interpreter": {
    "hash": "b3c9a0a5475e728b39e61ac58d244ad936924f9cf82746515a9faeb1f1a0b703"
   }
  }
 },
 "nbformat": 4,
 "nbformat_minor": 5
}
