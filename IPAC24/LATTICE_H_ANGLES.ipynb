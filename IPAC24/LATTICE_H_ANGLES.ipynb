{
 "cells": [
  {
   "cell_type": "code",
   "execution_count": 34,
   "metadata": {},
   "outputs": [],
   "source": [
    "# copyright ############################### #\n",
    "# This file is part of the Xtrack Package.  #\n",
    "# Copyright (c) CERN, 2021.                 #\n",
    "# ######################################### #\n",
    "\n",
    "import xtrack as xt\n",
    "import xobjects as xo\n",
    "import xpart as xp\n",
    "import ducktrack as dtk\n",
    "import numpy as np\n",
    "import matplotlib.pyplot as plt\n",
    "from tqdm import tqdm\n",
    "from scipy import constants \n",
    "\n"
   ]
  },
  {
   "cell_type": "code",
   "execution_count": 35,
   "metadata": {},
   "outputs": [
    {
     "name": "stderr",
     "output_type": "stream",
     "text": [
      "Loading line from dict:   0%|          | 0/1336 [00:00<?, ?it/s]"
     ]
    },
    {
     "name": "stderr",
     "output_type": "stream",
     "text": [
      "Loading line from dict: 100%|██████████| 1336/1336 [00:00<00:00, 23474.07it/s]\n"
     ]
    },
    {
     "name": "stdout",
     "output_type": "stream",
     "text": [
      "Done loading line from dict.           \n",
      "Compiling ContextCpu kernels...\n",
      "Done compiling ContextCpu kernels.\n"
     ]
    }
   ],
   "source": [
    "line = xt.Line.from_json('elena.json')\n",
    "particle_ref = line.particle_ref\n",
    "line.build_tracker()\n",
    "twiss = line.twiss()\n",
    "\n",
    "beta0=particle_ref.beta0\n",
    "gamma0 = particle_ref.gamma0\n",
    "circumference = twiss.circumference #m\n",
    "\n",
    "clight=constants.speed_of_light\n",
    "T_per_turn = circumference/(clight*beta0)"
   ]
  },
  {
   "cell_type": "code",
   "execution_count": 36,
   "metadata": {},
   "outputs": [
    {
     "data": {
      "text/plain": [
       "-469.32883416451523"
      ]
     },
     "execution_count": 36,
     "metadata": {},
     "output_type": "execute_result"
    }
   ],
   "source": [
    "twiss.keys()\n",
    "twiss.bets0"
   ]
  },
  {
   "cell_type": "code",
   "execution_count": 37,
   "metadata": {},
   "outputs": [
    {
     "name": "stdout",
     "output_type": "stream",
     "text": [
      "sigma_z 0.46932883416451526\n"
     ]
    }
   ],
   "source": [
    "num_particles=int(1e4)\n",
    "\n",
    "beta_x_sem = 7.6 #m\n",
    "beta_y_sem = 1.3 #m\n",
    "\n",
    "#bunch_length=75*1e-9*clight #https://cds.cern.ch/record/2845870/files/document.pdf\n",
    "bunch_intensity=5e7\n",
    "sigma_dp = 1e-3\n",
    "sigma_z=-twiss.bets0*sigma_dp\n",
    "\n",
    "print('sigma_z',sigma_z)\n",
    "\n",
    "# eps_x= 2.25*1e-6-(D_x*sigma_dp)**2/beta_x_sem\n",
    "# eps_x= 2.25*1e-6\n",
    "\n",
    "gemitt_x = 2.5*1e-6\n",
    "gemitt_y = 2.5*1e-6\n",
    "nemitt_x = gemitt_x*beta0*gamma0\n",
    "nemitt_y = gemitt_y*beta0*gamma0\n",
    "\n",
    "particles_old = xp.generate_matched_gaussian_bunch(\n",
    "        num_particles=num_particles,\n",
    "        # total_intensity_particles=bunch_intensity,\n",
    "        nemitt_x=nemitt_x, nemitt_y=nemitt_y, sigma_z=sigma_z,\n",
    "        particle_ref=particle_ref,\n",
    "        line=line,        \n",
    "        )\n",
    "\n",
    "#particles_old.delta = np.random.normal(0, sigma_dp, num_particles)\n",
    "particles_old.zeta = np.random.uniform(-circumference/2, circumference/2, num_particles)\n"
   ]
  },
  {
   "cell_type": "code",
   "execution_count": 38,
   "metadata": {},
   "outputs": [
    {
     "data": {
      "text/plain": [
       "LinkedArrayCpu(0.00099172)"
      ]
     },
     "execution_count": 38,
     "metadata": {},
     "output_type": "execute_result"
    }
   ],
   "source": [
    "np.std(particles_old.delta)"
   ]
  },
  {
   "cell_type": "code",
   "execution_count": 39,
   "metadata": {},
   "outputs": [
    {
     "name": "stderr",
     "output_type": "stream",
     "text": [
      "  0%|          | 0/7 [00:00<?, ?it/s]"
     ]
    },
    {
     "name": "stdout",
     "output_type": "stream",
     "text": [
      "angle: -3\n"
     ]
    },
    {
     "name": "stderr",
     "output_type": "stream",
     "text": [
      "Loading line from dict: 100%|██████████| 1336/1336 [00:00<00:00, 14960.42it/s]\n"
     ]
    },
    {
     "name": "stdout",
     "output_type": "stream",
     "text": [
      "Done loading line from dict.           \n",
      "Compiling ContextCpu kernels...\n",
      "Done compiling ContextCpu kernels.\n"
     ]
    },
    {
     "name": "stderr",
     "output_type": "stream",
     "text": [
      "/tmp/pkruyt/ipykernel_386248/1336707003.py:51: DeprecationWarning: Conversion of an array with ndim > 0 to a scalar is deprecated, and will error in future. Ensure you extract a single element from your array before performing this operation. (Deprecated NumPy 1.25.)\n",
      "  num_turns = int(max_time_s/T_per_turn)\n",
      "/tmp/pkruyt/ipykernel_386248/1336707003.py:52: DeprecationWarning: Conversion of an array with ndim > 0 to a scalar is deprecated, and will error in future. Ensure you extract a single element from your array before performing this operation. (Deprecated NumPy 1.25.)\n",
      "  save_interval = int(int_time_s/T_per_turn)\n"
     ]
    },
    {
     "name": "stdout",
     "output_type": "stream",
     "text": [
      "Compiling ContextCpu kernels...\n",
      "Done compiling ContextCpu kernels.\n",
      "Disable xdeps expressions\n",
      "Replance slices with equivalent elements\n",
      "Remove markers\n",
      "Remove inactive multipoles\n",
      "Merge consecutive multipoles\n",
      "Remove redundant apertures\n",
      "Remove zero length drifts\n",
      "Merge consecutive drifts\n",
      "Use simple bends\n",
      "Use simple quadrupoles\n",
      "Rebuild tracker data\n",
      "Compiling ContextCpu kernels...\n",
      "Done compiling ContextCpu kernels.\n",
      "All cavities switched off.\n"
     ]
    },
    {
     "name": "stderr",
     "output_type": "stream",
     "text": [
      "Tracking:  90%|████████▉ | 225600/251900 [21:31<02:30, 174.70it/s]\n",
      "  0%|          | 0/7 [21:51<?, ?it/s]\n"
     ]
    },
    {
     "ename": "KeyboardInterrupt",
     "evalue": "",
     "output_type": "error",
     "traceback": [
      "\u001b[0;31m---------------------------------------------------------------------------\u001b[0m",
      "\u001b[0;31mKeyboardInterrupt\u001b[0m                         Traceback (most recent call last)",
      "Cell \u001b[0;32mIn[39], line 101\u001b[0m\n\u001b[1;32m     98\u001b[0m particles\u001b[38;5;241m=\u001b[39mparticles_old\u001b[38;5;241m.\u001b[39mcopy()\n\u001b[1;32m    100\u001b[0m \u001b[38;5;66;03m# just track all particles, and keep turn-by-turn data (memory expensive!)\u001b[39;00m\n\u001b[0;32m--> 101\u001b[0m \u001b[43mline\u001b[49m\u001b[38;5;241;43m.\u001b[39;49m\u001b[43mtrack\u001b[49m\u001b[43m(\u001b[49m\u001b[43mparticles\u001b[49m\u001b[43m,\u001b[49m\u001b[43m \u001b[49m\u001b[43mnum_turns\u001b[49m\u001b[38;5;241;43m=\u001b[39;49m\u001b[43mnum_turns\u001b[49m\u001b[43m,\u001b[49m\n\u001b[1;32m    102\u001b[0m \u001b[43m        \u001b[49m\u001b[43mturn_by_turn_monitor\u001b[49m\u001b[38;5;241;43m=\u001b[39;49m\u001b[38;5;28;43;01mFalse\u001b[39;49;00m\u001b[43m,\u001b[49m\u001b[43mwith_progress\u001b[49m\u001b[38;5;241;43m=\u001b[39;49m\u001b[38;5;28;43;01mTrue\u001b[39;49;00m\u001b[43m)\u001b[49m\n\u001b[1;32m    104\u001b[0m \u001b[38;5;66;03m# extract relevant values\u001b[39;00m\n\u001b[1;32m    105\u001b[0m x \u001b[38;5;241m=\u001b[39m monitor\u001b[38;5;241m.\u001b[39mx[:,:,\u001b[38;5;241m0\u001b[39m]\n",
      "File \u001b[0;32m~/cernbox/xsuite_update/xtrack/xtrack/line.py:904\u001b[0m, in \u001b[0;36mLine.track\u001b[0;34m(self, particles, ele_start, ele_stop, num_elements, num_turns, turn_by_turn_monitor, freeze_longitudinal, time, with_progress, **kwargs)\u001b[0m\n\u001b[1;32m    861\u001b[0m \u001b[38;5;250m\u001b[39m\u001b[38;5;124;03m\"\"\"\u001b[39;00m\n\u001b[1;32m    862\u001b[0m \u001b[38;5;124;03mTrack particles through the line.\u001b[39;00m\n\u001b[1;32m    863\u001b[0m \n\u001b[0;32m   (...)\u001b[0m\n\u001b[1;32m    900\u001b[0m \u001b[38;5;124;03m    equals to False and no progress bar is displayed.\u001b[39;00m\n\u001b[1;32m    901\u001b[0m \u001b[38;5;124;03m\"\"\"\u001b[39;00m\n\u001b[1;32m    903\u001b[0m \u001b[38;5;28mself\u001b[39m\u001b[38;5;241m.\u001b[39m_check_valid_tracker()\n\u001b[0;32m--> 904\u001b[0m \u001b[38;5;28;01mreturn\u001b[39;00m \u001b[38;5;28;43mself\u001b[39;49m\u001b[38;5;241;43m.\u001b[39;49m\u001b[43mtracker\u001b[49m\u001b[38;5;241;43m.\u001b[39;49m\u001b[43m_track\u001b[49m\u001b[43m(\u001b[49m\n\u001b[1;32m    905\u001b[0m \u001b[43m    \u001b[49m\u001b[43mparticles\u001b[49m\u001b[43m,\u001b[49m\n\u001b[1;32m    906\u001b[0m \u001b[43m    \u001b[49m\u001b[43mele_start\u001b[49m\u001b[38;5;241;43m=\u001b[39;49m\u001b[43mele_start\u001b[49m\u001b[43m,\u001b[49m\n\u001b[1;32m    907\u001b[0m \u001b[43m    \u001b[49m\u001b[43mele_stop\u001b[49m\u001b[38;5;241;43m=\u001b[39;49m\u001b[43mele_stop\u001b[49m\u001b[43m,\u001b[49m\n\u001b[1;32m    908\u001b[0m \u001b[43m    \u001b[49m\u001b[43mnum_elements\u001b[49m\u001b[38;5;241;43m=\u001b[39;49m\u001b[43mnum_elements\u001b[49m\u001b[43m,\u001b[49m\n\u001b[1;32m    909\u001b[0m \u001b[43m    \u001b[49m\u001b[43mnum_turns\u001b[49m\u001b[38;5;241;43m=\u001b[39;49m\u001b[43mnum_turns\u001b[49m\u001b[43m,\u001b[49m\n\u001b[1;32m    910\u001b[0m \u001b[43m    \u001b[49m\u001b[43mturn_by_turn_monitor\u001b[49m\u001b[38;5;241;43m=\u001b[39;49m\u001b[43mturn_by_turn_monitor\u001b[49m\u001b[43m,\u001b[49m\n\u001b[1;32m    911\u001b[0m \u001b[43m    \u001b[49m\u001b[43mfreeze_longitudinal\u001b[49m\u001b[38;5;241;43m=\u001b[39;49m\u001b[43mfreeze_longitudinal\u001b[49m\u001b[43m,\u001b[49m\n\u001b[1;32m    912\u001b[0m \u001b[43m    \u001b[49m\u001b[43mtime\u001b[49m\u001b[38;5;241;43m=\u001b[39;49m\u001b[43mtime\u001b[49m\u001b[43m,\u001b[49m\n\u001b[1;32m    913\u001b[0m \u001b[43m    \u001b[49m\u001b[43mwith_progress\u001b[49m\u001b[38;5;241;43m=\u001b[39;49m\u001b[43mwith_progress\u001b[49m\u001b[43m,\u001b[49m\n\u001b[1;32m    914\u001b[0m \u001b[43m    \u001b[49m\u001b[38;5;241;43m*\u001b[39;49m\u001b[38;5;241;43m*\u001b[39;49m\u001b[43mkwargs\u001b[49m\u001b[43m)\u001b[49m\n",
      "File \u001b[0;32m~/cernbox/xsuite_update/xtrack/xtrack/tracker.py:368\u001b[0m, in \u001b[0;36mTracker._track\u001b[0;34m(self, particles, with_progress, time, *args, **kwargs)\u001b[0m\n\u001b[1;32m    365\u001b[0m             one_turn_kwargs[\u001b[38;5;124m'\u001b[39m\u001b[38;5;124mele_stop\u001b[39m\u001b[38;5;124m'\u001b[39m] \u001b[38;5;241m=\u001b[39m \u001b[38;5;28;01mNone\u001b[39;00m\n\u001b[1;32m    366\u001b[0m             one_turn_kwargs[\u001b[38;5;124m'\u001b[39m\u001b[38;5;124m_reset_log\u001b[39m\u001b[38;5;124m'\u001b[39m] \u001b[38;5;241m=\u001b[39m \u001b[38;5;28;01mFalse\u001b[39;00m\n\u001b[0;32m--> 368\u001b[0m         \u001b[43mtracking_func\u001b[49m\u001b[43m(\u001b[49m\u001b[43mparticles\u001b[49m\u001b[43m,\u001b[49m\u001b[43m \u001b[49m\u001b[38;5;241;43m*\u001b[39;49m\u001b[43margs\u001b[49m\u001b[43m,\u001b[49m\u001b[43m \u001b[49m\u001b[38;5;241;43m*\u001b[39;49m\u001b[38;5;241;43m*\u001b[39;49m\u001b[43mone_turn_kwargs\u001b[49m\u001b[43m)\u001b[49m\n\u001b[1;32m    369\u001b[0m         \u001b[38;5;66;03m# particles.reorganize() # could be done in the future to optimize GPU usage\u001b[39;00m\n\u001b[1;32m    370\u001b[0m \u001b[38;5;28;01melse\u001b[39;00m:\n\u001b[1;32m    371\u001b[0m     out \u001b[38;5;241m=\u001b[39m tracking_func(particles, \u001b[38;5;241m*\u001b[39margs, \u001b[38;5;241m*\u001b[39m\u001b[38;5;241m*\u001b[39mkwargs)\n",
      "File \u001b[0;32m~/cernbox/xsuite_update/xtrack/xtrack/tracker.py:1280\u001b[0m, in \u001b[0;36mTracker._track_no_collective\u001b[0;34m(self, particles, ele_start, ele_stop, num_elements, num_turns, turn_by_turn_monitor, freeze_longitudinal, backtrack, log, _force_no_end_turn_actions, _reset_log)\u001b[0m\n\u001b[1;32m   1278\u001b[0m \u001b[38;5;28;01mif\u001b[39;00m num_middle_turns \u001b[38;5;241m>\u001b[39m \u001b[38;5;241m0\u001b[39m:\n\u001b[1;32m   1279\u001b[0m     \u001b[38;5;28;01massert\u001b[39;00m \u001b[38;5;28mself\u001b[39m\u001b[38;5;241m.\u001b[39mnum_elements \u001b[38;5;241m>\u001b[39m \u001b[38;5;241m0\u001b[39m\n\u001b[0;32m-> 1280\u001b[0m     \u001b[43mtrack_kernel\u001b[49m\u001b[43m(\u001b[49m\n\u001b[1;32m   1281\u001b[0m \u001b[43m        \u001b[49m\u001b[43mbuffer\u001b[49m\u001b[38;5;241;43m=\u001b[39;49m\u001b[43mtracker_data\u001b[49m\u001b[38;5;241;43m.\u001b[39;49m\u001b[43m_buffer\u001b[49m\u001b[38;5;241;43m.\u001b[39;49m\u001b[43mbuffer\u001b[49m\u001b[43m,\u001b[49m\n\u001b[1;32m   1282\u001b[0m \u001b[43m        \u001b[49m\u001b[43mtracker_data\u001b[49m\u001b[38;5;241;43m=\u001b[39;49m\u001b[43mtracker_data\u001b[49m\u001b[38;5;241;43m.\u001b[39;49m\u001b[43m_element_ref_data\u001b[49m\u001b[43m,\u001b[49m\n\u001b[1;32m   1283\u001b[0m \u001b[43m        \u001b[49m\u001b[43mparticles\u001b[49m\u001b[38;5;241;43m=\u001b[39;49m\u001b[43mparticles\u001b[49m\u001b[38;5;241;43m.\u001b[39;49m\u001b[43m_xobject\u001b[49m\u001b[43m,\u001b[49m\n\u001b[1;32m   1284\u001b[0m \u001b[43m        \u001b[49m\u001b[43mnum_turns\u001b[49m\u001b[38;5;241;43m=\u001b[39;49m\u001b[43mnum_middle_turns\u001b[49m\u001b[43m,\u001b[49m\n\u001b[1;32m   1285\u001b[0m \u001b[43m        \u001b[49m\u001b[43mele_start\u001b[49m\u001b[38;5;241;43m=\u001b[39;49m\u001b[38;5;241;43m0\u001b[39;49m\u001b[43m,\u001b[49m\u001b[43m \u001b[49m\u001b[38;5;66;43;03m# always full turn\u001b[39;49;00m\n\u001b[1;32m   1286\u001b[0m \u001b[43m        \u001b[49m\u001b[43mnum_ele_track\u001b[49m\u001b[38;5;241;43m=\u001b[39;49m\u001b[38;5;28;43mself\u001b[39;49m\u001b[38;5;241;43m.\u001b[39;49m\u001b[43mnum_elements\u001b[49m\u001b[43m,\u001b[49m\u001b[43m \u001b[49m\u001b[38;5;66;43;03m# always full turn\u001b[39;49;00m\n\u001b[1;32m   1287\u001b[0m \u001b[43m        \u001b[49m\u001b[43mflag_end_turn_actions\u001b[49m\u001b[38;5;241;43m=\u001b[39;49m\u001b[43mflag_end_middle_turn_actions\u001b[49m\u001b[43m,\u001b[49m\n\u001b[1;32m   1288\u001b[0m \u001b[43m        \u001b[49m\u001b[43mflag_reset_s_at_end_turn\u001b[49m\u001b[38;5;241;43m=\u001b[39;49m\u001b[38;5;28;43mself\u001b[39;49m\u001b[38;5;241;43m.\u001b[39;49m\u001b[43mreset_s_at_end_turn\u001b[49m\u001b[43m,\u001b[49m\n\u001b[1;32m   1289\u001b[0m \u001b[43m        \u001b[49m\u001b[43mflag_monitor\u001b[49m\u001b[38;5;241;43m=\u001b[39;49m\u001b[43mflag_monitor\u001b[49m\u001b[43m,\u001b[49m\n\u001b[1;32m   1290\u001b[0m \u001b[43m        \u001b[49m\u001b[43mnum_ele_line\u001b[49m\u001b[38;5;241;43m=\u001b[39;49m\u001b[38;5;28;43mlen\u001b[39;49m\u001b[43m(\u001b[49m\u001b[43mtracker_data\u001b[49m\u001b[38;5;241;43m.\u001b[39;49m\u001b[43melement_names\u001b[49m\u001b[43m)\u001b[49m\u001b[43m,\u001b[49m\n\u001b[1;32m   1291\u001b[0m \u001b[43m        \u001b[49m\u001b[43mline_length\u001b[49m\u001b[38;5;241;43m=\u001b[39;49m\u001b[43mtracker_data\u001b[49m\u001b[38;5;241;43m.\u001b[39;49m\u001b[43mline_length\u001b[49m\u001b[43m,\u001b[49m\n\u001b[1;32m   1292\u001b[0m \u001b[43m        \u001b[49m\u001b[43mbuffer_tbt_monitor\u001b[49m\u001b[38;5;241;43m=\u001b[39;49m\u001b[43mbuffer_monitor\u001b[49m\u001b[43m,\u001b[49m\n\u001b[1;32m   1293\u001b[0m \u001b[43m        \u001b[49m\u001b[43moffset_tbt_monitor\u001b[49m\u001b[38;5;241;43m=\u001b[39;49m\u001b[43moffset_monitor\u001b[49m\u001b[43m,\u001b[49m\n\u001b[1;32m   1294\u001b[0m \u001b[43m        \u001b[49m\u001b[43mio_buffer\u001b[49m\u001b[38;5;241;43m=\u001b[39;49m\u001b[38;5;28;43mself\u001b[39;49m\u001b[38;5;241;43m.\u001b[39;49m\u001b[43mio_buffer\u001b[49m\u001b[38;5;241;43m.\u001b[39;49m\u001b[43mbuffer\u001b[49m\u001b[43m,\u001b[49m\n\u001b[1;32m   1295\u001b[0m \u001b[43m    \u001b[49m\u001b[43m)\u001b[49m\n\u001b[1;32m   1297\u001b[0m \u001b[38;5;66;03m# Last turn, only if incomplete\u001b[39;00m\n\u001b[1;32m   1298\u001b[0m \u001b[38;5;28;01mif\u001b[39;00m num_elements_last_turn \u001b[38;5;241m>\u001b[39m \u001b[38;5;241m0\u001b[39m:\n",
      "File \u001b[0;32m~/cernbox/xsuite_update/xobjects/xobjects/context_cpu.py:837\u001b[0m, in \u001b[0;36mKernelCpu.__call__\u001b[0;34m(self, **kwargs)\u001b[0m\n\u001b[1;32m    834\u001b[0m     \u001b[38;5;28;01mif\u001b[39;00m \u001b[38;5;28misinstance\u001b[39m(\u001b[38;5;28mself\u001b[39m\u001b[38;5;241m.\u001b[39mcontext\u001b[38;5;241m.\u001b[39momp_num_threads, \u001b[38;5;28mint\u001b[39m):\n\u001b[1;32m    835\u001b[0m         \u001b[38;5;28mself\u001b[39m\u001b[38;5;241m.\u001b[39mcontext\u001b[38;5;241m.\u001b[39momp_set_num_threads(\u001b[38;5;28mself\u001b[39m\u001b[38;5;241m.\u001b[39mcontext\u001b[38;5;241m.\u001b[39momp_num_threads)\n\u001b[0;32m--> 837\u001b[0m ret \u001b[38;5;241m=\u001b[39m \u001b[38;5;28;43mself\u001b[39;49m\u001b[38;5;241;43m.\u001b[39;49m\u001b[43mfunction\u001b[49m\u001b[43m(\u001b[49m\u001b[38;5;241;43m*\u001b[39;49m\u001b[43marg_list\u001b[49m\u001b[43m)\u001b[49m\n\u001b[1;32m    839\u001b[0m \u001b[38;5;28;01mif\u001b[39;00m \u001b[38;5;28mself\u001b[39m\u001b[38;5;241m.\u001b[39mdescription\u001b[38;5;241m.\u001b[39mret \u001b[38;5;129;01mis\u001b[39;00m \u001b[38;5;129;01mnot\u001b[39;00m \u001b[38;5;28;01mNone\u001b[39;00m:\n\u001b[1;32m    840\u001b[0m     \u001b[38;5;28;01mreturn\u001b[39;00m \u001b[38;5;28mself\u001b[39m\u001b[38;5;241m.\u001b[39mfrom_function_arg(\u001b[38;5;28mself\u001b[39m\u001b[38;5;241m.\u001b[39mdescription\u001b[38;5;241m.\u001b[39mret, ret)\n",
      "\u001b[0;31mKeyboardInterrupt\u001b[0m: "
     ]
    }
   ],
   "source": [
    "angles_list=[-3,-2,-1,0,1,2,3]\n",
    "\n",
    "# angles_list=[0]\n",
    "\n",
    "for angle in tqdm(angles_list):\n",
    "\n",
    "        print('angle:',angle)\n",
    "\n",
    "        line = xt.Line.from_json('elena.json')\n",
    "        particle_ref = line.particle_ref\n",
    "        line.build_tracker()\n",
    "        twiss = line.twiss()\n",
    "\n",
    "        beta0=particle_ref.beta0\n",
    "        gamma0 = particle_ref.gamma0\n",
    "        circumference = twiss.circumference #m\n",
    "\n",
    "        clight=constants.speed_of_light\n",
    "        T_per_turn = circumference/(clight*beta0)\n",
    "\n",
    "        ec_index=698\n",
    "\n",
    "        D_x=twiss.dx[ec_index]\n",
    "        D_y=twiss.dy[ec_index]\n",
    "\n",
    "        # electron cooler parameters\n",
    "        current = 0.34*1e-3 # A current\n",
    "        cooler_length = 1 # m cooler length\n",
    "        radius_e_beam = 14*1e-3 #m radius of the electron beam\n",
    "        temp_perp = 100e-3 # <E> [eV] = kb*T\n",
    "        temp_long =  1e-3 # <E> [eV]\n",
    "        magnetic_field = 0.010 # 100 Gauss in ELENA\n",
    "\n",
    "        electron_cooler = xt.ElectronCooler(\n",
    "                length=cooler_length,\n",
    "                radius_e_beam=radius_e_beam,\n",
    "                current=current,\n",
    "                temp_perp=temp_perp,\n",
    "                temp_long=temp_long,\n",
    "                magnetic_field=magnetic_field, \n",
    "                magnetic_field_ratio=1e-3,\n",
    "                offset_px=angle*1e-3,\n",
    "                space_charge=1)\n",
    "\n",
    "\n",
    "        # simulation parameters: simulate 1 s of cooling, and take data once every 10 ms\n",
    "        max_time_s = 1.75\n",
    "        int_time_s = 0.01\n",
    "\n",
    "        # compute length of simulation, as well as sample interval, in turns\n",
    "        num_turns = int(max_time_s/T_per_turn)\n",
    "        save_interval = int(int_time_s/T_per_turn)\n",
    "\n",
    "        # create a monitor object, to reduce holded data\n",
    "        monitor = xt.ParticlesMonitor(start_at_turn=0, stop_at_turn=1,\n",
    "                                n_repetitions=int(num_turns/save_interval),\n",
    "                                repetition_period=save_interval,\n",
    "                                num_particles=num_particles)\n",
    "\n",
    "        line.discard_tracker()\n",
    "\n",
    "        # line = xt.Line.from_json('elena_coasting.json')\n",
    "\n",
    "\n",
    "        line.insert_element('ecooler', element=electron_cooler, index=ec_index) #this way monitor comes before the cooler\n",
    "        line.insert_element('monitor', element=monitor, index=ec_index)\n",
    "\n",
    "        beta_x  = twiss.betx[ec_index]\n",
    "        beta_y  = twiss.bety[ec_index]\n",
    "        alpha_x = twiss.alfx[ec_index]\n",
    "        alpha_y = twiss.alfy[ec_index]\n",
    "        gamma_x = twiss.gamx[ec_index]\n",
    "        gamma_y = twiss.gamy[ec_index]\n",
    "\n",
    "        Dx  =  twiss.dx[ec_index]\n",
    "        Dpx =  twiss.dpx[ec_index]\n",
    "\n",
    "        Dy  =  twiss.dy[ec_index]\n",
    "        Dpy =  twiss.dpy[ec_index]\n",
    "\n",
    "        #print(line.element_names[ec_index])\n",
    "        #print(line.element_names[ec_index+1])\n",
    "\n",
    "        context = xo.ContextCpu(omp_num_threads=4)\n",
    "        # context = xo.ContextCupy()\n",
    "        # context = xo.ContextPyopencl()\n",
    "        line.build_tracker(_context=context)\n",
    "        line.optimize_for_tracking()\n",
    "\n",
    "        line_table = line.get_table()\n",
    "        element_mask = np.where(line_table['element_type']=='Cavity')[0]\n",
    "        for i in element_mask:\n",
    "                cav_name = line_table['name'][i]\n",
    "                line.elements[i].voltage = 0\n",
    "                line.elements[i].frequency = 0\n",
    "                print('All cavities switched off.')\n",
    "\n",
    "        particles=particles_old.copy()\n",
    "\n",
    "        # just track all particles, and keep turn-by-turn data (memory expensive!)\n",
    "        line.track(particles, num_turns=num_turns,\n",
    "                turn_by_turn_monitor=False,with_progress=True)\n",
    "\n",
    "        # extract relevant values\n",
    "        x = monitor.x[:,:,0]\n",
    "        px = monitor.px[:,:,0]\n",
    "        y = monitor.y[:,:,0]\n",
    "        py = monitor.py[:,:,0]\n",
    "        delta = monitor.delta[:,:,0]\n",
    "        zeta = monitor.zeta[:,:,0]\n",
    "        time = monitor.at_turn[:, 0, 0] * T_per_turn\n",
    "\n",
    "        # compute actions. for x, remove the dp/p contribution:\n",
    "        action_x = ((x-D_x*delta)**2/beta_x + beta_x*px**2)\n",
    "        action_y = (y**2/beta_y + beta_y*py**2)\n",
    "\n",
    "        action_x = (gamma_x*(x-Dx*delta)**2 \n",
    "                + 2*alpha_x*(x-Dx*delta)*(px-Dpx*delta) \n",
    "                + beta_x*(px-Dpx*delta)**2)\n",
    "        action_y = (gamma_y*(y-Dy*delta)**2\n",
    "                + 2*alpha_y*(y-Dy*delta)*(py-Dpy*delta) \n",
    "                + beta_y*(py-Dpy*delta)**2)\n",
    "\n",
    "        norm_emittance_x=np.mean(action_x,axis=1)/2*gamma0*beta0\n",
    "        norm_emittance_y=np.mean(action_y,axis=1)/2*gamma0*beta0\n",
    "\n",
    "        geo_emittance_x=np.mean(action_x,axis=1)/2\n",
    "        geo_emittance_y=np.mean(action_y,axis=1)/2\n",
    "\n",
    "\n",
    "        np.savez(f'results_lattice/angle_x/angle_{angle}.npz',\n",
    "                \n",
    "                # emittance_x_twiss=emittance_x_twiss,\n",
    "                # emittance_y_twiss=emittance_y_twiss,\n",
    "                geo_emittance_x=geo_emittance_x,\n",
    "                geo_emittance_y=geo_emittance_y,\n",
    "                norm_emittance_x=norm_emittance_x,\n",
    "                norm_emittance_y=norm_emittance_y,\n",
    "                x=x,  \n",
    "                y=y,  \n",
    "                px=px,  \n",
    "                py=py,\n",
    "                delta=delta,\n",
    "                zeta=zeta,\n",
    "                time=time)  "
   ]
  },
  {
   "cell_type": "code",
   "execution_count": null,
   "metadata": {},
   "outputs": [
    {
     "name": "stdout",
     "output_type": "stream",
     "text": [
      "geo_emittance_x 2.4860590041250582e-06\n",
      "geo_emittance_y 2.502068930097041e-06\n"
     ]
    }
   ],
   "source": [
    "print('geo_emittance_x',geo_emittance_x[0])\n",
    "print('geo_emittance_y',geo_emittance_y[0])"
   ]
  },
  {
   "cell_type": "code",
   "execution_count": null,
   "metadata": {},
   "outputs": [
    {
     "data": {
      "image/png": "[encoded data removed]",
      "text/plain": [
       "<Figure size 1000x500 with 1 Axes>"
      ]
     },
     "metadata": {},
     "output_type": "display_data"
    }
   ],
   "source": [
    "# plot some overall values\n",
    "plt.figure(figsize=(10, 5))\n",
    "plt.rcParams.update({'font.size': 14})  # set the default fontsize to 14\n",
    "plt.plot(time, geo_emittance_y * 1e6)\n",
    "plt.xlabel('Time [s]')\n",
    "plt.ylabel('$\\\\epsilon_y$ [$\\\\mu$m]')\n",
    "plt.show()"
   ]
  }
 ],
 "metadata": {
  "kernelspec": {
   "display_name": "xsuite_2023",
   "language": "python",
   "name": "python3"
  },
  "language_info": {
   "codemirror_mode": {
    "name": "ipython",
    "version": 3
   },
   "file_extension": ".py",
   "mimetype": "text/x-python",
   "name": "python",
   "nbconvert_exporter": "python",
   "pygments_lexer": "ipython3",
   "version": "3.12.2"
  },
  "orig_nbformat": 4
 },
 "nbformat": 4,
 "nbformat_minor": 2
}
