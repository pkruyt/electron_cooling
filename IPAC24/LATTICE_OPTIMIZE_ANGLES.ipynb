{
 "cells": [
  {
   "cell_type": "code",
   "execution_count": 53,
   "metadata": {},
   "outputs": [],
   "source": [
    "# copyright ############################### #\n",
    "# This file is part of the Xtrack Package.  #\n",
    "# Copyright (c) CERN, 2021.                 #\n",
    "# ######################################### #\n",
    "\n",
    "import xtrack as xt\n",
    "import xobjects as xo\n",
    "import xpart as xp\n",
    "import ducktrack as dtk\n",
    "import numpy as np\n",
    "import matplotlib.pyplot as plt\n",
    "from tqdm import tqdm\n",
    "from scipy import constants \n",
    "\n"
   ]
  },
  {
   "cell_type": "code",
   "execution_count": 54,
   "metadata": {},
   "outputs": [
    {
     "name": "stderr",
     "output_type": "stream",
     "text": [
      "Loading line from dict:   0%|          | 0/1336 [00:00<?, ?it/s]"
     ]
    },
    {
     "name": "stderr",
     "output_type": "stream",
     "text": [
      "Loading line from dict: 100%|██████████| 1336/1336 [00:00<00:00, 19849.28it/s]\n"
     ]
    },
    {
     "name": "stdout",
     "output_type": "stream",
     "text": [
      "Done loading line from dict.           \n",
      "Compiling ContextCpu kernels...\n",
      "Done compiling ContextCpu kernels.\n"
     ]
    }
   ],
   "source": [
    "line = xt.Line.from_json('elena.json')\n",
    "particle_ref = line.particle_ref\n",
    "line.build_tracker()\n",
    "twiss = line.twiss()\n",
    "\n",
    "beta0=particle_ref.beta0\n",
    "gamma0 = particle_ref.gamma0\n",
    "circumference = twiss.circumference #m\n",
    "\n",
    "clight=constants.speed_of_light\n",
    "T_per_turn = circumference/(clight*beta0)\n",
    "\n",
    "ec_index=698\n",
    "\n",
    "beta_x  = twiss.betx[ec_index]\n",
    "beta_y  = twiss.bety[ec_index]\n",
    "alpha_x = twiss.alfx[ec_index]\n",
    "alpha_y = twiss.alfy[ec_index]\n",
    "gamma_x = twiss.gamx[ec_index]\n",
    "gamma_y = twiss.gamy[ec_index]\n",
    "\n",
    "Dx  =  twiss.dx[ec_index]\n",
    "Dpx =  twiss.dpx[ec_index]\n",
    "\n",
    "Dy  =  twiss.dy[ec_index]\n",
    "Dpy =  twiss.dpy[ec_index]\n"
   ]
  },
  {
   "cell_type": "code",
   "execution_count": 55,
   "metadata": {},
   "outputs": [
    {
     "data": {
      "text/plain": [
       "-469.32883416451523"
      ]
     },
     "execution_count": 55,
     "metadata": {},
     "output_type": "execute_result"
    }
   ],
   "source": [
    "twiss.keys()\n",
    "twiss.bets0"
   ]
  },
  {
   "cell_type": "code",
   "execution_count": 56,
   "metadata": {},
   "outputs": [
    {
     "name": "stdout",
     "output_type": "stream",
     "text": [
      "sigma_z 0.46932883416451526\n",
      "emittance: 5.465371786432117e-06\n",
      "emittance2: 5.817659773981115e-06\n"
     ]
    }
   ],
   "source": [
    "num_particles=int(1e4)\n",
    "\n",
    "beta_x_sem = 7.6 #m\n",
    "beta_y_sem = 1.3 #m\n",
    "\n",
    "#bunch_length=75*1e-9*clight #https://cds.cern.ch/record/2845870/files/document.pdf\n",
    "bunch_intensity=5e7\n",
    "sigma_dp = 1e-3\n",
    "sigma_z=-twiss.bets0*sigma_dp\n",
    "\n",
    "print('sigma_z',sigma_z)\n",
    "\n",
    "# eps_x= 2.25*1e-6-(D_x*sigma_dp)**2/beta_x_sem\n",
    "# eps_x= 2.25*1e-6\n",
    "\n",
    "gemitt_x = 2.5*1e-6\n",
    "gemitt_y = 2.5*1e-6\n",
    "nemitt_x = gemitt_x*beta0*gamma0\n",
    "nemitt_y = gemitt_y*beta0*gamma0\n",
    "\n",
    "particles_old = xp.generate_matched_gaussian_bunch(\n",
    "        num_particles=num_particles,\n",
    "        # total_intensity_particles=bunch_intensity,\n",
    "        nemitt_x=nemitt_x, nemitt_y=nemitt_y, sigma_z=sigma_z,\n",
    "        particle_ref=particle_ref,\n",
    "        line=line,        \n",
    "        )\n",
    "\n",
    "#particles_old.delta = np.random.normal(0, sigma_dp, num_particles)\n",
    "particles_old.zeta = np.random.uniform(-circumference/2, circumference/2, num_particles)\n",
    "\n",
    "\n",
    "action_x = ((particles_old.x-Dx*particles_old.delta)**2/beta_x + beta_x*particles_old.px**2)\n",
    "geo_emittance_x=np.mean(action_x)/2\n",
    "\n",
    "print('emittance:',geo_emittance_x)\n",
    "\n",
    "action_x2 = ((particles_old.x)**2/beta_x + beta_x*particles_old.px**2)\n",
    "geo_emittance_x2=np.mean(action_x2)/2\n",
    "\n",
    "print('emittance2:',geo_emittance_x2)\n"
   ]
  },
  {
   "cell_type": "code",
   "execution_count": 57,
   "metadata": {},
   "outputs": [
    {
     "data": {
      "text/plain": [
       "LinkedArrayCpu(0.00100613)"
      ]
     },
     "execution_count": 57,
     "metadata": {},
     "output_type": "execute_result"
    }
   ],
   "source": [
    "np.std(particles_old.delta)"
   ]
  },
  {
   "cell_type": "code",
   "execution_count": 58,
   "metadata": {},
   "outputs": [
    {
     "name": "stderr",
     "output_type": "stream",
     "text": [
      "/tmp/pkruyt/ipykernel_392860/1297045539.py:35: DeprecationWarning: Conversion of an array with ndim > 0 to a scalar is deprecated, and will error in future. Ensure you extract a single element from your array before performing this operation. (Deprecated NumPy 1.25.)\n",
      "  num_turns = int(max_time_s/T_per_turn)\n",
      "/tmp/pkruyt/ipykernel_392860/1297045539.py:36: DeprecationWarning: Conversion of an array with ndim > 0 to a scalar is deprecated, and will error in future. Ensure you extract a single element from your array before performing this operation. (Deprecated NumPy 1.25.)\n",
      "  save_interval = int(int_time_s/T_per_turn)\n",
      "  0%|          | 0/51 [00:00<?, ?it/s]"
     ]
    },
    {
     "name": "stdout",
     "output_type": "stream",
     "text": [
      "angle: -0.7602040816326531\n"
     ]
    },
    {
     "name": "stderr",
     "output_type": "stream",
     "text": []
    },
    {
     "name": "stderr",
     "output_type": "stream",
     "text": [
      "Loading line from dict: 100%|██████████| 1336/1336 [00:00<00:00, 15923.68it/s]"
     ]
    },
    {
     "name": "stdout",
     "output_type": "stream",
     "text": [
      "Done loading line from dict.           \n"
     ]
    },
    {
     "name": "stderr",
     "output_type": "stream",
     "text": [
      "\n"
     ]
    },
    {
     "name": "stdout",
     "output_type": "stream",
     "text": [
      "Compiling ContextCpu kernels...\n",
      "Done compiling ContextCpu kernels.\n"
     ]
    },
    {
     "name": "stderr",
     "output_type": "stream",
     "text": [
      "/tmp/pkruyt/ipykernel_392860/1297045539.py:84: DeprecationWarning: Conversion of an array with ndim > 0 to a scalar is deprecated, and will error in future. Ensure you extract a single element from your array before performing this operation. (Deprecated NumPy 1.25.)\n",
      "  num_turns = int(max_time_s/T_per_turn)\n",
      "/tmp/pkruyt/ipykernel_392860/1297045539.py:85: DeprecationWarning: Conversion of an array with ndim > 0 to a scalar is deprecated, and will error in future. Ensure you extract a single element from your array before performing this operation. (Deprecated NumPy 1.25.)\n",
      "  save_interval = int(int_time_s/T_per_turn)\n"
     ]
    },
    {
     "name": "stdout",
     "output_type": "stream",
     "text": [
      "Compiling ContextCpu kernels...\n",
      "Done compiling ContextCpu kernels.\n",
      "Disable xdeps expressions\n",
      "Replance slices with equivalent elements\n",
      "Remove markers\n",
      "Remove inactive multipoles\n",
      "Merge consecutive multipoles\n",
      "Remove redundant apertures\n",
      "Remove zero length drifts\n",
      "Merge consecutive drifts\n",
      "Use simple bends\n",
      "Use simple quadrupoles\n",
      "Rebuild tracker data\n",
      "Compiling ContextCpu kernels...\n",
      "Done compiling ContextCpu kernels.\n",
      "All cavities switched off.\n"
     ]
    },
    {
     "name": "stderr",
     "output_type": "stream",
     "text": [
      "Tracking: 100%|██████████| 103000/103000 [07:07<00:00, 240.67it/s]\n",
      "  2%|▏         | 1/51 [07:27<6:13:14, 447.90s/it]"
     ]
    },
    {
     "name": "stdout",
     "output_type": "stream",
     "text": [
      "angle: -0.8010204081632654\n"
     ]
    },
    {
     "name": "stderr",
     "output_type": "stream",
     "text": [
      "Loading line from dict: 100%|██████████| 1336/1336 [00:00<00:00, 23145.67it/s]\n"
     ]
    },
    {
     "name": "stdout",
     "output_type": "stream",
     "text": [
      "Done loading line from dict.           \n",
      "Compiling ContextCpu kernels...\n",
      "Done compiling ContextCpu kernels.\n",
      "Compiling ContextCpu kernels...\n",
      "Done compiling ContextCpu kernels.\n",
      "Disable xdeps expressions\n",
      "Replance slices with equivalent elements\n",
      "Remove markers\n",
      "Remove inactive multipoles\n",
      "Merge consecutive multipoles\n",
      "Remove redundant apertures\n",
      "Remove zero length drifts\n",
      "Merge consecutive drifts\n",
      "Use simple bends\n",
      "Use simple quadrupoles\n",
      "Rebuild tracker data\n",
      "Compiling ContextCpu kernels...\n",
      "Done compiling ContextCpu kernels.\n",
      "All cavities switched off.\n"
     ]
    },
    {
     "name": "stderr",
     "output_type": "stream",
     "text": [
      "Tracking: 100%|██████████| 103000/103000 [07:22<00:00, 232.96it/s]\n",
      "  4%|▍         | 2/51 [15:11<6:13:15, 457.05s/it]"
     ]
    },
    {
     "name": "stdout",
     "output_type": "stream",
     "text": [
      "angle: -0.8418367346938775\n"
     ]
    },
    {
     "name": "stderr",
     "output_type": "stream",
     "text": [
      "Loading line from dict: 100%|██████████| 1336/1336 [00:00<00:00, 20888.58it/s]\n"
     ]
    },
    {
     "name": "stdout",
     "output_type": "stream",
     "text": [
      "Done loading line from dict.           \n",
      "Compiling ContextCpu kernels...\n",
      "Done compiling ContextCpu kernels.\n",
      "Compiling ContextCpu kernels...\n",
      "Done compiling ContextCpu kernels.\n",
      "Disable xdeps expressions\n",
      "Replance slices with equivalent elements\n",
      "Remove markers\n",
      "Remove inactive multipoles\n",
      "Merge consecutive multipoles\n",
      "Remove redundant apertures\n",
      "Remove zero length drifts\n",
      "Merge consecutive drifts\n",
      "Use simple bends\n",
      "Use simple quadrupoles\n",
      "Rebuild tracker data\n",
      "Compiling ContextCpu kernels...\n",
      "Done compiling ContextCpu kernels.\n",
      "All cavities switched off.\n"
     ]
    },
    {
     "name": "stderr",
     "output_type": "stream",
     "text": [
      "Tracking: 100%|██████████| 103000/103000 [07:05<00:00, 242.28it/s]\n",
      "  6%|▌         | 3/51 [22:38<6:01:55, 452.41s/it]"
     ]
    },
    {
     "name": "stdout",
     "output_type": "stream",
     "text": [
      "angle: -0.9234693877551021\n"
     ]
    },
    {
     "name": "stderr",
     "output_type": "stream",
     "text": [
      "Loading line from dict: 100%|██████████| 1336/1336 [00:00<00:00, 27082.91it/s]\n"
     ]
    },
    {
     "name": "stdout",
     "output_type": "stream",
     "text": [
      "Done loading line from dict.           \n",
      "Compiling ContextCpu kernels...\n",
      "Done compiling ContextCpu kernels.\n",
      "Compiling ContextCpu kernels...\n",
      "Done compiling ContextCpu kernels.\n",
      "Disable xdeps expressions\n",
      "Replance slices with equivalent elements\n",
      "Remove markers\n",
      "Remove inactive multipoles\n",
      "Merge consecutive multipoles\n",
      "Remove redundant apertures\n",
      "Remove zero length drifts\n",
      "Merge consecutive drifts\n",
      "Use simple bends\n",
      "Use simple quadrupoles\n",
      "Rebuild tracker data\n",
      "Compiling ContextCpu kernels...\n",
      "Done compiling ContextCpu kernels.\n",
      "All cavities switched off.\n"
     ]
    },
    {
     "name": "stderr",
     "output_type": "stream",
     "text": [
      "Tracking: 100%|██████████| 103000/103000 [06:38<00:00, 258.68it/s]\n",
      "  8%|▊         | 4/51 [29:34<5:43:06, 438.01s/it]"
     ]
    },
    {
     "name": "stdout",
     "output_type": "stream",
     "text": [
      "angle: -0.9642857142857143\n"
     ]
    },
    {
     "name": "stderr",
     "output_type": "stream",
     "text": [
      "Loading line from dict: 100%|██████████| 1336/1336 [00:00<00:00, 26956.93it/s]\n"
     ]
    },
    {
     "name": "stdout",
     "output_type": "stream",
     "text": [
      "Done loading line from dict.           \n",
      "Compiling ContextCpu kernels...\n",
      "Done compiling ContextCpu kernels.\n",
      "Compiling ContextCpu kernels...\n",
      "Done compiling ContextCpu kernels.\n",
      "Disable xdeps expressions\n",
      "Replance slices with equivalent elements\n",
      "Remove markers\n",
      "Remove inactive multipoles\n",
      "Merge consecutive multipoles\n",
      "Remove redundant apertures\n",
      "Remove zero length drifts\n",
      "Merge consecutive drifts\n",
      "Use simple bends\n",
      "Use simple quadrupoles\n",
      "Rebuild tracker data\n",
      "Compiling ContextCpu kernels...\n",
      "Done compiling ContextCpu kernels.\n",
      "All cavities switched off.\n"
     ]
    },
    {
     "name": "stderr",
     "output_type": "stream",
     "text": [
      "Tracking: 100%|██████████| 103000/103000 [06:40<00:00, 257.45it/s]\n",
      " 10%|▉         | 5/51 [36:32<5:30:19, 430.85s/it]"
     ]
    },
    {
     "name": "stdout",
     "output_type": "stream",
     "text": [
      "angle: -1.0051020408163265\n"
     ]
    },
    {
     "name": "stderr",
     "output_type": "stream",
     "text": [
      "Loading line from dict: 100%|██████████| 1336/1336 [00:00<00:00, 27383.88it/s]\n"
     ]
    },
    {
     "name": "stdout",
     "output_type": "stream",
     "text": [
      "Done loading line from dict.           \n",
      "Compiling ContextCpu kernels...\n",
      "Done compiling ContextCpu kernels.\n",
      "Compiling ContextCpu kernels...\n",
      "Done compiling ContextCpu kernels.\n",
      "Disable xdeps expressions\n",
      "Replance slices with equivalent elements\n",
      "Remove markers\n",
      "Remove inactive multipoles\n",
      "Merge consecutive multipoles\n",
      "Remove redundant apertures\n",
      "Remove zero length drifts\n",
      "Merge consecutive drifts\n",
      "Use simple bends\n",
      "Use simple quadrupoles\n",
      "Rebuild tracker data\n",
      "Compiling ContextCpu kernels...\n",
      "Done compiling ContextCpu kernels.\n",
      "All cavities switched off.\n"
     ]
    },
    {
     "name": "stderr",
     "output_type": "stream",
     "text": [
      "Tracking: 100%|██████████| 103000/103000 [06:38<00:00, 258.77it/s]\n",
      " 12%|█▏        | 6/51 [43:28<5:19:17, 425.73s/it]"
     ]
    },
    {
     "name": "stdout",
     "output_type": "stream",
     "text": [
      "angle: -1.0459183673469388\n"
     ]
    },
    {
     "name": "stderr",
     "output_type": "stream",
     "text": [
      "Loading line from dict: 100%|██████████| 1336/1336 [00:00<00:00, 27602.40it/s]\n"
     ]
    },
    {
     "name": "stdout",
     "output_type": "stream",
     "text": [
      "Done loading line from dict.           \n",
      "Compiling ContextCpu kernels...\n",
      "Done compiling ContextCpu kernels.\n",
      "Compiling ContextCpu kernels...\n",
      "Done compiling ContextCpu kernels.\n",
      "Disable xdeps expressions\n",
      "Replance slices with equivalent elements\n",
      "Remove markers\n",
      "Remove inactive multipoles\n",
      "Merge consecutive multipoles\n",
      "Remove redundant apertures\n",
      "Remove zero length drifts\n",
      "Merge consecutive drifts\n",
      "Use simple bends\n",
      "Use simple quadrupoles\n",
      "Rebuild tracker data\n",
      "Compiling ContextCpu kernels...\n",
      "Done compiling ContextCpu kernels.\n",
      "All cavities switched off.\n"
     ]
    },
    {
     "name": "stderr",
     "output_type": "stream",
     "text": [
      "Tracking: 100%|██████████| 103000/103000 [06:40<00:00, 257.07it/s]\n",
      " 14%|█▎        | 7/51 [50:26<5:10:29, 423.40s/it]"
     ]
    },
    {
     "name": "stdout",
     "output_type": "stream",
     "text": [
      "angle: -1.086734693877551\n"
     ]
    },
    {
     "name": "stderr",
     "output_type": "stream",
     "text": [
      "Loading line from dict: 100%|██████████| 1336/1336 [00:00<00:00, 28887.46it/s]\n"
     ]
    },
    {
     "name": "stdout",
     "output_type": "stream",
     "text": [
      "Done loading line from dict.           \n",
      "Compiling ContextCpu kernels...\n",
      "Done compiling ContextCpu kernels.\n",
      "Compiling ContextCpu kernels...\n",
      "Done compiling ContextCpu kernels.\n",
      "Disable xdeps expressions\n",
      "Replance slices with equivalent elements\n",
      "Remove markers\n",
      "Remove inactive multipoles\n",
      "Merge consecutive multipoles\n",
      "Remove redundant apertures\n",
      "Remove zero length drifts\n",
      "Merge consecutive drifts\n",
      "Use simple bends\n",
      "Use simple quadrupoles\n",
      "Rebuild tracker data\n",
      "Compiling ContextCpu kernels...\n",
      "Done compiling ContextCpu kernels.\n",
      "All cavities switched off.\n"
     ]
    },
    {
     "name": "stderr",
     "output_type": "stream",
     "text": [
      "Tracking: 100%|██████████| 103000/103000 [06:38<00:00, 258.41it/s]\n",
      " 16%|█▌        | 8/51 [57:23<5:01:49, 421.16s/it]"
     ]
    },
    {
     "name": "stdout",
     "output_type": "stream",
     "text": [
      "angle: -1.1275510204081631\n"
     ]
    },
    {
     "name": "stderr",
     "output_type": "stream",
     "text": [
      "Loading line from dict: 100%|██████████| 1336/1336 [00:00<00:00, 30490.42it/s]\n"
     ]
    },
    {
     "name": "stdout",
     "output_type": "stream",
     "text": [
      "Done loading line from dict.           \n",
      "Compiling ContextCpu kernels...\n",
      "Done compiling ContextCpu kernels.\n",
      "Compiling ContextCpu kernels...\n",
      "Done compiling ContextCpu kernels.\n",
      "Disable xdeps expressions\n",
      "Replance slices with equivalent elements\n",
      "Remove markers\n",
      "Remove inactive multipoles\n",
      "Merge consecutive multipoles\n",
      "Remove redundant apertures\n",
      "Remove zero length drifts\n",
      "Merge consecutive drifts\n",
      "Use simple bends\n",
      "Use simple quadrupoles\n",
      "Rebuild tracker data\n",
      "Compiling ContextCpu kernels...\n",
      "Done compiling ContextCpu kernels.\n",
      "All cavities switched off.\n"
     ]
    },
    {
     "name": "stderr",
     "output_type": "stream",
     "text": [
      "Tracking: 100%|██████████| 103000/103000 [06:40<00:00, 257.17it/s]\n",
      " 18%|█▊        | 9/51 [1:04:21<4:54:14, 420.35s/it]"
     ]
    },
    {
     "name": "stdout",
     "output_type": "stream",
     "text": [
      "angle: -1.1683673469387754\n"
     ]
    },
    {
     "name": "stderr",
     "output_type": "stream",
     "text": [
      "Loading line from dict: 100%|██████████| 1336/1336 [00:00<00:00, 30735.25it/s]\n"
     ]
    },
    {
     "name": "stdout",
     "output_type": "stream",
     "text": [
      "Done loading line from dict.           \n",
      "Compiling ContextCpu kernels...\n",
      "Done compiling ContextCpu kernels.\n",
      "Compiling ContextCpu kernels...\n",
      "Done compiling ContextCpu kernels.\n",
      "Disable xdeps expressions\n",
      "Replance slices with equivalent elements\n",
      "Remove markers\n",
      "Remove inactive multipoles\n",
      "Merge consecutive multipoles\n",
      "Remove redundant apertures\n",
      "Remove zero length drifts\n",
      "Merge consecutive drifts\n",
      "Use simple bends\n",
      "Use simple quadrupoles\n",
      "Rebuild tracker data\n",
      "Compiling ContextCpu kernels...\n",
      "Done compiling ContextCpu kernels.\n",
      "All cavities switched off.\n"
     ]
    },
    {
     "name": "stderr",
     "output_type": "stream",
     "text": [
      "Tracking: 100%|██████████| 103000/103000 [06:38<00:00, 258.24it/s]\n",
      " 20%|█▉        | 10/51 [1:11:18<4:46:28, 419.24s/it]"
     ]
    },
    {
     "name": "stdout",
     "output_type": "stream",
     "text": [
      "angle: -1.2091836734693877\n"
     ]
    },
    {
     "name": "stderr",
     "output_type": "stream",
     "text": [
      "Loading line from dict: 100%|██████████| 1336/1336 [00:00<00:00, 29713.40it/s]\n"
     ]
    },
    {
     "name": "stdout",
     "output_type": "stream",
     "text": [
      "Done loading line from dict.           \n",
      "Compiling ContextCpu kernels...\n",
      "Done compiling ContextCpu kernels.\n",
      "Compiling ContextCpu kernels...\n",
      "Done compiling ContextCpu kernels.\n",
      "Disable xdeps expressions\n",
      "Replance slices with equivalent elements\n",
      "Remove markers\n",
      "Remove inactive multipoles\n",
      "Merge consecutive multipoles\n",
      "Remove redundant apertures\n",
      "Remove zero length drifts\n",
      "Merge consecutive drifts\n",
      "Use simple bends\n",
      "Use simple quadrupoles\n",
      "Rebuild tracker data\n",
      "Compiling ContextCpu kernels...\n",
      "Done compiling ContextCpu kernels.\n",
      "All cavities switched off.\n"
     ]
    },
    {
     "name": "stderr",
     "output_type": "stream",
     "text": [
      "Tracking: 100%|██████████| 103000/103000 [06:41<00:00, 256.77it/s]\n",
      " 22%|██▏       | 11/51 [1:18:17<4:39:24, 419.12s/it]"
     ]
    },
    {
     "name": "stdout",
     "output_type": "stream",
     "text": [
      "angle: -0.7193877551020409\n"
     ]
    },
    {
     "name": "stderr",
     "output_type": "stream",
     "text": [
      "Loading line from dict: 100%|██████████| 1336/1336 [00:00<00:00, 30576.60it/s]\n"
     ]
    },
    {
     "name": "stdout",
     "output_type": "stream",
     "text": [
      "Done loading line from dict.           \n",
      "Compiling ContextCpu kernels...\n",
      "Done compiling ContextCpu kernels.\n",
      "Compiling ContextCpu kernels...\n",
      "Done compiling ContextCpu kernels.\n",
      "Disable xdeps expressions\n",
      "Replance slices with equivalent elements\n",
      "Remove markers\n",
      "Remove inactive multipoles\n",
      "Merge consecutive multipoles\n",
      "Remove redundant apertures\n",
      "Remove zero length drifts\n",
      "Merge consecutive drifts\n",
      "Use simple bends\n",
      "Use simple quadrupoles\n",
      "Rebuild tracker data\n",
      "Compiling ContextCpu kernels...\n",
      "Done compiling ContextCpu kernels.\n",
      "All cavities switched off.\n"
     ]
    },
    {
     "name": "stderr",
     "output_type": "stream",
     "text": [
      "Tracking: 100%|██████████| 103000/103000 [06:39<00:00, 258.13it/s]\n",
      " 24%|██▎       | 12/51 [1:25:13<4:31:55, 418.35s/it]"
     ]
    },
    {
     "name": "stdout",
     "output_type": "stream",
     "text": [
      "angle: -0.6785714285714286\n"
     ]
    },
    {
     "name": "stderr",
     "output_type": "stream",
     "text": [
      "Loading line from dict: 100%|██████████| 1336/1336 [00:00<00:00, 30982.17it/s]\n"
     ]
    },
    {
     "name": "stdout",
     "output_type": "stream",
     "text": [
      "Done loading line from dict.           \n",
      "Compiling ContextCpu kernels...\n",
      "Done compiling ContextCpu kernels.\n",
      "Compiling ContextCpu kernels...\n",
      "Done compiling ContextCpu kernels.\n",
      "Disable xdeps expressions\n",
      "Replance slices with equivalent elements\n",
      "Remove markers\n",
      "Remove inactive multipoles\n",
      "Merge consecutive multipoles\n",
      "Remove redundant apertures\n",
      "Remove zero length drifts\n",
      "Merge consecutive drifts\n",
      "Use simple bends\n",
      "Use simple quadrupoles\n",
      "Rebuild tracker data\n",
      "Compiling ContextCpu kernels...\n",
      "Done compiling ContextCpu kernels.\n",
      "All cavities switched off.\n"
     ]
    },
    {
     "name": "stderr",
     "output_type": "stream",
     "text": [
      "Tracking: 100%|██████████| 103000/103000 [06:39<00:00, 257.69it/s]\n",
      " 25%|██▌       | 13/51 [1:32:11<4:24:47, 418.09s/it]"
     ]
    },
    {
     "name": "stdout",
     "output_type": "stream",
     "text": [
      "angle: -0.6377551020408164\n"
     ]
    },
    {
     "name": "stderr",
     "output_type": "stream",
     "text": [
      "Loading line from dict: 100%|██████████| 1336/1336 [00:00<00:00, 31020.93it/s]\n"
     ]
    },
    {
     "name": "stdout",
     "output_type": "stream",
     "text": [
      "Done loading line from dict.           \n",
      "Compiling ContextCpu kernels...\n",
      "Done compiling ContextCpu kernels.\n",
      "Compiling ContextCpu kernels...\n",
      "Done compiling ContextCpu kernels.\n",
      "Disable xdeps expressions\n",
      "Replance slices with equivalent elements\n",
      "Remove markers\n",
      "Remove inactive multipoles\n",
      "Merge consecutive multipoles\n",
      "Remove redundant apertures\n",
      "Remove zero length drifts\n",
      "Merge consecutive drifts\n",
      "Use simple bends\n",
      "Use simple quadrupoles\n",
      "Rebuild tracker data\n",
      "Compiling ContextCpu kernels...\n",
      "Done compiling ContextCpu kernels.\n",
      "All cavities switched off.\n"
     ]
    },
    {
     "name": "stderr",
     "output_type": "stream",
     "text": [
      "Tracking: 100%|██████████| 103000/103000 [06:38<00:00, 258.17it/s]\n",
      " 27%|██▋       | 14/51 [1:39:07<4:17:33, 417.65s/it]"
     ]
    },
    {
     "name": "stdout",
     "output_type": "stream",
     "text": [
      "angle: -0.5969387755102041\n"
     ]
    },
    {
     "name": "stderr",
     "output_type": "stream",
     "text": [
      "Loading line from dict: 100%|██████████| 1336/1336 [00:00<00:00, 24529.17it/s]\n"
     ]
    },
    {
     "name": "stdout",
     "output_type": "stream",
     "text": [
      "Done loading line from dict.           \n",
      "Compiling ContextCpu kernels...\n",
      "Done compiling ContextCpu kernels.\n",
      "Compiling ContextCpu kernels...\n",
      "Done compiling ContextCpu kernels.\n",
      "Disable xdeps expressions\n",
      "Replance slices with equivalent elements\n",
      "Remove markers\n",
      "Remove inactive multipoles\n",
      "Merge consecutive multipoles\n",
      "Remove redundant apertures\n",
      "Remove zero length drifts\n",
      "Merge consecutive drifts\n",
      "Use simple bends\n",
      "Use simple quadrupoles\n",
      "Rebuild tracker data\n",
      "Compiling ContextCpu kernels...\n",
      "Done compiling ContextCpu kernels.\n",
      "All cavities switched off.\n"
     ]
    },
    {
     "name": "stderr",
     "output_type": "stream",
     "text": [
      "Tracking: 100%|██████████| 103000/103000 [06:40<00:00, 257.17it/s]\n",
      " 29%|██▉       | 15/51 [1:46:06<4:10:41, 417.82s/it]"
     ]
    },
    {
     "name": "stdout",
     "output_type": "stream",
     "text": [
      "angle: -0.5561224489795918\n"
     ]
    },
    {
     "name": "stderr",
     "output_type": "stream",
     "text": [
      "Loading line from dict: 100%|██████████| 1336/1336 [00:00<00:00, 29919.48it/s]\n"
     ]
    },
    {
     "name": "stdout",
     "output_type": "stream",
     "text": [
      "Done loading line from dict.           \n",
      "Compiling ContextCpu kernels...\n",
      "Done compiling ContextCpu kernels.\n",
      "Compiling ContextCpu kernels...\n",
      "Done compiling ContextCpu kernels.\n",
      "Disable xdeps expressions\n",
      "Replance slices with equivalent elements\n",
      "Remove markers\n",
      "Remove inactive multipoles\n",
      "Merge consecutive multipoles\n",
      "Remove redundant apertures\n",
      "Remove zero length drifts\n",
      "Merge consecutive drifts\n",
      "Use simple bends\n",
      "Use simple quadrupoles\n",
      "Rebuild tracker data\n",
      "Compiling ContextCpu kernels...\n",
      "Done compiling ContextCpu kernels.\n",
      "All cavities switched off.\n"
     ]
    },
    {
     "name": "stderr",
     "output_type": "stream",
     "text": [
      "Tracking: 100%|██████████| 103000/103000 [06:38<00:00, 258.59it/s]\n",
      " 31%|███▏      | 16/51 [1:53:01<4:03:22, 417.20s/it]"
     ]
    },
    {
     "name": "stdout",
     "output_type": "stream",
     "text": [
      "angle: -0.5153061224489797\n"
     ]
    },
    {
     "name": "stderr",
     "output_type": "stream",
     "text": [
      "Loading line from dict: 100%|██████████| 1336/1336 [00:00<00:00, 31123.62it/s]\n"
     ]
    },
    {
     "name": "stdout",
     "output_type": "stream",
     "text": [
      "Done loading line from dict.           \n",
      "Compiling ContextCpu kernels...\n",
      "Done compiling ContextCpu kernels.\n",
      "Compiling ContextCpu kernels...\n",
      "Done compiling ContextCpu kernels.\n",
      "Disable xdeps expressions\n",
      "Replance slices with equivalent elements\n",
      "Remove markers\n",
      "Remove inactive multipoles\n",
      "Merge consecutive multipoles\n",
      "Remove redundant apertures\n",
      "Remove zero length drifts\n",
      "Merge consecutive drifts\n",
      "Use simple bends\n",
      "Use simple quadrupoles\n",
      "Rebuild tracker data\n",
      "Compiling ContextCpu kernels...\n",
      "Done compiling ContextCpu kernels.\n",
      "All cavities switched off.\n"
     ]
    },
    {
     "name": "stderr",
     "output_type": "stream",
     "text": [
      "Tracking: 100%|██████████| 103000/103000 [06:39<00:00, 257.75it/s]\n",
      " 33%|███▎      | 17/51 [1:59:59<3:56:28, 417.29s/it]"
     ]
    },
    {
     "name": "stdout",
     "output_type": "stream",
     "text": [
      "angle: -0.4744897959183674\n"
     ]
    },
    {
     "name": "stderr",
     "output_type": "stream",
     "text": [
      "Loading line from dict: 100%|██████████| 1336/1336 [00:00<00:00, 26418.32it/s]\n"
     ]
    },
    {
     "name": "stdout",
     "output_type": "stream",
     "text": [
      "Done loading line from dict.           \n",
      "Compiling ContextCpu kernels...\n",
      "Done compiling ContextCpu kernels.\n",
      "Compiling ContextCpu kernels...\n",
      "Done compiling ContextCpu kernels.\n",
      "Disable xdeps expressions\n",
      "Replance slices with equivalent elements\n",
      "Remove markers\n",
      "Remove inactive multipoles\n",
      "Merge consecutive multipoles\n",
      "Remove redundant apertures\n",
      "Remove zero length drifts\n",
      "Merge consecutive drifts\n",
      "Use simple bends\n",
      "Use simple quadrupoles\n",
      "Rebuild tracker data\n",
      "Compiling ContextCpu kernels...\n",
      "Done compiling ContextCpu kernels.\n",
      "All cavities switched off.\n"
     ]
    },
    {
     "name": "stderr",
     "output_type": "stream",
     "text": [
      "Tracking: 100%|██████████| 103000/103000 [06:40<00:00, 257.22it/s]\n",
      " 35%|███▌      | 18/51 [2:06:57<3:49:37, 417.50s/it]"
     ]
    },
    {
     "name": "stdout",
     "output_type": "stream",
     "text": [
      "angle: -0.4336734693877552\n"
     ]
    },
    {
     "name": "stderr",
     "output_type": "stream",
     "text": [
      "Loading line from dict: 100%|██████████| 1336/1336 [00:00<00:00, 32015.39it/s]\n"
     ]
    },
    {
     "name": "stdout",
     "output_type": "stream",
     "text": [
      "Done loading line from dict.           \n",
      "Compiling ContextCpu kernels...\n",
      "Done compiling ContextCpu kernels.\n",
      "Compiling ContextCpu kernels...\n",
      "Done compiling ContextCpu kernels.\n",
      "Disable xdeps expressions\n",
      "Replance slices with equivalent elements\n",
      "Remove markers\n",
      "Remove inactive multipoles\n",
      "Merge consecutive multipoles\n",
      "Remove redundant apertures\n",
      "Remove zero length drifts\n",
      "Merge consecutive drifts\n",
      "Use simple bends\n",
      "Use simple quadrupoles\n",
      "Rebuild tracker data\n",
      "Compiling ContextCpu kernels...\n",
      "Done compiling ContextCpu kernels.\n",
      "All cavities switched off.\n"
     ]
    },
    {
     "name": "stderr",
     "output_type": "stream",
     "text": [
      "Tracking: 100%|██████████| 103000/103000 [06:38<00:00, 258.74it/s]\n",
      " 37%|███▋      | 19/51 [2:13:53<3:42:22, 416.95s/it]"
     ]
    },
    {
     "name": "stdout",
     "output_type": "stream",
     "text": [
      "angle: -0.3928571428571429\n"
     ]
    },
    {
     "name": "stderr",
     "output_type": "stream",
     "text": [
      "Loading line from dict: 100%|██████████| 1336/1336 [00:00<00:00, 26973.02it/s]\n"
     ]
    },
    {
     "name": "stdout",
     "output_type": "stream",
     "text": [
      "Done loading line from dict.           \n",
      "Compiling ContextCpu kernels...\n",
      "Done compiling ContextCpu kernels.\n",
      "Compiling ContextCpu kernels...\n",
      "Done compiling ContextCpu kernels.\n",
      "Disable xdeps expressions\n",
      "Replance slices with equivalent elements\n",
      "Remove markers\n",
      "Remove inactive multipoles\n",
      "Merge consecutive multipoles\n",
      "Remove redundant apertures\n",
      "Remove zero length drifts\n",
      "Merge consecutive drifts\n",
      "Use simple bends\n",
      "Use simple quadrupoles\n",
      "Rebuild tracker data\n",
      "Compiling ContextCpu kernels...\n",
      "Done compiling ContextCpu kernels.\n",
      "All cavities switched off.\n"
     ]
    },
    {
     "name": "stderr",
     "output_type": "stream",
     "text": [
      "Tracking: 100%|██████████| 103000/103000 [06:40<00:00, 257.34it/s]\n",
      " 39%|███▉      | 20/51 [2:20:51<3:35:35, 417.28s/it]"
     ]
    },
    {
     "name": "stdout",
     "output_type": "stream",
     "text": [
      "angle: -0.3520408163265307\n"
     ]
    },
    {
     "name": "stderr",
     "output_type": "stream",
     "text": [
      "Loading line from dict: 100%|██████████| 1336/1336 [00:00<00:00, 29710.56it/s]\n"
     ]
    },
    {
     "name": "stdout",
     "output_type": "stream",
     "text": [
      "Done loading line from dict.           \n",
      "Compiling ContextCpu kernels...\n",
      "Done compiling ContextCpu kernels.\n",
      "Compiling ContextCpu kernels...\n",
      "Done compiling ContextCpu kernels.\n",
      "Disable xdeps expressions\n",
      "Replance slices with equivalent elements\n",
      "Remove markers\n",
      "Remove inactive multipoles\n",
      "Merge consecutive multipoles\n",
      "Remove redundant apertures\n",
      "Remove zero length drifts\n",
      "Merge consecutive drifts\n",
      "Use simple bends\n",
      "Use simple quadrupoles\n",
      "Rebuild tracker data\n",
      "Compiling ContextCpu kernels...\n",
      "Done compiling ContextCpu kernels.\n",
      "All cavities switched off.\n"
     ]
    },
    {
     "name": "stderr",
     "output_type": "stream",
     "text": [
      "Tracking: 100%|██████████| 103000/103000 [06:38<00:00, 258.49it/s]\n",
      " 41%|████      | 21/51 [2:27:47<3:28:27, 416.90s/it]"
     ]
    },
    {
     "name": "stdout",
     "output_type": "stream",
     "text": [
      "angle: -0.31122448979591844\n"
     ]
    },
    {
     "name": "stderr",
     "output_type": "stream",
     "text": [
      "Loading line from dict: 100%|██████████| 1336/1336 [00:00<00:00, 28589.31it/s]\n"
     ]
    },
    {
     "name": "stdout",
     "output_type": "stream",
     "text": [
      "Done loading line from dict.           \n",
      "Compiling ContextCpu kernels...\n",
      "Done compiling ContextCpu kernels.\n",
      "Compiling ContextCpu kernels...\n",
      "Done compiling ContextCpu kernels.\n",
      "Disable xdeps expressions\n",
      "Replance slices with equivalent elements\n",
      "Remove markers\n",
      "Remove inactive multipoles\n",
      "Merge consecutive multipoles\n",
      "Remove redundant apertures\n",
      "Remove zero length drifts\n",
      "Merge consecutive drifts\n",
      "Use simple bends\n",
      "Use simple quadrupoles\n",
      "Rebuild tracker data\n",
      "Compiling ContextCpu kernels...\n",
      "Done compiling ContextCpu kernels.\n",
      "All cavities switched off.\n"
     ]
    },
    {
     "name": "stderr",
     "output_type": "stream",
     "text": [
      "Tracking: 100%|██████████| 103000/103000 [06:39<00:00, 257.59it/s]\n",
      " 43%|████▎     | 22/51 [2:34:44<3:21:37, 417.15s/it]"
     ]
    },
    {
     "name": "stdout",
     "output_type": "stream",
     "text": [
      "angle: -0.27040816326530615\n"
     ]
    },
    {
     "name": "stderr",
     "output_type": "stream",
     "text": [
      "Loading line from dict: 100%|██████████| 1336/1336 [00:00<00:00, 22107.60it/s]\n"
     ]
    },
    {
     "name": "stdout",
     "output_type": "stream",
     "text": [
      "Done loading line from dict.           \n",
      "Compiling ContextCpu kernels...\n",
      "Done compiling ContextCpu kernels.\n",
      "Compiling ContextCpu kernels...\n",
      "Done compiling ContextCpu kernels.\n",
      "Disable xdeps expressions\n",
      "Replance slices with equivalent elements\n",
      "Remove markers\n",
      "Remove inactive multipoles\n",
      "Merge consecutive multipoles\n",
      "Remove redundant apertures\n",
      "Remove zero length drifts\n",
      "Merge consecutive drifts\n",
      "Use simple bends\n",
      "Use simple quadrupoles\n",
      "Rebuild tracker data\n",
      "Compiling ContextCpu kernels...\n",
      "Done compiling ContextCpu kernels.\n",
      "All cavities switched off.\n"
     ]
    },
    {
     "name": "stderr",
     "output_type": "stream",
     "text": [
      "Tracking: 100%|██████████| 103000/103000 [06:40<00:00, 257.50it/s]\n",
      " 45%|████▌     | 23/51 [2:41:42<3:14:44, 417.32s/it]"
     ]
    },
    {
     "name": "stdout",
     "output_type": "stream",
     "text": [
      "angle: -0.22959183673469385\n"
     ]
    },
    {
     "name": "stderr",
     "output_type": "stream",
     "text": [
      "Loading line from dict: 100%|██████████| 1336/1336 [00:00<00:00, 29988.01it/s]\n"
     ]
    },
    {
     "name": "stdout",
     "output_type": "stream",
     "text": [
      "Done loading line from dict.           \n",
      "Compiling ContextCpu kernels...\n",
      "Done compiling ContextCpu kernels.\n",
      "Compiling ContextCpu kernels...\n",
      "Done compiling ContextCpu kernels.\n",
      "Disable xdeps expressions\n",
      "Replance slices with equivalent elements\n",
      "Remove markers\n",
      "Remove inactive multipoles\n",
      "Merge consecutive multipoles\n",
      "Remove redundant apertures\n",
      "Remove zero length drifts\n",
      "Merge consecutive drifts\n",
      "Use simple bends\n",
      "Use simple quadrupoles\n",
      "Rebuild tracker data\n",
      "Compiling ContextCpu kernels...\n",
      "Done compiling ContextCpu kernels.\n",
      "All cavities switched off.\n"
     ]
    },
    {
     "name": "stderr",
     "output_type": "stream",
     "text": [
      "Tracking: 100%|██████████| 103000/103000 [06:40<00:00, 257.06it/s]\n",
      " 47%|████▋     | 24/51 [2:48:40<3:07:55, 417.63s/it]"
     ]
    },
    {
     "name": "stdout",
     "output_type": "stream",
     "text": [
      "angle: -0.1887755102040818\n"
     ]
    },
    {
     "name": "stderr",
     "output_type": "stream",
     "text": [
      "Loading line from dict: 100%|██████████| 1336/1336 [00:00<00:00, 24803.65it/s]\n"
     ]
    },
    {
     "name": "stdout",
     "output_type": "stream",
     "text": [
      "Done loading line from dict.           \n",
      "Compiling ContextCpu kernels...\n",
      "Done compiling ContextCpu kernels.\n",
      "Compiling ContextCpu kernels...\n",
      "Done compiling ContextCpu kernels.\n",
      "Disable xdeps expressions\n",
      "Replance slices with equivalent elements\n",
      "Remove markers\n",
      "Remove inactive multipoles\n",
      "Merge consecutive multipoles\n",
      "Remove redundant apertures\n",
      "Remove zero length drifts\n",
      "Merge consecutive drifts\n",
      "Use simple bends\n",
      "Use simple quadrupoles\n",
      "Rebuild tracker data\n",
      "Compiling ContextCpu kernels...\n",
      "Done compiling ContextCpu kernels.\n",
      "All cavities switched off.\n"
     ]
    },
    {
     "name": "stderr",
     "output_type": "stream",
     "text": [
      "Tracking: 100%|██████████| 103000/103000 [06:40<00:00, 256.88it/s]\n",
      " 49%|████▉     | 25/51 [2:55:39<3:01:05, 417.90s/it]"
     ]
    },
    {
     "name": "stdout",
     "output_type": "stream",
     "text": [
      "angle: -0.1479591836734695\n"
     ]
    },
    {
     "name": "stderr",
     "output_type": "stream",
     "text": [
      "Loading line from dict: 100%|██████████| 1336/1336 [00:00<00:00, 26723.21it/s]\n"
     ]
    },
    {
     "name": "stdout",
     "output_type": "stream",
     "text": [
      "Done loading line from dict.           \n",
      "Compiling ContextCpu kernels...\n",
      "Done compiling ContextCpu kernels.\n",
      "Compiling ContextCpu kernels...\n",
      "Done compiling ContextCpu kernels.\n",
      "Disable xdeps expressions\n",
      "Replance slices with equivalent elements\n",
      "Remove markers\n",
      "Remove inactive multipoles\n",
      "Merge consecutive multipoles\n",
      "Remove redundant apertures\n",
      "Remove zero length drifts\n",
      "Merge consecutive drifts\n",
      "Use simple bends\n",
      "Use simple quadrupoles\n",
      "Rebuild tracker data\n",
      "Compiling ContextCpu kernels...\n",
      "Done compiling ContextCpu kernels.\n",
      "All cavities switched off.\n"
     ]
    },
    {
     "name": "stderr",
     "output_type": "stream",
     "text": [
      "Tracking: 100%|██████████| 103000/103000 [06:40<00:00, 257.35it/s]\n",
      " 51%|█████     | 26/51 [3:02:37<2:54:07, 417.91s/it]"
     ]
    },
    {
     "name": "stdout",
     "output_type": "stream",
     "text": [
      "angle: -0.1071428571428572\n"
     ]
    },
    {
     "name": "stderr",
     "output_type": "stream",
     "text": [
      "Loading line from dict: 100%|██████████| 1336/1336 [00:00<00:00, 28820.16it/s]\n"
     ]
    },
    {
     "name": "stdout",
     "output_type": "stream",
     "text": [
      "Done loading line from dict.           \n",
      "Compiling ContextCpu kernels...\n",
      "Done compiling ContextCpu kernels.\n",
      "Compiling ContextCpu kernels...\n",
      "Done compiling ContextCpu kernels.\n",
      "Disable xdeps expressions\n",
      "Replance slices with equivalent elements\n",
      "Remove markers\n",
      "Remove inactive multipoles\n",
      "Merge consecutive multipoles\n",
      "Remove redundant apertures\n",
      "Remove zero length drifts\n",
      "Merge consecutive drifts\n",
      "Use simple bends\n",
      "Use simple quadrupoles\n",
      "Rebuild tracker data\n",
      "Compiling ContextCpu kernels...\n",
      "Done compiling ContextCpu kernels.\n",
      "All cavities switched off.\n"
     ]
    },
    {
     "name": "stderr",
     "output_type": "stream",
     "text": [
      "Tracking: 100%|██████████| 103000/103000 [06:39<00:00, 257.96it/s]\n",
      " 53%|█████▎    | 27/51 [3:09:34<2:47:03, 417.63s/it]"
     ]
    },
    {
     "name": "stdout",
     "output_type": "stream",
     "text": [
      "angle: -0.06632653061224492\n"
     ]
    },
    {
     "name": "stderr",
     "output_type": "stream",
     "text": [
      "Loading line from dict: 100%|██████████| 1336/1336 [00:00<00:00, 30664.78it/s]\n"
     ]
    },
    {
     "name": "stdout",
     "output_type": "stream",
     "text": [
      "Done loading line from dict.           \n",
      "Compiling ContextCpu kernels...\n",
      "Done compiling ContextCpu kernels.\n",
      "Compiling ContextCpu kernels...\n",
      "Done compiling ContextCpu kernels.\n",
      "Disable xdeps expressions\n",
      "Replance slices with equivalent elements\n",
      "Remove markers\n",
      "Remove inactive multipoles\n",
      "Merge consecutive multipoles\n",
      "Remove redundant apertures\n",
      "Remove zero length drifts\n",
      "Merge consecutive drifts\n",
      "Use simple bends\n",
      "Use simple quadrupoles\n",
      "Rebuild tracker data\n",
      "Compiling ContextCpu kernels...\n",
      "Done compiling ContextCpu kernels.\n",
      "All cavities switched off.\n"
     ]
    },
    {
     "name": "stderr",
     "output_type": "stream",
     "text": [
      "Tracking: 100%|██████████| 103000/103000 [06:41<00:00, 256.59it/s]\n",
      " 55%|█████▍    | 28/51 [3:16:33<2:40:16, 418.09s/it]"
     ]
    },
    {
     "name": "stdout",
     "output_type": "stream",
     "text": [
      "angle: -0.025510204081632848\n"
     ]
    },
    {
     "name": "stderr",
     "output_type": "stream",
     "text": [
      "Loading line from dict: 100%|██████████| 1336/1336 [00:00<00:00, 23568.16it/s]\n"
     ]
    },
    {
     "name": "stdout",
     "output_type": "stream",
     "text": [
      "Done loading line from dict.           \n",
      "Compiling ContextCpu kernels...\n",
      "Done compiling ContextCpu kernels.\n",
      "Compiling ContextCpu kernels...\n",
      "Done compiling ContextCpu kernels.\n",
      "Disable xdeps expressions\n",
      "Replance slices with equivalent elements\n",
      "Remove markers\n",
      "Remove inactive multipoles\n",
      "Merge consecutive multipoles\n",
      "Remove redundant apertures\n",
      "Remove zero length drifts\n",
      "Merge consecutive drifts\n",
      "Use simple bends\n",
      "Use simple quadrupoles\n",
      "Rebuild tracker data\n",
      "Compiling ContextCpu kernels...\n",
      "Done compiling ContextCpu kernels.\n",
      "All cavities switched off.\n"
     ]
    },
    {
     "name": "stderr",
     "output_type": "stream",
     "text": [
      "Tracking: 100%|██████████| 103000/103000 [06:39<00:00, 258.05it/s]\n",
      " 57%|█████▋    | 29/51 [3:23:30<2:33:09, 417.69s/it]"
     ]
    },
    {
     "name": "stdout",
     "output_type": "stream",
     "text": [
      "angle: 0.015306122448979442\n"
     ]
    },
    {
     "name": "stderr",
     "output_type": "stream",
     "text": [
      "Loading line from dict: 100%|██████████| 1336/1336 [00:00<00:00, 31950.59it/s]\n"
     ]
    },
    {
     "name": "stdout",
     "output_type": "stream",
     "text": [
      "Done loading line from dict.           \n",
      "Compiling ContextCpu kernels...\n",
      "Done compiling ContextCpu kernels.\n",
      "Compiling ContextCpu kernels...\n",
      "Done compiling ContextCpu kernels.\n",
      "Disable xdeps expressions\n",
      "Replance slices with equivalent elements\n",
      "Remove markers\n",
      "Remove inactive multipoles\n",
      "Merge consecutive multipoles\n",
      "Remove redundant apertures\n",
      "Remove zero length drifts\n",
      "Merge consecutive drifts\n",
      "Use simple bends\n",
      "Use simple quadrupoles\n",
      "Rebuild tracker data\n",
      "Compiling ContextCpu kernels...\n",
      "Done compiling ContextCpu kernels.\n",
      "All cavities switched off.\n"
     ]
    },
    {
     "name": "stderr",
     "output_type": "stream",
     "text": [
      "Tracking: 100%|██████████| 103000/103000 [06:40<00:00, 257.06it/s]\n",
      " 59%|█████▉    | 30/51 [3:30:29<2:26:17, 417.98s/it]"
     ]
    },
    {
     "name": "stdout",
     "output_type": "stream",
     "text": [
      "angle: 0.05612244897959173\n"
     ]
    },
    {
     "name": "stderr",
     "output_type": "stream",
     "text": [
      "Loading line from dict: 100%|██████████| 1336/1336 [00:00<00:00, 28547.07it/s]\n"
     ]
    },
    {
     "name": "stdout",
     "output_type": "stream",
     "text": [
      "Done loading line from dict.           \n",
      "Compiling ContextCpu kernels...\n",
      "Done compiling ContextCpu kernels.\n",
      "Compiling ContextCpu kernels...\n",
      "Done compiling ContextCpu kernels.\n",
      "Disable xdeps expressions\n",
      "Replance slices with equivalent elements\n",
      "Remove markers\n",
      "Remove inactive multipoles\n",
      "Merge consecutive multipoles\n",
      "Remove redundant apertures\n",
      "Remove zero length drifts\n",
      "Merge consecutive drifts\n",
      "Use simple bends\n",
      "Use simple quadrupoles\n",
      "Rebuild tracker data\n",
      "Compiling ContextCpu kernels...\n",
      "Done compiling ContextCpu kernels.\n",
      "All cavities switched off.\n"
     ]
    },
    {
     "name": "stderr",
     "output_type": "stream",
     "text": [
      "Tracking: 100%|██████████| 103000/103000 [06:39<00:00, 257.51it/s]\n",
      " 61%|██████    | 31/51 [3:37:26<2:19:17, 417.85s/it]"
     ]
    },
    {
     "name": "stdout",
     "output_type": "stream",
     "text": [
      "angle: 0.09693877551020402\n"
     ]
    },
    {
     "name": "stderr",
     "output_type": "stream",
     "text": [
      "Loading line from dict: 100%|██████████| 1336/1336 [00:00<00:00, 29525.06it/s]\n"
     ]
    },
    {
     "name": "stdout",
     "output_type": "stream",
     "text": [
      "Done loading line from dict.           \n",
      "Compiling ContextCpu kernels...\n",
      "Done compiling ContextCpu kernels.\n",
      "Compiling ContextCpu kernels...\n",
      "Done compiling ContextCpu kernels.\n",
      "Disable xdeps expressions\n",
      "Replance slices with equivalent elements\n",
      "Remove markers\n",
      "Remove inactive multipoles\n",
      "Merge consecutive multipoles\n",
      "Remove redundant apertures\n",
      "Remove zero length drifts\n",
      "Merge consecutive drifts\n",
      "Use simple bends\n",
      "Use simple quadrupoles\n",
      "Rebuild tracker data\n",
      "Compiling ContextCpu kernels...\n",
      "Done compiling ContextCpu kernels.\n",
      "All cavities switched off.\n"
     ]
    },
    {
     "name": "stderr",
     "output_type": "stream",
     "text": [
      "Tracking: 100%|██████████| 103000/103000 [06:39<00:00, 257.99it/s]\n",
      " 63%|██████▎   | 32/51 [3:44:23<2:12:15, 417.64s/it]"
     ]
    },
    {
     "name": "stdout",
     "output_type": "stream",
     "text": [
      "angle: 0.1377551020408163\n"
     ]
    },
    {
     "name": "stderr",
     "output_type": "stream",
     "text": [
      "Loading line from dict: 100%|██████████| 1336/1336 [00:00<00:00, 30083.97it/s]\n"
     ]
    },
    {
     "name": "stdout",
     "output_type": "stream",
     "text": [
      "Done loading line from dict.           \n",
      "Compiling ContextCpu kernels...\n",
      "Done compiling ContextCpu kernels.\n",
      "Compiling ContextCpu kernels...\n",
      "Done compiling ContextCpu kernels.\n",
      "Disable xdeps expressions\n",
      "Replance slices with equivalent elements\n",
      "Remove markers\n",
      "Remove inactive multipoles\n",
      "Merge consecutive multipoles\n",
      "Remove redundant apertures\n",
      "Remove zero length drifts\n",
      "Merge consecutive drifts\n",
      "Use simple bends\n",
      "Use simple quadrupoles\n",
      "Rebuild tracker data\n",
      "Compiling ContextCpu kernels...\n",
      "Done compiling ContextCpu kernels.\n",
      "All cavities switched off.\n"
     ]
    },
    {
     "name": "stderr",
     "output_type": "stream",
     "text": [
      "Tracking: 100%|██████████| 103000/103000 [06:39<00:00, 257.91it/s]\n",
      " 65%|██████▍   | 33/51 [3:51:20<2:05:13, 417.42s/it]"
     ]
    },
    {
     "name": "stdout",
     "output_type": "stream",
     "text": [
      "angle: 0.17857142857142838\n"
     ]
    },
    {
     "name": "stderr",
     "output_type": "stream",
     "text": [
      "Loading line from dict: 100%|██████████| 1336/1336 [00:00<00:00, 28630.06it/s]\n"
     ]
    },
    {
     "name": "stdout",
     "output_type": "stream",
     "text": [
      "Done loading line from dict.           \n",
      "Compiling ContextCpu kernels...\n",
      "Done compiling ContextCpu kernels.\n",
      "Compiling ContextCpu kernels...\n",
      "Done compiling ContextCpu kernels.\n",
      "Disable xdeps expressions\n",
      "Replance slices with equivalent elements\n",
      "Remove markers\n",
      "Remove inactive multipoles\n",
      "Merge consecutive multipoles\n",
      "Remove redundant apertures\n",
      "Remove zero length drifts\n",
      "Merge consecutive drifts\n",
      "Use simple bends\n",
      "Use simple quadrupoles\n",
      "Rebuild tracker data\n",
      "Compiling ContextCpu kernels...\n",
      "Done compiling ContextCpu kernels.\n",
      "All cavities switched off.\n"
     ]
    },
    {
     "name": "stderr",
     "output_type": "stream",
     "text": [
      "Tracking: 100%|██████████| 103000/103000 [06:39<00:00, 257.63it/s]\n",
      " 67%|██████▋   | 34/51 [3:58:18<1:58:16, 417.42s/it]"
     ]
    },
    {
     "name": "stdout",
     "output_type": "stream",
     "text": [
      "angle: 0.21938775510204067\n"
     ]
    },
    {
     "name": "stderr",
     "output_type": "stream",
     "text": [
      "Loading line from dict: 100%|██████████| 1336/1336 [00:00<00:00, 31099.44it/s]\n"
     ]
    },
    {
     "name": "stdout",
     "output_type": "stream",
     "text": [
      "Done loading line from dict.           \n",
      "Compiling ContextCpu kernels...\n",
      "Done compiling ContextCpu kernels.\n",
      "Compiling ContextCpu kernels...\n",
      "Done compiling ContextCpu kernels.\n",
      "Disable xdeps expressions\n",
      "Replance slices with equivalent elements\n",
      "Remove markers\n",
      "Remove inactive multipoles\n",
      "Merge consecutive multipoles\n",
      "Remove redundant apertures\n",
      "Remove zero length drifts\n",
      "Merge consecutive drifts\n",
      "Use simple bends\n",
      "Use simple quadrupoles\n",
      "Rebuild tracker data\n",
      "Compiling ContextCpu kernels...\n",
      "Done compiling ContextCpu kernels.\n",
      "All cavities switched off.\n"
     ]
    },
    {
     "name": "stderr",
     "output_type": "stream",
     "text": [
      "Tracking: 100%|██████████| 103000/103000 [06:39<00:00, 257.77it/s]\n",
      " 69%|██████▊   | 35/51 [4:05:15<1:51:17, 417.32s/it]"
     ]
    },
    {
     "name": "stdout",
     "output_type": "stream",
     "text": [
      "angle: 0.26020408163265296\n"
     ]
    },
    {
     "name": "stderr",
     "output_type": "stream",
     "text": [
      "Loading line from dict: 100%|██████████| 1336/1336 [00:00<00:00, 23196.26it/s]\n"
     ]
    },
    {
     "name": "stdout",
     "output_type": "stream",
     "text": [
      "Done loading line from dict.           \n",
      "Compiling ContextCpu kernels...\n",
      "Done compiling ContextCpu kernels.\n",
      "Compiling ContextCpu kernels...\n",
      "Done compiling ContextCpu kernels.\n",
      "Disable xdeps expressions\n",
      "Replance slices with equivalent elements\n",
      "Remove markers\n",
      "Remove inactive multipoles\n",
      "Merge consecutive multipoles\n",
      "Remove redundant apertures\n",
      "Remove zero length drifts\n",
      "Merge consecutive drifts\n",
      "Use simple bends\n",
      "Use simple quadrupoles\n",
      "Rebuild tracker data\n",
      "Compiling ContextCpu kernels...\n",
      "Done compiling ContextCpu kernels.\n",
      "All cavities switched off.\n"
     ]
    },
    {
     "name": "stderr",
     "output_type": "stream",
     "text": [
      "Tracking: 100%|██████████| 103000/103000 [06:39<00:00, 257.61it/s]\n",
      " 71%|███████   | 36/51 [4:12:12<1:44:20, 417.36s/it]"
     ]
    },
    {
     "name": "stdout",
     "output_type": "stream",
     "text": [
      "angle: 0.30102040816326525\n"
     ]
    },
    {
     "name": "stderr",
     "output_type": "stream",
     "text": [
      "Loading line from dict: 100%|██████████| 1336/1336 [00:00<00:00, 24628.68it/s]\n"
     ]
    },
    {
     "name": "stdout",
     "output_type": "stream",
     "text": [
      "Done loading line from dict.           \n",
      "Compiling ContextCpu kernels...\n",
      "Done compiling ContextCpu kernels.\n",
      "Compiling ContextCpu kernels...\n",
      "Done compiling ContextCpu kernels.\n",
      "Disable xdeps expressions\n",
      "Replance slices with equivalent elements\n",
      "Remove markers\n",
      "Remove inactive multipoles\n",
      "Merge consecutive multipoles\n",
      "Remove redundant apertures\n",
      "Remove zero length drifts\n",
      "Merge consecutive drifts\n",
      "Use simple bends\n",
      "Use simple quadrupoles\n",
      "Rebuild tracker data\n",
      "Compiling ContextCpu kernels...\n",
      "Done compiling ContextCpu kernels.\n",
      "All cavities switched off.\n"
     ]
    },
    {
     "name": "stderr",
     "output_type": "stream",
     "text": [
      "Tracking: 100%|██████████| 103000/103000 [06:39<00:00, 257.59it/s]\n",
      " 73%|███████▎  | 37/51 [4:19:09<1:37:23, 417.37s/it]"
     ]
    },
    {
     "name": "stdout",
     "output_type": "stream",
     "text": [
      "angle: 0.3418367346938773\n"
     ]
    },
    {
     "name": "stderr",
     "output_type": "stream",
     "text": [
      "Loading line from dict: 100%|██████████| 1336/1336 [00:00<00:00, 31962.80it/s]\n"
     ]
    },
    {
     "name": "stdout",
     "output_type": "stream",
     "text": [
      "Done loading line from dict.           \n",
      "Compiling ContextCpu kernels...\n",
      "Done compiling ContextCpu kernels.\n",
      "Compiling ContextCpu kernels...\n",
      "Done compiling ContextCpu kernels.\n",
      "Disable xdeps expressions\n",
      "Replance slices with equivalent elements\n",
      "Remove markers\n",
      "Remove inactive multipoles\n",
      "Merge consecutive multipoles\n",
      "Remove redundant apertures\n",
      "Remove zero length drifts\n",
      "Merge consecutive drifts\n",
      "Use simple bends\n",
      "Use simple quadrupoles\n",
      "Rebuild tracker data\n",
      "Compiling ContextCpu kernels...\n",
      "Done compiling ContextCpu kernels.\n",
      "All cavities switched off.\n"
     ]
    },
    {
     "name": "stderr",
     "output_type": "stream",
     "text": [
      "Tracking: 100%|██████████| 103000/103000 [06:40<00:00, 257.37it/s]\n",
      " 75%|███████▍  | 38/51 [4:26:07<1:30:26, 417.45s/it]"
     ]
    },
    {
     "name": "stdout",
     "output_type": "stream",
     "text": [
      "angle: 0.3826530612244896\n"
     ]
    },
    {
     "name": "stderr",
     "output_type": "stream",
     "text": [
      "Loading line from dict: 100%|██████████| 1336/1336 [00:00<00:00, 30240.80it/s]\n"
     ]
    },
    {
     "name": "stdout",
     "output_type": "stream",
     "text": [
      "Done loading line from dict.           \n",
      "Compiling ContextCpu kernels...\n",
      "Done compiling ContextCpu kernels.\n",
      "Compiling ContextCpu kernels...\n",
      "Done compiling ContextCpu kernels.\n",
      "Disable xdeps expressions\n",
      "Replance slices with equivalent elements\n",
      "Remove markers\n",
      "Remove inactive multipoles\n",
      "Merge consecutive multipoles\n",
      "Remove redundant apertures\n",
      "Remove zero length drifts\n",
      "Merge consecutive drifts\n",
      "Use simple bends\n",
      "Use simple quadrupoles\n",
      "Rebuild tracker data\n",
      "Compiling ContextCpu kernels...\n",
      "Done compiling ContextCpu kernels.\n",
      "All cavities switched off.\n"
     ]
    },
    {
     "name": "stderr",
     "output_type": "stream",
     "text": [
      "Tracking: 100%|██████████| 103000/103000 [06:39<00:00, 257.92it/s]\n",
      " 76%|███████▋  | 39/51 [4:33:04<1:23:27, 417.33s/it]"
     ]
    },
    {
     "name": "stdout",
     "output_type": "stream",
     "text": [
      "angle: 0.4234693877551019\n"
     ]
    },
    {
     "name": "stderr",
     "output_type": "stream",
     "text": [
      "Loading line from dict: 100%|██████████| 1336/1336 [00:00<00:00, 28518.01it/s]\n"
     ]
    },
    {
     "name": "stdout",
     "output_type": "stream",
     "text": [
      "Done loading line from dict.           \n",
      "Compiling ContextCpu kernels...\n",
      "Done compiling ContextCpu kernels.\n",
      "Compiling ContextCpu kernels...\n",
      "Done compiling ContextCpu kernels.\n",
      "Disable xdeps expressions\n",
      "Replance slices with equivalent elements\n",
      "Remove markers\n",
      "Remove inactive multipoles\n",
      "Merge consecutive multipoles\n",
      "Remove redundant apertures\n",
      "Remove zero length drifts\n",
      "Merge consecutive drifts\n",
      "Use simple bends\n",
      "Use simple quadrupoles\n",
      "Rebuild tracker data\n",
      "Compiling ContextCpu kernels...\n",
      "Done compiling ContextCpu kernels.\n",
      "All cavities switched off.\n"
     ]
    },
    {
     "name": "stderr",
     "output_type": "stream",
     "text": [
      "Tracking: 100%|██████████| 103000/103000 [06:40<00:00, 256.91it/s]\n",
      " 78%|███████▊  | 40/51 [4:40:03<1:16:34, 417.69s/it]"
     ]
    },
    {
     "name": "stdout",
     "output_type": "stream",
     "text": [
      "angle: 0.4642857142857142\n"
     ]
    },
    {
     "name": "stderr",
     "output_type": "stream",
     "text": [
      "Loading line from dict: 100%|██████████| 1336/1336 [00:00<00:00, 23871.48it/s]\n"
     ]
    },
    {
     "name": "stdout",
     "output_type": "stream",
     "text": [
      "Done loading line from dict.           \n",
      "Compiling ContextCpu kernels...\n",
      "Done compiling ContextCpu kernels.\n",
      "Compiling ContextCpu kernels...\n",
      "Done compiling ContextCpu kernels.\n",
      "Disable xdeps expressions\n",
      "Replance slices with equivalent elements\n",
      "Remove markers\n",
      "Remove inactive multipoles\n",
      "Merge consecutive multipoles\n",
      "Remove redundant apertures\n",
      "Remove zero length drifts\n",
      "Merge consecutive drifts\n",
      "Use simple bends\n",
      "Use simple quadrupoles\n",
      "Rebuild tracker data\n",
      "Compiling ContextCpu kernels...\n",
      "Done compiling ContextCpu kernels.\n",
      "All cavities switched off.\n"
     ]
    },
    {
     "name": "stderr",
     "output_type": "stream",
     "text": [
      "Tracking: 100%|██████████| 103000/103000 [06:38<00:00, 258.77it/s]\n",
      " 80%|████████  | 41/51 [4:46:58<1:09:31, 417.12s/it]"
     ]
    },
    {
     "name": "stdout",
     "output_type": "stream",
     "text": [
      "angle: 0.5029999999999999\n"
     ]
    },
    {
     "name": "stderr",
     "output_type": "stream",
     "text": [
      "Loading line from dict: 100%|██████████| 1336/1336 [00:00<00:00, 27769.96it/s]\n"
     ]
    },
    {
     "name": "stdout",
     "output_type": "stream",
     "text": [
      "Done loading line from dict.           \n",
      "Compiling ContextCpu kernels...\n",
      "Done compiling ContextCpu kernels.\n",
      "Compiling ContextCpu kernels...\n",
      "Done compiling ContextCpu kernels.\n",
      "Disable xdeps expressions\n",
      "Replance slices with equivalent elements\n",
      "Remove markers\n",
      "Remove inactive multipoles\n",
      "Merge consecutive multipoles\n",
      "Remove redundant apertures\n",
      "Remove zero length drifts\n",
      "Merge consecutive drifts\n",
      "Use simple bends\n",
      "Use simple quadrupoles\n",
      "Rebuild tracker data\n",
      "Compiling ContextCpu kernels...\n",
      "Done compiling ContextCpu kernels.\n",
      "All cavities switched off.\n"
     ]
    },
    {
     "name": "stderr",
     "output_type": "stream",
     "text": [
      "Tracking: 100%|██████████| 103000/103000 [06:37<00:00, 258.90it/s]\n",
      " 82%|████████▏ | 42/51 [4:53:54<1:02:29, 416.62s/it]"
     ]
    },
    {
     "name": "stdout",
     "output_type": "stream",
     "text": [
      "angle: 0.504\n"
     ]
    },
    {
     "name": "stderr",
     "output_type": "stream",
     "text": [
      "Loading line from dict: 100%|██████████| 1336/1336 [00:00<00:00, 24089.44it/s]\n"
     ]
    },
    {
     "name": "stdout",
     "output_type": "stream",
     "text": [
      "Done loading line from dict.           \n",
      "Compiling ContextCpu kernels...\n",
      "Done compiling ContextCpu kernels.\n",
      "Compiling ContextCpu kernels...\n",
      "Done compiling ContextCpu kernels.\n",
      "Disable xdeps expressions\n",
      "Replance slices with equivalent elements\n",
      "Remove markers\n",
      "Remove inactive multipoles\n",
      "Merge consecutive multipoles\n",
      "Remove redundant apertures\n",
      "Remove zero length drifts\n",
      "Merge consecutive drifts\n",
      "Use simple bends\n",
      "Use simple quadrupoles\n",
      "Rebuild tracker data\n",
      "Compiling ContextCpu kernels...\n",
      "Done compiling ContextCpu kernels.\n",
      "All cavities switched off.\n"
     ]
    },
    {
     "name": "stderr",
     "output_type": "stream",
     "text": [
      "Tracking: 100%|██████████| 103000/103000 [06:39<00:00, 258.03it/s]\n",
      " 84%|████████▍ | 43/51 [5:00:51<55:33, 416.73s/it]  "
     ]
    },
    {
     "name": "stdout",
     "output_type": "stream",
     "text": [
      "angle: 0.5049999999999999\n"
     ]
    },
    {
     "name": "stderr",
     "output_type": "stream",
     "text": [
      "Loading line from dict: 100%|██████████| 1336/1336 [00:00<00:00, 29183.85it/s]\n"
     ]
    },
    {
     "name": "stdout",
     "output_type": "stream",
     "text": [
      "Done loading line from dict.           \n",
      "Compiling ContextCpu kernels...\n",
      "Done compiling ContextCpu kernels.\n",
      "Compiling ContextCpu kernels...\n",
      "Done compiling ContextCpu kernels.\n",
      "Disable xdeps expressions\n",
      "Replance slices with equivalent elements\n",
      "Remove markers\n",
      "Remove inactive multipoles\n",
      "Merge consecutive multipoles\n",
      "Remove redundant apertures\n",
      "Remove zero length drifts\n",
      "Merge consecutive drifts\n",
      "Use simple bends\n",
      "Use simple quadrupoles\n",
      "Rebuild tracker data\n",
      "Compiling ContextCpu kernels...\n",
      "Done compiling ContextCpu kernels.\n",
      "All cavities switched off.\n"
     ]
    },
    {
     "name": "stderr",
     "output_type": "stream",
     "text": [
      "Tracking: 100%|██████████| 103000/103000 [06:39<00:00, 257.55it/s]\n",
      " 86%|████████▋ | 44/51 [5:07:48<48:38, 416.98s/it]"
     ]
    },
    {
     "name": "stdout",
     "output_type": "stream",
     "text": [
      "angle: 0.5051020408163265\n"
     ]
    },
    {
     "name": "stderr",
     "output_type": "stream",
     "text": [
      "Loading line from dict: 100%|██████████| 1336/1336 [00:00<00:00, 28663.31it/s]\n"
     ]
    },
    {
     "name": "stdout",
     "output_type": "stream",
     "text": [
      "Done loading line from dict.           \n",
      "Compiling ContextCpu kernels...\n",
      "Done compiling ContextCpu kernels.\n",
      "Compiling ContextCpu kernels...\n",
      "Done compiling ContextCpu kernels.\n",
      "Disable xdeps expressions\n",
      "Replance slices with equivalent elements\n",
      "Remove markers\n",
      "Remove inactive multipoles\n",
      "Merge consecutive multipoles\n",
      "Remove redundant apertures\n",
      "Remove zero length drifts\n",
      "Merge consecutive drifts\n",
      "Use simple bends\n",
      "Use simple quadrupoles\n",
      "Rebuild tracker data\n",
      "Compiling ContextCpu kernels...\n",
      "Done compiling ContextCpu kernels.\n",
      "All cavities switched off.\n"
     ]
    },
    {
     "name": "stderr",
     "output_type": "stream",
     "text": [
      "Tracking: 100%|██████████| 103000/103000 [06:39<00:00, 257.89it/s]\n",
      " 88%|████████▊ | 45/51 [5:14:46<41:42, 417.06s/it]"
     ]
    },
    {
     "name": "stdout",
     "output_type": "stream",
     "text": [
      "angle: 0.506\n"
     ]
    },
    {
     "name": "stderr",
     "output_type": "stream",
     "text": [
      "Loading line from dict: 100%|██████████| 1336/1336 [00:00<00:00, 30370.12it/s]\n"
     ]
    },
    {
     "name": "stdout",
     "output_type": "stream",
     "text": [
      "Done loading line from dict.           \n",
      "Compiling ContextCpu kernels...\n",
      "Done compiling ContextCpu kernels.\n",
      "Compiling ContextCpu kernels...\n",
      "Done compiling ContextCpu kernels.\n",
      "Disable xdeps expressions\n",
      "Replance slices with equivalent elements\n",
      "Remove markers\n",
      "Remove inactive multipoles\n",
      "Merge consecutive multipoles\n",
      "Remove redundant apertures\n",
      "Remove zero length drifts\n",
      "Merge consecutive drifts\n",
      "Use simple bends\n",
      "Use simple quadrupoles\n",
      "Rebuild tracker data\n",
      "Compiling ContextCpu kernels...\n",
      "Done compiling ContextCpu kernels.\n",
      "All cavities switched off.\n"
     ]
    },
    {
     "name": "stderr",
     "output_type": "stream",
     "text": [
      "Tracking: 100%|██████████| 103000/103000 [06:37<00:00, 259.35it/s]\n",
      " 90%|█████████ | 46/51 [5:21:41<34:41, 416.38s/it]"
     ]
    },
    {
     "name": "stdout",
     "output_type": "stream",
     "text": [
      "angle: 0.5459183673469385\n"
     ]
    },
    {
     "name": "stderr",
     "output_type": "stream",
     "text": [
      "Loading line from dict: 100%|██████████| 1336/1336 [00:00<00:00, 28230.24it/s]\n"
     ]
    },
    {
     "name": "stdout",
     "output_type": "stream",
     "text": [
      "Done loading line from dict.           \n",
      "Compiling ContextCpu kernels...\n",
      "Done compiling ContextCpu kernels.\n",
      "Compiling ContextCpu kernels...\n",
      "Done compiling ContextCpu kernels.\n",
      "Disable xdeps expressions\n",
      "Replance slices with equivalent elements\n",
      "Remove markers\n",
      "Remove inactive multipoles\n",
      "Merge consecutive multipoles\n",
      "Remove redundant apertures\n",
      "Remove zero length drifts\n",
      "Merge consecutive drifts\n",
      "Use simple bends\n",
      "Use simple quadrupoles\n",
      "Rebuild tracker data\n",
      "Compiling ContextCpu kernels...\n",
      "Done compiling ContextCpu kernels.\n",
      "All cavities switched off.\n"
     ]
    },
    {
     "name": "stderr",
     "output_type": "stream",
     "text": [
      "Tracking: 100%|██████████| 103000/103000 [06:39<00:00, 257.60it/s]\n",
      " 92%|█████████▏| 47/51 [5:28:38<27:46, 416.75s/it]"
     ]
    },
    {
     "name": "stdout",
     "output_type": "stream",
     "text": [
      "angle: 0.5867346938775508\n"
     ]
    },
    {
     "name": "stderr",
     "output_type": "stream",
     "text": [
      "Loading line from dict: 100%|██████████| 1336/1336 [00:00<00:00, 28491.62it/s]\n"
     ]
    },
    {
     "name": "stdout",
     "output_type": "stream",
     "text": [
      "Done loading line from dict.           \n",
      "Compiling ContextCpu kernels...\n",
      "Done compiling ContextCpu kernels.\n",
      "Compiling ContextCpu kernels...\n",
      "Done compiling ContextCpu kernels.\n",
      "Disable xdeps expressions\n",
      "Replance slices with equivalent elements\n",
      "Remove markers\n",
      "Remove inactive multipoles\n",
      "Merge consecutive multipoles\n",
      "Remove redundant apertures\n",
      "Remove zero length drifts\n",
      "Merge consecutive drifts\n",
      "Use simple bends\n",
      "Use simple quadrupoles\n",
      "Rebuild tracker data\n",
      "Compiling ContextCpu kernels...\n",
      "Done compiling ContextCpu kernels.\n",
      "All cavities switched off.\n"
     ]
    },
    {
     "name": "stderr",
     "output_type": "stream",
     "text": [
      "Tracking: 100%|██████████| 103000/103000 [06:39<00:00, 257.84it/s]\n",
      " 94%|█████████▍| 48/51 [5:35:35<20:50, 416.87s/it]"
     ]
    },
    {
     "name": "stdout",
     "output_type": "stream",
     "text": [
      "angle: 0.6683673469387754\n"
     ]
    },
    {
     "name": "stderr",
     "output_type": "stream",
     "text": [
      "Loading line from dict: 100%|██████████| 1336/1336 [00:00<00:00, 28855.78it/s]\n"
     ]
    },
    {
     "name": "stdout",
     "output_type": "stream",
     "text": [
      "Done loading line from dict.           \n",
      "Compiling ContextCpu kernels...\n",
      "Done compiling ContextCpu kernels.\n",
      "Compiling ContextCpu kernels...\n",
      "Done compiling ContextCpu kernels.\n",
      "Disable xdeps expressions\n",
      "Replance slices with equivalent elements\n",
      "Remove markers\n",
      "Remove inactive multipoles\n",
      "Merge consecutive multipoles\n",
      "Remove redundant apertures\n",
      "Remove zero length drifts\n",
      "Merge consecutive drifts\n",
      "Use simple bends\n",
      "Use simple quadrupoles\n",
      "Rebuild tracker data\n",
      "Compiling ContextCpu kernels...\n",
      "Done compiling ContextCpu kernels.\n",
      "All cavities switched off.\n"
     ]
    },
    {
     "name": "stderr",
     "output_type": "stream",
     "text": [
      "Tracking: 100%|██████████| 103000/103000 [06:39<00:00, 258.10it/s]\n",
      " 96%|█████████▌| 49/51 [5:42:32<13:53, 416.84s/it]"
     ]
    },
    {
     "name": "stdout",
     "output_type": "stream",
     "text": [
      "angle: 0.7091836734693877\n"
     ]
    },
    {
     "name": "stderr",
     "output_type": "stream",
     "text": [
      "Loading line from dict: 100%|██████████| 1336/1336 [00:00<00:00, 28809.94it/s]\n"
     ]
    },
    {
     "name": "stdout",
     "output_type": "stream",
     "text": [
      "Done loading line from dict.           \n",
      "Compiling ContextCpu kernels...\n",
      "Done compiling ContextCpu kernels.\n",
      "Compiling ContextCpu kernels...\n",
      "Done compiling ContextCpu kernels.\n",
      "Disable xdeps expressions\n",
      "Replance slices with equivalent elements\n",
      "Remove markers\n",
      "Remove inactive multipoles\n",
      "Merge consecutive multipoles\n",
      "Remove redundant apertures\n",
      "Remove zero length drifts\n",
      "Merge consecutive drifts\n",
      "Use simple bends\n",
      "Use simple quadrupoles\n",
      "Rebuild tracker data\n",
      "Compiling ContextCpu kernels...\n",
      "Done compiling ContextCpu kernels.\n",
      "All cavities switched off.\n"
     ]
    },
    {
     "name": "stderr",
     "output_type": "stream",
     "text": [
      "Tracking: 100%|██████████| 103000/103000 [06:40<00:00, 257.18it/s]\n",
      " 98%|█████████▊| 50/51 [5:49:30<06:57, 417.24s/it]"
     ]
    },
    {
     "name": "stdout",
     "output_type": "stream",
     "text": [
      "angle: 0.75\n"
     ]
    },
    {
     "name": "stderr",
     "output_type": "stream",
     "text": [
      "Loading line from dict: 100%|██████████| 1336/1336 [00:00<00:00, 28498.29it/s]\n"
     ]
    },
    {
     "name": "stdout",
     "output_type": "stream",
     "text": [
      "Done loading line from dict.           \n",
      "Compiling ContextCpu kernels...\n",
      "Done compiling ContextCpu kernels.\n",
      "Compiling ContextCpu kernels...\n",
      "Done compiling ContextCpu kernels.\n",
      "Disable xdeps expressions\n",
      "Replance slices with equivalent elements\n",
      "Remove markers\n",
      "Remove inactive multipoles\n",
      "Merge consecutive multipoles\n",
      "Remove redundant apertures\n",
      "Remove zero length drifts\n",
      "Merge consecutive drifts\n",
      "Use simple bends\n",
      "Use simple quadrupoles\n",
      "Rebuild tracker data\n",
      "Compiling ContextCpu kernels...\n",
      "Done compiling ContextCpu kernels.\n",
      "All cavities switched off.\n"
     ]
    },
    {
     "name": "stderr",
     "output_type": "stream",
     "text": [
      "Tracking: 100%|██████████| 103000/103000 [06:40<00:00, 257.43it/s]\n",
      "100%|██████████| 51/51 [5:56:28<00:00, 419.38s/it]\n"
     ]
    }
   ],
   "source": [
    "data=np.load('H_angles/angles.npz')\n",
    "\n",
    "n_steps=data['n_steps']\n",
    "num_samples=data['num_samples']\n",
    "delay_list=data['delay_list']\n",
    "repeated_delay=data['repeated_delay']\n",
    "\n",
    "\n",
    "data = np.load('results/optimize_angles.npz')\n",
    "\n",
    "# Access the shifted_angles and filter_horizontal arrays\n",
    "shifted_angles = data['shifted_angles']\n",
    "filter_horizontal = data['filter_horizontal']\n",
    "\n",
    "\n",
    "sorted_unique_values = np.sort(np.unique(repeated_delay))\n",
    "second_min_nonzero_value = sorted_unique_values[1]\n",
    "simulation_time=(np.max(repeated_delay)-second_min_nonzero_value)/1000\n",
    "\n",
    "# angle_list=np.linspace(-40e-3,40e-3,50)\n",
    "\n",
    "final_emittance_x=[]\n",
    "final_emittance_x_normalised=[]\n",
    "sigma_x_list=[]\n",
    "\n",
    "final_emittance_y=[]\n",
    "final_emittance_y_normalised=[]\n",
    "sigma_y_list=[]\n",
    "\n",
    "# simulation parameters: simulate 10 s of cooling, and take data once every 10 ms\n",
    "max_time_s = 715*1e-3\n",
    "int_time_s = 0.01\n",
    "\n",
    "# compute length of simulation, as well as sample interval, in turns\n",
    "num_turns = int(max_time_s/T_per_turn)\n",
    "save_interval = int(int_time_s/T_per_turn)\n",
    "\n",
    "\n",
    "# angles_list=[0]\n",
    "\n",
    "for angle in tqdm(shifted_angles):\n",
    "\n",
    "        print('angle:',angle)\n",
    "\n",
    "        line = xt.Line.from_json('elena.json')\n",
    "        particle_ref = line.particle_ref\n",
    "        line.build_tracker()\n",
    "        twiss = line.twiss()\n",
    "\n",
    "        beta0=particle_ref.beta0\n",
    "        gamma0 = particle_ref.gamma0\n",
    "        circumference = twiss.circumference #m\n",
    "\n",
    "        clight=constants.speed_of_light\n",
    "        T_per_turn = circumference/(clight*beta0)\n",
    "\n",
    "       \n",
    "\n",
    "        # electron cooler parameters\n",
    "        current = 0.34*1e-3 # A current\n",
    "        cooler_length = 1 # m cooler length\n",
    "        radius_e_beam = 14*1e-3 #m radius of the electron beam\n",
    "        temp_perp = 100e-3 # <E> [eV] = kb*T\n",
    "        temp_long =  1e-3 # <E> [eV]\n",
    "        magnetic_field = 0.010 # 100 Gauss in ELENA\n",
    "\n",
    "        electron_cooler = xt.ElectronCooler(\n",
    "                length=cooler_length,\n",
    "                radius_e_beam=radius_e_beam,\n",
    "                current=current,\n",
    "                temp_perp=temp_perp,\n",
    "                temp_long=temp_long,\n",
    "                magnetic_field=magnetic_field, \n",
    "                magnetic_field_ratio=1e-3,\n",
    "                offset_px=angle*1e-3,\n",
    "                space_charge=1)\n",
    "\n",
    "\n",
    "        # simulation parameters: simulate 1 s of cooling, and take data once every 10 ms\n",
    "        max_time_s = 715*1e-3\n",
    "        int_time_s = 0.01\n",
    "\n",
    "        # compute length of simulation, as well as sample interval, in turns\n",
    "        num_turns = int(max_time_s/T_per_turn)\n",
    "        save_interval = int(int_time_s/T_per_turn)\n",
    "\n",
    "        # create a monitor object, to reduce holded data\n",
    "        monitor = xt.ParticlesMonitor(start_at_turn=0, stop_at_turn=1,\n",
    "                                n_repetitions=int(num_turns/save_interval),\n",
    "                                repetition_period=save_interval,\n",
    "                                num_particles=num_particles)\n",
    "\n",
    "        line.discard_tracker()\n",
    "\n",
    "        \n",
    "        line.insert_element('ecooler', element=electron_cooler, index=ec_index) #this way monitor comes before the cooler\n",
    "        line.insert_element('monitor', element=monitor, index=ec_index)\n",
    "\n",
    "\n",
    "        #print(line.element_names[ec_index])\n",
    "        #print(line.element_names[ec_index+1])\n",
    "\n",
    "        context = xo.ContextCpu(omp_num_threads=6)\n",
    "        # context = xo.ContextCupy()\n",
    "        # context = xo.ContextPyopencl()\n",
    "        line.build_tracker(_context=context)\n",
    "        line.optimize_for_tracking()\n",
    "\n",
    "        line_table = line.get_table()\n",
    "        element_mask = np.where(line_table['element_type']=='Cavity')[0]\n",
    "        for i in element_mask:\n",
    "                cav_name = line_table['name'][i]\n",
    "                line.elements[i].voltage = 0\n",
    "                line.elements[i].frequency = 0\n",
    "                print('All cavities switched off.')\n",
    "\n",
    "        particles=particles_old.copy()\n",
    "\n",
    "        # just track all particles, and keep turn-by-turn data (memory expensive!)\n",
    "        line.track(particles, num_turns=num_turns,\n",
    "                turn_by_turn_monitor=False,with_progress=True)\n",
    "\n",
    "        # extract relevant values\n",
    "        x = monitor.x[:,:,0]\n",
    "        px = monitor.px[:,:,0]\n",
    "        y = monitor.y[:,:,0]\n",
    "        py = monitor.py[:,:,0]\n",
    "        delta = monitor.delta[:,:,0]\n",
    "        zeta = monitor.zeta[:,:,0]\n",
    "        time = monitor.at_turn[:, 0, 0] * T_per_turn\n",
    "\n",
    "        # compute actions. for x, remove the dp/p contribution:\n",
    "        action_x = ((x-Dx*delta)**2/beta_x + beta_x*px**2)\n",
    "        action_y = (y**2/beta_y + beta_y*py**2)\n",
    "\n",
    "        action_x = (gamma_x*(x-Dx*delta)**2 \n",
    "                + 2*alpha_x*(x-Dx*delta)*(px-Dpx*delta) \n",
    "                + beta_x*(px-Dpx*delta)**2)\n",
    "        action_y = (gamma_y*(y-Dy*delta)**2\n",
    "                + 2*alpha_y*(y-Dy*delta)*(py-Dpy*delta) \n",
    "                + beta_y*(py-Dpy*delta)**2)\n",
    "        \n",
    "\n",
    "        action_x2 = (gamma_x*(x)**2 \n",
    "                + 2*alpha_x*(x)*(px) \n",
    "                + beta_x*(px)**2)\n",
    "        action_y2= (gamma_y*(y)**2\n",
    "                + 2*alpha_y*(y)*(py) \n",
    "                + beta_y*(py)**2)\n",
    "\n",
    "        norm_emittance_x=np.mean(action_x,axis=1)/2*gamma0*beta0\n",
    "        norm_emittance_y=np.mean(action_y,axis=1)/2*gamma0*beta0\n",
    "\n",
    "        geo_emittance_x=np.mean(action_x,axis=1)/2\n",
    "        geo_emittance_y=np.mean(action_y,axis=1)/2\n",
    "\n",
    "        geo_emittance_x2=np.mean(action_x2,axis=1)/2\n",
    "        geo_emittance_y2=np.mean(action_y2,axis=1)/2\n",
    "\n",
    "\n",
    "        np.savez(f'results_lattice/optimize_angles/angle_{angle}.npz',\n",
    "                \n",
    "                geo_emittance_x2=geo_emittance_x2,\n",
    "                geo_emittance_y2=geo_emittance_y2,\n",
    "                \n",
    "                geo_emittance_x=geo_emittance_x,\n",
    "                geo_emittance_y=geo_emittance_y,\n",
    "                norm_emittance_x=norm_emittance_x,\n",
    "                norm_emittance_y=norm_emittance_y,\n",
    "                x=x,  \n",
    "                y=y,  \n",
    "                px=px,  \n",
    "                py=py,\n",
    "                delta=delta,\n",
    "                zeta=zeta,\n",
    "                time=time)  "
   ]
  },
  {
   "cell_type": "code",
   "execution_count": 59,
   "metadata": {},
   "outputs": [
    {
     "name": "stdout",
     "output_type": "stream",
     "text": [
      "geo_emittance_x 2.492922462697885e-06\n",
      "geo_emittance_y 2.5137426793903273e-06\n"
     ]
    }
   ],
   "source": [
    "print('geo_emittance_x',geo_emittance_x[0])\n",
    "print('geo_emittance_y',geo_emittance_y[0])"
   ]
  },
  {
   "cell_type": "code",
   "execution_count": 60,
   "metadata": {},
   "outputs": [
    {
     "data": {
      "image/png": "[encoded data removed]",
      "text/plain": [
       "<Figure size 1000x500 with 1 Axes>"
      ]
     },
     "metadata": {},
     "output_type": "display_data"
    }
   ],
   "source": [
    "# plot some overall values\n",
    "plt.figure(figsize=(10, 5))\n",
    "plt.rcParams.update({'font.size': 14})  # set the default fontsize to 14\n",
    "plt.plot(time, geo_emittance_x * 1e6)\n",
    "plt.xlabel('Time [s]')\n",
    "plt.ylabel('$\\\\epsilon_y$ [$\\\\mu$m]')\n",
    "plt.show()"
   ]
  }
 ],
 "metadata": {
  "kernelspec": {
   "display_name": "xsuite_2023",
   "language": "python",
   "name": "python3"
  },
  "language_info": {
   "codemirror_mode": {
    "name": "ipython",
    "version": 3
   },
   "file_extension": ".py",
   "mimetype": "text/x-python",
   "name": "python",
   "nbconvert_exporter": "python",
   "pygments_lexer": "ipython3",
   "version": "3.12.2"
  },
  "orig_nbformat": 4
 },
 "nbformat": 4,
 "nbformat_minor": 2
}
