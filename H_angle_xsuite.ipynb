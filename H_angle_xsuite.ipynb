{
 "cells": [
  {
   "cell_type": "code",
   "execution_count": 1,
   "id": "9bb243bb",
   "metadata": {},
   "outputs": [
    {
     "name": "stderr",
     "output_type": "stream",
     "text": [
      "/home/pkruyt/cernbox/xsuite-env/xtrack/xtrack/progress_indicator.py:95: TqdmExperimentalWarning: Using `tqdm.autonotebook.tqdm` in notebook mode. Use `tqdm.tqdm` instead to force console mode (e.g. in jupyter console)\n",
      "  from tqdm.autonotebook import tqdm\n"
     ]
    }
   ],
   "source": [
    "import numpy as np\n",
    "import xtrack as xt\n",
    "import xobjects as xo\n",
    "import xpart as xp\n",
    "import numpy as np\n",
    "import matplotlib.pyplot as plt"
   ]
  },
  {
   "cell_type": "code",
   "execution_count": 2,
   "id": "602a6bb4",
   "metadata": {},
   "outputs": [],
   "source": [
    "#lattice parameters for ELENA at 100 keV\n",
    "# from https://acc-models.web.cern.ch/acc-models/elena/scenarios/highenergy/highenergy.tfs\n",
    "qx = 2.36168984503\n",
    "qy = 1.38992572490\n",
    "circumference = 30.40531277976 #m\n",
    "\n",
    "# relativistic factors\n",
    "gamma_rel = 1.0001066 # at 100 keV\n",
    "\n",
    "# optics at e-cooler (approximate), in m\n",
    "beta_x = 1.7\n",
    "beta_y = 2.7\n",
    "D_x = 1\n",
    "\n",
    "# electron cooler parameters\n",
    "current = 0.001 # A current\n",
    "length = 1 # m cooler length\n",
    "radius_e_beam = 25*1e-3 #m radius of the electron beam\n",
    "temp_perp = 100e-3 # <E> [eV] = kb*T\n",
    "temp_long =  1e-3 # <E> [eV]\n",
    "magnetic_field = 0.010 # 100 Gauss in ELENA\n",
    "# idea is to study magnetic field imperfections\n",
    "magnetic_field_ratio_list = [0,5e-4,1e-3,5e-3] #Iterate over different values of the magnetic field quality to see effect on cooling performance.\n",
    "#magnetic_field_ratio is the ratio of transverse componenet of magnetic field and the longitudinal component. In the ideal case, the ratio is 0.\n",
    "\n",
    "# some initial beam parameters\n",
    "emittance = 5e-6\n",
    "dp_p = 2e-3 \n",
    "\n",
    "# simulation parameters: simulate 10 s of cooling, and take data once every 10 ms\n",
    "max_time_s = 10\n",
    "int_time_s = 0.01"
   ]
  },
  {
   "cell_type": "code",
   "execution_count": 3,
   "id": "588164be",
   "metadata": {},
   "outputs": [],
   "source": [
    "# some constants, and simple computations\n",
    "clight = 299792458.0\n",
    "mass0 = 938.27208816*1e6 #ev/c^2\n",
    "\n",
    "beta_rel = np.sqrt(gamma_rel**2 - 1)/gamma_rel\n",
    "p0c = mass0*beta_rel*gamma_rel #eV/c\n",
    "T_per_turn = circumference/(clight*beta_rel)\n",
    "\n",
    "# compute length of simulation, as well as sample interval, in turns\n",
    "num_turns = int(max_time_s/T_per_turn)\n",
    "save_interval = int(int_time_s/T_per_turn)\n",
    "\n",
    "# compute initial beam parameters\n",
    "x_init = np.sqrt(beta_x*emittance)\n",
    "y_init = np.sqrt(beta_y*emittance)"
   ]
  },
  {
   "cell_type": "code",
   "execution_count": 4,
   "metadata": {},
   "outputs": [
    {
     "name": "stderr",
     "output_type": "stream",
     "text": [
      "  0%|          | 0/10 [00:00<?, ?it/s]"
     ]
    },
    {
     "name": "stdout",
     "output_type": "stream",
     "text": [
      "Compiling ContextCpu kernels...\n"
     ]
    },
    {
     "name": "stderr",
     "output_type": "stream",
     "text": [
      "No longitudinal focusing found in the line. Assuming coasting beam uniformly distributed along the line - EXPERIMENTAL!\n"
     ]
    },
    {
     "name": "stdout",
     "output_type": "stream",
     "text": [
      "Done compiling ContextCpu kernels.\n",
      "Compiling ContextCpu kernels...\n"
     ]
    },
    {
     "name": "stderr",
     "output_type": "stream",
     "text": [
      "EXPERIMENTAL FEATURE: coasting beam.\n"
     ]
    },
    {
     "name": "stdout",
     "output_type": "stream",
     "text": [
      "Done compiling ContextCpu kernels.\n"
     ]
    },
    {
     "name": "stderr",
     "output_type": "stream",
     "text": [
      " 10%|█         | 1/10 [01:18<11:46, 78.55s/it]"
     ]
    },
    {
     "name": "stdout",
     "output_type": "stream",
     "text": [
      "Compiling ContextCpu kernels...\n"
     ]
    },
    {
     "name": "stderr",
     "output_type": "stream",
     "text": [
      "No longitudinal focusing found in the line. Assuming coasting beam uniformly distributed along the line - EXPERIMENTAL!\n"
     ]
    },
    {
     "name": "stdout",
     "output_type": "stream",
     "text": [
      "Done compiling ContextCpu kernels.\n",
      "Compiling ContextCpu kernels...\n"
     ]
    },
    {
     "name": "stderr",
     "output_type": "stream",
     "text": [
      "EXPERIMENTAL FEATURE: coasting beam.\n"
     ]
    },
    {
     "name": "stdout",
     "output_type": "stream",
     "text": [
      "Done compiling ContextCpu kernels.\n"
     ]
    },
    {
     "name": "stderr",
     "output_type": "stream",
     "text": [
      " 20%|██        | 2/10 [02:34<10:14, 76.76s/it]"
     ]
    },
    {
     "name": "stdout",
     "output_type": "stream",
     "text": [
      "Compiling ContextCpu kernels...\n"
     ]
    },
    {
     "name": "stderr",
     "output_type": "stream",
     "text": [
      "No longitudinal focusing found in the line. Assuming coasting beam uniformly distributed along the line - EXPERIMENTAL!\n"
     ]
    },
    {
     "name": "stdout",
     "output_type": "stream",
     "text": [
      "Done compiling ContextCpu kernels.\n",
      "Compiling ContextCpu kernels...\n"
     ]
    },
    {
     "name": "stderr",
     "output_type": "stream",
     "text": [
      "EXPERIMENTAL FEATURE: coasting beam.\n"
     ]
    },
    {
     "name": "stdout",
     "output_type": "stream",
     "text": [
      "Done compiling ContextCpu kernels.\n"
     ]
    },
    {
     "name": "stderr",
     "output_type": "stream",
     "text": [
      " 30%|███       | 3/10 [03:49<08:51, 75.99s/it]"
     ]
    },
    {
     "name": "stdout",
     "output_type": "stream",
     "text": [
      "Compiling ContextCpu kernels...\n"
     ]
    },
    {
     "name": "stderr",
     "output_type": "stream",
     "text": [
      "No longitudinal focusing found in the line. Assuming coasting beam uniformly distributed along the line - EXPERIMENTAL!\n"
     ]
    },
    {
     "name": "stdout",
     "output_type": "stream",
     "text": [
      "Done compiling ContextCpu kernels.\n",
      "Compiling ContextCpu kernels...\n"
     ]
    },
    {
     "name": "stderr",
     "output_type": "stream",
     "text": [
      "EXPERIMENTAL FEATURE: coasting beam.\n"
     ]
    },
    {
     "name": "stdout",
     "output_type": "stream",
     "text": [
      "Done compiling ContextCpu kernels.\n"
     ]
    },
    {
     "name": "stderr",
     "output_type": "stream",
     "text": [
      " 40%|████      | 4/10 [05:01<07:28, 74.75s/it]"
     ]
    },
    {
     "name": "stdout",
     "output_type": "stream",
     "text": [
      "Compiling ContextCpu kernels...\n"
     ]
    },
    {
     "name": "stderr",
     "output_type": "stream",
     "text": [
      "No longitudinal focusing found in the line. Assuming coasting beam uniformly distributed along the line - EXPERIMENTAL!\n"
     ]
    },
    {
     "name": "stdout",
     "output_type": "stream",
     "text": [
      "Done compiling ContextCpu kernels.\n",
      "Compiling ContextCpu kernels...\n"
     ]
    },
    {
     "name": "stderr",
     "output_type": "stream",
     "text": [
      "EXPERIMENTAL FEATURE: coasting beam.\n"
     ]
    },
    {
     "name": "stdout",
     "output_type": "stream",
     "text": [
      "Done compiling ContextCpu kernels.\n"
     ]
    },
    {
     "name": "stderr",
     "output_type": "stream",
     "text": [
      " 50%|█████     | 5/10 [06:17<06:14, 74.90s/it]"
     ]
    },
    {
     "name": "stdout",
     "output_type": "stream",
     "text": [
      "Compiling ContextCpu kernels...\n"
     ]
    },
    {
     "name": "stderr",
     "output_type": "stream",
     "text": [
      "No longitudinal focusing found in the line. Assuming coasting beam uniformly distributed along the line - EXPERIMENTAL!\n"
     ]
    },
    {
     "name": "stdout",
     "output_type": "stream",
     "text": [
      "Done compiling ContextCpu kernels.\n",
      "Compiling ContextCpu kernels...\n"
     ]
    },
    {
     "name": "stderr",
     "output_type": "stream",
     "text": [
      "EXPERIMENTAL FEATURE: coasting beam.\n"
     ]
    },
    {
     "name": "stdout",
     "output_type": "stream",
     "text": [
      "Done compiling ContextCpu kernels.\n"
     ]
    },
    {
     "name": "stderr",
     "output_type": "stream",
     "text": [
      " 60%|██████    | 6/10 [07:32<05:00, 75.14s/it]"
     ]
    },
    {
     "name": "stdout",
     "output_type": "stream",
     "text": [
      "Compiling ContextCpu kernels...\n"
     ]
    },
    {
     "name": "stderr",
     "output_type": "stream",
     "text": [
      "No longitudinal focusing found in the line. Assuming coasting beam uniformly distributed along the line - EXPERIMENTAL!\n"
     ]
    },
    {
     "name": "stdout",
     "output_type": "stream",
     "text": [
      "Done compiling ContextCpu kernels.\n",
      "Compiling ContextCpu kernels...\n"
     ]
    },
    {
     "name": "stderr",
     "output_type": "stream",
     "text": [
      "EXPERIMENTAL FEATURE: coasting beam.\n"
     ]
    },
    {
     "name": "stdout",
     "output_type": "stream",
     "text": [
      "Done compiling ContextCpu kernels.\n"
     ]
    },
    {
     "name": "stderr",
     "output_type": "stream",
     "text": [
      " 70%|███████   | 7/10 [08:46<03:44, 74.84s/it]"
     ]
    },
    {
     "name": "stdout",
     "output_type": "stream",
     "text": [
      "Compiling ContextCpu kernels...\n"
     ]
    },
    {
     "name": "stderr",
     "output_type": "stream",
     "text": [
      "No longitudinal focusing found in the line. Assuming coasting beam uniformly distributed along the line - EXPERIMENTAL!\n"
     ]
    },
    {
     "name": "stdout",
     "output_type": "stream",
     "text": [
      "Done compiling ContextCpu kernels.\n",
      "Compiling ContextCpu kernels...\n"
     ]
    },
    {
     "name": "stderr",
     "output_type": "stream",
     "text": [
      "EXPERIMENTAL FEATURE: coasting beam.\n"
     ]
    },
    {
     "name": "stdout",
     "output_type": "stream",
     "text": [
      "Done compiling ContextCpu kernels.\n"
     ]
    },
    {
     "name": "stderr",
     "output_type": "stream",
     "text": [
      " 80%|████████  | 8/10 [10:03<02:30, 75.35s/it]"
     ]
    },
    {
     "name": "stdout",
     "output_type": "stream",
     "text": [
      "Compiling ContextCpu kernels...\n"
     ]
    },
    {
     "name": "stderr",
     "output_type": "stream",
     "text": [
      "No longitudinal focusing found in the line. Assuming coasting beam uniformly distributed along the line - EXPERIMENTAL!\n"
     ]
    },
    {
     "name": "stdout",
     "output_type": "stream",
     "text": [
      "Done compiling ContextCpu kernels.\n",
      "Compiling ContextCpu kernels...\n"
     ]
    },
    {
     "name": "stderr",
     "output_type": "stream",
     "text": [
      "EXPERIMENTAL FEATURE: coasting beam.\n"
     ]
    },
    {
     "name": "stdout",
     "output_type": "stream",
     "text": [
      "Done compiling ContextCpu kernels.\n"
     ]
    },
    {
     "name": "stderr",
     "output_type": "stream",
     "text": [
      " 90%|█████████ | 9/10 [11:18<01:15, 75.39s/it]"
     ]
    },
    {
     "name": "stdout",
     "output_type": "stream",
     "text": [
      "Compiling ContextCpu kernels...\n"
     ]
    },
    {
     "name": "stderr",
     "output_type": "stream",
     "text": [
      "No longitudinal focusing found in the line. Assuming coasting beam uniformly distributed along the line - EXPERIMENTAL!\n"
     ]
    },
    {
     "name": "stdout",
     "output_type": "stream",
     "text": [
      "Done compiling ContextCpu kernels.\n",
      "Compiling ContextCpu kernels...\n"
     ]
    },
    {
     "name": "stderr",
     "output_type": "stream",
     "text": [
      "EXPERIMENTAL FEATURE: coasting beam.\n"
     ]
    },
    {
     "name": "stdout",
     "output_type": "stream",
     "text": [
      "Done compiling ContextCpu kernels.\n"
     ]
    },
    {
     "name": "stderr",
     "output_type": "stream",
     "text": [
      "100%|██████████| 10/10 [12:34<00:00, 75.43s/it]\n",
      "No artists with labels found to put in legend.  Note that artists whose label start with an underscore are ignored when legend() is called with no argument.\n"
     ]
    },
    {
     "data": {
      "image/png": "[encoded data removed]",
      "text/plain": [
       "<Figure size 1200x800 with 1 Axes>"
      ]
     },
     "metadata": {},
     "output_type": "display_data"
    }
   ],
   "source": [
    "from tqdm import tqdm\n",
    "\n",
    "n_part = 1000\n",
    "\n",
    "angle_list=np.linspace(-4e-3,4e-3,10)\n",
    "# angle_list=np.linspace(-40e-3,40e-3,50)\n",
    "\n",
    "final_emittance_x=[]\n",
    "final_emittance_x_normalised=[]\n",
    "sigma_x_list=[]\n",
    "\n",
    "final_emittance_y=[]\n",
    "final_emittance_y_normalised=[]\n",
    "sigma_y_list=[]\n",
    "\n",
    "# simulation parameters: simulate 10 s of cooling, and take data once every 10 ms\n",
    "max_time_s = 2.4\n",
    "int_time_s = 0.01\n",
    "\n",
    "# compute length of simulation, as well as sample interval, in turns\n",
    "num_turns = int(max_time_s/T_per_turn)\n",
    "save_interval = int(int_time_s/T_per_turn)\n",
    "\n",
    "\n",
    "#plot some overall values\n",
    "plt.figure(figsize=(12, 8))\n",
    "plt.rcParams.update({'font.size': 25})\n",
    "for angle in tqdm(angle_list):\n",
    "        # Define the whole machine\n",
    "        arc = xt.LineSegmentMap(\n",
    "                qx=qx, qy=qx,\n",
    "                dqx=0, dqy=0,\n",
    "                length=circumference,\n",
    "                betx=beta_x,\n",
    "                bety=beta_y,\n",
    "                dx=D_x)\n",
    "\n",
    "        electron_cooler = xt.ElectronCooler(\n",
    "                length=length,\n",
    "                radius_e_beam=radius_e_beam,\n",
    "                current=current,\n",
    "                temp_perp=temp_perp,\n",
    "                temp_long=temp_long,\n",
    "                magnetic_field=magnetic_field, \n",
    "                magnetic_field_ratio=1e-3,\n",
    "                offset_px=angle,\n",
    "                space_charge=0)\n",
    "\n",
    "        # create a monitor object, to reduce holded data\n",
    "        monitor = xt.ParticlesMonitor(start_at_turn=0, stop_at_turn=1,\n",
    "                                n_repetitions=int(num_turns/save_interval),\n",
    "                                repetition_period=save_interval,\n",
    "                                num_particles=n_part)\n",
    "\n",
    "        line = xt.Line(\n",
    "                elements=[monitor, electron_cooler, arc])\n",
    "        line.particle_ref = xp.Particles(mass0=mass0, q0=1, p0c=p0c)\n",
    "        line.build_tracker()\n",
    "\n",
    "        # create desired beam\n",
    "        bunch_intensity = None\n",
    "        beta_gamma = line.particle_ref._beta0*line.particle_ref._gamma0\n",
    "        gemitt_x = 10e-6\n",
    "        gemitt_y = 5e-6\n",
    "        nemitt_x = gemitt_x*beta_gamma\n",
    "        nemitt_y = gemitt_y*beta_gamma\n",
    "        sigma_dp = 1e-3\n",
    "        particles = xp.generate_matched_gaussian_bunch(\n",
    "                num_particles=n_part, total_intensity_particles=bunch_intensity,\n",
    "                nemitt_x=nemitt_x, nemitt_y=nemitt_y, sigma_dp=sigma_dp,\n",
    "                coasting=True,\n",
    "                line=line)\n",
    "\n",
    "        # just track all particles, and keep turn-by-turn data (memory expensive!)\n",
    "        line.track(particles, num_turns=num_turns,\n",
    "                turn_by_turn_monitor=False)\n",
    "\n",
    "        # extract relevant values\n",
    "        x = monitor.x[:,:,0]\n",
    "        px = monitor.px[:,:,0]\n",
    "        y = monitor.y[:,:,0]\n",
    "        py = monitor.py[:,:,0]\n",
    "        delta = monitor.delta[:,:,0]\n",
    "        time = monitor.at_turn[:, 0, 0] * T_per_turn\n",
    "\n",
    "        # compute actions. for x, remove the dp/p contribution:\n",
    "        action_x = ((x-D_x*delta)**2/beta_x + beta_x*px**2)\n",
    "        # for y, simple compute:\n",
    "        action_y = (y**2/beta_y + beta_y*py**2)\n",
    "\n",
    "        emittance_x_normalised=np.mean(action_x, axis=1)/gemitt_x/2\n",
    "        emittance_x=np.mean(action_x, axis=1)\n",
    "        sigma_x=np.std(x*1e3, axis=1)\n",
    "        \n",
    "        emittance_y_normalised=np.mean(action_y, axis=1)/gemitt_y/2\n",
    "        emittance_y=np.mean(action_y, axis=1)\n",
    "        sigma_y=np.std(y*1e3, axis=1)\n",
    "        \n",
    "\n",
    "        #plt.plot(time, np.std(delta, axis=1)/sigma_dp, label=f'RMS dp/p (init={sigma_dp})')\n",
    "\n",
    "        #(WARNING! FACTOR 2 TO BE UNDERSTOOD!)\n",
    "        #plt.plot(time, np.mean(action_x, axis=1)/gemitt_x/2, label=f'RMS $\\epsilon_x$ (init={gemitt_x})')\n",
    "        #plt.plot(time, np.mean(action_y, axis=1)/gemitt_y/2, label=f'RMS $\\epsilon_y$ (init={gemitt_y})')\n",
    "\n",
    "        #plt.plot(time,emittance_x , label=r'$\\theta$='f'{angle}')\n",
    "\n",
    "        final_emittance_x_normalised.append(emittance_x_normalised[-1])       \n",
    "        final_emittance_x.append(emittance_x[-1])\n",
    "        sigma_x_list.append(sigma_x[-1])\n",
    "\n",
    "        final_emittance_y_normalised.append(emittance_y_normalised[-1])       \n",
    "        final_emittance_y.append(emittance_y[-1])\n",
    "        sigma_y_list.append(sigma_y[-1])\n",
    "                #final_emittance_y.append(np.mean(action_y, axis=1)/gemitt_y/2)\n",
    "\n",
    "# sigma_x_list = [float(value) * 1e3 for value in sigma_x_list]\n",
    "# sigma_y_list = [float(value) * 1e3 for value in sigma_y_list]\n"
   ]
  },
  {
   "cell_type": "code",
   "execution_count": 6,
   "id": "197830f2",
   "metadata": {},
   "outputs": [
    {
     "data": {
      "image/png": "[encoded data removed]",
      "text/plain": [
       "<Figure size 1200x800 with 1 Axes>"
      ]
     },
     "metadata": {},
     "output_type": "display_data"
    }
   ],
   "source": [
    "# plt.figure(figsize=(12, 8))\n",
    "# plt.rcParams.update({'font.size': 25})\n",
    "# plt.plot(angle_list,final_emittance_x_normalised)\n",
    "# plt.xlabel(r'$\\theta$')\n",
    "# plt.ylabel('final emittance')\n",
    "# plt.ticklabel_format(style='sci', axis='x', scilimits=(0,0))\n",
    "# plt.tight_layout()\n",
    "# plt.show()\n",
    "\n",
    "\n",
    "plt.figure(figsize=(12, 8))\n",
    "plt.rcParams.update({'font.size': 25})\n",
    "plt.scatter(angle_list*1e3,sigma_y_list,label='Vertical')\n",
    "plt.scatter(angle_list*1e3,sigma_x_list,label='Horizontal')\n",
    "plt.xlabel(r'$\\theta_x$ [mrad]')\n",
    "plt.ylabel(r'profile $\\sigma$ [mm]')\n",
    "plt.ticklabel_format(style='sci', axis='x', scilimits=(0,0))\n",
    "plt.ticklabel_format(style='sci', axis='y', scilimits=(0,0))\n",
    "plt.legend()\n",
    "plt.tight_layout()\n",
    "plt.savefig('H_angle_Xsuite.png', format='png', dpi=300)\n",
    "plt.show()\n",
    "\n",
    "\n"
   ]
  }
 ],
 "metadata": {
  "kernelspec": {
   "display_name": "base",
   "language": "python",
   "name": "python3"
  },
  "language_info": {
   "codemirror_mode": {
    "name": "ipython",
    "version": 3
   },
   "file_extension": ".py",
   "mimetype": "text/x-python",
   "name": "python",
   "nbconvert_exporter": "python",
   "pygments_lexer": "ipython3",
   "version": "3.11.3"
  },
  "vscode": {
   "interpreter": {
    "hash": "b3c9a0a5475e728b39e61ac58d244ad936924f9cf82746515a9faeb1f1a0b703"
   }
  }
 },
 "nbformat": 4,
 "nbformat_minor": 5
}
