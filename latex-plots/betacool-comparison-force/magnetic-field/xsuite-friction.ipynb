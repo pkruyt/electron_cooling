{
 "cells": [
  {
   "cell_type": "code",
   "execution_count": 5,
   "id": "16460ba6",
   "metadata": {},
   "outputs": [
    {
     "name": "stdout",
     "output_type": "stream",
     "text": [
      "p0c: 18337.183231339193\n"
     ]
    }
   ],
   "source": [
    "# copyright ############################### #\n",
    "# This file is part of the Xtrack Package.  #\n",
    "# Copyright (c) CERN, 2021.                 #\n",
    "# ######################################### #\n",
    "\n",
    "\n",
    "import xtrack as xt\n",
    "import xobjects as xo\n",
    "import xpart as xp\n",
    "\n",
    "import ducktrack as dtk\n",
    "import numpy as np\n",
    "import matplotlib.pyplot as plt\n",
    "from matplotlib.widgets import Slider\n",
    "from tqdm import tqdm\n",
    "\n",
    "\n",
    "\n",
    "\n",
    "\n",
    "\n",
    "beta_rel=0.09423258405\n",
    "gamma = 1.004469679\n",
    "\n",
    "current=0.6 #A\n",
    "cooler_length = 3 # m cooler length\n",
    "r_beam=25*1e-3 #m\n",
    "\n",
    "T_perp = 0.01 # <E> [eV] = kb*T\n",
    "T_l =  0.001 # <E> [eV]\n",
    "magnetic_field = 0.1 # T for LEIR\n",
    "B_ratio=0\n",
    "\n",
    "\n",
    "mass0=193729.0248722061*1e6 #eV/c2\n",
    "c=299792458.0\n",
    "p0c = mass0*beta_rel*gamma #eV/c\n",
    "\n",
    "print('p0c:',p0c*1e-6)\n",
    "\n",
    "circumference = 78.54370266 #m\n",
    "T = circumference/(c*beta_rel)\n",
    "ms_per_turn = 1000*T\n",
    "s_per_turn = T\n",
    "\n",
    "# mass0=\n",
    "\n",
    "beta_x=5\n",
    "beta_y=5\n",
    "\n",
    "\n",
    "disp_x=0\n",
    "Q_x=1.82\n",
    "Q_y=2.72\n",
    "dQx=-0.0005113579791\n",
    "dQy=-0.0001665178543\n",
    "\n",
    "arc = xt.LineSegmentMap(\n",
    "        qx=Q_x, qy=Q_y, qs=0,\n",
    "        dqx=dQx, dqy=dQy,\n",
    "        bets = 1*1e40, length=circumference,\n",
    "        betx=beta_x,\n",
    "        bety=beta_y\n",
    "        )\n",
    "\n",
    "\n",
    "\n",
    "\n",
    "\n",
    "num_particles=int(1e6)\n",
    "\n",
    "#x=np.random.normal(0,np.sqrt(5*emittance) ,num_particles),\n",
    "#px=np.random.normal(0, np.sqrt(emittance/5), num_particles),\n",
    "#x=np.linspace(1*1e-3, 20*1e-3, num_particles),\n",
    "#px=np.random.uniform(0, 0, num_particles),\n",
    "\n",
    "\n",
    "\n"
   ]
  },
  {
   "cell_type": "code",
   "execution_count": 6,
   "id": "16950d18",
   "metadata": {},
   "outputs": [],
   "source": [
    "#force againt velocity\n",
    "\n",
    "emittance=14*1e-6 #inital emittance\n",
    "\n",
    "px=np.random.normal(0, 4*np.sqrt(emittance/beta_x), num_particles)\n",
    "\n",
    "dtk_particle = dtk.TestParticles(\n",
    "    \n",
    "    mass0=mass0,\n",
    "    p0c=p0c,\n",
    "    x=np.random.normal(0,0 ,num_particles),\n",
    "    px=px,\n",
    "    y=np.random.normal(0, 1e-9 ,num_particles),\n",
    "    py=np.random.normal(0, 1e-9 ,num_particles),\n",
    "    delta=np.random.normal(0, 0 ,num_particles),\n",
    "    zeta=np.random.normal(0, 0 ,num_particles),\n",
    "    q0=54)\n",
    "\n",
    "\n",
    "\n",
    "dtk_cooler = dtk.elements.ElectronCooler(current=current,length=cooler_length,r_beam=r_beam,\n",
    "                                                T_perp=T_perp,T_l=T_l,\n",
    "                                                magnetic_field=magnetic_field,B_ratio=0,\n",
    "                                                Neutralisation_space_charge=0,Neutralisation_rotation=0)\n",
    "\n",
    "\n",
    "force,Fy,Fl = dtk_cooler.force(dtk_particle)\n",
    "\n",
    "def temperature_to_velocity_1D(temperature_eV):\n",
    "    \n",
    "    T=temperature_eV#J\n",
    "    mass = 511 *1e3\n",
    "    velocity = c*np.sqrt( T/ mass)\n",
    "    return velocity\n",
    "\n",
    "\n",
    "px_tot = p0c*dtk_particle.px\n",
    "beta_diff = px_tot/(mass0*gamma)\n",
    "v_diff = beta_diff*c\n",
    "\n",
    "\n",
    "\n",
    "\n"
   ]
  },
  {
   "cell_type": "code",
   "execution_count": 7,
   "id": "91fa6d9a",
   "metadata": {},
   "outputs": [
    {
     "data": {
      "image/png": "[encoded data removed]",
      "text/plain": [
       "<Figure size 800x600 with 1 Axes>"
      ]
     },
     "metadata": {},
     "output_type": "display_data"
    }
   ],
   "source": [
    "plt.rcParams.update({'font.size': 14})\n",
    "plt.figure(figsize=(8, 6))\n",
    "plt.scatter(v_diff,-force,label='Xsuite')\n",
    "\n",
    "#plt.axvline(temperature_to_velocity_1D(T_l),color='black',label='V(T longitudinal)')\n",
    "#plt.axvline(temperature_to_velocity_1D(T_perp),color='purple',label='V(T transverse)')\n",
    "\n",
    "plt.xlim([-6*1e5,6*1e5])\n",
    "#plt.ylim([0,250])\n",
    "#plt.title(f'LEIR: F Longitudinal vs Δv')\n",
    "plt.legend()\n",
    "plt.ylabel('-F Longitudinal [eV/m]')\n",
    "plt.xlabel('Δv [m/s]')\n",
    "plt.ticklabel_format(axis=\"x\", style=\"sci\", scilimits=(0,0))\n",
    "\n",
    "plt.ticklabel_format(useOffset=False,style='plain')\n",
    "plt.subplots_adjust(bottom=0.15)\n",
    "plt.show()"
   ]
  },
  {
   "cell_type": "code",
   "execution_count": 8,
   "id": "d94a4f07",
   "metadata": {},
   "outputs": [],
   "source": [
    "filepath=f'results/friction-force-xsuite_B={magnetic_field}.npz'\n",
    "\n",
    "\n",
    "\n",
    "np.savez(filepath, v_diff=v_diff, force=force)"
   ]
  }
 ],
 "metadata": {
  "kernelspec": {
   "display_name": "base",
   "language": "python",
   "name": "python3"
  },
  "language_info": {
   "codemirror_mode": {
    "name": "ipython",
    "version": 3
   },
   "file_extension": ".py",
   "mimetype": "text/x-python",
   "name": "python",
   "nbconvert_exporter": "python",
   "pygments_lexer": "ipython3",
   "version": "3.11.3"
  },
  "vscode": {
   "interpreter": {
    "hash": "b3c9a0a5475e728b39e61ac58d244ad936924f9cf82746515a9faeb1f1a0b703"
   }
  }
 },
 "nbformat": 4,
 "nbformat_minor": 5
}
