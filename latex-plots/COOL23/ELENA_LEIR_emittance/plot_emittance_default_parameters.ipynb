{
 "cells": [
  {
   "cell_type": "code",
   "execution_count": null,
   "id": "16460ba6",
   "metadata": {},
   "outputs": [],
   "source": [
    "import numpy as np\n",
    "import matplotlib.pyplot as plt\n",
    "\n",
    "def load_data(machine,module):\n",
    "    filename = f\"{machine}_results/emittance_{module}.npz\"\n",
    "    data = np.load(filename)\n",
    "    time = data['time']\n",
    "    emittance_x = data['emittance_x']\n",
    "    emittance_y = data['emittance_y']\n",
    "    dp_p=data['dp_p']\n",
    "    return time, emittance_x,emittance_y,dp_p\n",
    "\n",
    "cmap = plt.get_cmap(\"tab10\")\n",
    "plt.figure(figsize=(12, 8))\n",
    "plt.rcParams.update({'font.size': 25})\n",
    "\n",
    "#ELENA\n",
    "time, emittance_x,emittance_y,dp_p = load_data('ELENA','betacool')\n",
    "plt.plot(time, emittance_x*1e6, label=f'betacool',color='red',linestyle='--', linewidth=5.0)\n",
    "time, emittance_x,emittance_y,dp_p= load_data('ELENA','xsuite')\n",
    "plt.plot(time, emittance_x*1e6, label=f'xsuite',color=cmap(0), linewidth=5.0)\n",
    "\n",
    "#LEIR\n",
    "time, emittance_x,emittance_y,dp_p = load_data('LEIR','betacool')\n",
    "plt.plot(time, emittance_x*1e6, label=f'betacool',color='red',linestyle='--', linewidth=5.0)\n",
    "time, emittance_x,emittance_y,dp_p= load_data('LEIR','xsuite')\n",
    "plt.plot(time, emittance_x*1e6, label=f'xsuite',color=cmap(0), linewidth=5.0)\n",
    "# time, emittance_x,emittance_y,dp_p= load_data('ducktrack')\n",
    "# plt.plot(time, emittance_x*1e6, label=f'ducktrack',color=cmap(0))\n",
    "\n",
    "plt.xlabel('Time [s]')\n",
    "plt.ylabel(r'$\\epsilon$ [$\\mu$ rad]')\n",
    "plt.legend()\n",
    "# plt.savefig('LEIR:emittance_default_parameters.png', dpi=300)\n",
    "# plt.savefig('LEIR:emittance_default_parameters.eps', dpi=300)\n",
    "plt.show()\n"
   ]
  }
 ],
 "metadata": {
  "kernelspec": {
   "display_name": "base",
   "language": "python",
   "name": "python3"
  },
  "language_info": {
   "codemirror_mode": {
    "name": "ipython",
    "version": 3
   },
   "file_extension": ".py",
   "mimetype": "text/x-python",
   "name": "python",
   "nbconvert_exporter": "python",
   "pygments_lexer": "ipython3",
   "version": "3.11.3"
  },
  "vscode": {
   "interpreter": {
    "hash": "b3c9a0a5475e728b39e61ac58d244ad936924f9cf82746515a9faeb1f1a0b703"
   }
  }
 },
 "nbformat": 4,
 "nbformat_minor": 5
}
