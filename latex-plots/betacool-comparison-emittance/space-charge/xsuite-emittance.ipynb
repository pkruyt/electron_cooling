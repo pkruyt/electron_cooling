{
 "cells": [
  {
   "cell_type": "code",
   "execution_count": 5,
   "id": "16460ba6",
   "metadata": {},
   "outputs": [
    {
     "name": "stdout",
     "output_type": "stream",
     "text": [
      "T: 359675.1494939148\n"
     ]
    }
   ],
   "source": [
    "# copyright ############################### #\n",
    "# This file is part of the Xtrack Package.  #\n",
    "# Copyright (c) CERN, 2021.                 #\n",
    "# ######################################### #\n",
    "\n",
    "import xtrack as xt\n",
    "import xobjects as xo\n",
    "import xpart as xp\n",
    "\n",
    "import ducktrack as dtk\n",
    "import numpy as np\n",
    "import matplotlib.pyplot as plt\n",
    "from matplotlib.widgets import Slider\n",
    "from tqdm import tqdm\n",
    "\n",
    "\n",
    "beta_rel=0.09423258405\n",
    "gamma = 1.004469679\n",
    "\n",
    "current=0.6 #ampere\n",
    "cooler_length = 3 # m cooler length\n",
    "r_beam=25*1e-3\n",
    "\n",
    "\n",
    "\n",
    "T_perp = 0.01 # <E> [eV] = kb*T\n",
    "T_l =  0.001 # <E> [eV]\n",
    "magnetic_field = 0.07 # T for LEIR\n",
    "B_ratio=0\n",
    "Neutralisation_space_charge=1\n",
    "\n",
    "c=299792458.0\n",
    "\n",
    "mass0=193729.0248722061*1e6 #eV/c2\n",
    "c=299792458.0\n",
    "p0c = mass0*beta_rel*gamma #eV/c\n",
    "q0=54\n",
    "\n",
    "\n",
    "circumference = 78.54370266 #m\n",
    "T = circumference/(c*beta_rel)\n",
    "ms_per_turn = 1000*T\n",
    "s_per_turn = T\n",
    "\n",
    "print('T:',1/T)\n",
    "\n",
    "beta_x=5\n",
    "beta_y=5\n",
    "\n",
    "\n",
    "disp_x=0\n",
    "Q_x=1.82\n",
    "Q_y=2.72\n",
    "dQx=-0.0005113579791\n",
    "dQy=-0.0001665178543\n",
    "\n",
    "arc = xt.LineSegmentMap(\n",
    "        qx=Q_x, qy=Q_y, qs=0,\n",
    "        dqx=dQx, dqy=dQy,\n",
    "        bets = 1*1e40, length=circumference,\n",
    "        betx=beta_x,\n",
    "        bety=beta_y\n",
    "        )\n"
   ]
  },
  {
   "cell_type": "code",
   "execution_count": 6,
   "id": "50d0e3f6",
   "metadata": {},
   "outputs": [
    {
     "name": "stderr",
     "output_type": "stream",
     "text": [
      "100%|██████████| 359675/359675 [19:33<00:00, 306.43it/s]"
     ]
    },
    {
     "name": "stdout",
     "output_type": "stream",
     "text": [
      "Done\n"
     ]
    },
    {
     "name": "stderr",
     "output_type": "stream",
     "text": [
      "\n"
     ]
    }
   ],
   "source": [
    "num_particles=10000\n",
    "# Define the save interval\n",
    "save_interval = 100\n",
    "\n",
    "#old\n",
    "emittance=14*1e-6 #inital emittance\n",
    "\n",
    "sigma_x = np.sqrt(beta_x*emittance)\n",
    "sigma_px = np.sqrt(emittance*1/beta_x)\n",
    "sigma_y = np.sqrt(beta_y*emittance)\n",
    "sigma_py = np.sqrt(emittance*1/beta_y)\n",
    "sigma_p = 5e-3\n",
    "\n",
    "delta = np.random.normal(loc=0.0, scale=sigma_p, size=num_particles)\n",
    "x = np.random.normal(loc=0.0, scale=sigma_x, size=num_particles) + disp_x * delta\n",
    "px = np.random.normal(loc=0.0, scale=sigma_px, size=num_particles)\n",
    "y = np.random.normal(loc=0.0, scale=sigma_y, size=num_particles)\n",
    "py = np.random.normal(loc=0.0, scale=sigma_py, size=num_particles)\n",
    "\n",
    "particles = xp.Particles(\n",
    "    mass0=mass0,\n",
    "    p0c=p0c,\n",
    "    q0=q0,\n",
    "    x=x,\n",
    "    px=px,\n",
    "    y=y,\n",
    "    py=py,\n",
    "    delta=delta,\n",
    "    zeta=0\n",
    ")\n",
    "\n",
    "cooler = xt.ElectronCooler(current=current, length=cooler_length, r_beam=r_beam,\n",
    "                           T_perp=T_perp, T_l=T_l,\n",
    "                           magnetic_field=magnetic_field, B_ratio=B_ratio,\n",
    "                           Neutralisation_space_charge=Neutralisation_space_charge)\n",
    "\n",
    "num_turns = int(4 * 1e5)\n",
    "num_turns = 359675  # 1sec\n",
    "\n",
    "x_list = []\n",
    "px_list = []\n",
    "y_list = []\n",
    "py_list = []\n",
    "action_x_list = []\n",
    "emittance_list = []\n",
    "\n",
    "# Perform the loop\n",
    "for i in tqdm(range(num_turns)):\n",
    "    if i % save_interval == 0:\n",
    "        x_xs = particles.x.copy()\n",
    "        px_xs = particles.px.copy()\n",
    "        y_xs = particles.y.copy()\n",
    "        py_xs = particles.py.copy()\n",
    "\n",
    "        action_x_temp = (x_xs ** 2 / beta_x + beta_x * px_xs ** 2)\n",
    "\n",
    "        cov00 = np.cov(x_xs, px_xs)\n",
    "        det00 = np.sqrt(np.linalg.det(cov00))\n",
    "\n",
    "        x_list.append(x_xs)\n",
    "        px_list.append(px_xs)\n",
    "        y_list.append(y_xs)\n",
    "        py_list.append(py_xs)\n",
    "        action_x_list.append(action_x_temp)\n",
    "        emittance_list.append(det00)\n",
    "\n",
    "    arc.track(particles)\n",
    "    cooler.track(particles)\n",
    "\n",
    "time = np.arange(0, num_turns, save_interval) * s_per_turn\n",
    "print('Done')"
   ]
  },
  {
   "cell_type": "code",
   "execution_count": 7,
   "id": "b4cd3d9c",
   "metadata": {},
   "outputs": [
    {
     "data": {
      "image/png": "[encoded data removed]",
      "text/plain": [
       "<Figure size 640x480 with 1 Axes>"
      ]
     },
     "metadata": {},
     "output_type": "display_data"
    }
   ],
   "source": [
    "plt.figure()\n",
    "plt.title('Xsuite')\n",
    "#plt.plot(emittance_rf_list,label='RF Track')\n",
    "plt.plot(time,emittance_list,label='Xsuite')\n",
    "plt.xlabel('time [ms]')\n",
    "plt.ylabel('emittance')\n",
    "plt.legend()\n",
    "plt.show()"
   ]
  },
  {
   "cell_type": "code",
   "execution_count": 8,
   "id": "e6559994",
   "metadata": {},
   "outputs": [],
   "source": [
    "\n",
    "filepath=f'results/emittance_xsuite_sc={Neutralisation_space_charge}.npz'\n",
    "\n",
    "\n",
    "np.savez(filepath, time=time, emittance=emittance_list)"
   ]
  }
 ],
 "metadata": {
  "kernelspec": {
   "display_name": "base",
   "language": "python",
   "name": "python3"
  },
  "language_info": {
   "codemirror_mode": {
    "name": "ipython",
    "version": 3
   },
   "file_extension": ".py",
   "mimetype": "text/x-python",
   "name": "python",
   "nbconvert_exporter": "python",
   "pygments_lexer": "ipython3",
   "version": "3.11.3"
  },
  "vscode": {
   "interpreter": {
    "hash": "b3c9a0a5475e728b39e61ac58d244ad936924f9cf82746515a9faeb1f1a0b703"
   }
  }
 },
 "nbformat": 4,
 "nbformat_minor": 5
}
