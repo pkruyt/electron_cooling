{
 "cells": [
  {
   "cell_type": "code",
   "execution_count": 4,
   "id": "16460ba6",
   "metadata": {},
   "outputs": [
    {
     "name": "stdout",
     "output_type": "stream",
     "text": [
      "BETACOOL----------release ver.7.2.beta (omp)----------2023/6/22\n",
      "/home/pkruyt/cernbox/BETACOOL_ecooling/betacool/Betacool_Linux /home/pkruyt/cernbox/BETACOOL_ecooling/benchmarking-Betacool/LEIR.bld /m\n",
      "Input parameter [12,11] was initialised with default value:1e+10\n",
      "Cannot open file : Bring3.bump\n",
      "Mean beam radius= 0.1370049566  is more than chamber 4\n",
      "Model Beam: Integration Step [sec] =0.0002780286604\n",
      "Tcal[m.s]=0 Tref[s]=0 Ecool[%]=0 Core[%]=0 Impact=0\n",
      "Tcal[m.s]=0.01 Tref[s]=0.00695071651 Ecool[%]=0.33 Core[%]=0 Impact=0\n",
      "Tcal[m.s]=0.02 Tref[s]=0.01529157632 Ecool[%]=0.38 Core[%]=0 Impact=0\n",
      "Tcal[m.s]=0.03 Tref[s]=0.02307637881 Ecool[%]=0.54 Core[%]=0 Impact=0\n",
      "Tcal[m.s]=0.04 Tref[s]=0.03030512399 Ecool[%]=1.02 Core[%]=0 Impact=0\n",
      "Tcal[m.s]=0.05 Tref[s]=0.03808992648 Ecool[%]=1.37 Core[%]=0 Impact=0\n",
      "Tcal[m.s]=0.06 Tref[s]=0.04670881495 Ecool[%]=1.9 Core[%]=0 Impact=0\n",
      "Tcal[m.s]=0.07 Tref[s]=0.05449361744 Ecool[%]=1.97 Core[%]=0 Impact=0\n",
      "Tcal[m.s]=0.08 Tref[s]=0.06172236261 Ecool[%]=2.87 Core[%]=0 Impact=0\n",
      "Tcal[m.s]=0.09 Tref[s]=0.06978519377 Ecool[%]=3.05 Core[%]=0 Impact=0\n",
      "Tcal[m.s]=0.1 Tref[s]=0.07784802492 Ecool[%]=3.47 Core[%]=0 Impact=0\n",
      "Tcal[m.s]=0.11 Tref[s]=0.08618888473 Ecool[%]=3.78 Core[%]=0 Impact=0\n",
      "Tcal[m.s]=0.12 Tref[s]=0.0934176299 Ecool[%]=4.28 Core[%]=0 Impact=0\n",
      "Tcal[m.s]=0.13 Tref[s]=0.1009244037 Ecool[%]=5.23 Core[%]=0 Impact=0\n",
      "Tcal[m.s]=0.14 Tref[s]=0.1103773782 Ecool[%]=5.91 Core[%]=0 Impact=0\n",
      "Tcal[m.s]=0.15 Tref[s]=0.117884152 Ecool[%]=6.43 Core[%]=0 Impact=0\n",
      "Tcal[m.s]=0.16 Tref[s]=0.1262250118 Ecool[%]=6.8 Core[%]=0 Impact=0\n",
      "Tcal[m.s]=0.17 Tref[s]=0.1356779863 Ecool[%]=7.71 Core[%]=0 Impact=0\n",
      "Tcal[m.s]=0.18 Tref[s]=0.1454089894 Ecool[%]=8.18 Core[%]=0 Impact=0\n",
      "Tcal[m.s]=0.19 Tref[s]=0.1554180212 Ecool[%]=8.35 Core[%]=0 Impact=0\n",
      "Tcal[m.s]=0.2 Tref[s]=0.164592967 Ecool[%]=8.88 Core[%]=0 Impact=0\n",
      "Tcal[m.s]=0.21 Tref[s]=0.1746019987 Ecool[%]=9.64 Core[%]=0 Impact=0\n",
      "Tcal[m.s]=0.22 Tref[s]=0.1843330019 Ecool[%]=10.08 Core[%]=0 Impact=0\n",
      "Tcal[m.s]=0.23 Tref[s]=0.1943420336 Ecool[%]=10.35 Core[%]=0 Impact=0\n",
      "Tcal[m.s]=0.24 Tref[s]=0.2035169794 Ecool[%]=10.94 Core[%]=0 Impact=0\n",
      "Tcal[m.s]=0.25 Tref[s]=0.2132479825 Ecool[%]=11.38 Core[%]=0 Impact=0\n",
      "Tcal[m.s]=0.26 Tref[s]=0.222700957 Ecool[%]=11.02 Core[%]=0 Impact=0\n",
      "Tcal[m.s]=0.27 Tref[s]=0.2327099888 Ecool[%]=12.11 Core[%]=0 Impact=0\n",
      "Tcal[m.s]=0.28 Tref[s]=0.2416069059 Ecool[%]=12.38 Core[%]=0 Impact=0\n",
      "Tcal[m.s]=0.29 Tref[s]=0.2507818517 Ecool[%]=12.8 Core[%]=0 Impact=0\n",
      "Tcal[m.s]=0.3 Tref[s]=0.2602348262 Ecool[%]=12.8 Core[%]=0 Impact=0\n",
      "Tcal[m.s]=0.31 Tref[s]=0.2691317433 Ecool[%]=13.6 Core[%]=0 Impact=0\n",
      "Tcal[m.s]=0.32 Tref[s]=0.2785847177 Ecool[%]=13.86 Core[%]=0 Impact=0\n",
      "Tcal[m.s]=0.33 Tref[s]=0.2880376922 Ecool[%]=13.71 Core[%]=0 Impact=0\n",
      "Tcal[m.s]=0.34 Tref[s]=0.2977686953 Ecool[%]=13.89 Core[%]=0 Impact=0\n",
      "Tcal[m.s]=0.35 Tref[s]=0.3052754691 Ecool[%]=14.54 Core[%]=0 Impact=0\n",
      "Tcal[m.s]=0.36 Tref[s]=0.3144504149 Ecool[%]=14.45 Core[%]=0 Impact=0\n",
      "Tcal[m.s]=0.37 Tref[s]=0.324181418 Ecool[%]=14.9 Core[%]=0 Impact=0\n",
      "Tcal[m.s]=0.38 Tref[s]=0.3336343925 Ecool[%]=15.56 Core[%]=0 Impact=0\n",
      "Tcal[m.s]=0.39 Tref[s]=0.3428093383 Ecool[%]=15.69 Core[%]=0 Impact=0\n",
      "Tcal[m.s]=0.4 Tref[s]=0.3514282268 Ecool[%]=16.23 Core[%]=0 Impact=0\n",
      "Tcal[m.s]=0.41 Tref[s]=0.3586569719 Ecool[%]=16.22 Core[%]=0 Impact=0\n",
      "Tcal[m.s]=0.42 Tref[s]=0.3653296598 Ecool[%]=16.71 Core[%]=0 Impact=0\n",
      "Tcal[m.s]=0.43 Tref[s]=0.3714462903 Ecool[%]=16.44 Core[%]=0 Impact=0\n",
      "Tcal[m.s]=0.44 Tref[s]=0.3767288349 Ecool[%]=16.77 Core[%]=0 Impact=0\n",
      "Tcal[m.s]=0.45 Tref[s]=0.3845136374 Ecool[%]=16.71 Core[%]=0 Impact=0\n",
      "Tcal[m.s]=0.46 Tref[s]=0.3942446405 Ecool[%]=16.89 Core[%]=0 Impact=0\n",
      "Tcal[m.s]=0.47 Tref[s]=0.4045317009 Ecool[%]=17.38 Core[%]=0 Impact=0\n",
      "Tcal[m.s]=0.48 Tref[s]=0.41509679 Ecool[%]=17.35 Core[%]=0 Impact=0\n",
      "Tcal[m.s]=0.49 Tref[s]=0.4256618791 Ecool[%]=17.6 Core[%]=0 Impact=0\n",
      "Tcal[m.s]=0.5 Tref[s]=0.4351148536 Ecool[%]=18.15 Core[%]=0 Impact=0\n",
      "Tcal[m.s]=0.51 Tref[s]=0.4451238853 Ecool[%]=18.06 Core[%]=0 Impact=0\n",
      "Tcal[m.s]=0.52 Tref[s]=0.4548548884 Ecool[%]=18.42 Core[%]=0 Impact=0\n",
      "Tcal[m.s]=0.53 Tref[s]=0.4645858916 Ecool[%]=18.49 Core[%]=0 Impact=0\n",
      "Tcal[m.s]=0.54 Tref[s]=0.4745949233 Ecool[%]=19.06 Core[%]=0 Impact=0\n",
      "Tcal[m.s]=0.55 Tref[s]=0.4851600124 Ecool[%]=19.09 Core[%]=0 Impact=0\n",
      "Tcal[m.s]=0.56 Tref[s]=0.4951690442 Ecool[%]=19.15 Core[%]=0 Impact=0\n",
      "Tcal[m.s]=0.57 Tref[s]=0.505178076 Ecool[%]=19.84 Core[%]=0 Impact=0\n",
      "Tcal[m.s]=0.58 Tref[s]=0.5146310504 Ecool[%]=19.49 Core[%]=0 Impact=0\n",
      "Tcal[m.s]=0.59 Tref[s]=0.5232499389 Ecool[%]=19.91 Core[%]=0 Impact=0\n",
      "Tcal[m.s]=1 Tref[s]=0.5310347414 Ecool[%]=19.98 Core[%]=0 Impact=0\n",
      "Tcal[m.s]=1.01 Tref[s]=0.5404877159 Ecool[%]=20.14 Core[%]=0 Impact=0\n",
      "Tcal[m.s]=1.02 Tref[s]=0.550218719 Ecool[%]=20.1 Core[%]=0 Impact=0\n",
      "Tcal[m.s]=1.03 Tref[s]=0.5591156361 Ecool[%]=20.21 Core[%]=0 Impact=0\n",
      "Tcal[m.s]=1.04 Tref[s]=0.5682905819 Ecool[%]=20.55 Core[%]=0 Impact=0\n",
      "Tcal[m.s]=1.05 Tref[s]=0.5774655277 Ecool[%]=21.01 Core[%]=0 Impact=0\n",
      "Tcal[m.s]=1.06 Tref[s]=0.5871965308 Ecool[%]=21.03 Core[%]=0 Impact=0\n",
      "Tcal[m.s]=1.07 Tref[s]=0.5966495053 Ecool[%]=21.09 Core[%]=0 Impact=0\n",
      "Tcal[m.s]=1.08 Tref[s]=0.6063805084 Ecool[%]=20.98 Core[%]=0 Impact=0\n",
      "Tcal[m.s]=1.09 Tref[s]=0.6163895401 Ecool[%]=21.51 Core[%]=0 Impact=0\n",
      "Tcal[m.s]=1.1 Tref[s]=0.6263985719 Ecool[%]=21.17 Core[%]=0 Impact=0\n",
      "Tcal[m.s]=1.11 Tref[s]=0.6358515464 Ecool[%]=21.78 Core[%]=0 Impact=0\n",
      "Tcal[m.s]=1.12 Tref[s]=0.6441924062 Ecool[%]=21.86 Core[%]=0 Impact=0\n",
      "Tcal[m.s]=1.13 Tref[s]=0.6522552373 Ecool[%]=21.92 Core[%]=0 Impact=0\n",
      "Tcal[m.s]=1.14 Tref[s]=0.6614301831 Ecool[%]=21.56 Core[%]=0 Impact=0\n",
      "Tcal[m.s]=1.15 Tref[s]=0.6708831576 Ecool[%]=21.76 Core[%]=0 Impact=0\n",
      "Tcal[m.s]=1.16 Tref[s]=0.6806141607 Ecool[%]=21.8 Core[%]=0 Impact=0\n",
      "Tcal[m.s]=1.17 Tref[s]=0.6895110778 Ecool[%]=22.02 Core[%]=0 Impact=0\n",
      "Tcal[m.s]=1.18 Tref[s]=0.6995201096 Ecool[%]=22.28 Core[%]=0 Impact=0\n",
      "Tcal[m.s]=1.19 Tref[s]=0.7081389981 Ecool[%]=22.55 Core[%]=0 Impact=0\n",
      "Tcal[m.s]=1.2 Tref[s]=0.7175919725 Ecool[%]=22.18 Core[%]=0 Impact=0\n",
      "Tcal[m.s]=1.21 Tref[s]=0.726210861 Ecool[%]=22.69 Core[%]=0 Impact=0\n",
      "Tcal[m.s]=1.22 Tref[s]=0.7351077781 Ecool[%]=22.61 Core[%]=0 Impact=0\n",
      "Tcal[m.s]=1.23 Tref[s]=0.7445607526 Ecool[%]=22.6 Core[%]=0 Impact=0\n",
      "Tcal[m.s]=1.24 Tref[s]=0.7545697844 Ecool[%]=22.8 Core[%]=0 Impact=0\n",
      "Tcal[m.s]=1.25 Tref[s]=0.7643007875 Ecool[%]=22.77 Core[%]=0 Impact=0\n",
      "Tcal[m.s]=1.26 Tref[s]=0.7737537619 Ecool[%]=22.79 Core[%]=0 Impact=0\n",
      "Tcal[m.s]=1.27 Tref[s]=0.7832067364 Ecool[%]=23.35 Core[%]=0 Impact=0\n",
      "Tcal[m.s]=1.28 Tref[s]=0.7926597109 Ecool[%]=22.9 Core[%]=0 Impact=0\n",
      "Tcal[m.s]=1.29 Tref[s]=0.8010005707 Ecool[%]=22.93 Core[%]=0 Impact=0\n",
      "Tcal[m.s]=1.3 Tref[s]=0.8107315738 Ecool[%]=23.41 Core[%]=0 Impact=0\n",
      "Tcal[m.s]=1.31 Tref[s]=0.8201845482 Ecool[%]=23.31 Core[%]=0 Impact=0\n",
      "Tcal[m.s]=1.32 Tref[s]=0.8299155513 Ecool[%]=22.88 Core[%]=0 Impact=0\n",
      "Tcal[m.s]=1.33 Tref[s]=0.8404806404 Ecool[%]=23.18 Core[%]=0 Impact=0\n",
      "Tcal[m.s]=1.34 Tref[s]=0.8479874143 Ecool[%]=23.53 Core[%]=0 Impact=0\n",
      "Tcal[m.s]=1.35 Tref[s]=0.8560502454 Ecool[%]=23.43 Core[%]=0 Impact=0\n",
      "Tcal[m.s]=1.36 Tref[s]=0.8630009619 Ecool[%]=23.64 Core[%]=0 Impact=0\n",
      "Tcal[m.s]=1.37 Tref[s]=0.8710637931 Ecool[%]=23.58 Core[%]=0 Impact=0\n",
      "Tcal[m.s]=1.38 Tref[s]=0.8807947962 Ecool[%]=23.87 Core[%]=0 Impact=0\n",
      "Tcal[m.s]=1.39 Tref[s]=0.890803828 Ecool[%]=23.87 Core[%]=0 Impact=0\n",
      "Tcal[m.s]=1.4 Tref[s]=0.8991446878 Ecool[%]=23.96 Core[%]=0 Impact=0\n",
      "Tcal[m.s]=1.41 Tref[s]=0.9069294903 Ecool[%]=24.23 Core[%]=0 Impact=0\n",
      "Tcal[m.s]=1.42 Tref[s]=0.9166604934 Ecool[%]=24.32 Core[%]=0 Impact=0\n",
      "Tcal[m.s]=1.43 Tref[s]=0.9263914965 Ecool[%]=24.27 Core[%]=0 Impact=0\n",
      "Tcal[m.s]=1.44 Tref[s]=0.934176299 Ecool[%]=24.4 Core[%]=0 Impact=0\n",
      "Tcal[m.s]=1.45 Tref[s]=0.9439073021 Ecool[%]=24.09 Core[%]=0 Impact=0\n",
      "Tcal[m.s]=1.46 Tref[s]=0.951414076 Ecool[%]=24.75 Core[%]=0 Impact=0\n",
      "Tcal[m.s]=1.47 Tref[s]=0.9586428211 Ecool[%]=24.96 Core[%]=0 Impact=0\n",
      "Tcal[m.s]=1.48 Tref[s]=0.9672617096 Ecool[%]=25.63 Core[%]=0 Impact=0\n",
      "Tcal[m.s]=1.49 Tref[s]=0.9753245407 Ecool[%]=26.43 Core[%]=0 Impact=0\n",
      "Tcal[m.s]=1.5 Tref[s]=0.9842214579 Ecool[%]=28.31 Core[%]=0 Impact=0\n",
      "Tcal[m.s]=1.51 Tref[s]=0.9936744323 Ecool[%]=27.62 Core[%]=0 Impact=0\n",
      "STOP -2023/6/22-11:21:13\n",
      "\n"
     ]
    },
    {
     "data": {
      "text/plain": [
       "False"
      ]
     },
     "execution_count": 4,
     "metadata": {},
     "output_type": "execute_result"
    }
   ],
   "source": [
    "import scipy.optimize\n",
    "import math\n",
    "import numpy as np\n",
    "import matplotlib.pyplot as plt\n",
    "from pybetacool import PyBetaCool\n",
    "\n",
    "\n",
    "\n",
    "obj = PyBetaCool(BLDfilename='/home/pkruyt/cernbox/BETACOOL_ecooling/benchmarking-Betacool/LEIR.bld', betacoolExec='/home/pkruyt/cernbox/BETACOOL_ecooling/betacool/Betacool_Linux')\n",
    "# Execute Betacool\n",
    "obj.runBetacool('/m')"
   ]
  },
  {
   "cell_type": "code",
   "execution_count": 5,
   "id": "716f1e9a",
   "metadata": {},
   "outputs": [
    {
     "name": "stdout",
     "output_type": "stream",
     "text": [
      "TODO: simple version here...\n"
     ]
    },
    {
     "data": {
      "image/png": "[encoded data removed]",
      "text/plain": [
       "<Figure size 640x480 with 1 Axes>"
      ]
     },
     "metadata": {},
     "output_type": "display_data"
    }
   ],
   "source": [
    "tmp = obj.parseCurveFile('emittance.cur')\n",
    "\n",
    "time=tmp[:,0]\n",
    "emittance_x = tmp[:,1]*1e-6\n",
    "emittance_y = tmp[:,2]\n",
    "plt.figure()\n",
    "plt.plot(time,emittance_x, label='emittance')\n",
    "\n",
    "\n",
    "plt.title('betacool')\n",
    "plt.ylabel('Emittance')\n",
    "plt.xlabel('Time')\n",
    "plt.legend()\n",
    "plt.show()\n"
   ]
  },
  {
   "cell_type": "code",
   "execution_count": 6,
   "id": "31ed9253",
   "metadata": {},
   "outputs": [],
   "source": [
    "filpath='results/emittance_betacool_sc=1.npz'\n",
    "\n",
    "np.savez(filpath, time=time, emittance_x=emittance_x, emittance_y=emittance_y)\n"
   ]
  }
 ],
 "metadata": {
  "kernelspec": {
   "display_name": "base",
   "language": "python",
   "name": "python3"
  },
  "language_info": {
   "codemirror_mode": {
    "name": "ipython",
    "version": 3
   },
   "file_extension": ".py",
   "mimetype": "text/x-python",
   "name": "python",
   "nbconvert_exporter": "python",
   "pygments_lexer": "ipython3",
   "version": "3.11.3"
  },
  "vscode": {
   "interpreter": {
    "hash": "b3c9a0a5475e728b39e61ac58d244ad936924f9cf82746515a9faeb1f1a0b703"
   }
  }
 },
 "nbformat": 4,
 "nbformat_minor": 5
}
