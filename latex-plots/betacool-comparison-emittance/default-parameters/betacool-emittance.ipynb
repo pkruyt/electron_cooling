{
 "cells": [
  {
   "cell_type": "code",
   "execution_count": 6,
   "id": "16460ba6",
   "metadata": {},
   "outputs": [
    {
     "name": "stdout",
     "output_type": "stream",
     "text": [
      "BETACOOL----------release ver.7.2.beta (omp)----------2023/6/21\n",
      "/home/pkruyt/cernbox/BETACOOL_ecooling/betacool/Betacool_Linux /home/pkruyt/cernbox/BETACOOL_ecooling/benchmarking-Betacool/LEIR.bld /m\n",
      "Input parameter [12,11] was initialised with default value:1e+10\n",
      "Cannot open file : Bring3.bump\n",
      "Mean beam radius= 0.1370049566  is more than chamber 4\n",
      "Model Beam: Integration Step [sec] =0.0002780286604\n",
      "Tcal[m.s]=0 Tref[s]=0 Ecool[%]=0 Core[%]=0 Impact=0\n",
      "Tcal[m.s]=0.01 Tref[s]=0.002224229283 Ecool[%]=0.03 Core[%]=0 Impact=0\n",
      "Tcal[m.s]=0.02 Tref[s]=0.01028706044 Ecool[%]=0 Core[%]=0 Impact=0\n",
      "Tcal[m.s]=0.03 Tref[s]=0.01779383427 Ecool[%]=0.09 Core[%]=0 Impact=0\n",
      "Tcal[m.s]=0.04 Tref[s]=0.02613469408 Ecool[%]=0.17 Core[%]=0 Impact=0\n",
      "Tcal[m.s]=0.05 Tref[s]=0.03364146791 Ecool[%]=0.24 Core[%]=0 Impact=0\n",
      "Tcal[m.s]=0.06 Tref[s]=0.04059218442 Ecool[%]=0.24 Core[%]=0 Impact=0\n",
      "Tcal[m.s]=0.07 Tref[s]=0.04782092959 Ecool[%]=0.32 Core[%]=0 Impact=0\n",
      "Tcal[m.s]=0.08 Tref[s]=0.05449361744 Ecool[%]=0.33 Core[%]=0 Impact=0\n",
      "Tcal[m.s]=0.09 Tref[s]=0.06088827663 Ecool[%]=0.31 Core[%]=0 Impact=0\n",
      "Tcal[m.s]=0.1 Tref[s]=0.06756096448 Ecool[%]=0.31 Core[%]=0 Impact=0\n",
      "Tcal[m.s]=0.11 Tref[s]=0.07506773831 Ecool[%]=0.43 Core[%]=0 Impact=0\n",
      "Tcal[m.s]=0.12 Tref[s]=0.08229648348 Ecool[%]=0.3 Core[%]=0 Impact=0\n",
      "Tcal[m.s]=0.13 Tref[s]=0.09008128598 Ecool[%]=0.45 Core[%]=0 Impact=0\n",
      "Tcal[m.s]=0.14 Tref[s]=0.09703200249 Ecool[%]=0.3 Core[%]=0 Impact=0\n",
      "Tcal[m.s]=0.15 Tref[s]=0.1045387763 Ecool[%]=0.34 Core[%]=0 Impact=0\n",
      "Tcal[m.s]=0.16 Tref[s]=0.1117675215 Ecool[%]=0.29 Core[%]=0 Impact=0\n",
      "Tcal[m.s]=0.17 Tref[s]=0.119552324 Ecool[%]=0.33 Core[%]=0 Impact=0\n",
      "Tcal[m.s]=0.18 Tref[s]=0.1267810692 Ecool[%]=0.42 Core[%]=0 Impact=0\n",
      "Tcal[m.s]=0.19 Tref[s]=0.1340098143 Ecool[%]=0.32 Core[%]=0 Impact=0\n",
      "Tcal[m.s]=0.2 Tref[s]=0.1415165882 Ecool[%]=0.53 Core[%]=0 Impact=0\n",
      "Tcal[m.s]=0.21 Tref[s]=0.1495794193 Ecool[%]=0.45 Core[%]=0 Impact=0\n",
      "Tcal[m.s]=0.22 Tref[s]=0.1568081645 Ecool[%]=0.53 Core[%]=0 Impact=0\n",
      "Tcal[m.s]=0.23 Tref[s]=0.1648709956 Ecool[%]=0.36 Core[%]=0 Impact=0\n",
      "Tcal[m.s]=0.24 Tref[s]=0.1729338268 Ecool[%]=0.51 Core[%]=0 Impact=0\n",
      "Tcal[m.s]=0.25 Tref[s]=0.1804406006 Ecool[%]=0.32 Core[%]=0 Impact=0\n",
      "Tcal[m.s]=0.26 Tref[s]=0.1887814604 Ecool[%]=0.51 Core[%]=0 Impact=0\n",
      "Tcal[m.s]=0.27 Tref[s]=0.1974003489 Ecool[%]=0.37 Core[%]=0 Impact=0\n",
      "Tcal[m.s]=0.28 Tref[s]=0.20546318 Ecool[%]=0.44 Core[%]=0 Impact=0\n",
      "Tcal[m.s]=0.29 Tref[s]=0.2126919252 Ecool[%]=0.42 Core[%]=0 Impact=0\n",
      "Tcal[m.s]=0.3 Tref[s]=0.2207547564 Ecool[%]=0.46 Core[%]=0 Impact=0\n",
      "Tcal[m.s]=0.31 Tref[s]=0.2290956162 Ecool[%]=0.51 Core[%]=0 Impact=0\n",
      "Tcal[m.s]=0.32 Tref[s]=0.237436476 Ecool[%]=0.39 Core[%]=0 Impact=0\n",
      "Tcal[m.s]=0.33 Tref[s]=0.2452212785 Ecool[%]=0.44 Core[%]=0 Impact=0\n",
      "Tcal[m.s]=0.34 Tref[s]=0.253006081 Ecool[%]=0.48 Core[%]=0 Impact=0\n",
      "Tcal[m.s]=0.35 Tref[s]=0.2607908835 Ecool[%]=0.43 Core[%]=0 Impact=0\n",
      "Tcal[m.s]=0.36 Tref[s]=0.268575686 Ecool[%]=0.38 Core[%]=0 Impact=0\n",
      "Tcal[m.s]=0.37 Tref[s]=0.2769165458 Ecool[%]=0.35 Core[%]=0 Impact=0\n",
      "Tcal[m.s]=0.38 Tref[s]=0.2844233196 Ecool[%]=0.52 Core[%]=0 Impact=0\n",
      "Tcal[m.s]=0.39 Tref[s]=0.2924861508 Ecool[%]=0.43 Core[%]=0 Impact=0\n",
      "Tcal[m.s]=0.4 Tref[s]=0.3002709533 Ecool[%]=0.59 Core[%]=0 Impact=0\n",
      "Tcal[m.s]=0.41 Tref[s]=0.3080557557 Ecool[%]=0.42 Core[%]=0 Impact=0\n",
      "Tcal[m.s]=0.42 Tref[s]=0.3166746442 Ecool[%]=0.42 Core[%]=0 Impact=0\n",
      "Tcal[m.s]=0.43 Tref[s]=0.3244594467 Ecool[%]=0.46 Core[%]=0 Impact=0\n",
      "Tcal[m.s]=0.44 Tref[s]=0.3319662205 Ecool[%]=0.42 Core[%]=0 Impact=0\n",
      "Tcal[m.s]=0.45 Tref[s]=0.340585109 Ecool[%]=0.42 Core[%]=0 Impact=0\n",
      "Tcal[m.s]=0.46 Tref[s]=0.3492039975 Ecool[%]=0.4 Core[%]=0 Impact=0\n",
      "Tcal[m.s]=0.47 Tref[s]=0.3572668286 Ecool[%]=0.4 Core[%]=0 Impact=0\n",
      "Tcal[m.s]=0.48 Tref[s]=0.3644955738 Ecool[%]=0.41 Core[%]=0 Impact=0\n",
      "Tcal[m.s]=0.49 Tref[s]=0.3722803763 Ecool[%]=0.36 Core[%]=0 Impact=0\n",
      "Tcal[m.s]=0.5 Tref[s]=0.3806212361 Ecool[%]=0.41 Core[%]=0 Impact=0\n",
      "Tcal[m.s]=0.51 Tref[s]=0.3884060386 Ecool[%]=0.49 Core[%]=0 Impact=0\n",
      "Tcal[m.s]=0.52 Tref[s]=0.3964688698 Ecool[%]=0.32 Core[%]=0 Impact=0\n",
      "Tcal[m.s]=0.53 Tref[s]=0.4045317009 Ecool[%]=0.4 Core[%]=0 Impact=0\n",
      "Tcal[m.s]=0.54 Tref[s]=0.4125945321 Ecool[%]=0.43 Core[%]=0 Impact=0\n",
      "Tcal[m.s]=0.55 Tref[s]=0.4198232772 Ecool[%]=0.44 Core[%]=0 Impact=0\n",
      "Tcal[m.s]=0.56 Tref[s]=0.4284421657 Ecool[%]=0.36 Core[%]=0 Impact=0\n",
      "Tcal[m.s]=0.57 Tref[s]=0.4365049969 Ecool[%]=0.35 Core[%]=0 Impact=0\n",
      "Tcal[m.s]=0.58 Tref[s]=0.4442897993 Ecool[%]=0.42 Core[%]=0 Impact=0\n",
      "Tcal[m.s]=0.59 Tref[s]=0.4515185445 Ecool[%]=0.43 Core[%]=0 Impact=0\n",
      "Tcal[m.s]=1 Tref[s]=0.4598594043 Ecool[%]=0.25 Core[%]=0 Impact=0\n",
      "Tcal[m.s]=1.01 Tref[s]=0.4687563215 Ecool[%]=0.49 Core[%]=0 Impact=0\n",
      "Tcal[m.s]=1.02 Tref[s]=0.4759850666 Ecool[%]=0.33 Core[%]=0 Impact=0\n",
      "Tcal[m.s]=1.03 Tref[s]=0.4837698691 Ecool[%]=0.41 Core[%]=0 Impact=0\n",
      "Tcal[m.s]=1.04 Tref[s]=0.4921107289 Ecool[%]=0.45 Core[%]=0 Impact=0\n",
      "Tcal[m.s]=1.05 Tref[s]=0.4998955314 Ecool[%]=0.38 Core[%]=0 Impact=0\n",
      "Tcal[m.s]=1.06 Tref[s]=0.5085144199 Ecool[%]=0.4 Core[%]=0 Impact=0\n",
      "Tcal[m.s]=1.07 Tref[s]=0.5165772511 Ecool[%]=0.41 Core[%]=0 Impact=0\n",
      "Tcal[m.s]=1.08 Tref[s]=0.5235279676 Ecool[%]=0.46 Core[%]=0 Impact=0\n",
      "Tcal[m.s]=1.09 Tref[s]=0.5307567127 Ecool[%]=0.42 Core[%]=0 Impact=0\n",
      "Tcal[m.s]=1.1 Tref[s]=0.5385415152 Ecool[%]=0.3 Core[%]=0 Impact=0\n",
      "Tcal[m.s]=1.11 Tref[s]=0.5474384324 Ecool[%]=0.29 Core[%]=0 Impact=0\n",
      "Tcal[m.s]=1.12 Tref[s]=0.5549452062 Ecool[%]=0.38 Core[%]=0 Impact=0\n",
      "Tcal[m.s]=1.13 Tref[s]=0.5621739514 Ecool[%]=0.46 Core[%]=0 Impact=0\n",
      "Tcal[m.s]=1.14 Tref[s]=0.5699587539 Ecool[%]=0.42 Core[%]=0 Impact=0\n",
      "Tcal[m.s]=1.15 Tref[s]=0.5782996137 Ecool[%]=0.35 Core[%]=0 Impact=0\n",
      "Tcal[m.s]=1.16 Tref[s]=0.5855283588 Ecool[%]=0.34 Core[%]=0 Impact=0\n",
      "Tcal[m.s]=1.17 Tref[s]=0.592757104 Ecool[%]=0.5 Core[%]=0 Impact=0\n",
      "Tcal[m.s]=1.18 Tref[s]=0.6005419065 Ecool[%]=0.38 Core[%]=0 Impact=0\n",
      "Tcal[m.s]=1.19 Tref[s]=0.6077706517 Ecool[%]=0.45 Core[%]=0 Impact=0\n",
      "Tcal[m.s]=1.2 Tref[s]=0.6155554542 Ecool[%]=0.38 Core[%]=0 Impact=0\n",
      "Tcal[m.s]=1.21 Tref[s]=0.623062228 Ecool[%]=0.42 Core[%]=0 Impact=0\n",
      "Tcal[m.s]=1.22 Tref[s]=0.6308470305 Ecool[%]=0.41 Core[%]=0 Impact=0\n",
      "Tcal[m.s]=1.23 Tref[s]=0.6383538043 Ecool[%]=0.3 Core[%]=0 Impact=0\n",
      "Tcal[m.s]=1.24 Tref[s]=0.6461386068 Ecool[%]=0.41 Core[%]=0 Impact=0\n",
      "Tcal[m.s]=1.25 Tref[s]=0.6536453806 Ecool[%]=0.36 Core[%]=0 Impact=0\n",
      "Tcal[m.s]=1.26 Tref[s]=0.6614301831 Ecool[%]=0.38 Core[%]=0 Impact=0\n",
      "Tcal[m.s]=1.27 Tref[s]=0.668936957 Ecool[%]=0.43 Core[%]=0 Impact=0\n",
      "Tcal[m.s]=1.28 Tref[s]=0.6772778168 Ecool[%]=0.34 Core[%]=0 Impact=0\n",
      "Tcal[m.s]=1.29 Tref[s]=0.6850626193 Ecool[%]=0.27 Core[%]=0 Impact=0\n",
      "Tcal[m.s]=1.3 Tref[s]=0.6922913644 Ecool[%]=0.33 Core[%]=0 Impact=0\n",
      "Tcal[m.s]=1.31 Tref[s]=0.6997981383 Ecool[%]=0.34 Core[%]=0 Impact=0\n",
      "Tcal[m.s]=1.32 Tref[s]=0.7081389981 Ecool[%]=0.24 Core[%]=0 Impact=0\n",
      "Tcal[m.s]=1.33 Tref[s]=0.7153677433 Ecool[%]=0.26 Core[%]=0 Impact=0\n",
      "Tcal[m.s]=1.34 Tref[s]=0.7225964884 Ecool[%]=0.18 Core[%]=0 Impact=0\n",
      "Tcal[m.s]=1.35 Tref[s]=0.7301032623 Ecool[%]=0.24 Core[%]=0 Impact=0\n",
      "Tcal[m.s]=1.36 Tref[s]=0.7376100361 Ecool[%]=0.21 Core[%]=0 Impact=0\n",
      "Tcal[m.s]=1.37 Tref[s]=0.7453948386 Ecool[%]=0.11 Core[%]=0 Impact=0\n",
      "Tcal[m.s]=1.38 Tref[s]=0.7526235838 Ecool[%]=0.1 Core[%]=0 Impact=0\n",
      "Tcal[m.s]=1.39 Tref[s]=0.7606864149 Ecool[%]=0.17 Core[%]=0 Impact=0\n",
      "Tcal[m.s]=1.4 Tref[s]=0.7684712174 Ecool[%]=0.15 Core[%]=0 Impact=0\n",
      "Tcal[m.s]=1.41 Tref[s]=0.7759779912 Ecool[%]=0.16 Core[%]=0 Impact=0\n",
      "Tcal[m.s]=1.42 Tref[s]=0.7829287077 Ecool[%]=0.07 Core[%]=0 Impact=0\n",
      "Tcal[m.s]=1.43 Tref[s]=0.7907135102 Ecool[%]=0.13 Core[%]=0 Impact=0\n",
      "Tcal[m.s]=1.44 Tref[s]=0.7979422554 Ecool[%]=0.09 Core[%]=0 Impact=0\n",
      "Tcal[m.s]=1.45 Tref[s]=0.8057270579 Ecool[%]=0.06 Core[%]=0 Impact=0\n",
      "Tcal[m.s]=1.46 Tref[s]=0.8132338317 Ecool[%]=0.05 Core[%]=0 Impact=0\n",
      "Tcal[m.s]=1.47 Tref[s]=0.8207406056 Ecool[%]=0.09 Core[%]=0 Impact=0\n",
      "Tcal[m.s]=1.48 Tref[s]=0.8271352647 Ecool[%]=0.05 Core[%]=0 Impact=0\n",
      "Tcal[m.s]=1.49 Tref[s]=0.8354761246 Ecool[%]=0.05 Core[%]=0 Impact=0\n",
      "Tcal[m.s]=1.5 Tref[s]=0.8429828984 Ecool[%]=0.05 Core[%]=0 Impact=0\n",
      "Tcal[m.s]=1.51 Tref[s]=0.8504896722 Ecool[%]=0.11 Core[%]=0 Impact=0\n",
      "Tcal[m.s]=1.52 Tref[s]=0.8574403887 Ecool[%]=0.01 Core[%]=0 Impact=0\n",
      "Tcal[m.s]=1.53 Tref[s]=0.8657812485 Ecool[%]=0.05 Core[%]=0 Impact=0\n",
      "Tcal[m.s]=1.54 Tref[s]=0.873566051 Ecool[%]=0.02 Core[%]=0 Impact=0\n",
      "Tcal[m.s]=1.55 Tref[s]=0.8810728249 Ecool[%]=0.05 Core[%]=0 Impact=0\n",
      "Tcal[m.s]=1.56 Tref[s]=0.8888576274 Ecool[%]=0.04 Core[%]=0 Impact=0\n",
      "Tcal[m.s]=1.57 Tref[s]=0.8971984872 Ecool[%]=0.02 Core[%]=0 Impact=0\n",
      "Tcal[m.s]=1.58 Tref[s]=0.9044272323 Ecool[%]=0.02 Core[%]=0 Impact=0\n",
      "Tcal[m.s]=1.59 Tref[s]=0.9110999202 Ecool[%]=0.02 Core[%]=0 Impact=0\n",
      "Tcal[m.s]=2 Tref[s]=0.918606694 Ecool[%]=0.04 Core[%]=0 Impact=0\n",
      "Tcal[m.s]=2.01 Tref[s]=0.9269475538 Ecool[%]=0.05 Core[%]=0 Impact=0\n",
      "Tcal[m.s]=2.02 Tref[s]=0.9338982703 Ecool[%]=0.01 Core[%]=0 Impact=0\n",
      "Tcal[m.s]=2.03 Tref[s]=0.9414050442 Ecool[%]=0.02 Core[%]=0 Impact=0\n",
      "Tcal[m.s]=2.04 Tref[s]=0.9491898467 Ecool[%]=0.02 Core[%]=0 Impact=0\n",
      "Tcal[m.s]=2.05 Tref[s]=0.9572526778 Ecool[%]=0.01 Core[%]=0 Impact=0\n",
      "Tcal[m.s]=2.06 Tref[s]=0.964481423 Ecool[%]=0.04 Core[%]=0 Impact=0\n",
      "Tcal[m.s]=2.07 Tref[s]=0.9719881968 Ecool[%]=0.01 Core[%]=0 Impact=0\n",
      "Tcal[m.s]=2.08 Tref[s]=0.9797729993 Ecool[%]=0.04 Core[%]=0 Impact=0\n",
      "Tcal[m.s]=2.09 Tref[s]=0.9878358305 Ecool[%]=0 Core[%]=0 Impact=0\n",
      "Tcal[m.s]=2.1 Tref[s]=0.9950645756 Ecool[%]=0.01 Core[%]=0 Impact=0\n",
      "STOP -2023/6/21-16:32:9\n",
      "\n"
     ]
    },
    {
     "data": {
      "text/plain": [
       "False"
      ]
     },
     "execution_count": 6,
     "metadata": {},
     "output_type": "execute_result"
    }
   ],
   "source": [
    "import scipy.optimize\n",
    "import math\n",
    "import numpy as np\n",
    "import matplotlib.pyplot as plt\n",
    "from pybetacool import PyBetaCool\n",
    "\n",
    "\n",
    "\n",
    "obj = PyBetaCool(BLDfilename='/home/pkruyt/cernbox/BETACOOL_ecooling/benchmarking-Betacool/LEIR.bld', betacoolExec='/home/pkruyt/cernbox/BETACOOL_ecooling/betacool/Betacool_Linux')\n",
    "# Execute Betacool\n",
    "obj.runBetacool('/m')"
   ]
  },
  {
   "cell_type": "code",
   "execution_count": 7,
   "id": "716f1e9a",
   "metadata": {},
   "outputs": [
    {
     "name": "stdout",
     "output_type": "stream",
     "text": [
      "TODO: simple version here...\n"
     ]
    },
    {
     "data": {
      "image/png": "[encoded data removed]",
      "text/plain": [
       "<Figure size 640x480 with 1 Axes>"
      ]
     },
     "metadata": {},
     "output_type": "display_data"
    }
   ],
   "source": [
    "tmp = obj.parseCurveFile('emittance.cur')\n",
    "\n",
    "time=tmp[:,0]\n",
    "emittance_x = tmp[:,1]*1e-6\n",
    "emittance_y = tmp[:,2]\n",
    "plt.figure()\n",
    "plt.plot(time,emittance_x, label='emittance')\n",
    "\n",
    "\n",
    "plt.title('betacool')\n",
    "plt.ylabel('Emittance')\n",
    "plt.xlabel('Time')\n",
    "plt.legend()\n",
    "plt.show()\n"
   ]
  },
  {
   "cell_type": "code",
   "execution_count": 8,
   "id": "31ed9253",
   "metadata": {},
   "outputs": [],
   "source": [
    "filpath='results/emittance_betacool.npz'\n",
    "\n",
    "np.savez(filpath, time=time, emittance_x=emittance_x, emittance_y=emittance_y)\n"
   ]
  }
 ],
 "metadata": {
  "kernelspec": {
   "display_name": "base",
   "language": "python",
   "name": "python3"
  },
  "language_info": {
   "codemirror_mode": {
    "name": "ipython",
    "version": 3
   },
   "file_extension": ".py",
   "mimetype": "text/x-python",
   "name": "python",
   "nbconvert_exporter": "python",
   "pygments_lexer": "ipython3",
   "version": "3.11.3"
  },
  "vscode": {
   "interpreter": {
    "hash": "b3c9a0a5475e728b39e61ac58d244ad936924f9cf82746515a9faeb1f1a0b703"
   }
  }
 },
 "nbformat": 4,
 "nbformat_minor": 5
}
