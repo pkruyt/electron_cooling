{
 "cells": [
  {
   "cell_type": "code",
   "execution_count": 4,
   "id": "16460ba6",
   "metadata": {},
   "outputs": [
    {
     "name": "stdout",
     "output_type": "stream",
     "text": [
      "BETACOOL----------release ver.7.2.beta (omp)----------2023/6/22\n",
      "/home/pkruyt/cernbox/BETACOOL_ecooling/betacool/Betacool_Linux /home/pkruyt/cernbox/BETACOOL_ecooling/benchmarking-Betacool/LEIR.bld /m\n",
      "Input parameter [12,11] was initialised with default value:1e+10\n",
      "Cannot open file : Bring3.bump\n",
      "Mean beam radius= 0.1370049566  is more than chamber 4\n",
      "Model Beam: Integration Step [sec] =0.0002780286604\n",
      "Tcal[m.s]=0 Tref[s]=0 Ecool[%]=0 Core[%]=0 Impact=0\n",
      "Tcal[m.s]=0.01 Tref[s]=0.004448458567 Ecool[%]=0.62 Core[%]=0 Impact=0\n",
      "Tcal[m.s]=0.02 Tref[s]=0.01139917508 Ecool[%]=6.2 Core[%]=0 Impact=0\n",
      "Tcal[m.s]=0.03 Tref[s]=0.01890594891 Ecool[%]=17.35 Core[%]=0 Impact=0\n",
      "Tcal[m.s]=0.04 Tref[s]=0.02585666542 Ecool[%]=25.86 Core[%]=0 Impact=0\n",
      "Tcal[m.s]=0.05 Tref[s]=0.03225132461 Ecool[%]=31.57 Core[%]=0 Impact=0\n",
      "Tcal[m.s]=0.06 Tref[s]=0.03920204112 Ecool[%]=34.77 Core[%]=0 Impact=0\n",
      "Tcal[m.s]=0.07 Tref[s]=0.04643078629 Ecool[%]=37.84 Core[%]=0 Impact=0\n",
      "Tcal[m.s]=0.08 Tref[s]=0.05365953146 Ecool[%]=39.57 Core[%]=0 Impact=0\n",
      "Tcal[m.s]=0.09 Tref[s]=0.06033221931 Ecool[%]=41.86 Core[%]=0 Impact=0\n",
      "Tcal[m.s]=0.1 Tref[s]=0.06728293582 Ecool[%]=43.01 Core[%]=0 Impact=0\n",
      "Tcal[m.s]=0.11 Tref[s]=0.07506773831 Ecool[%]=43.68 Core[%]=0 Impact=0\n",
      "Tcal[m.s]=0.12 Tref[s]=0.08174042616 Ecool[%]=43.67 Core[%]=0 Impact=0\n",
      "Tcal[m.s]=0.13 Tref[s]=0.08896917133 Ecool[%]=45.23 Core[%]=0 Impact=0\n",
      "Tcal[m.s]=0.14 Tref[s]=0.09703200249 Ecool[%]=45.55 Core[%]=0 Impact=0\n",
      "Tcal[m.s]=0.15 Tref[s]=0.1042607477 Ecool[%]=45.75 Core[%]=0 Impact=0\n",
      "Tcal[m.s]=0.16 Tref[s]=0.1112114642 Ecool[%]=46.73 Core[%]=0 Impact=0\n",
      "Tcal[m.s]=0.17 Tref[s]=0.1184402093 Ecool[%]=47.32 Core[%]=0 Impact=0\n",
      "Tcal[m.s]=0.18 Tref[s]=0.1262250118 Ecool[%]=46.94 Core[%]=0 Impact=0\n",
      "Tcal[m.s]=0.19 Tref[s]=0.1331757283 Ecool[%]=47.56 Core[%]=0 Impact=0\n",
      "Tcal[m.s]=0.2 Tref[s]=0.1406825022 Ecool[%]=48.12 Core[%]=0 Impact=0\n",
      "Tcal[m.s]=0.21 Tref[s]=0.148189276 Ecool[%]=47.83 Core[%]=0 Impact=0\n",
      "Tcal[m.s]=0.22 Tref[s]=0.1556960498 Ecool[%]=48.22 Core[%]=0 Impact=0\n",
      "Tcal[m.s]=0.23 Tref[s]=0.162924795 Ecool[%]=48.67 Core[%]=0 Impact=0\n",
      "Tcal[m.s]=0.24 Tref[s]=0.1704315688 Ecool[%]=48.41 Core[%]=0 Impact=0\n",
      "Tcal[m.s]=0.25 Tref[s]=0.1779383427 Ecool[%]=48.65 Core[%]=0 Impact=0\n",
      "Tcal[m.s]=0.26 Tref[s]=0.1854451165 Ecool[%]=49.54 Core[%]=0 Impact=0\n",
      "Tcal[m.s]=0.27 Tref[s]=0.1929518903 Ecool[%]=48.53 Core[%]=0 Impact=0\n",
      "Tcal[m.s]=0.28 Tref[s]=0.2004586642 Ecool[%]=48.84 Core[%]=0 Impact=0\n",
      "Tcal[m.s]=0.29 Tref[s]=0.2076874093 Ecool[%]=49.77 Core[%]=0 Impact=0\n",
      "Tcal[m.s]=0.3 Tref[s]=0.2151941832 Ecool[%]=48.75 Core[%]=0 Impact=0\n",
      "Tcal[m.s]=0.31 Tref[s]=0.2249251863 Ecool[%]=49.16 Core[%]=0 Impact=0\n",
      "Tcal[m.s]=0.32 Tref[s]=0.2341001321 Ecool[%]=49.99 Core[%]=0 Impact=0\n",
      "Tcal[m.s]=0.33 Tref[s]=0.2424409919 Ecool[%]=50.06 Core[%]=0 Impact=0\n",
      "Tcal[m.s]=0.34 Tref[s]=0.2524500237 Ecool[%]=49.53 Core[%]=0 Impact=0\n",
      "Tcal[m.s]=0.35 Tref[s]=0.2630151128 Ecool[%]=49.83 Core[%]=0 Impact=0\n",
      "Tcal[m.s]=0.36 Tref[s]=0.2702438579 Ecool[%]=50.17 Core[%]=0 Impact=0\n",
      "Tcal[m.s]=0.37 Tref[s]=0.2771945744 Ecool[%]=50.33 Core[%]=0 Impact=0\n",
      "Tcal[m.s]=0.38 Tref[s]=0.2872036062 Ecool[%]=49.46 Core[%]=0 Impact=0\n",
      "Tcal[m.s]=0.39 Tref[s]=0.2974906666 Ecool[%]=49.55 Core[%]=0 Impact=0\n",
      "Tcal[m.s]=0.4 Tref[s]=0.3066656124 Ecool[%]=49.49 Core[%]=0 Impact=0\n",
      "Tcal[m.s]=0.41 Tref[s]=0.3163966156 Ecool[%]=49.82 Core[%]=0 Impact=0\n",
      "Tcal[m.s]=0.42 Tref[s]=0.3239033894 Ecool[%]=49.16 Core[%]=0 Impact=0\n",
      "Tcal[m.s]=0.43 Tref[s]=0.3314101632 Ecool[%]=50.31 Core[%]=0 Impact=0\n",
      "Tcal[m.s]=0.44 Tref[s]=0.3386389084 Ecool[%]=49.86 Core[%]=0 Impact=0\n",
      "Tcal[m.s]=0.45 Tref[s]=0.3461456822 Ecool[%]=49.2 Core[%]=0 Impact=0\n",
      "Tcal[m.s]=0.46 Tref[s]=0.3536524561 Ecool[%]=50.36 Core[%]=0 Impact=0\n",
      "Tcal[m.s]=0.47 Tref[s]=0.3606031726 Ecool[%]=50.56 Core[%]=0 Impact=0\n",
      "Tcal[m.s]=0.48 Tref[s]=0.3681099464 Ecool[%]=49.36 Core[%]=0 Impact=0\n",
      "Tcal[m.s]=0.49 Tref[s]=0.3756167202 Ecool[%]=49.68 Core[%]=0 Impact=0\n",
      "Tcal[m.s]=0.5 Tref[s]=0.3831234941 Ecool[%]=49.92 Core[%]=0 Impact=0\n",
      "Tcal[m.s]=0.51 Tref[s]=0.3909082965 Ecool[%]=50.13 Core[%]=0 Impact=0\n",
      "Tcal[m.s]=0.52 Tref[s]=0.3989711277 Ecool[%]=49.25 Core[%]=0 Impact=0\n",
      "Tcal[m.s]=0.53 Tref[s]=0.4070339589 Ecool[%]=49.44 Core[%]=0 Impact=0\n",
      "Tcal[m.s]=0.54 Tref[s]=0.4139846754 Ecool[%]=49.83 Core[%]=0 Impact=0\n",
      "Tcal[m.s]=0.55 Tref[s]=0.4206573632 Ecool[%]=49.69 Core[%]=0 Impact=0\n",
      "Tcal[m.s]=0.56 Tref[s]=0.4284421657 Ecool[%]=49.77 Core[%]=0 Impact=0\n",
      "Tcal[m.s]=0.57 Tref[s]=0.4359489395 Ecool[%]=50.01 Core[%]=0 Impact=0\n",
      "Tcal[m.s]=0.58 Tref[s]=0.4420655701 Ecool[%]=49.8 Core[%]=0 Impact=0\n",
      "Tcal[m.s]=0.59 Tref[s]=0.4481822006 Ecool[%]=50.47 Core[%]=0 Impact=0\n",
      "Tcal[m.s]=1 Tref[s]=0.4556889744 Ecool[%]=49.86 Core[%]=0 Impact=0\n",
      "Tcal[m.s]=1.01 Tref[s]=0.4626396909 Ecool[%]=49.46 Core[%]=0 Impact=0\n",
      "Tcal[m.s]=1.02 Tref[s]=0.4682002641 Ecool[%]=49.47 Core[%]=0 Impact=0\n",
      "Tcal[m.s]=1.03 Tref[s]=0.4743168947 Ecool[%]=50.21 Core[%]=0 Impact=0\n",
      "Tcal[m.s]=1.04 Tref[s]=0.4807115539 Ecool[%]=49.88 Core[%]=0 Impact=0\n",
      "Tcal[m.s]=1.05 Tref[s]=0.487940299 Ecool[%]=49.38 Core[%]=0 Impact=0\n",
      "Tcal[m.s]=1.06 Tref[s]=0.4951690442 Ecool[%]=49.8 Core[%]=0 Impact=0\n",
      "Tcal[m.s]=1.07 Tref[s]=0.5021197607 Ecool[%]=50.21 Core[%]=0 Impact=0\n",
      "Tcal[m.s]=1.08 Tref[s]=0.5090704772 Ecool[%]=49.8 Core[%]=0 Impact=0\n",
      "Tcal[m.s]=1.09 Tref[s]=0.5165772511 Ecool[%]=50.04 Core[%]=0 Impact=0\n",
      "Tcal[m.s]=1.1 Tref[s]=0.5240840249 Ecool[%]=49.4 Core[%]=0 Impact=0\n",
      "Tcal[m.s]=1.11 Tref[s]=0.5315907987 Ecool[%]=50.53 Core[%]=0 Impact=0\n",
      "Tcal[m.s]=1.12 Tref[s]=0.5393756012 Ecool[%]=49.89 Core[%]=0 Impact=0\n",
      "Tcal[m.s]=1.13 Tref[s]=0.5463263177 Ecool[%]=49.41 Core[%]=0 Impact=0\n",
      "Tcal[m.s]=1.14 Tref[s]=0.5532770342 Ecool[%]=49.9 Core[%]=0 Impact=0\n",
      "Tcal[m.s]=1.15 Tref[s]=0.5610618367 Ecool[%]=50.05 Core[%]=0 Impact=0\n",
      "Tcal[m.s]=1.16 Tref[s]=0.5691246679 Ecool[%]=50.73 Core[%]=0 Impact=0\n",
      "Tcal[m.s]=1.17 Tref[s]=0.577187499 Ecool[%]=50.21 Core[%]=0 Impact=0\n",
      "Tcal[m.s]=1.18 Tref[s]=0.5844162442 Ecool[%]=50.54 Core[%]=0 Impact=0\n",
      "Tcal[m.s]=1.19 Tref[s]=0.5916449894 Ecool[%]=50.05 Core[%]=0 Impact=0\n",
      "Tcal[m.s]=1.2 Tref[s]=0.5994297919 Ecool[%]=50.21 Core[%]=0 Impact=0\n",
      "Tcal[m.s]=1.21 Tref[s]=0.606658537 Ecool[%]=50.54 Core[%]=0 Impact=0\n",
      "Tcal[m.s]=1.22 Tref[s]=0.6136092535 Ecool[%]=50.73 Core[%]=0 Impact=0\n",
      "Tcal[m.s]=1.23 Tref[s]=0.6208379987 Ecool[%]=49.74 Core[%]=0 Impact=0\n",
      "Tcal[m.s]=1.24 Tref[s]=0.6277887152 Ecool[%]=50.05 Core[%]=0 Impact=0\n",
      "Tcal[m.s]=1.25 Tref[s]=0.6352954891 Ecool[%]=49.41 Core[%]=0 Impact=0\n",
      "Tcal[m.s]=1.26 Tref[s]=0.6425242342 Ecool[%]=49.8 Core[%]=0 Impact=0\n",
      "Tcal[m.s]=1.27 Tref[s]=0.6500310081 Ecool[%]=50.05 Core[%]=0 Impact=0\n",
      "Tcal[m.s]=1.28 Tref[s]=0.6567036959 Ecool[%]=50.54 Core[%]=0 Impact=0\n",
      "Tcal[m.s]=1.29 Tref[s]=0.6642104697 Ecool[%]=49.93 Core[%]=0 Impact=0\n",
      "Tcal[m.s]=1.3 Tref[s]=0.6714392149 Ecool[%]=49.41 Core[%]=0 Impact=0\n",
      "Tcal[m.s]=1.31 Tref[s]=0.6792240174 Ecool[%]=49.74 Core[%]=0 Impact=0\n",
      "Tcal[m.s]=1.32 Tref[s]=0.6870088199 Ecool[%]=49.81 Core[%]=0 Impact=0\n",
      "Tcal[m.s]=1.33 Tref[s]=0.6942375651 Ecool[%]=50.73 Core[%]=0 Impact=0\n",
      "Tcal[m.s]=1.34 Tref[s]=0.7011882816 Ecool[%]=50.54 Core[%]=0 Impact=0\n",
      "Tcal[m.s]=1.35 Tref[s]=0.7086950554 Ecool[%]=49.93 Core[%]=0 Impact=0\n",
      "Tcal[m.s]=1.36 Tref[s]=0.7164798579 Ecool[%]=50.73 Core[%]=0 Impact=0\n",
      "Tcal[m.s]=1.37 Tref[s]=0.7237086031 Ecool[%]=49.74 Core[%]=0 Impact=0\n",
      "Tcal[m.s]=1.38 Tref[s]=0.7309373482 Ecool[%]=49.93 Core[%]=0 Impact=0\n",
      "Tcal[m.s]=1.39 Tref[s]=0.7381660934 Ecool[%]=49.42 Core[%]=0 Impact=0\n",
      "Tcal[m.s]=1.4 Tref[s]=0.7453948386 Ecool[%]=49.81 Core[%]=0 Impact=0\n",
      "Tcal[m.s]=1.41 Tref[s]=0.7526235838 Ecool[%]=50.73 Core[%]=0 Impact=0\n",
      "Tcal[m.s]=1.42 Tref[s]=0.7592962716 Ecool[%]=49.81 Core[%]=0 Impact=0\n",
      "Tcal[m.s]=1.43 Tref[s]=0.7670810741 Ecool[%]=49.93 Core[%]=0 Impact=0\n",
      "Tcal[m.s]=1.44 Tref[s]=0.7745878479 Ecool[%]=50.22 Core[%]=0 Impact=0\n",
      "Tcal[m.s]=1.45 Tref[s]=0.7823726504 Ecool[%]=49.54 Core[%]=0 Impact=0\n",
      "Tcal[m.s]=1.46 Tref[s]=0.7898794242 Ecool[%]=49.81 Core[%]=0 Impact=0\n",
      "Tcal[m.s]=1.47 Tref[s]=0.7973861981 Ecool[%]=50.06 Core[%]=0 Impact=0\n",
      "Tcal[m.s]=1.48 Tref[s]=0.8046149433 Ecool[%]=49.54 Core[%]=0 Impact=0\n",
      "Tcal[m.s]=1.49 Tref[s]=0.8115656598 Ecool[%]=49.93 Core[%]=0 Impact=0\n",
      "Tcal[m.s]=1.5 Tref[s]=0.8185163763 Ecool[%]=49.54 Core[%]=0 Impact=0\n",
      "Tcal[m.s]=1.51 Tref[s]=0.8263011788 Ecool[%]=50.54 Core[%]=0 Impact=0\n",
      "Tcal[m.s]=1.52 Tref[s]=0.8335299239 Ecool[%]=50.07 Core[%]=0 Impact=0\n",
      "Tcal[m.s]=1.53 Tref[s]=0.8410366978 Ecool[%]=49.43 Core[%]=0 Impact=0\n",
      "Tcal[m.s]=1.54 Tref[s]=0.8479874143 Ecool[%]=49.91 Core[%]=0 Impact=0\n",
      "Tcal[m.s]=1.55 Tref[s]=0.8557722168 Ecool[%]=50.07 Core[%]=0 Impact=0\n",
      "Tcal[m.s]=1.56 Tref[s]=0.8632789906 Ecool[%]=49.43 Core[%]=0 Impact=0\n",
      "Tcal[m.s]=1.57 Tref[s]=0.8705077358 Ecool[%]=49.81 Core[%]=0 Impact=0\n",
      "Tcal[m.s]=1.58 Tref[s]=0.8777364809 Ecool[%]=50.75 Core[%]=0 Impact=0\n",
      "doubleU::operator/(doubleU): division by zero\n",
      "Tcal[m.s]=1.59 Tref[s]=0.8857993121 Ecool[%]=50.23 Core[%]=0 Impact=0\n",
      "Tcal[m.s]=2 Tref[s]=0.8930280573 Ecool[%]=50.56 Core[%]=0 Impact=0\n",
      "Tcal[m.s]=2.01 Tref[s]=0.8999787738 Ecool[%]=50.75 Core[%]=0 Impact=0\n",
      "Tcal[m.s]=2.02 Tref[s]=0.9077635763 Ecool[%]=49.43 Core[%]=0 Impact=0\n",
      "Tcal[m.s]=2.03 Tref[s]=0.9149923214 Ecool[%]=49.82 Core[%]=0 Impact=0\n",
      "Tcal[m.s]=2.04 Tref[s]=0.9224990953 Ecool[%]=50.07 Core[%]=0 Impact=0\n",
      "Tcal[m.s]=2.05 Tref[s]=0.9300058691 Ecool[%]=49.43 Core[%]=0 Impact=0\n",
      "Tcal[m.s]=2.06 Tref[s]=0.9375126429 Ecool[%]=50.56 Core[%]=0 Impact=0\n",
      "Tcal[m.s]=2.07 Tref[s]=0.9461315314 Ecool[%]=49.75 Core[%]=0 Impact=0\n",
      "Tcal[m.s]=2.08 Tref[s]=0.9539163339 Ecool[%]=49.82 Core[%]=0 Impact=0\n",
      "Tcal[m.s]=2.09 Tref[s]=0.9611450791 Ecool[%]=50.75 Core[%]=0 Impact=0\n",
      "Tcal[m.s]=2.1 Tref[s]=0.9683738242 Ecool[%]=49.75 Core[%]=0 Impact=0\n",
      "Tcal[m.s]=2.11 Tref[s]=0.9761586267 Ecool[%]=49.82 Core[%]=0 Impact=0\n",
      "Tcal[m.s]=2.12 Tref[s]=0.9822752573 Ecool[%]=49.75 Core[%]=0 Impact=0\n",
      "Tcal[m.s]=2.13 Tref[s]=0.9892259738 Ecool[%]=50.07 Core[%]=0 Impact=0\n",
      "Tcal[m.s]=2.14 Tref[s]=0.9967327476 Ecool[%]=49.43 Core[%]=0 Impact=0\n",
      "STOP -2023/6/22-10:20:43\n",
      "\n"
     ]
    },
    {
     "data": {
      "text/plain": [
       "False"
      ]
     },
     "execution_count": 4,
     "metadata": {},
     "output_type": "execute_result"
    }
   ],
   "source": [
    "import scipy.optimize\n",
    "import math\n",
    "import numpy as np\n",
    "import matplotlib.pyplot as plt\n",
    "from pybetacool import PyBetaCool\n",
    "\n",
    "\n",
    "\n",
    "obj = PyBetaCool(BLDfilename='/home/pkruyt/cernbox/BETACOOL_ecooling/benchmarking-Betacool/LEIR.bld', betacoolExec='/home/pkruyt/cernbox/BETACOOL_ecooling/betacool/Betacool_Linux')\n",
    "# Execute Betacool\n",
    "obj.runBetacool('/m')"
   ]
  },
  {
   "cell_type": "code",
   "execution_count": 5,
   "id": "716f1e9a",
   "metadata": {},
   "outputs": [
    {
     "name": "stdout",
     "output_type": "stream",
     "text": [
      "TODO: simple version here...\n"
     ]
    },
    {
     "data": {
      "image/png": "[encoded data removed]",
      "text/plain": [
       "<Figure size 640x480 with 1 Axes>"
      ]
     },
     "metadata": {},
     "output_type": "display_data"
    }
   ],
   "source": [
    "tmp = obj.parseCurveFile('emittance.cur')\n",
    "\n",
    "time=tmp[:,0]\n",
    "emittance_x = tmp[:,1]*1e-6\n",
    "emittance_y = tmp[:,2]\n",
    "plt.figure()\n",
    "plt.plot(time,emittance_x, label='emittance')\n",
    "\n",
    "\n",
    "plt.title('betacool')\n",
    "plt.ylabel('Emittance')\n",
    "plt.xlabel('Time')\n",
    "plt.legend()\n",
    "plt.show()\n"
   ]
  },
  {
   "cell_type": "code",
   "execution_count": 6,
   "id": "31ed9253",
   "metadata": {},
   "outputs": [],
   "source": [
    "filpath='results/emittance_betacool_I=2.npz'\n",
    "\n",
    "np.savez(filpath, time=time, emittance_x=emittance_x, emittance_y=emittance_y)\n"
   ]
  }
 ],
 "metadata": {
  "kernelspec": {
   "display_name": "base",
   "language": "python",
   "name": "python3"
  },
  "language_info": {
   "codemirror_mode": {
    "name": "ipython",
    "version": 3
   },
   "file_extension": ".py",
   "mimetype": "text/x-python",
   "name": "python",
   "nbconvert_exporter": "python",
   "pygments_lexer": "ipython3",
   "version": "3.11.3"
  },
  "vscode": {
   "interpreter": {
    "hash": "b3c9a0a5475e728b39e61ac58d244ad936924f9cf82746515a9faeb1f1a0b703"
   }
  }
 },
 "nbformat": 4,
 "nbformat_minor": 5
}
