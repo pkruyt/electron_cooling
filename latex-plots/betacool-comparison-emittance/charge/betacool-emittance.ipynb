{
 "cells": [
  {
   "cell_type": "code",
   "execution_count": 16,
   "id": "16460ba6",
   "metadata": {},
   "outputs": [
    {
     "name": "stdout",
     "output_type": "stream",
     "text": [
      "BETACOOL----------release ver.7.2.beta (omp)----------2023/6/22\n",
      "/home/pkruyt/cernbox/BETACOOL_ecooling/betacool/Betacool_Linux /home/pkruyt/cernbox/BETACOOL_ecooling/benchmarking-Betacool/LEIR.bld /m\n",
      "Input parameter [12,11] was initialised with default value:1e+10\n",
      "Cannot open file : Bring3.bump\n",
      "Mean beam radius= 0.1370049566  is more than chamber 4\n",
      "Model Beam: Integration Step [sec] =0.0002780286604\n",
      "Tcal[m.s]=0 Tref[s]=0 Ecool[%]=0 Core[%]=0 Impact=0\n",
      "Tcal[m.s]=0.01 Tref[s]=0.00639465919 Ecool[%]=0.03 Core[%]=0 Impact=0\n",
      "Tcal[m.s]=0.02 Tref[s]=0.01529157632 Ecool[%]=0.05 Core[%]=0 Impact=0\n",
      "Tcal[m.s]=0.03 Tref[s]=0.02335440748 Ecool[%]=0.12 Core[%]=0 Impact=0\n",
      "Tcal[m.s]=0.04 Tref[s]=0.03086118131 Ecool[%]=0.15 Core[%]=0 Impact=0\n",
      "Tcal[m.s]=0.05 Tref[s]=0.03920204112 Ecool[%]=0.25 Core[%]=0 Impact=0\n",
      "Tcal[m.s]=0.06 Tref[s]=0.04809895825 Ecool[%]=0.3 Core[%]=0 Impact=0\n",
      "Tcal[m.s]=0.07 Tref[s]=0.05560573208 Ecool[%]=0.36 Core[%]=0 Impact=0\n",
      "Tcal[m.s]=0.08 Tref[s]=0.06311250591 Ecool[%]=0.39 Core[%]=0 Impact=0\n",
      "Tcal[m.s]=0.09 Tref[s]=0.07089730841 Ecool[%]=0.43 Core[%]=0 Impact=0\n",
      "Tcal[m.s]=0.1 Tref[s]=0.07979422554 Ecool[%]=0.29 Core[%]=0 Impact=0\n",
      "Tcal[m.s]=0.11 Tref[s]=0.08869114267 Ecool[%]=0.36 Core[%]=0 Impact=0\n",
      "Tcal[m.s]=0.12 Tref[s]=0.09675397383 Ecool[%]=0.34 Core[%]=0 Impact=0\n",
      "Tcal[m.s]=0.13 Tref[s]=0.1037046903 Ecool[%]=0.36 Core[%]=0 Impact=0\n",
      "Tcal[m.s]=0.14 Tref[s]=0.1114894928 Ecool[%]=0.46 Core[%]=0 Impact=0\n",
      "Tcal[m.s]=0.15 Tref[s]=0.1192742953 Ecool[%]=0.43 Core[%]=0 Impact=0\n",
      "Tcal[m.s]=0.16 Tref[s]=0.1281712125 Ecool[%]=0.46 Core[%]=0 Impact=0\n",
      "Tcal[m.s]=0.17 Tref[s]=0.1362340436 Ecool[%]=0.37 Core[%]=0 Impact=0\n",
      "Tcal[m.s]=0.18 Tref[s]=0.1434627888 Ecool[%]=0.45 Core[%]=0 Impact=0\n",
      "Tcal[m.s]=0.19 Tref[s]=0.1509695626 Ecool[%]=0.45 Core[%]=0 Impact=0\n",
      "Tcal[m.s]=0.2 Tref[s]=0.1590323938 Ecool[%]=0.47 Core[%]=0 Impact=0\n",
      "Tcal[m.s]=0.21 Tref[s]=0.1682073396 Ecool[%]=0.39 Core[%]=0 Impact=0\n",
      "Tcal[m.s]=0.22 Tref[s]=0.1765481994 Ecool[%]=0.45 Core[%]=0 Impact=0\n",
      "Tcal[m.s]=0.23 Tref[s]=0.1846110305 Ecool[%]=0.42 Core[%]=0 Impact=0\n",
      "Tcal[m.s]=0.24 Tref[s]=0.1921178043 Ecool[%]=0.42 Core[%]=0 Impact=0\n",
      "Tcal[m.s]=0.25 Tref[s]=0.1999026068 Ecool[%]=0.47 Core[%]=0 Impact=0\n",
      "Tcal[m.s]=0.26 Tref[s]=0.2085214953 Ecool[%]=0.38 Core[%]=0 Impact=0\n",
      "Tcal[m.s]=0.27 Tref[s]=0.2168623551 Ecool[%]=0.51 Core[%]=0 Impact=0\n",
      "Tcal[m.s]=0.28 Tref[s]=0.224369129 Ecool[%]=0.48 Core[%]=0 Impact=0\n",
      "Tcal[m.s]=0.29 Tref[s]=0.2315978741 Ecool[%]=0.47 Core[%]=0 Impact=0\n",
      "Tcal[m.s]=0.3 Tref[s]=0.2393826766 Ecool[%]=0.52 Core[%]=0 Impact=0\n",
      "Tcal[m.s]=0.31 Tref[s]=0.2474455078 Ecool[%]=0.55 Core[%]=0 Impact=0\n",
      "Tcal[m.s]=0.32 Tref[s]=0.2541181956 Ecool[%]=0.45 Core[%]=0 Impact=0\n",
      "Tcal[m.s]=0.33 Tref[s]=0.2607908835 Ecool[%]=0.38 Core[%]=0 Impact=0\n",
      "Tcal[m.s]=0.34 Tref[s]=0.268575686 Ecool[%]=0.43 Core[%]=0 Impact=0\n",
      "Tcal[m.s]=0.35 Tref[s]=0.2760824598 Ecool[%]=0.52 Core[%]=0 Impact=0\n",
      "Tcal[m.s]=0.36 Tref[s]=0.2830331763 Ecool[%]=0.46 Core[%]=0 Impact=0\n",
      "Tcal[m.s]=0.37 Tref[s]=0.2905399501 Ecool[%]=0.62 Core[%]=0 Impact=0\n",
      "Tcal[m.s]=0.38 Tref[s]=0.2977686953 Ecool[%]=0.31 Core[%]=0 Impact=0\n",
      "Tcal[m.s]=0.39 Tref[s]=0.3063875838 Ecool[%]=0.48 Core[%]=0 Impact=0\n",
      "Tcal[m.s]=0.4 Tref[s]=0.3138943576 Ecool[%]=0.47 Core[%]=0 Impact=0\n",
      "Tcal[m.s]=0.41 Tref[s]=0.3222352174 Ecool[%]=0.4 Core[%]=0 Impact=0\n",
      "Tcal[m.s]=0.42 Tref[s]=0.3311321346 Ecool[%]=0.45 Core[%]=0 Impact=0\n",
      "Tcal[m.s]=0.43 Tref[s]=0.339751023 Ecool[%]=0.54 Core[%]=0 Impact=0\n",
      "Tcal[m.s]=0.44 Tref[s]=0.3489259688 Ecool[%]=0.36 Core[%]=0 Impact=0\n",
      "Tcal[m.s]=0.45 Tref[s]=0.3575448573 Ecool[%]=0.46 Core[%]=0 Impact=0\n",
      "Tcal[m.s]=0.46 Tref[s]=0.3664417744 Ecool[%]=0.35 Core[%]=0 Impact=0\n",
      "Tcal[m.s]=0.47 Tref[s]=0.3736705196 Ecool[%]=0.49 Core[%]=0 Impact=0\n",
      "Tcal[m.s]=0.48 Tref[s]=0.3808992648 Ecool[%]=0.32 Core[%]=0 Impact=0\n",
      "Tcal[m.s]=0.49 Tref[s]=0.3892401246 Ecool[%]=0.49 Core[%]=0 Impact=0\n",
      "Tcal[m.s]=0.5 Tref[s]=0.3984150704 Ecool[%]=0.32 Core[%]=0 Impact=0\n",
      "Tcal[m.s]=0.51 Tref[s]=0.4056438156 Ecool[%]=0.44 Core[%]=0 Impact=0\n",
      "Tcal[m.s]=0.52 Tref[s]=0.414262704 Ecool[%]=0.48 Core[%]=0 Impact=0\n",
      "Tcal[m.s]=0.53 Tref[s]=0.4231596212 Ecool[%]=0.32 Core[%]=0 Impact=0\n",
      "Tcal[m.s]=0.54 Tref[s]=0.432334567 Ecool[%]=0.37 Core[%]=0 Impact=0\n",
      "Tcal[m.s]=0.55 Tref[s]=0.4409534554 Ecool[%]=0.31 Core[%]=0 Impact=0\n",
      "Tcal[m.s]=0.56 Tref[s]=0.4495723439 Ecool[%]=0.24 Core[%]=0 Impact=0\n",
      "Tcal[m.s]=0.57 Tref[s]=0.4590253184 Ecool[%]=0.35 Core[%]=0 Impact=0\n",
      "Tcal[m.s]=0.58 Tref[s]=0.4682002641 Ecool[%]=0.52 Core[%]=0 Impact=0\n",
      "Tcal[m.s]=0.59 Tref[s]=0.4768191526 Ecool[%]=0.52 Core[%]=0 Impact=0\n",
      "Tcal[m.s]=1 Tref[s]=0.4851600124 Ecool[%]=0.32 Core[%]=0 Impact=0\n",
      "Tcal[m.s]=1.01 Tref[s]=0.4940569296 Ecool[%]=0.27 Core[%]=0 Impact=0\n",
      "Tcal[m.s]=1.02 Tref[s]=0.5032318754 Ecool[%]=0.36 Core[%]=0 Impact=0\n",
      "Tcal[m.s]=1.03 Tref[s]=0.5118507638 Ecool[%]=0.46 Core[%]=0 Impact=0\n",
      "Tcal[m.s]=1.04 Tref[s]=0.5204696523 Ecool[%]=0.45 Core[%]=0 Impact=0\n",
      "Tcal[m.s]=1.05 Tref[s]=0.5296445981 Ecool[%]=0.4 Core[%]=0 Impact=0\n",
      "Tcal[m.s]=1.06 Tref[s]=0.5393756012 Ecool[%]=0.33 Core[%]=0 Impact=0\n",
      "Tcal[m.s]=1.07 Tref[s]=0.5474384324 Ecool[%]=0.4 Core[%]=0 Impact=0\n",
      "Tcal[m.s]=1.08 Tref[s]=0.5560573208 Ecool[%]=0.48 Core[%]=0 Impact=0\n",
      "Tcal[m.s]=1.09 Tref[s]=0.564954238 Ecool[%]=0.42 Core[%]=0 Impact=0\n",
      "Tcal[m.s]=1.1 Tref[s]=0.5732950978 Ecool[%]=0.37 Core[%]=0 Impact=0\n",
      "Tcal[m.s]=1.11 Tref[s]=0.5816359576 Ecool[%]=0.38 Core[%]=0 Impact=0\n",
      "Tcal[m.s]=1.12 Tref[s]=0.5908109034 Ecool[%]=0.52 Core[%]=0 Impact=0\n",
      "Tcal[m.s]=1.13 Tref[s]=0.5999858492 Ecool[%]=0.34 Core[%]=0 Impact=0\n",
      "Tcal[m.s]=1.14 Tref[s]=0.6088827663 Ecool[%]=0.44 Core[%]=0 Impact=0\n",
      "Tcal[m.s]=1.15 Tref[s]=0.6175016548 Ecool[%]=0.39 Core[%]=0 Impact=0\n",
      "Tcal[m.s]=1.16 Tref[s]=0.6261205433 Ecool[%]=0.33 Core[%]=0 Impact=0\n",
      "Tcal[m.s]=1.17 Tref[s]=0.6344614031 Ecool[%]=0.33 Core[%]=0 Impact=0\n",
      "Tcal[m.s]=1.18 Tref[s]=0.6425242342 Ecool[%]=0.41 Core[%]=0 Impact=0\n",
      "Tcal[m.s]=1.19 Tref[s]=0.6511431227 Ecool[%]=0.37 Core[%]=0 Impact=0\n",
      "Tcal[m.s]=1.2 Tref[s]=0.6603180685 Ecool[%]=0.46 Core[%]=0 Impact=0\n",
      "Tcal[m.s]=1.21 Tref[s]=0.6683808996 Ecool[%]=0.22 Core[%]=0 Impact=0\n",
      "Tcal[m.s]=1.22 Tref[s]=0.6775558454 Ecool[%]=0.33 Core[%]=0 Impact=0\n",
      "Tcal[m.s]=1.23 Tref[s]=0.6867307912 Ecool[%]=0.42 Core[%]=0 Impact=0\n",
      "Tcal[m.s]=1.24 Tref[s]=0.695071651 Ecool[%]=0.3 Core[%]=0 Impact=0\n",
      "Tcal[m.s]=1.25 Tref[s]=0.7031344822 Ecool[%]=0.43 Core[%]=0 Impact=0\n",
      "Tcal[m.s]=1.26 Tref[s]=0.711475342 Ecool[%]=0.35 Core[%]=0 Impact=0\n",
      "Tcal[m.s]=1.27 Tref[s]=0.7203722591 Ecool[%]=0.21 Core[%]=0 Impact=0\n",
      "Tcal[m.s]=1.28 Tref[s]=0.7281570616 Ecool[%]=0.24 Core[%]=0 Impact=0\n",
      "Tcal[m.s]=1.29 Tref[s]=0.7370539788 Ecool[%]=0.21 Core[%]=0 Impact=0\n",
      "Tcal[m.s]=1.3 Tref[s]=0.7456728672 Ecool[%]=0.2 Core[%]=0 Impact=0\n",
      "Tcal[m.s]=1.31 Tref[s]=0.7542917557 Ecool[%]=0.24 Core[%]=0 Impact=0\n",
      "Tcal[m.s]=1.32 Tref[s]=0.7623545869 Ecool[%]=0.14 Core[%]=0 Impact=0\n",
      "Tcal[m.s]=1.33 Tref[s]=0.7709734753 Ecool[%]=0.19 Core[%]=0 Impact=0\n",
      "Tcal[m.s]=1.34 Tref[s]=0.7795923638 Ecool[%]=0.11 Core[%]=0 Impact=0\n",
      "Tcal[m.s]=1.35 Tref[s]=0.7882112523 Ecool[%]=0.07 Core[%]=0 Impact=0\n",
      "Tcal[m.s]=1.36 Tref[s]=0.7959960548 Ecool[%]=0.11 Core[%]=0 Impact=0\n",
      "Tcal[m.s]=1.37 Tref[s]=0.8043369146 Ecool[%]=0.08 Core[%]=0 Impact=0\n",
      "Tcal[m.s]=1.38 Tref[s]=0.8126777744 Ecool[%]=0.08 Core[%]=0 Impact=0\n",
      "Tcal[m.s]=1.39 Tref[s]=0.8207406056 Ecool[%]=0.07 Core[%]=0 Impact=0\n",
      "Tcal[m.s]=1.4 Tref[s]=0.8290814654 Ecool[%]=0.04 Core[%]=0 Impact=0\n",
      "Tcal[m.s]=1.41 Tref[s]=0.8385344398 Ecool[%]=0.09 Core[%]=0 Impact=0\n",
      "Tcal[m.s]=1.42 Tref[s]=0.846597271 Ecool[%]=0.04 Core[%]=0 Impact=0\n",
      "Tcal[m.s]=1.43 Tref[s]=0.8546601021 Ecool[%]=0.09 Core[%]=0 Impact=0\n",
      "Tcal[m.s]=1.44 Tref[s]=0.8632789906 Ecool[%]=0.03 Core[%]=0 Impact=0\n",
      "Tcal[m.s]=1.45 Tref[s]=0.8710637931 Ecool[%]=0.04 Core[%]=0 Impact=0\n",
      "Tcal[m.s]=1.46 Tref[s]=0.8785705669 Ecool[%]=0.07 Core[%]=0 Impact=0\n",
      "Tcal[m.s]=1.47 Tref[s]=0.8874674841 Ecool[%]=0.04 Core[%]=0 Impact=0\n",
      "Tcal[m.s]=1.48 Tref[s]=0.8955303152 Ecool[%]=0.04 Core[%]=0 Impact=0\n",
      "Tcal[m.s]=1.49 Tref[s]=0.9035931464 Ecool[%]=0.05 Core[%]=0 Impact=0\n",
      "Tcal[m.s]=1.5 Tref[s]=0.9116559775 Ecool[%]=0.07 Core[%]=0 Impact=0\n",
      "Tcal[m.s]=1.51 Tref[s]=0.920274866 Ecool[%]=0.02 Core[%]=0 Impact=0\n",
      "Tcal[m.s]=1.52 Tref[s]=0.9286157258 Ecool[%]=0.04 Core[%]=0 Impact=0\n",
      "Tcal[m.s]=1.53 Tref[s]=0.9375126429 Ecool[%]=0.07 Core[%]=0 Impact=0\n",
      "Tcal[m.s]=1.54 Tref[s]=0.9458535027 Ecool[%]=0.06 Core[%]=0 Impact=0\n",
      "Tcal[m.s]=1.55 Tref[s]=0.9541943626 Ecool[%]=0.01 Core[%]=0 Impact=0\n",
      "Tcal[m.s]=1.56 Tref[s]=0.9625352224 Ecool[%]=0.03 Core[%]=0 Impact=0\n",
      "Tcal[m.s]=1.57 Tref[s]=0.9703200249 Ecool[%]=0.05 Core[%]=0 Impact=0\n",
      "Tcal[m.s]=1.58 Tref[s]=0.9789389133 Ecool[%]=0.04 Core[%]=0 Impact=0\n",
      "Tcal[m.s]=1.59 Tref[s]=0.9883918878 Ecool[%]=0.04 Core[%]=0 Impact=0\n",
      "Tcal[m.s]=2 Tref[s]=0.9961766903 Ecool[%]=0 Core[%]=0 Impact=0\n",
      "STOP -2023/6/22-9:52:51\n",
      "\n"
     ]
    },
    {
     "data": {
      "text/plain": [
       "False"
      ]
     },
     "execution_count": 16,
     "metadata": {},
     "output_type": "execute_result"
    }
   ],
   "source": [
    "import scipy.optimize\n",
    "import math\n",
    "import numpy as np\n",
    "import matplotlib.pyplot as plt\n",
    "from pybetacool import PyBetaCool\n",
    "\n",
    "\n",
    "\n",
    "obj = PyBetaCool(BLDfilename='/home/pkruyt/cernbox/BETACOOL_ecooling/benchmarking-Betacool/LEIR.bld', betacoolExec='/home/pkruyt/cernbox/BETACOOL_ecooling/betacool/Betacool_Linux')\n",
    "# Execute Betacool\n",
    "obj.runBetacool('/m')"
   ]
  },
  {
   "cell_type": "code",
   "execution_count": 17,
   "id": "716f1e9a",
   "metadata": {},
   "outputs": [
    {
     "name": "stdout",
     "output_type": "stream",
     "text": [
      "TODO: simple version here...\n"
     ]
    },
    {
     "data": {
      "image/png": "[encoded data removed]",
      "text/plain": [
       "<Figure size 640x480 with 1 Axes>"
      ]
     },
     "metadata": {},
     "output_type": "display_data"
    }
   ],
   "source": [
    "tmp = obj.parseCurveFile('emittance.cur')\n",
    "\n",
    "time=tmp[:,0]\n",
    "emittance_x = tmp[:,1]*1e-6\n",
    "emittance_y = tmp[:,2]\n",
    "plt.figure()\n",
    "plt.plot(time,emittance_x, label='emittance')\n",
    "\n",
    "\n",
    "plt.title('betacool')\n",
    "plt.ylabel('Emittance')\n",
    "plt.xlabel('Time')\n",
    "plt.legend()\n",
    "plt.show()\n"
   ]
  },
  {
   "cell_type": "code",
   "execution_count": 18,
   "id": "31ed9253",
   "metadata": {},
   "outputs": [],
   "source": [
    "filpath='results/emittance_betacool_Q=54.npz'\n",
    "\n",
    "np.savez(filpath, time=time, emittance_x=emittance_x, emittance_y=emittance_y)\n"
   ]
  }
 ],
 "metadata": {
  "kernelspec": {
   "display_name": "base",
   "language": "python",
   "name": "python3"
  },
  "language_info": {
   "codemirror_mode": {
    "name": "ipython",
    "version": 3
   },
   "file_extension": ".py",
   "mimetype": "text/x-python",
   "name": "python",
   "nbconvert_exporter": "python",
   "pygments_lexer": "ipython3",
   "version": "3.11.3"
  },
  "vscode": {
   "interpreter": {
    "hash": "b3c9a0a5475e728b39e61ac58d244ad936924f9cf82746515a9faeb1f1a0b703"
   }
  }
 },
 "nbformat": 4,
 "nbformat_minor": 5
}
