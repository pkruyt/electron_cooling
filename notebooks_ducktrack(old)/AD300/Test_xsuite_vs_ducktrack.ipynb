{
 "cells": [
  {
   "cell_type": "code",
   "execution_count": 1,
   "id": "e0cf7130",
   "metadata": {},
   "outputs": [],
   "source": [
    "# copyright ############################### #\n",
    "# This file is part of the Xtrack Package.  #\n",
    "# Copyright (c) CERN, 2021.                 #\n",
    "# ######################################### #\n",
    "\n",
    "\n",
    "import xtrack as xt\n",
    "import xobjects as xo\n",
    "import xpart as xp\n",
    "\n",
    "import ducktrack as dtk\n",
    "import numpy as np\n",
    "import matplotlib.pyplot as plt\n",
    "from matplotlib.widgets import Slider\n",
    "from tqdm import tqdm\n",
    "\n",
    "\n",
    "\n",
    "\n",
    "\n",
    "beta_rel = 0.305\n",
    "#beta_rel = 0.106\n",
    "\n",
    "gamma = 1.050\n",
    "#gamma = 1.006\n",
    "\n",
    "\n",
    "current=2.4\n",
    "L = 1.5 # m cooler length\n",
    "r_beam=25*1e-3\n",
    "\n",
    "mass0=938.27208816*1e6 #ev/c^2\n",
    "\n",
    "T_perp = 0.01 # <E> [eV] = kb*T\n",
    "T_l =  0.001 # <E> [eV]\n",
    "B = 0.060 # T for AD\n",
    "B_ratio=1e-10\n",
    "Z=1\n",
    "Neutralisation_space_charge=1\n",
    "Neutralisation_rotation=1\n",
    "\n",
    "c=299792458.0\n",
    "\n",
    "p0c = mass0*beta_rel*gamma #eV/c\n",
    "\n",
    "\n",
    "\n",
    "length = 182.43280000000 #m\n",
    "T = length/(c*beta_rel)\n",
    "ms_per_turn = 1000*T\n",
    "\n",
    "\n",
    "\n",
    "\n",
    "\n",
    "beta_x=10 \n",
    "beta_y=4\n",
    "emittance=10*1e-6\n",
    "\n",
    "arc=xt.LinearTransferMatrix(Q_x=5.38518956965, Q_y=5.36921653748,\n",
    "                            beta_x_0=beta_x, beta_x_1=beta_x,\n",
    "                            beta_y_0=beta_y,  beta_y_1=beta_y,\n",
    "                            alpha_x_0=0,   alpha_x_1=0,\n",
    "                            alpha_y_0=0,   alpha_y_1=0,\n",
    "                            disp_x_0=0,disp_x_1=0,\n",
    "                            disp_y_0=0,    disp_y_1=0,\n",
    "                            beta_s=1*1e40,\n",
    "                            Q_s=0,\n",
    "                            chroma_x=0.0, chroma_y=0\n",
    "                                           \n",
    "                 )"
   ]
  },
  {
   "cell_type": "code",
   "execution_count": 2,
   "id": "3946c763",
   "metadata": {},
   "outputs": [
    {
     "name": "stderr",
     "output_type": "stream",
     "text": [
      "  0%|          | 0/200000 [00:00<?, ?it/s]"
     ]
    },
    {
     "name": "stdout",
     "output_type": "stream",
     "text": [
      "Compiling ContextCpu kernels...\n"
     ]
    },
    {
     "name": "stderr",
     "output_type": "stream",
     "text": [
      "  1%|          | 1145/200000 [00:02<04:06, 807.13it/s]"
     ]
    },
    {
     "name": "stdout",
     "output_type": "stream",
     "text": [
      "Done compiling ContextCpu kernels.\n"
     ]
    },
    {
     "name": "stderr",
     "output_type": "stream",
     "text": [
      "100%|██████████| 200000/200000 [00:34<00:00, 5757.60it/s]\n"
     ]
    }
   ],
   "source": [
    "import xobjects as xo\n",
    "context = xo.ContextCpu()\n",
    "\n",
    "num_particles=1\n",
    "emitt_x=35*1e-6 #inital emittance\n",
    "\n",
    "x_init=np.sqrt(beta_x*emitt_x)\n",
    "px_init=np.sqrt(1/beta_x*emitt_x)\n",
    "y_init=np.sqrt(beta_y*emitt_x)\n",
    "py_init=np.sqrt(1/beta_y*emitt_x)\n",
    "delta_init=5e-4*0\n",
    "\n",
    "particles = xp.Particles(\n",
    "        \n",
    "        mass0=mass0,\n",
    "        p0c=p0c,\n",
    "        x=x_init,\n",
    "        px=px_init,\n",
    "        y=y_init,\n",
    "        py=py_init,\n",
    "        delta=delta_init,\n",
    "        zeta=0)\n",
    "\n",
    "\n",
    "cooler_xs = xt.ElectronCooler(current=current,length=length,r_beam=r_beam,\n",
    "                                T_perp=T_perp,T_l=T_l,\n",
    "                                B=B,B_ratio=B_ratio,\n",
    "                                Neutralisation_space_charge=Neutralisation_space_charge,\n",
    "                                Neutralisation_rotation=Neutralisation_rotation)\n",
    "\n",
    "#  # test to_dict / from_dict\n",
    "# ee=cooler_xs\n",
    "# dd = ee.to_dict()\n",
    "# nee = ee.__class__.from_dict(dd, _context=context)\n",
    "# # Check that the two objects are bitwise identical\n",
    "# if not isinstance(context, xo.ContextCpu):\n",
    "#     ee.move(_context=xo.ContextCpu())\n",
    "#     nee.move(_context=xo.ContextCpu())\n",
    "# assert (ee._xobject._buffer.buffer[ee._xobject._offset:ee._xobject._size]\n",
    "#         - nee._xobject._buffer.buffer[\n",
    "#             nee._xobject._offset:nee._xobject._size]).sum() == 0\n",
    "\n",
    "\n",
    "\n",
    "# line.build_tracker(_context=context)\n",
    "\n",
    "num_turns=int(1*1e5)\n",
    "\n",
    "step=1\n",
    "\n",
    "#num_turns=int(3*1e6)\n",
    "#step=1\n",
    "\n",
    "# initialize arrays\n",
    "x_xs = []\n",
    "px_xs = []\n",
    "py_xs = []\n",
    "action_x_xs = []\n",
    "action_y_xs = []\n",
    "delta_xs = []\n",
    "\n",
    "\n",
    "\n",
    "for i in tqdm(range(num_turns)):\n",
    "    \n",
    "    x_xs.append(particles.x[0])\n",
    "    px_xs.append(particles.px[0])\n",
    "    #print('px',particles.px)\n",
    "    py_xs.append(particles.py[0])\n",
    "    delta_xs.append(particles.delta[0])\n",
    "\n",
    "    # calculate action in horizontal plane\n",
    "    action_x_temp = (particles.x**2/beta_x + beta_x*particles.px**2)\n",
    "    action_x_xs.append(action_x_temp)\n",
    "    action_y_temp = (particles.y**2/beta_y + beta_y*particles.py**2)\n",
    "    action_y_xs.append(action_y_temp)\n",
    "\n",
    "        \n",
    "\n",
    "    cooler_xs.track(particles)\n",
    "    \n",
    "\n",
    "\n",
    "\n",
    "# convert arrays to numpy arrays\n",
    "# x_xs = np.concatenate(x_xs)\n",
    "# px_xs = np.concatenate(px_xs)\n",
    "# py_xs = np.concatenate(py_xs)\n",
    "\n",
    "# action_x_xs = np.concatenate(action_x_xs)\n",
    "# action_y_xs = np.concatenate(action_y_xs)\n",
    "# delta_xs = np.concatenate(delta_xs)\n",
    "\n",
    "\n",
    "\n",
    "\n",
    "time = np.arange(0, num_turns, step) * ms_per_turn\n",
    "\n"
   ]
  },
  {
   "attachments": {},
   "cell_type": "markdown",
   "id": "4d1133b8",
   "metadata": {},
   "source": [
    "ducktrack"
   ]
  },
  {
   "cell_type": "code",
   "execution_count": 3,
   "id": "fa318127",
   "metadata": {},
   "outputs": [],
   "source": [
    "arc=dtk.LinearTransferMatrix(Q_x=5.38518956965, Q_y=5.36921653748,\n",
    "                            beta_x_0=beta_x, beta_x_1=beta_x,\n",
    "                            beta_y_0=beta_y,  beta_y_1=beta_y,\n",
    "                            alpha_x_0=0,   alpha_x_1=0,\n",
    "                            alpha_y_0=0,   alpha_y_1=0,\n",
    "                            disp_x_0=0,disp_x_1=0,\n",
    "                            disp_y_0=0,    disp_y_1=0,\n",
    "                            beta_s=1e40,\n",
    "                            Q_s=0,\n",
    "                            chroma_x=0.0, chroma_y=0\n",
    "                                           \n",
    "                 )"
   ]
  },
  {
   "cell_type": "code",
   "execution_count": 4,
   "id": "48c8829c",
   "metadata": {},
   "outputs": [
    {
     "name": "stderr",
     "output_type": "stream",
     "text": [
      "100%|██████████| 200000/200000 [00:13<00:00, 15299.41it/s]\n"
     ]
    }
   ],
   "source": [
    "import ducktrack as dtk\n",
    "dtk_particle = dtk.TestParticles(\n",
    "        \n",
    "        mass0=mass0,\n",
    "        p0c=p0c,\n",
    "        x=x_init,\n",
    "        px=px_init,\n",
    "        y=y_init,\n",
    "        py=py_init,\n",
    "        delta=delta_init,\n",
    "        zeta=0)\n",
    "\n",
    "\n",
    "\n",
    "dtk_cooler = dtk.elements.ElectronCooler(current=current,length=length,r_beam=r_beam,\n",
    "                                T_perp=T_perp,T_l=T_l,\n",
    "                                B=B,B_ratio=B_ratio,\n",
    "                                Neutralisation_space_charge=Neutralisation_space_charge,\n",
    "                                Neutralisation_rotation=Neutralisation_rotation)\n",
    "\n",
    "       \n",
    "\n",
    "\n",
    "# initialize arrays\n",
    "x = []\n",
    "px = []\n",
    "action_x = []\n",
    "action_y = []\n",
    "py = []\n",
    "delta = []\n",
    "\n",
    "\n",
    "for i in tqdm(range(num_turns)):\n",
    "    \n",
    "    x.append(dtk_particle.x)\n",
    "    px.append(dtk_particle.px)\n",
    "    py.append(dtk_particle.py)\n",
    "    delta.append(particles.delta)\n",
    "\n",
    "    # calculate action in horizontal plane\n",
    "    action_x_temp = (dtk_particle.x**2/beta_x + beta_x*dtk_particle.px**2)\n",
    "    action_x.append(action_x_temp)\n",
    "    action_y_temp = (dtk_particle.y**2/beta_y + beta_y*dtk_particle.py**2)\n",
    "    action_y.append(action_y_temp)\n",
    "       \n",
    "    \n",
    "        \n",
    "\n",
    "    #arc.track(dtk_particle)\n",
    "    dtk_cooler.track(dtk_particle)\n",
    "    \n",
    "\n",
    "# convert arrays to numpy arrays\n",
    "x = np.array(x)\n",
    "px = np.array(px)\n",
    "action_x = np.array(action_x)\n",
    "\n",
    "\n",
    "\n",
    "\n",
    "time = np.arange(0, num_turns, step) * ms_per_turn\n",
    "\n"
   ]
  },
  {
   "cell_type": "code",
   "execution_count": 5,
   "id": "043109db",
   "metadata": {},
   "outputs": [
    {
     "data": {
      "image/png": "[encoded data removed]",
      "text/plain": [
       "<Figure size 640x480 with 1 Axes>"
      ]
     },
     "metadata": {},
     "output_type": "display_data"
    }
   ],
   "source": [
    "# Plot the horizontal action versus time\n",
    "plt.figure()\n",
    "\n",
    "plt.plot(time,px,label='ducktrack')\n",
    "plt.plot(time,px_xs,label='Xsuite')\n",
    "\n",
    "plt.xlabel('Time [ms]')\n",
    "plt.ylabel('Px')\n",
    "plt.title('PX')\n",
    "plt.legend()\n",
    "plt.ticklabel_format(useOffset=False)"
   ]
  },
  {
   "cell_type": "code",
   "execution_count": 6,
   "id": "4bd4803a",
   "metadata": {},
   "outputs": [
    {
     "data": {
      "image/png": "[encoded data removed]",
      "text/plain": [
       "<Figure size 640x480 with 1 Axes>"
      ]
     },
     "metadata": {},
     "output_type": "display_data"
    }
   ],
   "source": [
    "# Plot the horizontal action versus time\n",
    "plt.figure()\n",
    "\n",
    "plt.plot(time,py,label='ducktrack')\n",
    "plt.plot(time,py_xs,label='Xsuite')\n",
    "\n",
    "plt.xlabel('Time [ms]')\n",
    "plt.ylabel('Action [m rad]')\n",
    "plt.title('PY')\n",
    "plt.legend()\n",
    "plt.ticklabel_format(useOffset=False)"
   ]
  },
  {
   "cell_type": "code",
   "execution_count": 7,
   "id": "8b163964",
   "metadata": {},
   "outputs": [
    {
     "name": "stdout",
     "output_type": "stream",
     "text": [
      "0.0018217257842037683\n",
      "0.0018217257839775497\n"
     ]
    }
   ],
   "source": [
    "print(dtk_particle.px)\n",
    "print(particles.px[0])\n",
    "# print(dtk_particle.px)\n",
    "# print(particles.px[0])"
   ]
  },
  {
   "cell_type": "code",
   "execution_count": 8,
   "id": "c3ebfecb",
   "metadata": {},
   "outputs": [
    {
     "ename": "AssertionError",
     "evalue": "",
     "output_type": "error",
     "traceback": [
      "\u001b[0;31m---------------------------------------------------------------------------\u001b[0m",
      "\u001b[0;31mAssertionError\u001b[0m                            Traceback (most recent call last)",
      "Cell \u001b[0;32mIn[8], line 6\u001b[0m\n\u001b[1;32m      2\u001b[0m test_context\u001b[39m=\u001b[39mxo\u001b[39m.\u001b[39mContextCpu()\n\u001b[1;32m      4\u001b[0m \u001b[39massert\u001b[39;00m np\u001b[39m.\u001b[39misclose(test_context\u001b[39m.\u001b[39mnparray_from_context_array(particles\u001b[39m.\u001b[39mx)[\u001b[39m0\u001b[39m],\n\u001b[1;32m      5\u001b[0m                     dtk_particle\u001b[39m.\u001b[39mx, rtol\u001b[39m=\u001b[39m\u001b[39m1e-14\u001b[39m, atol\u001b[39m=\u001b[39m\u001b[39m1e-14\u001b[39m)\n\u001b[0;32m----> 6\u001b[0m \u001b[39massert\u001b[39;00m np\u001b[39m.\u001b[39misclose(test_context\u001b[39m.\u001b[39mnparray_from_context_array(particles\u001b[39m.\u001b[39mpx)[\u001b[39m0\u001b[39m],\n\u001b[1;32m      7\u001b[0m                     dtk_particle\u001b[39m.\u001b[39mpx, rtol\u001b[39m=\u001b[39m\u001b[39m1e-14\u001b[39m, atol\u001b[39m=\u001b[39m\u001b[39m1e-14\u001b[39m)\n\u001b[1;32m      8\u001b[0m \u001b[39massert\u001b[39;00m np\u001b[39m.\u001b[39misclose(test_context\u001b[39m.\u001b[39mnparray_from_context_array(particles\u001b[39m.\u001b[39my)[\u001b[39m0\u001b[39m],\n\u001b[1;32m      9\u001b[0m                     dtk_particle\u001b[39m.\u001b[39my, rtol\u001b[39m=\u001b[39m\u001b[39m1e-14\u001b[39m, atol\u001b[39m=\u001b[39m\u001b[39m1e-14\u001b[39m)\n\u001b[1;32m     10\u001b[0m \u001b[39massert\u001b[39;00m np\u001b[39m.\u001b[39misclose(test_context\u001b[39m.\u001b[39mnparray_from_context_array(particles\u001b[39m.\u001b[39mpy)[\u001b[39m0\u001b[39m],\n\u001b[1;32m     11\u001b[0m                     dtk_particle\u001b[39m.\u001b[39mpy, rtol\u001b[39m=\u001b[39m\u001b[39m1e-14\u001b[39m, atol\u001b[39m=\u001b[39m\u001b[39m1e-14\u001b[39m)\n",
      "\u001b[0;31mAssertionError\u001b[0m: "
     ]
    }
   ],
   "source": [
    "import xobjects as xo\n",
    "test_context=xo.ContextCpu()\n",
    "\n",
    "assert np.isclose(test_context.nparray_from_context_array(particles.x)[0],\n",
    "                    dtk_particle.x, rtol=1e-14, atol=1e-14)\n",
    "assert np.isclose(test_context.nparray_from_context_array(particles.px)[0],\n",
    "                    dtk_particle.px, rtol=1e-14, atol=1e-14)\n",
    "assert np.isclose(test_context.nparray_from_context_array(particles.y)[0],\n",
    "                    dtk_particle.y, rtol=1e-14, atol=1e-14)\n",
    "assert np.isclose(test_context.nparray_from_context_array(particles.py)[0],\n",
    "                    dtk_particle.py, rtol=1e-14, atol=1e-14)\n",
    "assert np.isclose(test_context.nparray_from_context_array(particles.zeta)[0],\n",
    "                    dtk_particle.zeta, rtol=1e-14, atol=1e-14)\n",
    "assert np.isclose(test_context.nparray_from_context_array(particles.delta)[0],\n",
    "                    dtk_particle.delta, rtol=1e-14, atol=1e-14)"
   ]
  },
  {
   "cell_type": "code",
   "execution_count": null,
   "id": "f3fe4bce",
   "metadata": {},
   "outputs": [],
   "source": [
    "# dtk_particle = dtk.TestParticles(\n",
    "#         p0c=25.92e9,\n",
    "#         x=1e-3,\n",
    "#         px=1e-5,\n",
    "#         y=-2e-3,\n",
    "#         py=-1.5e-5,\n",
    "#         zeta=2.,\n",
    "#         delta=2E-4)\n",
    "\n",
    "\n",
    "dtk_particle = dtk.TestParticles(\n",
    "        mass0=mass0,\n",
    "        p0c=p0c,\n",
    "        x=x_init,\n",
    "        px=px_init,\n",
    "        y=y_init,\n",
    "        py=py_init,\n",
    "        delta=delta_init,\n",
    "        zeta=0)\n",
    "\n",
    "\n",
    "\n",
    "particles = xp.Particles.from_dict(dtk_particle.to_dict(),\n",
    "                                    _context=test_context)\n",
    "I=2.4\n",
    "L = 1.5 # m cooler length\n",
    "r_beam=25*1e-3\n",
    "\n",
    "T_perp = 0.01 # <E> [eV] = kb*T\n",
    "T_l =  0.001 # <E> [eV]\n",
    "B = 0.060 # T for AD\n",
    "B_ratio=1e-3\n",
    "Z=1\n",
    "electron_cooler=xt.ElectronCooler(I=I,L=L,r_beam=r_beam,\n",
    "                                                T_perp=T_perp,T_l=T_l,\n",
    "                                                B=B,Z=Z,B_ratio=B_ratio,\n",
    "                                                Neutralisation_space_charge=1,Neutralisation_rotation=1)\n",
    "electron_cooler.track(particles)\n",
    "\n",
    "dtk_electron_cooler = dtk.elements.ElectronCooler(I=I,L=L,r_beam=r_beam,\n",
    "                                                T_perp=T_perp,T_l=T_l,\n",
    "                                                B=B,Z=Z,B_ratio=B_ratio,\n",
    "                                                Neutralisation_space_charge=1,Neutralisation_rotation=1)\n",
    "\n",
    "dtk_electron_cooler.track(dtk_particle)\n",
    "\n",
    "\n",
    "print(dtk_particle.px)\n",
    "print(particles.px[0])\n",
    "\n",
    "\n",
    "assert np.isclose(test_context.nparray_from_context_array(particles.x)[0],\n",
    "                    dtk_particle.x, rtol=1e-14, atol=1e-14)\n",
    "assert np.isclose(test_context.nparray_from_context_array(particles.px)[0],\n",
    "                    dtk_particle.px, rtol=1e-14, atol=1e-14)\n",
    "assert np.isclose(test_context.nparray_from_context_array(particles.y)[0],\n",
    "                    dtk_particle.y, rtol=1e-14, atol=1e-14)\n",
    "assert np.isclose(test_context.nparray_from_context_array(particles.py)[0],\n",
    "                    dtk_particle.py, rtol=1e-14, atol=1e-14)\n",
    "assert np.isclose(test_context.nparray_from_context_array(particles.zeta)[0],\n",
    "                    dtk_particle.zeta, rtol=1e-14, atol=1e-14)\n",
    "assert np.isclose(test_context.nparray_from_context_array(particles.delta)[0],\n",
    "                    dtk_particle.delta, rtol=1e-14, atol=1e-14)\n",
    "\n",
    "\n"
   ]
  }
 ],
 "metadata": {
  "kernelspec": {
   "display_name": "base",
   "language": "python",
   "name": "python3"
  },
  "language_info": {
   "codemirror_mode": {
    "name": "ipython",
    "version": 3
   },
   "file_extension": ".py",
   "mimetype": "text/x-python",
   "name": "python",
   "nbconvert_exporter": "python",
   "pygments_lexer": "ipython3",
   "version": "3.10.10"
  },
  "vscode": {
   "interpreter": {
    "hash": "b3c9a0a5475e728b39e61ac58d244ad936924f9cf82746515a9faeb1f1a0b703"
   }
  }
 },
 "nbformat": 4,
 "nbformat_minor": 5
}
