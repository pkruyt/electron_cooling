{
 "cells": [
  {
   "cell_type": "code",
   "execution_count": 59,
   "id": "e0cf7130",
   "metadata": {},
   "outputs": [],
   "source": [
    "# copyright ############################### #\n",
    "# This file is part of the Xtrack Package.  #\n",
    "# Copyright (c) CERN, 2021.                 #\n",
    "# ######################################### #\n",
    "import numpy as np\n",
    "import matplotlib.pyplot as plt\n",
    "from matplotlib.widgets import Slider\n",
    "from tqdm import tqdm\n",
    "\n",
    "import xtrack as xt\n",
    "import xobjects as xo\n",
    "import xpart as xp\n",
    "from scipy import constants \n"
   ]
  },
  {
   "cell_type": "code",
   "execution_count": 60,
   "id": "bb67ac96",
   "metadata": {},
   "outputs": [
    {
     "name": "stdout",
     "output_type": "stream",
     "text": [
      "Compiling ContextCpu kernels...\n",
      "Done compiling ContextCpu kernels.\n",
      "Compiling ContextCpu kernels...\n",
      "Done compiling ContextCpu kernels.\n"
     ]
    },
    {
     "data": {
      "application/vnd.jupyter.widget-view+json": {
       "model_id": "3e4851bc6f35412c9222c7d904449005",
       "version_major": 2,
       "version_minor": 0
      },
      "text/plain": [
       "Tracking:   0%|          | 0/359700 [00:00<?, ?it/s]"
      ]
     },
     "metadata": {},
     "output_type": "display_data"
    }
   ],
   "source": [
    "import ducktrack as dtk\n",
    "\n",
    "data = np.load('emittance_betacool.npz')\n",
    "emittance_betacool = data['emittance']\n",
    "time_betacool = data['time']\n",
    "\n",
    "gamma0 = 1.004469679\n",
    "beta0 = np.sqrt(1 - 1 / gamma0**2)\n",
    "mass0 = 193729.0248722061 * 1e6  # eV/c^2\n",
    "clight = 299792458.0\n",
    "p0c = mass0 * beta0 * gamma0  # eV/c\n",
    "q0 = 54\n",
    "particle_ref = xp.Particles(p0c=p0c,q0=q0,mass0=mass0,beta0=beta0,gamma0=gamma0)\n",
    "\n",
    "circumference = 78.54370266  # m\n",
    "T_per_turn = circumference/(clight*beta0)\n",
    "\n",
    "qx = 1.82\n",
    "qy = 2.72\n",
    "beta_x = 5\n",
    "beta_y = 5\n",
    "qs=0.005247746218929317\n",
    "bets0=-2078.673348423543\n",
    "\n",
    "arc = xt.LineSegmentMap(\n",
    "        qx=qx, qy=qy,\n",
    "        length=circumference,\n",
    "        betx=beta_x,\n",
    "        bety=beta_y,\n",
    "        )\n",
    "\n",
    "arc_matching = xt.LineSegmentMap(\n",
    "        qx=qx, qy=qy,\n",
    "        length=circumference,\n",
    "        betx=beta_x,\n",
    "        bety=beta_y,\n",
    "        qs=qs,\n",
    "        bets=bets0)\n",
    "\n",
    "line_matching=xt.Line([arc_matching])\n",
    "line_matching.build_tracker()\n",
    "\n",
    "num_particles=int(1e2)\n",
    "sigma_dp = 5e-3    \n",
    "gemitt_x = 14e-6\n",
    "gemitt_y = 14e-6\n",
    "\n",
    "nemitt_x = gemitt_x*beta0*gamma0\n",
    "nemitt_y = gemitt_y*beta0*gamma0\n",
    "\n",
    "particles = xp.generate_matched_gaussian_bunch(\n",
    "        num_particles=num_particles,\n",
    "        nemitt_x=nemitt_x, nemitt_y=nemitt_y, sigma_z=4.2,\n",
    "        particle_ref=particle_ref,\n",
    "        line=line_matching,        \n",
    "        )\n",
    "\n",
    "particles.delta = np.random.normal(loc=0.0, scale=sigma_dp, size=num_particles)\n",
    "particles.zeta = np.random.uniform(-circumference/2, circumference/2, num_particles)\n",
    "\n",
    "max_time_s = 1\n",
    "int_time_s = 1*1e-3\n",
    "num_turns = int((max_time_s / T_per_turn).item())\n",
    "save_interval = int((int_time_s / T_per_turn).item())\n",
    "\n",
    "monitor = xt.ParticlesMonitor(start_at_turn=0, stop_at_turn=1,\n",
    "                        n_repetitions=int(num_turns/save_interval),\n",
    "                        repetition_period=save_interval,\n",
    "                        num_particles=len(particles.x))\n",
    "\n",
    "current = 0.6  # amperes\n",
    "cooler_length = 2.5  # m cooler length\n",
    "radius_e_beam = 25 * 1e-3\n",
    "temp_perp = 100e-3 # <E> [eV] = kb*T\n",
    "temp_long =  1e-3 # <E> [eV]\n",
    "magnetic_field = 0.075  # T for LEIR\n",
    "\n",
    "electron_cooler = xt.ElectronCooler(current=current,\n",
    "                                length=cooler_length,\n",
    "                                radius_e_beam=radius_e_beam,\n",
    "                                temp_perp=temp_perp, temp_long=temp_long,\n",
    "                                magnetic_field=magnetic_field)\n",
    "\n",
    "line = xt.Line(elements=[monitor, electron_cooler, arc],element_names=['monitor','electron_cooler','arc'])                                    \n",
    "line.particle_ref = particle_ref\n",
    "#context = xo.ContextCpu(omp_num_threads=4)\n",
    "line.build_tracker()\n",
    "\n",
    "line.track(particles, num_turns=num_turns,\n",
    "        turn_by_turn_monitor=False,with_progress=True)\n",
    "\n",
    "x = monitor.x[:,:,0]\n",
    "px = monitor.px[:,:,0]\n",
    "#y = monitor.y[:,:,0]\n",
    "#py = monitor.py[:,:,0]\n",
    "#delta = monitor.delta[:,:,0]\n",
    "#zeta = monitor.zeta[:,:,0]\n",
    "time = monitor.at_turn[:, 0, 0] * T_per_turn\n",
    "\n",
    "action_x = (x**2/beta_x + beta_x*px**2)\n",
    "geo_emittance_x=np.mean(action_x,axis=1)/2\n",
    "\n",
    "valid_indices = ~np.isnan(time_betacool)\n",
    "time_betacool = time_betacool[valid_indices]\n",
    "matched_indices = [np.abs(time - tb).argmin() for tb in time_betacool]\n",
    "emittance_xsuite = geo_emittance_x[matched_indices]\n",
    "emittance_betacool_matched=emittance_betacool[:len(emittance_xsuite)]\n",
    "emittance_diff = emittance_xsuite - emittance_betacool[:len(emittance_xsuite)]\n",
    "mse_emittance = np.mean(emittance_diff**2)\n",
    "\n"
   ]
  },
  {
   "cell_type": "code",
   "execution_count": 68,
   "id": "1015a439",
   "metadata": {},
   "outputs": [],
   "source": [
    "import xobjects as xo\n",
    "\n",
    "xo.assert_allclose(emittance_xsuite, emittance_betacool_matched, rtol=0, atol=1e-5)"
   ]
  },
  {
   "cell_type": "code",
   "execution_count": 62,
   "id": "72dffedb",
   "metadata": {},
   "outputs": [
    {
     "data": {
      "image/png": "[encoded data removed]",
      "text/plain": [
       "<Figure size 640x480 with 1 Axes>"
      ]
     },
     "metadata": {},
     "output_type": "display_data"
    }
   ],
   "source": [
    "plt.figure()\n",
    "plt.plot(emittance_xsuite,label='xsuite')\n",
    "plt.plot(emittance_betacool,label='betacool')\n",
    "plt.legend()\n",
    "plt.show()\n"
   ]
  }
 ],
 "metadata": {
  "kernelspec": {
   "display_name": "xsuite2025",
   "language": "python",
   "name": "python3"
  },
  "language_info": {
   "codemirror_mode": {
    "name": "ipython",
    "version": 3
   },
   "file_extension": ".py",
   "mimetype": "text/x-python",
   "name": "python",
   "nbconvert_exporter": "python",
   "pygments_lexer": "ipython3",
   "version": "3.13.1"
  }
 },
 "nbformat": 4,
 "nbformat_minor": 5
}
