{
 "cells": [
  {
   "cell_type": "code",
   "execution_count": 21,
   "id": "3b234c90",
   "metadata": {},
   "outputs": [],
   "source": [
    "\n",
    "import xtrack as xt\n",
    "import xobjects as xo\n",
    "import xpart as xp\n",
    "\n",
    "import ducktrack as dtk\n",
    "import numpy as np\n",
    "import matplotlib.pyplot as plt\n",
    "from matplotlib.widgets import Slider\n",
    "from tqdm import tqdm\n",
    "from scipy import constants \n",
    "import os\n",
    "\n",
    "# Generalized variables\n",
    "textwidth_cm = 16.50764  # Text width in cm\n",
    "aspect_ratio = 0.618     # Aspect ratio (height/width) using the golden ratio\n",
    "\n",
    "# Font sizes\n",
    "label_fontsize = 12\n",
    "legend_fontsize = 12\n",
    "tick_fontsize = 10\n",
    "colorbar_label_fontsize = 12\n",
    "colorbar_tick_fontsize = 10\n",
    "offset_text_fontsize = 12\n",
    "tick_fontsize = 10\n",
    "errorbar_capsize = 5\n",
    "\n",
    "# Convert text width from cm to inches\n",
    "textwidth_in = textwidth_cm / 2.54\n",
    "\n",
    "# Calculate figure size based on text width and aspect ratio\n",
    "fig_width = textwidth_in\n",
    "fig_height = textwidth_in * aspect_ratio\n",
    "\n",
    "save_dir = '/home/pkruyt/cernbox/figures_thesis/imperfections_magnetic_field/'"
   ]
  },
  {
   "cell_type": "code",
   "execution_count": null,
   "id": "16460ba6",
   "metadata": {},
   "outputs": [],
   "source": [
    "# copyright ############################### #\n",
    "# This file is part of the Xtrack Package.  #\n",
    "# Copyright (c) CERN, 2021.                 #\n",
    "# ######################################### #\n",
    "\n",
    "\n",
    "# beta_rel = 0.305\n",
    "beta_rel = 0.106\n",
    "# gamma = 1.050\n",
    "gamma = 1.006\n",
    "mass0=938.27208816*1e6 #ev/c^2\n",
    "p0c = mass0*beta_rel*gamma #eV/c\n",
    "\n",
    "current=2.4\n",
    "cooler_length = 1.5 # m cooler length\n",
    "radius_e_beam=25*1e-3\n",
    "temp_perp = 100*1e-3 # <E> [eV] = kb*T\n",
    "temp_long =  1*1e-3 # <E> [eV]\n",
    "magnetic_field = 0.060 # T for LEIR\n",
    "q0=1\n",
    "\n",
    "c = constants.c   \n",
    "\n",
    "\n",
    "circumference = 182.43280000000 #m\n",
    "T_per_turn = circumference/(c*beta_rel)\n",
    "ms_per_turn = 1000*T_per_turn\n",
    "\n",
    "\n",
    "beta_x=10 \n",
    "beta_y=4\n",
    "emittance=10*1e-6\n",
    "\n",
    "# arc=xt.LinearTransferMatrix(Q_x=5.38518956965, Q_y=5.36921653748,\n",
    "#                             beta_x_0=beta_x, beta_x_1=beta_x,\n",
    "#                             beta_y_0=beta_y,  beta_y_1=beta_y,\n",
    "#                             alpha_x_0=0,   alpha_x_1=0,\n",
    "#                             alpha_y_0=0,   alpha_y_1=0,\n",
    "#                             disp_x_0=0,disp_x_1=0,\n",
    "#                             disp_y_0=0,    disp_y_1=0,\n",
    "#                             beta_s=1*1e40,\n",
    "#                             Q_s=0,\n",
    "#                             chroma_x=0.0, chroma_y=0\n",
    "#                  )\n",
    "\n",
    "arc = xt.LineSegmentMap(\n",
    "        qx=5.38518956965, qy=5.36921653748,\n",
    "        #dqx=dqx, dqy=dqy,\n",
    "        length=circumference,\n",
    "        betx=beta_x,\n",
    "        bety=beta_y,\n",
    "        dx=0)\n",
    "\n",
    "num_particles=int(1e4)\n",
    "\n",
    "#x=np.random.normal(0,np.sqrt(5*emittance) ,num_particles),\n",
    "#px=np.random.normal(0, np.sqrt(emittance/5), num_particles),\n",
    "#x=np.linspace(1*1e-3, 20*1e-3, num_particles),\n",
    "#px=np.random.uniform(0, 0, num_particles),\n",
    "\n",
    "particles = xp.Particles(        \n",
    "        mass0=mass0,\n",
    "        p0c=p0c,\n",
    "        x=np.random.normal(0,1e-40 ,num_particles),\n",
    "        px=np.random.normal(0, np.sqrt(emittance/beta_x), num_particles),\n",
    "        y=np.random.normal(0, 1e-40, num_particles),\n",
    "        py=np.random.normal(0, 1e-40, num_particles),\n",
    "        delta=np.random.normal(0, 1e-40, num_particles),\n",
    "        zeta=np.random.normal(0, 1e-40, num_particles)\n",
    "        )\n",
    "\n",
    "particles00=particles.copy()\n",
    "particles1=particles.copy()\n"
   ]
  },
  {
   "cell_type": "markdown",
   "id": "abd664d3",
   "metadata": {},
   "source": [
    "cant slice electron cooler too thin. Need to consider the values of tau and elec_plasma_frequency. Too many small electron coolers and then the impact parameters will change because time of flight becomes smaller than 1/elec_plasma_frequency."
   ]
  },
  {
   "cell_type": "code",
   "execution_count": 23,
   "id": "025be2c9",
   "metadata": {},
   "outputs": [
    {
     "name": "stdout",
     "output_type": "stream",
     "text": [
      "elec_plasma_frequency 1.1474539478784036e-09\n",
      "tau 4.692094065767921e-10\n"
     ]
    }
   ],
   "source": [
    "from scipy.constants import elementary_charge as QELEM, electron_mass as MASS_ELECTRON, epsilon_0 as EPSILON_0\n",
    "\n",
    "length=cooler_length/100\n",
    "volume_e_beam = np.pi * (radius_e_beam**2) * length\n",
    "num_e_per_s = current / QELEM\n",
    "tau = length / (beta_rel*c*gamma)\n",
    "electron_density = num_e_per_s * tau / volume_e_beam\n",
    "\n",
    "elec_plasma_frequency =np.sqrt(electron_density * (QELEM)**2 / (MASS_ELECTRON * EPSILON_0))\n",
    "\n",
    "print('elec_plasma_frequency',1/elec_plasma_frequency)\n",
    "print('tau',tau)\n",
    "\n"
   ]
  },
  {
   "cell_type": "code",
   "execution_count": 24,
   "id": "0bf482f1",
   "metadata": {},
   "outputs": [
    {
     "name": "stdout",
     "output_type": "stream",
     "text": [
      "rho_larmor 1.2567186222201545e-05\n"
     ]
    }
   ],
   "source": [
    "v_perp_temp = np.sqrt(QELEM*temp_perp/MASS_ELECTRON);   \n",
    "rho_larmor = MASS_ELECTRON*v_perp_temp/QELEM/magnetic_field\n",
    "print('rho_larmor',rho_larmor)"
   ]
  },
  {
   "cell_type": "code",
   "execution_count": null,
   "id": "fcc47df2",
   "metadata": {},
   "outputs": [
    {
     "data": {
      "text/plain": [
       "0.11040105128490771"
      ]
     },
     "execution_count": 25,
     "metadata": {},
     "output_type": "execute_result"
    }
   ],
   "source": [
    "from scipy.constants import elementary_charge as QELEM, electron_mass as MASS_ELECTRON, epsilon_0 as EPSILON_0, c\n",
    "import numpy as np\n",
    "\n",
    "\n",
    "# Solve for L when tau = tau_threshold\n",
    "L_threshold = ((np.pi * radius_e_beam**2 * MASS_ELECTRON * EPSILON_0) / (current * QELEM))**(1/3) * (beta_rel * c * gamma)\n",
    "\n",
    "# Print result\n",
    "L_threshold\n"
   ]
  },
  {
   "cell_type": "code",
   "execution_count": 29,
   "id": "fb4323d2",
   "metadata": {},
   "outputs": [
    {
     "name": "stderr",
     "output_type": "stream",
     "text": [
      "  0%|          | 0/4 [00:00<?, ?it/s]"
     ]
    },
    {
     "name": "stdout",
     "output_type": "stream",
     "text": [
      "Compiling ContextCpu kernels...\n"
     ]
    },
    {
     "name": "stderr",
     "output_type": "stream",
     "text": [
      "7c064839f3ad4d1e8cb833ecb52cd3c2.c: In function 'ElectronCooler_track_local_particle':\n",
      "7c064839f3ad4d1e8cb833ecb52cd3c2.c:6368:20: warning: unused variable 'rho_max_interaction' [-Wunused-variable]\n",
      " 6368 |             double rho_max_interaction = V_tot * tau;                                    // Maximum impact parameter based on interaction time\n",
      "      |                    ^~~~~~~~~~~~~~~~~~~\n"
     ]
    },
    {
     "name": "stdout",
     "output_type": "stream",
     "text": [
      "Done compiling ContextCpu kernels.\n",
      "Compiling ContextCpu kernels...\n"
     ]
    },
    {
     "name": "stderr",
     "output_type": "stream",
     "text": [
      "d1c1e01158de4bc18bd643b71f0bdae9.c: In function 'ElectronCooler_track_local_particle':\n",
      "d1c1e01158de4bc18bd643b71f0bdae9.c:6368:20: warning: unused variable 'rho_max_interaction' [-Wunused-variable]\n",
      " 6368 |             double rho_max_interaction = V_tot * tau;                                    // Maximum impact parameter based on interaction time\n",
      "      |                    ^~~~~~~~~~~~~~~~~~~\n"
     ]
    },
    {
     "name": "stdout",
     "output_type": "stream",
     "text": [
      "Done compiling ContextCpu kernels.\n",
      "Compiling ContextCpu kernels...\n"
     ]
    },
    {
     "name": "stderr",
     "output_type": "stream",
     "text": [
      "8afe821443ed4175a677db4522b2d552.c: In function 'ElectronCooler_track_local_particle':\n",
      "8afe821443ed4175a677db4522b2d552.c:6368:20: warning: unused variable 'rho_max_interaction' [-Wunused-variable]\n",
      " 6368 |             double rho_max_interaction = V_tot * tau;                                    // Maximum impact parameter based on interaction time\n",
      "      |                    ^~~~~~~~~~~~~~~~~~~\n"
     ]
    },
    {
     "name": "stdout",
     "output_type": "stream",
     "text": [
      "Done compiling ContextCpu kernels.\n"
     ]
    },
    {
     "name": "stderr",
     "output_type": "stream",
     "text": [
      "/tmp/pkruyt/ipykernel_576695/4037008709.py:99: RuntimeWarning: Mean of empty slice.\n",
      "  force=force_temp.mean(axis=0)\n"
     ]
    },
    {
     "data": {
      "image/png": "[encoded data removed]",
      "text/plain": [
       "<Figure size 649.907x401.643 with 1 Axes>"
      ]
     },
     "metadata": {},
     "output_type": "display_data"
    },
    {
     "name": "stderr",
     "output_type": "stream",
     "text": [
      " 25%|██▌       | 1/4 [00:22<01:06, 22.26s/it]"
     ]
    },
    {
     "name": "stdout",
     "output_type": "stream",
     "text": [
      "Compiling ContextCpu kernels...\n"
     ]
    },
    {
     "name": "stderr",
     "output_type": "stream",
     "text": [
      "fa59cb182b9a45219604fe7b2dfbda41.c: In function 'ElectronCooler_track_local_particle':\n",
      "fa59cb182b9a45219604fe7b2dfbda41.c:6368:20: warning: unused variable 'rho_max_interaction' [-Wunused-variable]\n",
      " 6368 |             double rho_max_interaction = V_tot * tau;                                    // Maximum impact parameter based on interaction time\n",
      "      |                    ^~~~~~~~~~~~~~~~~~~\n"
     ]
    },
    {
     "name": "stdout",
     "output_type": "stream",
     "text": [
      "Done compiling ContextCpu kernels.\n",
      "Compiling ContextCpu kernels...\n"
     ]
    },
    {
     "name": "stderr",
     "output_type": "stream",
     "text": [
      "5ddab28e85f74d05819168ac319e3c61.c: In function 'ElectronCooler_track_local_particle':\n",
      "5ddab28e85f74d05819168ac319e3c61.c:6368:20: warning: unused variable 'rho_max_interaction' [-Wunused-variable]\n",
      " 6368 |             double rho_max_interaction = V_tot * tau;                                    // Maximum impact parameter based on interaction time\n",
      "      |                    ^~~~~~~~~~~~~~~~~~~\n"
     ]
    },
    {
     "name": "stdout",
     "output_type": "stream",
     "text": [
      "Done compiling ContextCpu kernels.\n",
      "Compiling ContextCpu kernels...\n"
     ]
    },
    {
     "name": "stderr",
     "output_type": "stream",
     "text": [
      "77077458720c4ed1bc7850f4f36b1647.c: In function 'ElectronCooler_track_local_particle':\n",
      "77077458720c4ed1bc7850f4f36b1647.c:6368:20: warning: unused variable 'rho_max_interaction' [-Wunused-variable]\n",
      " 6368 |             double rho_max_interaction = V_tot * tau;                                    // Maximum impact parameter based on interaction time\n",
      "      |                    ^~~~~~~~~~~~~~~~~~~\n"
     ]
    },
    {
     "name": "stdout",
     "output_type": "stream",
     "text": [
      "Done compiling ContextCpu kernels.\n"
     ]
    },
    {
     "data": {
      "image/png": "[encoded data removed]",
      "text/plain": [
       "<Figure size 649.907x401.643 with 1 Axes>"
      ]
     },
     "metadata": {},
     "output_type": "display_data"
    },
    {
     "name": "stderr",
     "output_type": "stream",
     "text": [
      " 50%|█████     | 2/4 [00:44<00:44, 22.16s/it]"
     ]
    },
    {
     "name": "stdout",
     "output_type": "stream",
     "text": [
      "Compiling ContextCpu kernels...\n"
     ]
    },
    {
     "name": "stderr",
     "output_type": "stream",
     "text": [
      "1a1097ad70e0498aaf55fe59fc70cdb2.c: In function 'ElectronCooler_track_local_particle':\n",
      "1a1097ad70e0498aaf55fe59fc70cdb2.c:6368:20: warning: unused variable 'rho_max_interaction' [-Wunused-variable]\n",
      " 6368 |             double rho_max_interaction = V_tot * tau;                                    // Maximum impact parameter based on interaction time\n",
      "      |                    ^~~~~~~~~~~~~~~~~~~\n"
     ]
    },
    {
     "name": "stdout",
     "output_type": "stream",
     "text": [
      "Done compiling ContextCpu kernels.\n",
      "Compiling ContextCpu kernels...\n"
     ]
    },
    {
     "name": "stderr",
     "output_type": "stream",
     "text": [
      "6bf9b20973ad48138f00b5546ce7e8a8.c: In function 'ElectronCooler_track_local_particle':\n",
      "6bf9b20973ad48138f00b5546ce7e8a8.c:6368:20: warning: unused variable 'rho_max_interaction' [-Wunused-variable]\n",
      " 6368 |             double rho_max_interaction = V_tot * tau;                                    // Maximum impact parameter based on interaction time\n",
      "      |                    ^~~~~~~~~~~~~~~~~~~\n"
     ]
    },
    {
     "name": "stdout",
     "output_type": "stream",
     "text": [
      "Done compiling ContextCpu kernels.\n",
      "Compiling ContextCpu kernels...\n"
     ]
    },
    {
     "name": "stderr",
     "output_type": "stream",
     "text": [
      "4e5edfcf9c954ae494e881228575d9aa.c: In function 'ElectronCooler_track_local_particle':\n",
      "4e5edfcf9c954ae494e881228575d9aa.c:6368:20: warning: unused variable 'rho_max_interaction' [-Wunused-variable]\n",
      " 6368 |             double rho_max_interaction = V_tot * tau;                                    // Maximum impact parameter based on interaction time\n",
      "      |                    ^~~~~~~~~~~~~~~~~~~\n"
     ]
    },
    {
     "name": "stdout",
     "output_type": "stream",
     "text": [
      "Done compiling ContextCpu kernels.\n"
     ]
    },
    {
     "data": {
      "image/png": "[encoded data removed]",
      "text/plain": [
       "<Figure size 649.907x401.643 with 1 Axes>"
      ]
     },
     "metadata": {},
     "output_type": "display_data"
    },
    {
     "name": "stderr",
     "output_type": "stream",
     "text": [
      " 75%|███████▌  | 3/4 [01:10<00:23, 23.97s/it]"
     ]
    },
    {
     "name": "stdout",
     "output_type": "stream",
     "text": [
      "Compiling ContextCpu kernels...\n"
     ]
    },
    {
     "name": "stderr",
     "output_type": "stream",
     "text": [
      "9a7f1f4580b7403eb981167a509c2f85.c: In function 'ElectronCooler_track_local_particle':\n",
      "9a7f1f4580b7403eb981167a509c2f85.c:6368:20: warning: unused variable 'rho_max_interaction' [-Wunused-variable]\n",
      " 6368 |             double rho_max_interaction = V_tot * tau;                                    // Maximum impact parameter based on interaction time\n",
      "      |                    ^~~~~~~~~~~~~~~~~~~\n"
     ]
    },
    {
     "name": "stdout",
     "output_type": "stream",
     "text": [
      "Done compiling ContextCpu kernels.\n",
      "Compiling ContextCpu kernels...\n"
     ]
    },
    {
     "name": "stderr",
     "output_type": "stream",
     "text": [
      "b0bb603390e143c19cf59bdc333dbba2.c: In function 'ElectronCooler_track_local_particle':\n",
      "b0bb603390e143c19cf59bdc333dbba2.c:6368:20: warning: unused variable 'rho_max_interaction' [-Wunused-variable]\n",
      " 6368 |             double rho_max_interaction = V_tot * tau;                                    // Maximum impact parameter based on interaction time\n",
      "      |                    ^~~~~~~~~~~~~~~~~~~\n"
     ]
    },
    {
     "name": "stdout",
     "output_type": "stream",
     "text": [
      "Done compiling ContextCpu kernels.\n",
      "Compiling ContextCpu kernels...\n"
     ]
    },
    {
     "name": "stderr",
     "output_type": "stream",
     "text": [
      "72a7de5c95034e1b95afd1f5785ce14e.c: In function 'ElectronCooler_track_local_particle':\n",
      "72a7de5c95034e1b95afd1f5785ce14e.c:6368:20: warning: unused variable 'rho_max_interaction' [-Wunused-variable]\n",
      " 6368 |             double rho_max_interaction = V_tot * tau;                                    // Maximum impact parameter based on interaction time\n",
      "      |                    ^~~~~~~~~~~~~~~~~~~\n"
     ]
    },
    {
     "name": "stdout",
     "output_type": "stream",
     "text": [
      "Done compiling ContextCpu kernels.\n"
     ]
    },
    {
     "data": {
      "image/png": "[encoded data removed]",
      "text/plain": [
       "<Figure size 649.907x401.643 with 1 Axes>"
      ]
     },
     "metadata": {},
     "output_type": "display_data"
    },
    {
     "name": "stderr",
     "output_type": "stream",
     "text": [
      "100%|██████████| 4/4 [01:39<00:00, 24.83s/it]\n"
     ]
    }
   ],
   "source": [
    "#xp_cooler=1e-3\n",
    "\n",
    "magnetic_field_ratio=1e-3\n",
    "\n",
    "magnetic_field_ratio_list = [1e-4, 2e-4, 5e-4, 1e-3]\n",
    "#Iterate over different values of the magnetic field quality to see effect on cooling performance.\n",
    "\n",
    "for magnetic_field_ratio in tqdm(magnetic_field_ratio_list):\n",
    "\n",
    "    cooler = xt.ElectronCooler(current=current, length=cooler_length, radius_e_beam=radius_e_beam,\n",
    "                                            temp_perp=temp_perp, temp_long=temp_long,\n",
    "                                            magnetic_field=magnetic_field,magnetic_field_ratio=magnetic_field_ratio,\n",
    "                                            space_charge_factor=0,\n",
    "                                            offset_px=0)\n",
    "\n",
    "    line = xt.Line(elements=[cooler])\n",
    "    #line.particle_ref = particle_ref\n",
    "    line.build_tracker()\n",
    "\n",
    "    # Start internal logging for the electron cooler\n",
    "    record = line.start_internal_logging_for_elements_of_type(\n",
    "        xt.ElectronCooler, capacity=10000)\n",
    "\n",
    "\n",
    "    cooler0 = xt.ElectronCooler(current=current, length=cooler_length, radius_e_beam=radius_e_beam,\n",
    "                                            temp_perp=temp_perp, temp_long=temp_long,\n",
    "                                            magnetic_field=magnetic_field,magnetic_field_ratio=0,\n",
    "                                            space_charge_factor=0,\n",
    "                                            offset_px=0)\n",
    "\n",
    "    line0 = xt.Line(elements=[cooler0])\n",
    "    #line.particle_ref = particle_ref\n",
    "    line0.build_tracker()\n",
    "\n",
    "    # Start internal logging for the electron cooler\n",
    "    record0 = line0.start_internal_logging_for_elements_of_type(\n",
    "        xt.ElectronCooler, capacity=10000)\n",
    "\n",
    "\n",
    "    line_series=xt.Line()\n",
    "\n",
    "    num_coolers=int(1e3)\n",
    "\n",
    "    for i in range(num_coolers):\n",
    "        angle=np.random.normal(magnetic_field_ratio,1)\n",
    "        #angle=np.random.uniform(-B_ratio,B_ratio,1)\n",
    "        #print('angle:',angle)\n",
    "        cooler_tiny = xt.ElectronCooler(current=current, length=cooler_length, radius_e_beam=radius_e_beam,\n",
    "                                            temp_perp=temp_perp, temp_long=temp_long,\n",
    "                                            magnetic_field=magnetic_field,magnetic_field_ratio=0,\n",
    "                                            space_charge_factor=0,\n",
    "                                            offset_px=angle)\n",
    "        \n",
    "        \n",
    "        #coolers.append(cooler_tiny)\n",
    "        line_series.append_element(name=f'cooler{i}',element=cooler_tiny)\n",
    "\n",
    "    line_series.build_tracker()\n",
    "\n",
    "    record_series = line_series.start_internal_logging_for_elements_of_type(\n",
    "        xt.ElectronCooler, capacity=num_particles*num_coolers)\n",
    "\n",
    "    num_turns=int(1)\n",
    "\n",
    "    x=[]\n",
    "    px=[]\n",
    "    action = []\n",
    "    force = []\n",
    "    force_old = []\n",
    "    force_0 = []\n",
    "\n",
    "\n",
    "    for i in (range(num_turns)):\n",
    "        x.append(particles.x)\n",
    "        px.append(particles.px)\n",
    "        \n",
    "        action_temp = (particles.x**2/beta_x + beta_x*particles.px**2) #Joule sec\n",
    "        action.append(action_temp)    \n",
    "    \n",
    "        force_temp=[]        \n",
    "        \n",
    "        particles0=particles00.copy()\n",
    "        line.track(particles0)\n",
    "        force = record.Fx\n",
    "        force_old.append(force)    \n",
    "        \n",
    "        particles0=particles00.copy()\n",
    "        line0.track(particles0)\n",
    "        force_x0 = record0.Fx\n",
    "        force_0.append(force_x0)\n",
    "\n",
    "        particles1=particles00.copy()\n",
    "        line_series.track(particles1)\n",
    "        fx=record_series.Fx\n",
    "        fx = fx.reshape(num_coolers, -1)\n",
    "            \n",
    "            \n",
    "        force_temp=np.array(force_temp)\n",
    "        force=force_temp.mean(axis=0)  \n",
    "        force=fx.mean(axis=0)\n",
    "        #force=np.squeeze(force)\n",
    "\n",
    "    x = np.array(x)\n",
    "    px = np.array(px)\n",
    "    action = np.array(action)\n",
    "    force = np.array(force).flatten().flatten()\n",
    "    force_old = np.array(force_old).flatten().flatten()\n",
    "    force_0 = np.array(force_0).flatten().flatten()\n",
    "\n",
    "\n",
    "    px_tot = p0c * px\n",
    "    beta_diff = px_tot / (mass0 * gamma)\n",
    "    v_diff = beta_diff * c\n",
    "\n",
    "    v_diff=v_diff.flatten().flatten()\n",
    "\n",
    "    sorted_indices = np.argsort(v_diff)\n",
    "    v_diff_sorted = v_diff[sorted_indices]\n",
    "    force_0_sorted = force_0[sorted_indices]\n",
    "    force_sorted = force[sorted_indices]\n",
    "    force_old_sorted = force_old[sorted_indices]\n",
    "\n",
    "    Fx_series_sorted= force[sorted_indices]\n",
    "\n",
    "\n",
    "    # Create the figure with the calculated dimensions\n",
    "    plt.figure(figsize=(fig_width, fig_height))\n",
    "\n",
    "    # Plot the data\n",
    "    plt.plot(v_diff_sorted, force_0_sorted, label='Ideal')\n",
    "    plt.plot(v_diff_sorted, force_sorted, label='Angular')\n",
    "    plt.plot(v_diff_sorted, force_old_sorted, label='$V_{eff}$')\n",
    "\n",
    "    # Set labels with appropriate font size\n",
    "    plt.title(f'Imperfection={magnetic_field_ratio:.0e}', fontsize=label_fontsize)\n",
    "    plt.xlabel('$\\\\Delta v$ [m/s]', fontsize=label_fontsize)\n",
    "    plt.ylabel('Cooling force [eV/m]', fontsize=label_fontsize)\n",
    "\n",
    "    # Set tick label size\n",
    "    plt.xticks(fontsize=tick_fontsize)\n",
    "    plt.yticks(fontsize=tick_fontsize)\n",
    "\n",
    "    # Add legend with defined font size\n",
    "    plt.legend(fontsize=legend_fontsize)\n",
    "\n",
    "    # Use scientific notation for the x-axis\n",
    "    plt.ticklabel_format(axis='x', style='sci', scilimits=(-2, 2))\n",
    "\n",
    "\n",
    "    image_name = f'ad_imperfections={magnetic_field_ratio:.0e}.png'\n",
    "    save_location = os.path.join(save_dir, image_name)\n",
    "    plt.savefig(save_location, dpi=300, bbox_inches='tight')\n",
    "    plt.show()"
   ]
  },
  {
   "cell_type": "markdown",
   "id": "76a7382f",
   "metadata": {},
   "source": [
    "Now with tracking"
   ]
  },
  {
   "cell_type": "code",
   "execution_count": null,
   "id": "c4c9c47b",
   "metadata": {},
   "outputs": [
    {
     "name": "stdout",
     "output_type": "stream",
     "text": [
      "Compiling ContextCpu kernels...\n",
      "Done compiling ContextCpu kernels.\n"
     ]
    },
    {
     "name": "stderr",
     "output_type": "stream",
     "text": [
      "  0%|          | 0/4 [00:00<?, ?it/s]"
     ]
    },
    {
     "name": "stdout",
     "output_type": "stream",
     "text": [
      "Compiling ContextCpu kernels...\n"
     ]
    },
    {
     "name": "stderr",
     "output_type": "stream",
     "text": [
      "f3e1fc27f81f4ee096145108b66674e5.c: In function 'ElectronCooler_track_local_particle':\n",
      "f3e1fc27f81f4ee096145108b66674e5.c:6961:20: warning: unused variable 'rho_max_interaction' [-Wunused-variable]\n",
      " 6961 |             double rho_max_interaction = V_tot * tau;                                    // Maximum impact parameter based on interaction time\n",
      "      |                    ^~~~~~~~~~~~~~~~~~~\n"
     ]
    },
    {
     "name": "stdout",
     "output_type": "stream",
     "text": [
      "Done compiling ContextCpu kernels.\n"
     ]
    },
    {
     "name": "stderr",
     "output_type": "stream",
     "text": [
      " 25%|██▌       | 1/4 [00:12<00:38, 12.96s/it]"
     ]
    },
    {
     "name": "stdout",
     "output_type": "stream",
     "text": [
      "Compiling ContextCpu kernels...\n"
     ]
    },
    {
     "name": "stderr",
     "output_type": "stream",
     "text": [
      "916062b8ca704f36bf3ddeb0e231f566.c: In function 'ElectronCooler_track_local_particle':\n",
      "916062b8ca704f36bf3ddeb0e231f566.c:6961:20: warning: unused variable 'rho_max_interaction' [-Wunused-variable]\n",
      " 6961 |             double rho_max_interaction = V_tot * tau;                                    // Maximum impact parameter based on interaction time\n",
      "      |                    ^~~~~~~~~~~~~~~~~~~\n"
     ]
    },
    {
     "name": "stdout",
     "output_type": "stream",
     "text": [
      "Done compiling ContextCpu kernels.\n"
     ]
    },
    {
     "name": "stderr",
     "output_type": "stream",
     "text": [
      " 50%|█████     | 2/4 [00:26<00:26, 13.09s/it]"
     ]
    },
    {
     "name": "stdout",
     "output_type": "stream",
     "text": [
      "Compiling ContextCpu kernels...\n"
     ]
    },
    {
     "name": "stderr",
     "output_type": "stream",
     "text": [
      "12a128bd987f4b29b3b5a51af06b9b79.c: In function 'ElectronCooler_track_local_particle':\n",
      "12a128bd987f4b29b3b5a51af06b9b79.c:6961:20: warning: unused variable 'rho_max_interaction' [-Wunused-variable]\n",
      " 6961 |             double rho_max_interaction = V_tot * tau;                                    // Maximum impact parameter based on interaction time\n",
      "      |                    ^~~~~~~~~~~~~~~~~~~\n"
     ]
    },
    {
     "name": "stdout",
     "output_type": "stream",
     "text": [
      "Done compiling ContextCpu kernels.\n"
     ]
    },
    {
     "name": "stderr",
     "output_type": "stream",
     "text": [
      " 75%|███████▌  | 3/4 [00:39<00:12, 12.99s/it]"
     ]
    },
    {
     "name": "stdout",
     "output_type": "stream",
     "text": [
      "Compiling ContextCpu kernels...\n"
     ]
    },
    {
     "name": "stderr",
     "output_type": "stream",
     "text": [
      "e54593455abe4359a00c6d63b66ef140.c: In function 'ElectronCooler_track_local_particle':\n",
      "e54593455abe4359a00c6d63b66ef140.c:6961:20: warning: unused variable 'rho_max_interaction' [-Wunused-variable]\n",
      " 6961 |             double rho_max_interaction = V_tot * tau;                                    // Maximum impact parameter based on interaction time\n",
      "      |                    ^~~~~~~~~~~~~~~~~~~\n"
     ]
    },
    {
     "name": "stdout",
     "output_type": "stream",
     "text": [
      "Done compiling ContextCpu kernels.\n"
     ]
    },
    {
     "name": "stderr",
     "output_type": "stream",
     "text": [
      "100%|██████████| 4/4 [00:52<00:00, 13.06s/it]\n"
     ]
    }
   ],
   "source": [
    "#lattice parameters for AD at 300Mev/c\n",
    "# from https://acc-models.web.cern.ch/acc-models/ad/scenarios/lowenergy/lowenergy.tfs\n",
    "qx = 5.45020077392\n",
    "qy = 5.41919929346\n",
    "dqx=-20.10016919292\n",
    "dqy=-22.29552755573\n",
    "circumference = 182.43280000000 #m\n",
    "\n",
    "# optics at e-cooler (approximate), in m\n",
    "beta_x = 10 \n",
    "beta_y = 4\n",
    "dx = 0\n",
    "\n",
    "# some initial beam parameters\n",
    "emittance = 10e-6\n",
    "dp_p = 1e-3 \n",
    "\n",
    "arc = arc = xt.LineSegmentMap(\n",
    "        qx=qx, qy=qy,\n",
    "        length=circumference,\n",
    "        betx=beta_x,\n",
    "        bety=beta_y,\n",
    "        dx=dx)\n",
    "\n",
    "qs=0.005247 # Value doesnt really matter. We are going to set the longitundal parameters manuually anyways\n",
    "bets0=2078\n",
    "\n",
    "arc_matching = xt.LineSegmentMap(\n",
    "        qx=qx, qy=qy,\n",
    "        dqx=dqx, dqy=dqy,\n",
    "        length=circumference,\n",
    "        betx=beta_x,\n",
    "        bety=beta_y,\n",
    "        qs=qs,\n",
    "        bets=bets0)\n",
    "\n",
    "line_matching=xt.Line([arc_matching])\n",
    "line_matching.build_tracker()\n",
    "\n",
    "# simulation parameters: simulate 20 s of cooling, and take data once every 10 ms\n",
    "max_time_s = 5\n",
    "int_time_s = 0.01\n",
    "\n",
    "# compute length of simulation, as well as sample interval, in turns\n",
    "num_turns = int(max_time_s/T_per_turn)\n",
    "save_interval = int(int_time_s/T_per_turn)\n",
    "\n",
    "num_particles=int(1e0)\n",
    "\n",
    "# create a monitor object, to reduce holded data\n",
    "monitor = xt.ParticlesMonitor(start_at_turn=0, stop_at_turn=1,\n",
    "                              n_repetitions=int(num_turns/save_interval),\n",
    "                              repetition_period=save_interval,\n",
    "                              num_particles=num_particles)\n",
    "\n",
    "particle_ref = xp.Particles(mass0=mass0, q0=q0, p0c=p0c)\n",
    "# create desired beam\n",
    "bunch_intensity = None\n",
    "beta_gamma = particle_ref._beta0*particle_ref._gamma0\n",
    "gemitt_x = 35e-6\n",
    "gemitt_y = 35e-6\n",
    "nemitt_x = gemitt_x*beta_gamma\n",
    "nemitt_y = gemitt_y*beta_gamma\n",
    "sigma_dp = 1e-3\n",
    "\n",
    "particles0 = xp.generate_matched_gaussian_bunch(\n",
    "        num_particles=num_particles,total_intensity_particles=bunch_intensity,\n",
    "        nemitt_x=nemitt_x, nemitt_y=nemitt_y, sigma_z=1,\n",
    "        line=line_matching,\n",
    "        particle_ref=particle_ref)\n",
    "\n",
    "\n",
    "particles0.zeta = np.random.uniform(-circumference/2, circumference/2, num_particles)\n",
    "particles0.delta = np.random.normal(loc=0.0, scale=sigma_dp, size=num_particles)\n",
    "########################################################################################################\n",
    "# x_init = np.sqrt(beta_x*emittance)\n",
    "# y_init = np.sqrt(beta_y*emittance)\n",
    "\n",
    "# particles0 = xp.Particles(\n",
    "#             mass0=mass0,\n",
    "#             p0c=p0c,\n",
    "#             q0=q0,\n",
    "#             x=x_init,\n",
    "#             px=0,\n",
    "#             y=y_init,\n",
    "#             py=0,\n",
    "#             delta=dp_p,\n",
    "#             zeta=0)\n",
    "\n",
    "###########################################################################################################\n",
    "\n",
    "\n",
    "for magnetic_field_ratio in tqdm(magnetic_field_ratio_list):\n",
    "        cooler.magnetic_field_ratio=magnetic_field_ratio\n",
    "\n",
    "        line = xt.Line(elements=[monitor, cooler, arc],\n",
    "                       element_names=['monitor','electron_cooler','arc'])\n",
    "       \n",
    "        line.particle_ref = particle_ref\n",
    "        line.build_tracker()\n",
    "\n",
    "\n",
    "        particles=particles0.copy()\n",
    "\n",
    "        # just track all particles, and keep turn-by-turn data (memory expensive!)\n",
    "        line.track(particles, num_turns=num_turns,\n",
    "                turn_by_turn_monitor=False)\n",
    "\n",
    "        # extract relevant values\n",
    "        x = monitor.x[:,:,0]\n",
    "        px = monitor.px[:,:,0]\n",
    "        y = monitor.y[:,:,0]\n",
    "        py = monitor.py[:,:,0]\n",
    "        delta = monitor.delta[:,:,0]\n",
    "        zeta = monitor.zeta[:,:,0]\n",
    "        time = monitor.at_turn[:, 0, 0] * T_per_turn\n",
    "\n",
    "        # compute actions. for x, remove the dp/p contribution:\n",
    "        action_x = ((x-dx*delta)**2/beta_x + beta_x*px**2)\n",
    "        # for y, simple compute:\n",
    "        action_y = (y**2/beta_y + beta_y*py**2)\n",
    "\n",
    "        norm_emittance_x=np.mean(action_x,axis=1)/2*beta_gamma\n",
    "        norm_emittance_y=np.mean(action_y,axis=1)/2*beta_gamma\n",
    "\n",
    "        p0c = particle_ref.p0c\n",
    "        momentum = p0c*delta+p0c   \n",
    "\n",
    "        np.savez(f'results_ad/magnetic_field_ratio={magnetic_field_ratio}.npz',\n",
    "                        \n",
    "                                norm_emittance_x=norm_emittance_x,\n",
    "                                norm_emittance_y=norm_emittance_y,\n",
    "                                x=x,  \n",
    "                                y=y,  \n",
    "                                px=px,  \n",
    "                                py=py,\n",
    "                                delta=delta,\n",
    "                                momentum=momentum,\n",
    "                                zeta=zeta,\n",
    "                                time=time,\n",
    "                                )"
   ]
  },
  {
   "cell_type": "code",
   "execution_count": 28,
   "id": "a1f523a8",
   "metadata": {},
   "outputs": [
    {
     "data": {
      "image/png": "[encoded data removed]",
      "text/plain": [
       "<Figure size 640x480 with 1 Axes>"
      ]
     },
     "metadata": {},
     "output_type": "display_data"
    }
   ],
   "source": [
    "plt.figure()\n",
    "plt.plot(time,norm_emittance_x)\n",
    "plt.show()"
   ]
  },
  {
   "cell_type": "code",
   "execution_count": null,
   "id": "18bef540",
   "metadata": {},
   "outputs": [],
   "source": []
  }
 ],
 "metadata": {
  "kernelspec": {
   "display_name": "xsuite2025",
   "language": "python",
   "name": "python3"
  },
  "language_info": {
   "codemirror_mode": {
    "name": "ipython",
    "version": 3
   },
   "file_extension": ".py",
   "mimetype": "text/x-python",
   "name": "python",
   "nbconvert_exporter": "python",
   "pygments_lexer": "ipython3",
   "version": "3.13.1"
  }
 },
 "nbformat": 4,
 "nbformat_minor": 5
}
