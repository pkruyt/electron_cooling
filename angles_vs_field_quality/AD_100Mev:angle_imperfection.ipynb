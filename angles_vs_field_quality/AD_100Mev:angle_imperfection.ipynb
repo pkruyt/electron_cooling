{
 "cells": [
  {
   "cell_type": "code",
   "execution_count": null,
   "id": "3b234c90",
   "metadata": {},
   "outputs": [],
   "source": [
    "import xtrack as xt\n",
    "import xobjects as xo\n",
    "import xpart as xp\n",
    "\n",
    "import ducktrack as dtk\n",
    "import numpy as np\n",
    "import matplotlib.pyplot as plt\n",
    "from matplotlib.widgets import Slider\n",
    "from tqdm import tqdm\n",
    "\n",
    "#### PLOT THE DATA #######\n",
    "textwidth_cm = 16.50764  # Text width in cm\n",
    "aspect_ratio = 0.618     # Aspect ratio (height/width) using the golden ratio\n",
    "\n",
    "# Font sizes\n",
    "label_fontsize = 10\n",
    "legend_fontsize = 10\n",
    "tick_fontsize = 8\n",
    "colorbar_label_fontsize = 10\n",
    "colorbar_tick_fontsize = 8\n",
    "offset_text_fontsize = 8\n",
    "\n",
    "# Convert text width from cm to inches\n",
    "textwidth_in = textwidth_cm / 2.54\n",
    "\n",
    "# Calculate figure size based on text width and aspect ratio\n",
    "fig_width = textwidth_in\n",
    "fig_height = textwidth_in * aspect_ratio"
   ]
  },
  {
   "cell_type": "code",
   "execution_count": null,
   "id": "16460ba6",
   "metadata": {},
   "outputs": [],
   "source": [
    "# copyright ############################### #\n",
    "# This file is part of the Xtrack Package.  #\n",
    "# Copyright (c) CERN, 2021.                 #\n",
    "# ######################################### #\n",
    "\n",
    "\n",
    "# beta_rel = 0.305\n",
    "beta_rel = 0.106\n",
    "# gamma = 1.050\n",
    "gamma = 1.006\n",
    "\n",
    "\n",
    "current=0.4\n",
    "cooler_length = 1.5 # m cooler length\n",
    "radius_e_beam=25*1e-3\n",
    "\n",
    "mass0=938.27208816*1e6 #ev/c^2\n",
    "\n",
    "temp_perp = 100*1e-3 # <E> [eV] = kb*T\n",
    "temp_long =  1*1e-3 # <E> [eV]\n",
    "magnetic_field = 0.060 # T for LEIR\n",
    "Z=1\n",
    "\n",
    "\n",
    "c=299792458.0\n",
    "\n",
    "p0c = mass0*beta_rel*gamma #eV/c\n",
    "\n",
    "\n",
    "circumference = 182.43280000000 #m\n",
    "T_per_turn = circumference/(c*beta_rel)\n",
    "ms_per_turn = 1000*T_per_turn\n",
    "\n",
    "\n",
    "beta_x=10 \n",
    "beta_y=4\n",
    "emittance=10*1e-6\n",
    "\n",
    "arc=dtk.LinearTransferMatrix(Q_x=5.38518956965, Q_y=5.36921653748,\n",
    "                            beta_x_0=beta_x, beta_x_1=beta_x,\n",
    "                            beta_y_0=beta_y,  beta_y_1=beta_y,\n",
    "                            alpha_x_0=0,   alpha_x_1=0,\n",
    "                            alpha_y_0=0,   alpha_y_1=0,\n",
    "                            disp_x_0=0,disp_x_1=0,\n",
    "                            disp_y_0=0,    disp_y_1=0,\n",
    "                            beta_s=1*1e40,\n",
    "                            Q_s=0,\n",
    "                            chroma_x=0.0, chroma_y=0\n",
    "                                           \n",
    "                 )\n",
    "\n",
    "\n",
    "num_particles=int(1e4)\n",
    "\n",
    "#x=np.random.normal(0,np.sqrt(5*emittance) ,num_particles),\n",
    "#px=np.random.normal(0, np.sqrt(emittance/5), num_particles),\n",
    "#x=np.linspace(1*1e-3, 20*1e-3, num_particles),\n",
    "#px=np.random.uniform(0, 0, num_particles),\n",
    "\n",
    "dtk_particle = dtk.TestParticles(\n",
    "        \n",
    "        mass0=mass0,\n",
    "        p0c=p0c,\n",
    "        x=np.random.normal(0,1e-40 ,num_particles),\n",
    "        px=np.random.normal(0, np.sqrt(emittance/beta_x), num_particles),\n",
    "        y=np.random.normal(0, 1e-40, num_particles),\n",
    "        py=np.random.normal(0, 1e-40, num_particles),\n",
    "        delta=np.random.normal(0, 1e-40, num_particles),\n",
    "        zeta=np.random.normal(0, 1e-40, num_particles))\n",
    "\n",
    "dtk_particle_copy_old=dtk_particle.copy()\n",
    "\n"
   ]
  },
  {
   "cell_type": "code",
   "execution_count": 38,
   "id": "42caefda",
   "metadata": {},
   "outputs": [
    {
     "data": {
      "text/plain": [
       "10.0"
      ]
     },
     "execution_count": 38,
     "metadata": {},
     "output_type": "execute_result"
    }
   ],
   "source": [
    "0.01*1e3"
   ]
  },
  {
   "cell_type": "code",
   "execution_count": 30,
   "id": "fb4323d2",
   "metadata": {},
   "outputs": [],
   "source": [
    "#xp_cooler=1e-3\n",
    "\n",
    "magnetic_field_ratio=1e-3\n",
    "\n",
    "dtk_cooler = dtk.elements.ElectronCooler(current=current,\n",
    "                    length=cooler_length,\n",
    "                    radius_e_beam=radius_e_beam,\n",
    "                    temp_perp=temp_perp, temp_long=temp_long,\n",
    "                    magnetic_field=magnetic_field, magnetic_field_ratio=magnetic_field_ratio,\n",
    "                    space_charge=0)\n",
    "\n",
    "\n",
    "cooler = dtk.elements.ElectronCooler(current=current, length=cooler_length, radius_e_beam=radius_e_beam,\n",
    "                                        temp_perp=temp_perp, temp_long=temp_long,\n",
    "                                        magnetic_field=magnetic_field,magnetic_field_ratio=magnetic_field_ratio,\n",
    "                                        space_charge=0,\n",
    "                                        offset_px=0)\n",
    "\n",
    "cooler_0 = dtk.elements.ElectronCooler(current=current, length=cooler_length, radius_e_beam=radius_e_beam,\n",
    "                                        temp_perp=temp_perp, temp_long=temp_long,\n",
    "                                        magnetic_field=magnetic_field,magnetic_field_ratio=0,\n",
    "                                        space_charge=0,\n",
    "                                        offset_px=0)\n",
    "\n",
    "\n",
    "coolers = []\n",
    "num_coolers=int(1e4)\n",
    "\n",
    "\n",
    "for i in range(num_coolers):\n",
    "    angle=np.random.normal(0,magnetic_field_ratio,1)\n",
    "    #angle=np.random.uniform(-B_ratio,B_ratio,1)\n",
    "    #print('angle:',angle)\n",
    "    cooler_tiny = dtk.elements.ElectronCooler(current=current, length=cooler_length, radius_e_beam=radius_e_beam,\n",
    "                                         temp_perp=temp_perp, temp_long=temp_long,\n",
    "                                         magnetic_field=magnetic_field,magnetic_field_ratio=0,\n",
    "                                         space_charge=0,\n",
    "                                         offset_px=angle)\n",
    "    coolers.append(cooler_tiny)\n",
    "\n"
   ]
  },
  {
   "cell_type": "code",
   "execution_count": 31,
   "id": "b3081f31",
   "metadata": {},
   "outputs": [
    {
     "name": "stderr",
     "output_type": "stream",
     "text": [
      "100%|██████████| 1/1 [00:13<00:00, 13.35s/it]\n"
     ]
    }
   ],
   "source": [
    "num_turns=int(1)\n",
    "\n",
    "\n",
    "\n",
    "x=[]\n",
    "px=[]\n",
    "action = []\n",
    "force = []\n",
    "force_old = []\n",
    "force_0 = []\n",
    "\n",
    "\n",
    "for i in tqdm(range(num_turns)):\n",
    "    x.append(dtk_particle.x)\n",
    "    px.append(dtk_particle.px)\n",
    "    \n",
    "    action_temp = (dtk_particle.x**2/beta_x + beta_x*dtk_particle.px**2) #Joule sec\n",
    "    action.append(action_temp)\n",
    "    \n",
    "   \n",
    "    force_temp=[]        \n",
    "    Fx,Fy,Fl=cooler.force(dtk_particle)\n",
    "    force_old.append(Fx)\n",
    "\n",
    "    force_x0,force_y0,force_l0=cooler_0.force(dtk_particle_copy_old)\n",
    "    force_0.append(force_x0)\n",
    "\n",
    "    for cooler_small in coolers:\n",
    "        f1,f2,f3=cooler_small.force(dtk_particle)\n",
    "        force_temp.append(f1)\n",
    "        \n",
    "        \n",
    "    force_temp=np.array(force_temp)\n",
    "    force=force_temp.mean(axis=0)  \n",
    "    #force=np.squeeze(force)\n",
    "\n",
    "\n",
    "x = np.array(x)\n",
    "px = np.array(px)\n",
    "action = np.array(action)\n",
    "force = np.array(force).flatten().flatten()\n",
    "force_old = np.array(force_old).flatten().flatten()\n",
    "force_0 = np.array(force_0).flatten().flatten()\n",
    "\n",
    "\n",
    "px_tot = p0c * px\n",
    "beta_diff = px_tot / (mass0 * gamma)\n",
    "v_diff = beta_diff * c\n",
    "\n",
    "v_diff=v_diff.flatten().flatten()\n",
    "\n",
    "sorted_indices = np.argsort(v_diff)\n",
    "v_diff_sorted = v_diff[sorted_indices]\n",
    "force_0_sorted = force_0[sorted_indices]\n",
    "force_sorted = force[sorted_indices]\n",
    "force_old_sorted = force_old[sorted_indices]"
   ]
  },
  {
   "cell_type": "code",
   "execution_count": 32,
   "id": "e1c4ace4",
   "metadata": {},
   "outputs": [
    {
     "data": {
      "text/plain": [
       "(10000,)"
      ]
     },
     "execution_count": 32,
     "metadata": {},
     "output_type": "execute_result"
    }
   ],
   "source": [
    "force_0.shape"
   ]
  },
  {
   "cell_type": "code",
   "execution_count": 36,
   "id": "21e94202",
   "metadata": {},
   "outputs": [
    {
     "data": {
      "image/png": "[encoded data removed]",
      "text/plain": [
       "<Figure size 649.907x401.643 with 1 Axes>"
      ]
     },
     "metadata": {},
     "output_type": "display_data"
    }
   ],
   "source": [
    "# Create the figure with the calculated dimensions\n",
    "plt.figure(figsize=(fig_width, fig_height))\n",
    "\n",
    "# Plot the data\n",
    "plt.plot(v_diff_sorted, force_0_sorted, label='Ideal')\n",
    "plt.plot(v_diff_sorted, force_sorted, label='Angular')\n",
    "plt.plot(v_diff_sorted, force_old_sorted, label='$V_{eff}$')\n",
    "\n",
    "# Set labels with appropriate font size\n",
    "plt.xlabel('$\\\\Delta v$ [m/s]')\n",
    "plt.ylabel('Cooling force [eV/m]')\n",
    "\n",
    "# Add legend\n",
    "plt.legend()\n",
    "plt.ticklabel_format(axis='x', style='sci', scilimits=(-2, 2))\n",
    "# Save the figure with high DPI\n",
    "plt.savefig('angle_imperfection_force.png', dpi=300)\n",
    "\n",
    "# Show the plot\n",
    "plt.show()"
   ]
  },
  {
   "cell_type": "code",
   "execution_count": 34,
   "id": "08f50665",
   "metadata": {},
   "outputs": [],
   "source": [
    "# plt.scatter(px,force_0)"
   ]
  }
 ],
 "metadata": {
  "kernelspec": {
   "display_name": "base",
   "language": "python",
   "name": "python3"
  },
  "language_info": {
   "codemirror_mode": {
    "name": "ipython",
    "version": 3
   },
   "file_extension": ".py",
   "mimetype": "text/x-python",
   "name": "python",
   "nbconvert_exporter": "python",
   "pygments_lexer": "ipython3",
   "version": "3.12.2"
  },
  "vscode": {
   "interpreter": {
    "hash": "b3c9a0a5475e728b39e61ac58d244ad936924f9cf82746515a9faeb1f1a0b703"
   }
  }
 },
 "nbformat": 4,
 "nbformat_minor": 5
}
