{
 "cells": [
  {
   "cell_type": "code",
   "execution_count": 1,
   "id": "2cde18e1",
   "metadata": {},
   "outputs": [
    {
     "name": "stdout",
     "output_type": "stream",
     "text": [
      "Compiling ContextCpu kernels...\n",
      "Done compiling ContextCpu kernels.\n",
      "Compiling ContextCpu kernels...\n",
      "Done compiling ContextCpu kernels.\n"
     ]
    },
    {
     "data": {
      "application/vnd.jupyter.widget-view+json": {
       "model_id": "66907fc801da4624b196fba5e34b0080",
       "version_major": 2,
       "version_minor": 0
      },
      "text/plain": [
       "Tracking:   0%|          | 0/359700 [00:00<?, ?it/s]"
      ]
     },
     "metadata": {},
     "output_type": "display_data"
    }
   ],
   "source": [
    "import xtrack as xt\n",
    "import xobjects as xo\n",
    "import xpart as xp\n",
    "from scipy import constants \n",
    "import numpy as np\n",
    "import matplotlib.pyplot as plt\n",
    "from tqdm import tqdm\n",
    "import ducktrack as dtk\n",
    "\n",
    "data = np.load('emittance_betacool.npz')\n",
    "emittance_betacool = data['emittance']\n",
    "time_betacool = data['time']\n",
    "\n",
    "gamma0 = 1.004469679\n",
    "beta0 = np.sqrt(1 - 1 / gamma0**2)\n",
    "mass0 = 193729.0248722061 * 1e6  # eV/c^2\n",
    "clight = 299792458.0\n",
    "p0c = mass0 * beta0 * gamma0  # eV/c\n",
    "q0 = 54\n",
    "particle_ref = xp.Particles(p0c=p0c,q0=q0,mass0=mass0,beta0=beta0,gamma0=gamma0)\n",
    "\n",
    "circumference = 78.54370266  # m\n",
    "T_per_turn = circumference/(clight*beta0)\n",
    "\n",
    "qx = 1.82\n",
    "qy = 2.72\n",
    "beta_x = 5\n",
    "beta_y = 5\n",
    "qs=0.005247746218929317\n",
    "bets0=-2078.673348423543\n",
    "\n",
    "arc = xt.LineSegmentMap(\n",
    "        qx=qx, qy=qy,\n",
    "        length=circumference,\n",
    "        betx=beta_x,\n",
    "        bety=beta_y,\n",
    "        )\n",
    "###############################\n",
    "\n",
    "arc_matching = xt.LineSegmentMap(\n",
    "        qx=qx, qy=qy,\n",
    "        length=circumference,\n",
    "        betx=beta_x,\n",
    "        bety=beta_y,\n",
    "        qs=qs,\n",
    "        bets=bets0)\n",
    "\n",
    "line_matching=xt.Line([arc_matching])\n",
    "line_matching.build_tracker()\n",
    "\n",
    "num_particles=int(1e3)\n",
    "\n",
    "#sigma_dp = 2e-3 # Standard LEIR value\n",
    "sigma_dp = 5e-3 # from Schotttky: 5e-3\n",
    " \n",
    "gemitt_x = 14e-6\n",
    "gemitt_y = 14e-6\n",
    "\n",
    "nemitt_x = gemitt_x*beta0*gamma0\n",
    "nemitt_y = gemitt_y*beta0*gamma0\n",
    "\n",
    "particles = xp.generate_matched_gaussian_bunch(\n",
    "        num_particles=num_particles,\n",
    "        # total_intensity_particles=bunch_intensity,\n",
    "        nemitt_x=nemitt_x, nemitt_y=nemitt_y, sigma_z=4.2,\n",
    "        particle_ref=particle_ref,\n",
    "        line=line_matching,        \n",
    "        )\n",
    "\n",
    "# create desired beam\n",
    "bunch_intensity = None\n",
    "sigma_z=-bets0*sigma_dp\n",
    "\n",
    "particles.delta = np.random.normal(loc=0.0, scale=sigma_dp, size=num_particles)\n",
    "#particles.zeta = 0\n",
    "particles.zeta = np.random.uniform(-circumference/2, circumference/2, num_particles)\n",
    "particles0=particles.copy()\n",
    "\n",
    "# simulation parameters: simulate 1 s of cooling, and take data once every 10 ms\n",
    "max_time_s = 1\n",
    "int_time_s = 1*1e-3\n",
    "\n",
    "# compute length of simulation, as well as sample interval, in turns\n",
    "num_turns = int((max_time_s / T_per_turn).item())\n",
    "save_interval = int((int_time_s / T_per_turn).item())\n",
    "\n",
    "\n",
    "# create a monitor object, to reduce holded data\n",
    "monitor = xt.ParticlesMonitor(start_at_turn=0, stop_at_turn=1,\n",
    "                        n_repetitions=int(num_turns/save_interval),\n",
    "                        repetition_period=save_interval,\n",
    "                        num_particles=len(particles.x))\n",
    "\n",
    "current = 0.6  # amperes\n",
    "cooler_length = 2.5  # m cooler length\n",
    "radius_e_beam = 25 * 1e-3\n",
    "temp_perp = 100e-3 # <E> [eV] = kb*T\n",
    "temp_long =  1e-3 # <E> [eV]\n",
    "magnetic_field = 0.075  # T for LEIR\n",
    "magnetic_field_ratio=1e-3*0\n",
    "\n",
    "electron_cooler = xt.ElectronCooler(current=current,\n",
    "                                length=cooler_length,\n",
    "                                radius_e_beam=radius_e_beam,\n",
    "                                temp_perp=temp_perp, temp_long=temp_long,\n",
    "                                magnetic_field=magnetic_field,\n",
    "                                magnetic_field_ratio=magnetic_field_ratio)\n",
    "\n",
    "line = xt.Line(elements=[monitor, electron_cooler, arc],element_names=['monitor','electron_cooler','arc'])\n",
    "                                \n",
    "line.particle_ref = particle_ref\n",
    "context = xo.ContextCpu(omp_num_threads=4)\n",
    "line.build_tracker(_context=context)\n",
    "\n",
    "particles=particles0.copy()\n",
    "#particles.q0=charge\n",
    "\n",
    "\n",
    "#just track all particles, and keep turn-by-turn data (memory expensive!)\n",
    "line.track(particles, num_turns=num_turns,\n",
    "        turn_by_turn_monitor=False,with_progress=True)\n",
    "\n",
    "# extract relevant values\n",
    "x = monitor.x[:,:,0]\n",
    "px = monitor.px[:,:,0]\n",
    "y = monitor.y[:,:,0]\n",
    "py = monitor.py[:,:,0]\n",
    "delta = monitor.delta[:,:,0]\n",
    "zeta = monitor.zeta[:,:,0]\n",
    "time = monitor.at_turn[:, 0, 0] * T_per_turn\n",
    "\n",
    "# compute actions. for x, remove the dp/p contribution:\n",
    "action_x = (x**2/beta_x + beta_x*px**2)\n",
    "# for y, simple compute:\n",
    "action_y = (y**2/beta_y + beta_y*py**2)\n",
    "emittance_x=np.mean(action_x, axis=1)/2\n",
    "norm_emittance_x=np.mean(action_x,axis=1)/2*gamma0*beta0\n",
    "norm_emittance_y=np.mean(action_y,axis=1)/2*gamma0*beta0\n",
    "\n",
    "geo_emittance_x=np.mean(action_x,axis=1)/2\n",
    "geo_emittance_y=np.mean(action_y,axis=1)/2\n",
    "\n",
    "p0c = particle_ref.p0c\n",
    "momentum = p0c*delta+p0c                \n",
    "\n",
    "for i in range(len(time_betacool) - 1, -1, -1):\n",
    "        if not np.isnan(time_betacool[i]):\n",
    "                last_non_nan_index = i\n",
    "                break\n",
    "\n",
    "time_betacool = time_betacool[:last_non_nan_index]\n",
    "matched_indices = [np.abs(time - time_value).argmin() for time_value in time_betacool]\n",
    "emittance_xsuite = [geo_emittance_x[index] for index in matched_indices]\n",
    "emittance_betacool = emittance_betacool[:last_non_nan_index]\n",
    "emittance_diff = emittance_xsuite - emittance_betacool\n",
    "mse_emittance = np.mean(emittance_diff**2)\n",
    "\n",
    "\n",
    "data_betacool = np.load('force_betacool.npz')\n",
    "v_diff_betacool = data_betacool['v_diff']\n",
    "force_betacool = data_betacool['force']\n",
    "num_particles = int(1e3)\n",
    "\n",
    "dtk_particle = dtk.TestParticles(\n",
    "mass0=mass0,\n",
    "p0c=p0c,\n",
    "x  = np.random.normal(0, 1e-20, num_particles),\n",
    "px = np.random.normal(0, 4*np.sqrt(gemitt_x/beta_x), num_particles),\n",
    "y  = np.random.normal(0, 1e-20, num_particles),\n",
    "py = np.random.normal(0, 1e-20, num_particles),\n",
    "delta = np.random.normal(0, 0, num_particles),\n",
    "zeta  = np.random.normal(0, 0, num_particles),\n",
    "q0=q0)\n",
    "\n",
    "dtk_cooler = dtk.elements.ElectronCooler(\n",
    "current=current, length=cooler_length, radius_e_beam=radius_e_beam,\n",
    "temp_perp=temp_perp, temp_long=temp_long, magnetic_field=magnetic_field, magnetic_field_ratio=magnetic_field_ratio,\n",
    "space_charge_factor=0)\n",
    "\n",
    "force, _, _ = dtk_cooler.force(dtk_particle)\n",
    "\n",
    "px_tot    = p0c*dtk_particle.px\n",
    "beta_diff = px_tot/(mass0*gamma0)\n",
    "v_diff    = beta_diff*clight\n",
    "\n",
    "sorted_indices = np.argsort(v_diff)\n",
    "v_diff = v_diff[sorted_indices]\n",
    "force = force[sorted_indices]\n",
    "for i in range(len(v_diff_betacool) - 1, -1, -1):\n",
    "        if not np.isnan(v_diff_betacool[i]):\n",
    "                last_non_nan_index = i\n",
    "                break\n",
    "\n",
    "v_diff_betacool = v_diff_betacool[:last_non_nan_index]\n",
    "\n",
    "matching_indices = []\n",
    "for time_value in v_diff_betacool:\n",
    "        index = np.abs(v_diff - time_value).argmin()\n",
    "        matching_indices.append(index)\n",
    "\n",
    "force_xsuite = [force[i] for i in matching_indices]\n",
    "\n",
    "force_betacool = force_betacool[:last_non_nan_index]\n",
    "\n",
    "force_diff = force_xsuite - force_betacool\n",
    "mse_force = np.mean(force_diff**2)\n",
    "\n",
    "# assert mse_emittance <1e-9\n",
    "# assert mse_force < 10"
   ]
  },
  {
   "cell_type": "code",
   "execution_count": 2,
   "id": "8c6ba737",
   "metadata": {},
   "outputs": [
    {
     "data": {
      "text/plain": [
       "np.float64(1.0550977680775464)"
      ]
     },
     "execution_count": 2,
     "metadata": {},
     "output_type": "execute_result"
    }
   ],
   "source": [
    "mse_force "
   ]
  },
  {
   "cell_type": "code",
   "execution_count": 3,
   "id": "f7d5c0bf",
   "metadata": {},
   "outputs": [
    {
     "name": "stderr",
     "output_type": "stream",
     "text": [
      "/tmp/pkruyt/ipykernel_159386/2532860007.py:4: UserWarning: No artists with labels found to put in legend.  Note that artists whose label start with an underscore are ignored when legend() is called with no argument.\n",
      "  plt.legend()\n"
     ]
    },
    {
     "data": {
      "image/png": "[encoded data removed]",
      "text/plain": [
       "<Figure size 640x480 with 1 Axes>"
      ]
     },
     "metadata": {},
     "output_type": "display_data"
    }
   ],
   "source": [
    "plt.figure()\n",
    "plt.plot(time_betacool,emittance_xsuite)\n",
    "plt.plot(time_betacool,emittance_betacool)\n",
    "plt.legend()\n",
    "plt.show()\n",
    "\n"
   ]
  },
  {
   "cell_type": "code",
   "execution_count": 4,
   "id": "ace36126",
   "metadata": {},
   "outputs": [
    {
     "data": {
      "text/plain": [
       "8.1e+19"
      ]
     },
     "execution_count": 4,
     "metadata": {},
     "output_type": "execute_result"
    }
   ],
   "source": [
    "(( 9e+9))**2"
   ]
  },
  {
   "cell_type": "code",
   "execution_count": 5,
   "id": "f63c1774",
   "metadata": {},
   "outputs": [
    {
     "data": {
      "text/plain": [
       "512402.8332093751"
      ]
     },
     "execution_count": 5,
     "metadata": {},
     "output_type": "execute_result"
    }
   ],
   "source": [
    "from scipy.constants import m_e as me_kg\n",
    "me_kg * 3e8**2 / 1.6e-19 #eV\n"
   ]
  },
  {
   "cell_type": "code",
   "execution_count": 6,
   "id": "723e65c3",
   "metadata": {},
   "outputs": [
    {
     "data": {
      "image/png": "[encoded data removed]",
      "text/plain": [
       "<Figure size 640x480 with 1 Axes>"
      ]
     },
     "metadata": {},
     "output_type": "display_data"
    }
   ],
   "source": [
    "plt.figure()\n",
    "plt.plot(v_diff_betacool,force_betacool,label='betacool')\n",
    "plt.plot(v_diff_betacool,force_xsuite,label='ducktack')\n",
    "plt.legend()\n",
    "plt.show()"
   ]
  }
 ],
 "metadata": {
  "kernelspec": {
   "display_name": "xsuite2025",
   "language": "python",
   "name": "python3"
  },
  "language_info": {
   "codemirror_mode": {
    "name": "ipython",
    "version": 3
   },
   "file_extension": ".py",
   "mimetype": "text/x-python",
   "name": "python",
   "nbconvert_exporter": "python",
   "pygments_lexer": "ipython3",
   "version": "3.13.1"
  }
 },
 "nbformat": 4,
 "nbformat_minor": 5
}
