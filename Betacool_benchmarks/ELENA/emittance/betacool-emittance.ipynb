{
 "cells": [
  {
   "cell_type": "code",
   "execution_count": null,
   "id": "16460ba6",
   "metadata": {},
   "outputs": [],
   "source": [
    "import numpy as np\n",
    "import matplotlib.pyplot as plt\n",
    "from pybetacool import PyBetaCool\n",
    "from tqdm import tqdm\n",
    "\n",
    "\n",
    "BLDfilename = '/home/pkruyt/cernbox/BETACOOL_ecooling/benchmarking-Betacool/ELENA.bld'\n",
    "betacoolExec = '/home/pkruyt/cernbox/BETACOOL_ecooling/betacool/Betacool'\n",
    "obj = PyBetaCool(BLDfilename=BLDfilename, betacoolExec=betacoolExec)\n",
    "# Edit one parameter (row=23, 6th value is \"stop time/stop time\")\n",
    "# run_time = 10 #sec\n",
    "# obj.BLDContent[23][6] = run_time \n",
    "# # Overwrites LEIR.bld with new setting \n",
    "obj.BLDContent.save(BLDfilename)\n",
    "obj.runBetacool('/m')\n",
    "tmp = obj.parseCurveFile('emittance.cur')\n",
    "\n",
    "time=tmp[:,0]\n",
    "emittance_x = tmp[:,1]*1e-6\n",
    "emittance_y = tmp[:,2]*1e-6\n",
    "dp_p=tmp[:,3]\n",
    "\n",
    "filpath='results/emittance_betacool.npz'\n",
    "\n",
    "np.savez(filpath, time=time, emittance_x=emittance_x, emittance_y=emittance_y, dp_p=dp_p)\n"
   ]
  }
 ],
 "metadata": {
  "kernelspec": {
   "display_name": "xsuite2025",
   "language": "python",
   "name": "python3"
  },
  "language_info": {
   "codemirror_mode": {
    "name": "ipython",
    "version": 3
   },
   "file_extension": ".py",
   "mimetype": "text/x-python",
   "name": "python",
   "nbconvert_exporter": "python",
   "pygments_lexer": "ipython3",
   "version": "3.13.1"
  }
 },
 "nbformat": 4,
 "nbformat_minor": 5
}
