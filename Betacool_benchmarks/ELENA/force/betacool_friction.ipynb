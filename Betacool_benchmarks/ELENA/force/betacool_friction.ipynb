{
 "cells": [
  {
   "cell_type": "code",
   "execution_count": null,
   "id": "16460ba6",
   "metadata": {},
   "outputs": [
    {
     "name": "stdout",
     "output_type": "stream",
     "text": [
      "BETACOOL----------release ver.7.2.beta (omp)----------2024/12/20\n",
      "/home/pkruyt/cernbox/BETACOOL_ecooling/betacool/Betacool /home/pkruyt/cernbox/BETACOOL_ecooling/benchmarking-Betacool/ELENA.bld /f\n",
      "Input parameter [12,11] was initialised with default value:1e+10\n",
      "Cannot open file : Bring3.bump\n",
      "FINISH: 2024/12/20-9:21:25\n",
      "\n",
      "TODO: simple version here...\n"
     ]
    }
   ],
   "source": [
    "import numpy as np\n",
    "import matplotlib.pyplot as plt\n",
    "from pybetacool import PyBetaCool\n",
    "\n",
    "\n",
    "\n",
    "\n",
    "\n",
    "BLDfilename = '/home/pkruyt/cernbox/BETACOOL_ecooling/benchmarking-Betacool/ELENA.bld'\n",
    "betacoolExec = '/home/pkruyt/cernbox/BETACOOL_ecooling/betacool/Betacool'\n",
    "obj = PyBetaCool(BLDfilename=BLDfilename, betacoolExec=betacoolExec)\n",
    "# Execute Betacool\n",
    "obj.runBetacool('/f')\n",
    "data = obj.parseCurveFile('flong.cur')\n",
    "\n",
    "v_diff=data[:, 0]\n",
    "force=data[:, 1]\n",
    "\n",
    "filpath=f'results/force_betacool.npz'\n",
    "\n",
    "np.savez(filpath,v_diff=v_diff, force=force)\n",
    "\n",
    "\n"
   ]
  }
 ],
 "metadata": {
  "kernelspec": {
   "display_name": "xsuite2025",
   "language": "python",
   "name": "python3"
  },
  "language_info": {
   "codemirror_mode": {
    "name": "ipython",
    "version": 3
   },
   "file_extension": ".py",
   "mimetype": "text/x-python",
   "name": "python",
   "nbconvert_exporter": "python",
   "pygments_lexer": "ipython3",
   "version": "3.13.1"
  }
 },
 "nbformat": 4,
 "nbformat_minor": 5
}
