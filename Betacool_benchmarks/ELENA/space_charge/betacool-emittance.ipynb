{
 "cells": [
  {
   "cell_type": "code",
   "execution_count": null,
   "id": "16460ba6",
   "metadata": {},
   "outputs": [],
   "source": [
    "import numpy as np\n",
    "import matplotlib.pyplot as plt\n",
    "from pybetacool import PyBetaCool\n",
    "\n",
    "neutralisation_list = [0,0.5,1] # fraction\n",
    "\n",
    "for i,neutralisation_space_charge_xs in enumerate(neutralisation_list):\n",
    "    neutralisation_space_charge_betacool=(1-neutralisation_space_charge_xs)*100 #xsuite and betacool use different definitions of neutralisation\n",
    "    BLDfilename = '/home/pkruyt/cernbox/BETACOOL_ecooling/benchmarking-Betacool/ELENA.bld'\n",
    "    betacoolExec = '/home/pkruyt/cernbox/BETACOOL_ecooling/betacool/Betacool'\n",
    "    obj = PyBetaCool(BLDfilename=BLDfilename, betacoolExec=betacoolExec)\n",
    "    # Edit one parameter (row=50, 4th value is \"magnetic field\")\n",
    "    obj.BLDContent[55][3] = neutralisation_space_charge_betacool \n",
    "    # Overwrites LEIR.bld with new setting \n",
    "    obj.BLDContent.save(BLDfilename)\n",
    "    # Execute Betacool\n",
    "    obj.runBetacool('/m')\n",
    "    tmp = obj.parseCurveFile('emittance.cur')\n",
    "\n",
    "    time=tmp[:,0]\n",
    "    emittance_x = tmp[:,1]*1e-6\n",
    "    emittance_y = tmp[:,2]*1e-6\n",
    "    dp_p=tmp[:,3]\n",
    "\n",
    "    filpath=f'results/emittance_betacool_SC={neutralisation_space_charge_xs}.npz'\n",
    "    #reset the bld file back to default \n",
    "    obj.BLDContent[55][3] = 100 \n",
    "    # Overwrites LEIR.bld with new setting \n",
    "    obj.BLDContent.save(BLDfilename)\n",
    "    \n",
    "    np.savez(filpath, time=time, emittance_x=emittance_x, emittance_y=emittance_y, dp_p=dp_p)\n",
    "\n",
    "    # Print progress indication\n",
    "    progress = (i + 1) / len(neutralisation_list) * 100\n",
    "    print(f\"Progress: {progress:.1f}%\")"
   ]
  }
 ],
 "metadata": {
  "kernelspec": {
   "display_name": "base",
   "language": "python",
   "name": "python3"
  },
  "language_info": {
   "codemirror_mode": {
    "name": "ipython",
    "version": 3
   },
   "file_extension": ".py",
   "mimetype": "text/x-python",
   "name": "python",
   "nbconvert_exporter": "python",
   "pygments_lexer": "ipython3",
   "version": "3.11.3"
  },
  "vscode": {
   "interpreter": {
    "hash": "b3c9a0a5475e728b39e61ac58d244ad936924f9cf82746515a9faeb1f1a0b703"
   }
  }
 },
 "nbformat": 4,
 "nbformat_minor": 5
}
