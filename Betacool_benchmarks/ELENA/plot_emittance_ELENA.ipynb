{
 "cells": [
  {
   "cell_type": "code",
   "execution_count": 1,
   "id": "0e62fcee",
   "metadata": {},
   "outputs": [],
   "source": [
    "import numpy as np\n",
    "import matplotlib.pyplot as plt\n",
    "import os\n",
    "\n",
    "# Generalized variables\n",
    "textwidth_cm = 16.50764  # Text width in cm\n",
    "aspect_ratio = 0.618     # Aspect ratio (height/width) using the golden ratio\n",
    "\n",
    "# Font sizes\n",
    "label_fontsize = 12\n",
    "legend_fontsize = 12\n",
    "tick_fontsize = 10\n",
    "colorbar_label_fontsize = 12\n",
    "colorbar_tick_fontsize = 10\n",
    "offset_text_fontsize = 12\n",
    "tick_fontsize = 10\n",
    "errorbar_capsize = 5\n",
    "\n",
    "# Convert text width from cm to inches\n",
    "textwidth_in = textwidth_cm / 2.54\n",
    "\n",
    "# Calculate figure size based on text width and aspect ratio\n",
    "fig_width = textwidth_in\n",
    "fig_height = textwidth_in * aspect_ratio\n",
    "\n",
    "save_dir = '/home/pkruyt/cernbox/figures_thesis/betacool_benchmark/'"
   ]
  },
  {
   "cell_type": "code",
   "execution_count": 2,
   "id": "16460ba6",
   "metadata": {},
   "outputs": [
    {
     "name": "stderr",
     "output_type": "stream",
     "text": [
      "<>:25: SyntaxWarning: invalid escape sequence '\\D'\n",
      "<>:25: SyntaxWarning: invalid escape sequence '\\D'\n",
      "/tmp/pkruyt/ipykernel_40029/463392688.py:25: SyntaxWarning: invalid escape sequence '\\D'\n",
      "  plt.xlabel('$\\Delta$v [m/s]', fontsize=label_fontsize)\n",
      "/tmp/pkruyt/ipykernel_40029/463392688.py:25: SyntaxWarning: invalid escape sequence '\\D'\n",
      "  plt.xlabel('$\\Delta$v [m/s]', fontsize=label_fontsize)\n"
     ]
    },
    {
     "ename": "FileNotFoundError",
     "evalue": "[Errno 2] No such file or directory: 'results/emittance_betacool.npz'",
     "output_type": "error",
     "traceback": [
      "\u001b[0;31m---------------------------------------------------------------------------\u001b[0m",
      "\u001b[0;31mFileNotFoundError\u001b[0m                         Traceback (most recent call last)",
      "Cell \u001b[0;32mIn[2], line 18\u001b[0m\n\u001b[1;32m     14\u001b[0m plt\u001b[38;5;241m.\u001b[39mfigure(figsize\u001b[38;5;241m=\u001b[39m(fig_width, fig_height))\n\u001b[1;32m     15\u001b[0m plt\u001b[38;5;241m.\u001b[39mrcParams\u001b[38;5;241m.\u001b[39mupdate({\u001b[38;5;124m'\u001b[39m\u001b[38;5;124mfont.size\u001b[39m\u001b[38;5;124m'\u001b[39m: label_fontsize})\n\u001b[0;32m---> 18\u001b[0m time, emittance_x,emittance_y,dp_p \u001b[38;5;241m=\u001b[39m \u001b[43mload_data\u001b[49m\u001b[43m(\u001b[49m\u001b[38;5;124;43m'\u001b[39;49m\u001b[38;5;124;43mbetacool\u001b[39;49m\u001b[38;5;124;43m'\u001b[39;49m\u001b[43m)\u001b[49m\n\u001b[1;32m     19\u001b[0m plt\u001b[38;5;241m.\u001b[39mplot(time, emittance_x\u001b[38;5;241m*\u001b[39m\u001b[38;5;241m1e6\u001b[39m, label\u001b[38;5;241m=\u001b[39m\u001b[38;5;124mf\u001b[39m\u001b[38;5;124m'\u001b[39m\u001b[38;5;124mBetacool\u001b[39m\u001b[38;5;124m'\u001b[39m,color\u001b[38;5;241m=\u001b[39m\u001b[38;5;124m'\u001b[39m\u001b[38;5;124mred\u001b[39m\u001b[38;5;124m'\u001b[39m,linestyle\u001b[38;5;241m=\u001b[39m\u001b[38;5;124m'\u001b[39m\u001b[38;5;124m--\u001b[39m\u001b[38;5;124m'\u001b[39m)\n\u001b[1;32m     20\u001b[0m time, emittance_x,emittance_y,dp_p\u001b[38;5;241m=\u001b[39m load_data(\u001b[38;5;124m'\u001b[39m\u001b[38;5;124mxsuite\u001b[39m\u001b[38;5;124m'\u001b[39m)\n",
      "Cell \u001b[0;32mIn[2], line 6\u001b[0m, in \u001b[0;36mload_data\u001b[0;34m(module)\u001b[0m\n\u001b[1;32m      4\u001b[0m \u001b[38;5;28;01mdef\u001b[39;00m \u001b[38;5;21mload_data\u001b[39m(module):\n\u001b[1;32m      5\u001b[0m     filename \u001b[38;5;241m=\u001b[39m \u001b[38;5;124mf\u001b[39m\u001b[38;5;124m\"\u001b[39m\u001b[38;5;124mresults/emittance_\u001b[39m\u001b[38;5;132;01m{\u001b[39;00mmodule\u001b[38;5;132;01m}\u001b[39;00m\u001b[38;5;124m.npz\u001b[39m\u001b[38;5;124m\"\u001b[39m\n\u001b[0;32m----> 6\u001b[0m     data \u001b[38;5;241m=\u001b[39m \u001b[43mnp\u001b[49m\u001b[38;5;241;43m.\u001b[39;49m\u001b[43mload\u001b[49m\u001b[43m(\u001b[49m\u001b[43mfilename\u001b[49m\u001b[43m)\u001b[49m\n\u001b[1;32m      7\u001b[0m     time \u001b[38;5;241m=\u001b[39m data[\u001b[38;5;124m'\u001b[39m\u001b[38;5;124mtime\u001b[39m\u001b[38;5;124m'\u001b[39m]\n\u001b[1;32m      8\u001b[0m     emittance_x \u001b[38;5;241m=\u001b[39m data[\u001b[38;5;124m'\u001b[39m\u001b[38;5;124memittance_x\u001b[39m\u001b[38;5;124m'\u001b[39m]\n",
      "File \u001b[0;32m~/miniforge3/envs/xsuite2025/lib/python3.13/site-packages/numpy/lib/_npyio_impl.py:459\u001b[0m, in \u001b[0;36mload\u001b[0;34m(file, mmap_mode, allow_pickle, fix_imports, encoding, max_header_size)\u001b[0m\n\u001b[1;32m    457\u001b[0m     own_fid \u001b[38;5;241m=\u001b[39m \u001b[38;5;28;01mFalse\u001b[39;00m\n\u001b[1;32m    458\u001b[0m \u001b[38;5;28;01melse\u001b[39;00m:\n\u001b[0;32m--> 459\u001b[0m     fid \u001b[38;5;241m=\u001b[39m stack\u001b[38;5;241m.\u001b[39menter_context(\u001b[38;5;28;43mopen\u001b[39;49m\u001b[43m(\u001b[49m\u001b[43mos\u001b[49m\u001b[38;5;241;43m.\u001b[39;49m\u001b[43mfspath\u001b[49m\u001b[43m(\u001b[49m\u001b[43mfile\u001b[49m\u001b[43m)\u001b[49m\u001b[43m,\u001b[49m\u001b[43m \u001b[49m\u001b[38;5;124;43m\"\u001b[39;49m\u001b[38;5;124;43mrb\u001b[39;49m\u001b[38;5;124;43m\"\u001b[39;49m\u001b[43m)\u001b[49m)\n\u001b[1;32m    460\u001b[0m     own_fid \u001b[38;5;241m=\u001b[39m \u001b[38;5;28;01mTrue\u001b[39;00m\n\u001b[1;32m    462\u001b[0m \u001b[38;5;66;03m# Code to distinguish from NumPy binary files and pickles.\u001b[39;00m\n",
      "\u001b[0;31mFileNotFoundError\u001b[0m: [Errno 2] No such file or directory: 'results/emittance_betacool.npz'"
     ]
    },
    {
     "data": {
      "text/plain": [
       "<Figure size 649.907x401.643 with 0 Axes>"
      ]
     },
     "metadata": {},
     "output_type": "display_data"
    }
   ],
   "source": [
    "import numpy as np\n",
    "import matplotlib.pyplot as plt\n",
    "\n",
    "def load_data(module):\n",
    "    filename = f\"results/emittance_{module}.npz\"\n",
    "    data = np.load(filename)\n",
    "    time = data['time']\n",
    "    emittance_x = data['emittance_x']\n",
    "    emittance_y = data['emittance_y']\n",
    "    dp_p=data['dp_p']\n",
    "    return time, emittance_x,emittance_y,dp_p\n",
    "\n",
    "cmap = plt.get_cmap(\"tab10\")\n",
    "plt.figure(figsize=(fig_width, fig_height))\n",
    "plt.rcParams.update({'font.size': label_fontsize})\n",
    "\n",
    "\n",
    "time, emittance_x,emittance_y,dp_p = load_data('betacool')\n",
    "plt.plot(time, emittance_x*1e6, label=f'Betacool',color='red',linestyle='--')\n",
    "time, emittance_x,emittance_y,dp_p= load_data('xsuite')\n",
    "plt.plot(time, emittance_x*1e6, label=f'Xsuite',color=cmap(0))\n",
    "# time, emittance_x,emittance_y,dp_p= load_data('ducktrack')\n",
    "# plt.plot(time, emittance_x*1e6, label=f'ducktrack',color=cmap(0))\n",
    "\n",
    "plt.xlabel('$\\Delta$v [m/s]', fontsize=label_fontsize)\n",
    "plt.ylabel('-Force [eV/m]', fontsize=label_fontsize)\n",
    "plt.legend(fontsize=legend_fontsize)\n",
    "plt.tick_params(labelsize=tick_fontsize)\n",
    "plt.tight_layout()\n",
    "plt.xlim([1,3e5])\n",
    "plt.axis(ymin = 0)\n",
    "image_name = 'ELENA_emittance_default_parameters.png'\n",
    "save_location = os.path.join(save_dir, image_name)\n",
    "plt.savefig(save_location, dpi=300, bbox_inches='tight')\n",
    "plt.show()\n"
   ]
  }
 ],
 "metadata": {
  "kernelspec": {
   "display_name": "xsuite2025",
   "language": "python",
   "name": "python3"
  },
  "language_info": {
   "codemirror_mode": {
    "name": "ipython",
    "version": 3
   },
   "file_extension": ".py",
   "mimetype": "text/x-python",
   "name": "python",
   "nbconvert_exporter": "python",
   "pygments_lexer": "ipython3",
   "version": "3.13.1"
  }
 },
 "nbformat": 4,
 "nbformat_minor": 5
}
