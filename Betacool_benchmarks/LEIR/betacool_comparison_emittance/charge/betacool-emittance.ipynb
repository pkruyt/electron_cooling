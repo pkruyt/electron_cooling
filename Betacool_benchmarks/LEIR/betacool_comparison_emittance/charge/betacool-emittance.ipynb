{
 "cells": [
  {
   "cell_type": "code",
   "execution_count": 1,
   "id": "16460ba6",
   "metadata": {},
   "outputs": [
    {
     "name": "stderr",
     "output_type": "stream",
     "text": [
      "0it [00:07, ?it/s]\n"
     ]
    },
    {
     "ename": "KeyboardInterrupt",
     "evalue": "",
     "output_type": "error",
     "traceback": [
      "\u001b[0;31m---------------------------------------------------------------------------\u001b[0m",
      "\u001b[0;31mKeyboardInterrupt\u001b[0m                         Traceback (most recent call last)",
      "Cell \u001b[0;32mIn[1], line 17\u001b[0m\n\u001b[1;32m     15\u001b[0m obj\u001b[38;5;241m.\u001b[39mBLDContent\u001b[38;5;241m.\u001b[39msave(BLDfilename)\n\u001b[1;32m     16\u001b[0m \u001b[38;5;66;03m# Execute Betacool\u001b[39;00m\n\u001b[0;32m---> 17\u001b[0m \u001b[43mobj\u001b[49m\u001b[38;5;241;43m.\u001b[39;49m\u001b[43mrunBetacool\u001b[49m\u001b[43m(\u001b[49m\u001b[38;5;124;43m'\u001b[39;49m\u001b[38;5;124;43m/m\u001b[39;49m\u001b[38;5;124;43m'\u001b[39;49m\u001b[43m)\u001b[49m\n\u001b[1;32m     18\u001b[0m tmp \u001b[38;5;241m=\u001b[39m obj\u001b[38;5;241m.\u001b[39mparseCurveFile(\u001b[38;5;124m'\u001b[39m\u001b[38;5;124memittance.cur\u001b[39m\u001b[38;5;124m'\u001b[39m)\n\u001b[1;32m     20\u001b[0m time\u001b[38;5;241m=\u001b[39mtmp[:,\u001b[38;5;241m0\u001b[39m]\n",
      "File \u001b[0;32m~/miniforge3/envs/xsuite2025/lib/python3.13/site-packages/pybetacool/pybetacool.py:32\u001b[0m, in \u001b[0;36mPyBetaCool.runBetacool\u001b[0;34m(self, command)\u001b[0m\n\u001b[1;32m     28\u001b[0m \u001b[38;5;28;01mdef\u001b[39;00m \u001b[38;5;21mrunBetacool\u001b[39m(\u001b[38;5;28mself\u001b[39m, command):\n\u001b[1;32m     29\u001b[0m     out \u001b[38;5;241m=\u001b[39m subprocess\u001b[38;5;241m.\u001b[39mPopen([\u001b[38;5;28mself\u001b[39m\u001b[38;5;241m.\u001b[39mbetacoolExec, \u001b[38;5;28mself\u001b[39m\u001b[38;5;241m.\u001b[39mBLDfilename, command], \n\u001b[1;32m     30\u001b[0m        stdout\u001b[38;5;241m=\u001b[39msubprocess\u001b[38;5;241m.\u001b[39mPIPE, \n\u001b[1;32m     31\u001b[0m        stderr\u001b[38;5;241m=\u001b[39msubprocess\u001b[38;5;241m.\u001b[39mSTDOUT)\n\u001b[0;32m---> 32\u001b[0m     stdout,_ \u001b[38;5;241m=\u001b[39m \u001b[43mout\u001b[49m\u001b[38;5;241;43m.\u001b[39;49m\u001b[43mcommunicate\u001b[49m\u001b[43m(\u001b[49m\u001b[43m)\u001b[49m\n\u001b[1;32m     33\u001b[0m     \u001b[38;5;28;01mif\u001b[39;00m \u001b[38;5;124m'\u001b[39m\u001b[38;5;124mFINISH-\u001b[39m\u001b[38;5;124m'\u001b[39m \u001b[38;5;129;01min\u001b[39;00m stdout\u001b[38;5;241m.\u001b[39mdecode(\u001b[38;5;124m'\u001b[39m\u001b[38;5;124mascii\u001b[39m\u001b[38;5;124m'\u001b[39m):\n\u001b[1;32m     34\u001b[0m         \u001b[38;5;28;01mreturn\u001b[39;00m \u001b[38;5;28;01mTrue\u001b[39;00m\n",
      "File \u001b[0;32m~/miniforge3/envs/xsuite2025/lib/python3.13/subprocess.py:1206\u001b[0m, in \u001b[0;36mPopen.communicate\u001b[0;34m(self, input, timeout)\u001b[0m\n\u001b[1;32m   1204\u001b[0m     \u001b[38;5;28mself\u001b[39m\u001b[38;5;241m.\u001b[39m_stdin_write(\u001b[38;5;28minput\u001b[39m)\n\u001b[1;32m   1205\u001b[0m \u001b[38;5;28;01melif\u001b[39;00m \u001b[38;5;28mself\u001b[39m\u001b[38;5;241m.\u001b[39mstdout:\n\u001b[0;32m-> 1206\u001b[0m     stdout \u001b[38;5;241m=\u001b[39m \u001b[38;5;28;43mself\u001b[39;49m\u001b[38;5;241;43m.\u001b[39;49m\u001b[43mstdout\u001b[49m\u001b[38;5;241;43m.\u001b[39;49m\u001b[43mread\u001b[49m\u001b[43m(\u001b[49m\u001b[43m)\u001b[49m\n\u001b[1;32m   1207\u001b[0m     \u001b[38;5;28mself\u001b[39m\u001b[38;5;241m.\u001b[39mstdout\u001b[38;5;241m.\u001b[39mclose()\n\u001b[1;32m   1208\u001b[0m \u001b[38;5;28;01melif\u001b[39;00m \u001b[38;5;28mself\u001b[39m\u001b[38;5;241m.\u001b[39mstderr:\n",
      "\u001b[0;31mKeyboardInterrupt\u001b[0m: "
     ]
    }
   ],
   "source": [
    "import numpy as np\n",
    "import matplotlib.pyplot as plt\n",
    "from pybetacool import PyBetaCool\n",
    "from tqdm import tqdm\n",
    "\n",
    "charge_list = [40,45,50] # e\n",
    "\n",
    "for i,charge in tqdm(enumerate(charge_list)):\n",
    "    BLDfilename = '../../LEIR.bld'\n",
    "    betacoolExec = '../../../betacool/Betacool'\n",
    "    obj = PyBetaCool(BLDfilename=BLDfilename, betacoolExec=betacoolExec)\n",
    "    # Edit one parameter (row=50, 4th value is \"magnetic field\")\n",
    "    obj.BLDContent[11][3] = charge \n",
    "    # Overwrites LEIR.bld with new setting \n",
    "    obj.BLDContent.save(BLDfilename)\n",
    "    # Execute Betacool\n",
    "    obj.runBetacool('/m')\n",
    "    tmp = obj.parseCurveFile('emittance.cur')\n",
    "\n",
    "    time=tmp[:,0]\n",
    "    emittance_x = tmp[:,1]*1e-6\n",
    "    emittance_y = tmp[:,2]*1e-6\n",
    "    dp_p=tmp[:,3]\n",
    "\n",
    "    filpath=f'results/emittance_betacool_Q={charge}.npz'\n",
    "     #reset the bld file back to default \n",
    "    obj.BLDContent[11][3] = 54\n",
    "    # Overwrites LEIR.bld with new setting \n",
    "    obj.BLDContent.save(BLDfilename)\n",
    "    \n",
    "    np.savez(filpath, time=time, emittance_x=emittance_x, emittance_y=emittance_y, dp_p=dp_p)"
   ]
  }
 ],
 "metadata": {
  "kernelspec": {
   "display_name": "xsuite2025",
   "language": "python",
   "name": "python3"
  },
  "language_info": {
   "codemirror_mode": {
    "name": "ipython",
    "version": 3
   },
   "file_extension": ".py",
   "mimetype": "text/x-python",
   "name": "python",
   "nbconvert_exporter": "python",
   "pygments_lexer": "ipython3",
   "version": "3.13.1"
  }
 },
 "nbformat": 4,
 "nbformat_minor": 5
}
