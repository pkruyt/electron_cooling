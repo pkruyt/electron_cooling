{
 "cells": [
  {
   "cell_type": "code",
   "execution_count": null,
   "id": "2cde18e1",
   "metadata": {},
   "outputs": [
    {
     "name": "stderr",
     "output_type": "stream",
     "text": [
      "Xcoll not installed\n"
     ]
    },
    {
     "data": {
      "application/vnd.jupyter.widget-view+json": {
       "model_id": "752df80673ef4298a91fe06b5f16ec61",
       "version_major": 2,
       "version_minor": 0
      },
      "text/plain": [
       "Loading line from dict:   0%|          | 0/2526 [00:00<?, ?it/s]"
      ]
     },
     "metadata": {},
     "output_type": "display_data"
    },
    {
     "name": "stdout",
     "output_type": "stream",
     "text": [
      "Done loading line from dict.           \n",
      "Compiling ContextCpu kernels...\n",
      "Done compiling ContextCpu kernels.\n",
      "Compiling ContextCpu kernels...\n",
      "Done compiling ContextCpu kernels.\n",
      "Compiling ContextCpu kernels...\n",
      "Done compiling ContextCpu kernels.\n"
     ]
    },
    {
     "data": {
      "application/vnd.jupyter.widget-view+json": {
       "model_id": "f86cb1d1a5254e969067687139b12050",
       "version_major": 2,
       "version_minor": 0
      },
      "text/plain": [
       "Tracking:   0%|          | 0/361300 [00:00<?, ?it/s]"
      ]
     },
     "metadata": {},
     "output_type": "display_data"
    }
   ],
   "source": [
    "import xtrack as xt\n",
    "import xobjects as xo\n",
    "import xpart as xp\n",
    "from scipy import constants \n",
    "import numpy as np\n",
    "import matplotlib.pyplot as plt\n",
    "from tqdm import tqdm\n",
    "\n",
    "line_LEIR = xt.Line.from_json('../../leir.json')\n",
    "twiss = line_LEIR.twiss()\n",
    "particle_ref=line_LEIR.particle_ref\n",
    "\n",
    "particle_ref=line_LEIR.particle_ref\n",
    "mass0=particle_ref.mass0\n",
    "gamma0=particle_ref.gamma0\n",
    "beta0=particle_ref.beta0\n",
    "p0c=particle_ref.p0c\n",
    "\n",
    "circumference = twiss.circumference #m\n",
    "\n",
    "clight=constants.speed_of_light\n",
    "T_per_turn = circumference/(clight*beta0)\n",
    "\n",
    "# optics at e-cooler (approximate), in m\n",
    "beta_x=5\n",
    "beta_y=5\n",
    "dx=0\n",
    "\n",
    "qx = twiss.qx       #0.8200408678 #1.82\n",
    "qy = twiss.qy       #0.7200210637 #2.72\n",
    "dqx= twiss.dqx      #-0.0005113579791\n",
    "dqy= twiss.dqy      #-0.0001665178543\n",
    "qs = twiss.qs\n",
    "bets0=twiss.bets0\n",
    "\n",
    "arc = xt.LineSegmentMap(\n",
    "        qx=qx, qy=qy,\n",
    "        length=circumference,\n",
    "        betx=beta_x,\n",
    "        bety=beta_y,\n",
    "        dx=dx)\n",
    "\n",
    "###############################\n",
    "\n",
    "arc_matching = xt.LineSegmentMap(\n",
    "        qx=qx, qy=qy,\n",
    "        length=circumference,\n",
    "        betx=beta_x,\n",
    "        bety=beta_y,\n",
    "        dx=dx,\n",
    "        qs=qs,\n",
    "        bets=bets0)\n",
    "\n",
    "line_matching=xt.Line([arc_matching])\n",
    "line_matching.build_tracker()\n",
    "\n",
    "num_particles=int(1e4)\n",
    "\n",
    "#sigma_dp = 2e-3 # Standard LEIR value\n",
    "sigma_dp = 5e-3 # from Schotttky: 5e-3\n",
    " \n",
    "gemitt_x = 14e-6\n",
    "gemitt_y = 14e-6\n",
    "\n",
    "nemitt_x = gemitt_x*beta0*gamma0\n",
    "nemitt_y = gemitt_y*beta0*gamma0\n",
    "\n",
    "particles = xp.generate_matched_gaussian_bunch(\n",
    "        num_particles=num_particles,\n",
    "        # total_intensity_particles=bunch_intensity,\n",
    "        nemitt_x=nemitt_x, nemitt_y=nemitt_y, sigma_z=4.2,\n",
    "        particle_ref=particle_ref,\n",
    "        line=line_matching,        \n",
    "        )\n",
    "\n",
    "# create desired beam\n",
    "bunch_intensity = None\n",
    "sigma_z=-bets0*sigma_dp\n",
    "\n",
    "particles.delta = np.random.normal(loc=0.0, scale=sigma_dp, size=num_particles)\n",
    "#particles.zeta = 0\n",
    "particles.zeta = np.random.uniform(-circumference/2, circumference/2, num_particles)\n",
    "particles0=particles.copy()\n",
    "\n",
    "# simulation parameters: simulate 1 s of cooling, and take data once every 10 ms\n",
    "max_time_s = 1\n",
    "int_time_s = 1*1e-3\n",
    "\n",
    "# compute length of simulation, as well as sample interval, in turns\n",
    "num_turns = int((max_time_s / T_per_turn).item())\n",
    "save_interval = int((int_time_s / T_per_turn).item())\n",
    "\n",
    "\n",
    "# create a monitor object, to reduce holded data\n",
    "monitor = xt.ParticlesMonitor(start_at_turn=0, stop_at_turn=1,\n",
    "                        n_repetitions=int(num_turns/save_interval),\n",
    "                        repetition_period=save_interval,\n",
    "                        num_particles=len(particles.x))\n",
    "\n",
    "current = 0.6  # amperes\n",
    "cooler_length = 2.5  # m cooler length\n",
    "radius_e_beam = 25 * 1e-3\n",
    "temp_perp = 100e-3 # <E> [eV] = kb*T\n",
    "temp_long =  1e-3 # <E> [eV]\n",
    "magnetic_field = 0.075  # T for LEIR\n",
    "magnetic_field_ratio = 0\n",
    "\n",
    "electron_cooler = xt.ElectronCooler(current=current,\n",
    "                                        length=cooler_length,\n",
    "                                        radius_e_beam=radius_e_beam,\n",
    "                                        temp_perp=temp_perp, temp_long=temp_long,\n",
    "                                        magnetic_field=magnetic_field)\n",
    "\n",
    "line = xt.Line(elements=[monitor, electron_cooler, arc],element_names=['monitor','electron_cooler','arc'])\n",
    "                                \n",
    "line.particle_ref = particle_ref\n",
    "context = xo.ContextCpu(omp_num_threads=4)\n",
    "line.build_tracker(_context=context)\n",
    "\n",
    "particles=particles0.copy()\n",
    "#particles.q0=charge\n",
    "#particles.delta = np.random.normal(loc=0.0, scale=sigma_dp_loop, size=num_particles)\n",
    "# particles_emittance=particles_emittance0.copy()    \n",
    "\n",
    "# just track all particles, and keep turn-by-turn data (memory expensive!)\n",
    "line.track(particles, num_turns=num_turns,\n",
    "        turn_by_turn_monitor=False,with_progress=True)\n",
    "\n",
    "# extract relevant values\n",
    "x = monitor.x[:,:,0]\n",
    "px = monitor.px[:,:,0]\n",
    "y = monitor.y[:,:,0]\n",
    "py = monitor.py[:,:,0]\n",
    "delta = monitor.delta[:,:,0]\n",
    "zeta = monitor.zeta[:,:,0]\n",
    "time = monitor.at_turn[:, 0, 0] * T_per_turn\n",
    "\n",
    "# compute actions. for x, remove the dp/p contribution:\n",
    "action_x = ((x-dx*delta)**2/beta_x + beta_x*px**2)\n",
    "# for y, simple compute:\n",
    "action_y = (y**2/beta_y + beta_y*py**2)\n",
    "emittance_x=np.mean(action_x, axis=1)/2\n",
    "norm_emittance_x=np.mean(action_x,axis=1)/2*gamma0*beta0\n",
    "norm_emittance_y=np.mean(action_y,axis=1)/2*gamma0*beta0\n",
    "\n",
    "geo_emittance_x=np.mean(action_x,axis=1)/2\n",
    "geo_emittance_y=np.mean(action_y,axis=1)/2\n",
    "\n",
    "# sigma_x_all_angles = np.array([np.sqrt(beta_x * geo_emittance_x) for angle in angle_list])\n",
    "# sigma_x_95 = np.percentile(sigma_x_all_angles, 95, axis=0)\n",
    "p0c = particle_ref.p0c\n",
    "momentum = p0c*delta+p0c                \n",
    "\n",
    "# Save results\n",
    "filepath='results/emittance_xsuite.npz'\n",
    "np.savez(filepath, time=time,\n",
    "            emittance_x=geo_emittance_x, emittance_y=geo_emittance_y,\n",
    "            dp_p=delta)\n"
   ]
  },
  {
   "cell_type": "code",
   "execution_count": 8,
   "id": "db56f16a",
   "metadata": {},
   "outputs": [],
   "source": [
    "temp_perp = 100e-3 # <E> [eV] = kb*T\n",
    "temp_long =  1e-3 # <E> [eV]"
   ]
  },
  {
   "cell_type": "code",
   "execution_count": 9,
   "id": "8465c19a",
   "metadata": {},
   "outputs": [
    {
     "data": {
      "text/plain": [
       "0.1"
      ]
     },
     "execution_count": 9,
     "metadata": {},
     "output_type": "execute_result"
    }
   ],
   "source": [
    "temp_perp"
   ]
  },
  {
   "cell_type": "code",
   "execution_count": 10,
   "id": "90a5b9ce",
   "metadata": {},
   "outputs": [
    {
     "data": {
      "text/plain": [
       "0.001"
      ]
     },
     "execution_count": 10,
     "metadata": {},
     "output_type": "execute_result"
    }
   ],
   "source": [
    "temp_long"
   ]
  }
 ],
 "metadata": {
  "kernelspec": {
   "display_name": "xsuite2025",
   "language": "python",
   "name": "python3"
  },
  "language_info": {
   "codemirror_mode": {
    "name": "ipython",
    "version": 3
   },
   "file_extension": ".py",
   "mimetype": "text/x-python",
   "name": "python",
   "nbconvert_exporter": "python",
   "pygments_lexer": "ipython3",
   "version": "3.13.1"
  }
 },
 "nbformat": 4,
 "nbformat_minor": 5
}
