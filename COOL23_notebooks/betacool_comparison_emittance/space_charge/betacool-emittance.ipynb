{
 "cells": [
  {
   "cell_type": "code",
   "execution_count": 1,
   "id": "16460ba6",
   "metadata": {},
   "outputs": [
    {
     "ename": "KeyboardInterrupt",
     "evalue": "",
     "output_type": "error",
     "traceback": [
      "\u001b[0;31m---------------------------------------------------------------------------\u001b[0m",
      "\u001b[0;31mKeyboardInterrupt\u001b[0m                         Traceback (most recent call last)",
      "Cell \u001b[0;32mIn[1], line 17\u001b[0m\n\u001b[1;32m     15\u001b[0m obj\u001b[38;5;241m.\u001b[39mBLDContent\u001b[38;5;241m.\u001b[39msave(BLDfilename)\n\u001b[1;32m     16\u001b[0m \u001b[38;5;66;03m# Execute Betacool\u001b[39;00m\n\u001b[0;32m---> 17\u001b[0m obj\u001b[38;5;241m.\u001b[39mrunBetacool(\u001b[38;5;124m'\u001b[39m\u001b[38;5;124m/m\u001b[39m\u001b[38;5;124m'\u001b[39m)\n\u001b[1;32m     18\u001b[0m tmp \u001b[38;5;241m=\u001b[39m obj\u001b[38;5;241m.\u001b[39mparseCurveFile(\u001b[38;5;124m'\u001b[39m\u001b[38;5;124memittance.cur\u001b[39m\u001b[38;5;124m'\u001b[39m)\n\u001b[1;32m     20\u001b[0m time\u001b[38;5;241m=\u001b[39mtmp[:,\u001b[38;5;241m0\u001b[39m]\n",
      "File \u001b[0;32m~/miniforge3/envs/xsuite/lib/python3.11/site-packages/pybetacool/pybetacool.py:32\u001b[0m, in \u001b[0;36mPyBetaCool.runBetacool\u001b[0;34m(self, command)\u001b[0m\n\u001b[1;32m     28\u001b[0m \u001b[38;5;28;01mdef\u001b[39;00m \u001b[38;5;21mrunBetacool\u001b[39m(\u001b[38;5;28mself\u001b[39m, command):\n\u001b[1;32m     29\u001b[0m     out \u001b[38;5;241m=\u001b[39m subprocess\u001b[38;5;241m.\u001b[39mPopen([\u001b[38;5;28mself\u001b[39m\u001b[38;5;241m.\u001b[39mbetacoolExec, \u001b[38;5;28mself\u001b[39m\u001b[38;5;241m.\u001b[39mBLDfilename, command], \n\u001b[1;32m     30\u001b[0m        stdout\u001b[38;5;241m=\u001b[39msubprocess\u001b[38;5;241m.\u001b[39mPIPE, \n\u001b[1;32m     31\u001b[0m        stderr\u001b[38;5;241m=\u001b[39msubprocess\u001b[38;5;241m.\u001b[39mSTDOUT)\n\u001b[0;32m---> 32\u001b[0m     stdout,_ \u001b[38;5;241m=\u001b[39m out\u001b[38;5;241m.\u001b[39mcommunicate()\n\u001b[1;32m     33\u001b[0m     \u001b[38;5;28;01mif\u001b[39;00m \u001b[38;5;124m'\u001b[39m\u001b[38;5;124mFINISH-\u001b[39m\u001b[38;5;124m'\u001b[39m \u001b[38;5;129;01min\u001b[39;00m stdout\u001b[38;5;241m.\u001b[39mdecode(\u001b[38;5;124m'\u001b[39m\u001b[38;5;124mascii\u001b[39m\u001b[38;5;124m'\u001b[39m):\n\u001b[1;32m     34\u001b[0m         \u001b[38;5;28;01mreturn\u001b[39;00m \u001b[38;5;28;01mTrue\u001b[39;00m\n",
      "File \u001b[0;32m~/miniforge3/envs/xsuite/lib/python3.11/subprocess.py:1194\u001b[0m, in \u001b[0;36mPopen.communicate\u001b[0;34m(self, input, timeout)\u001b[0m\n\u001b[1;32m   1192\u001b[0m     \u001b[38;5;28mself\u001b[39m\u001b[38;5;241m.\u001b[39m_stdin_write(\u001b[38;5;28minput\u001b[39m)\n\u001b[1;32m   1193\u001b[0m \u001b[38;5;28;01melif\u001b[39;00m \u001b[38;5;28mself\u001b[39m\u001b[38;5;241m.\u001b[39mstdout:\n\u001b[0;32m-> 1194\u001b[0m     stdout \u001b[38;5;241m=\u001b[39m \u001b[38;5;28mself\u001b[39m\u001b[38;5;241m.\u001b[39mstdout\u001b[38;5;241m.\u001b[39mread()\n\u001b[1;32m   1195\u001b[0m     \u001b[38;5;28mself\u001b[39m\u001b[38;5;241m.\u001b[39mstdout\u001b[38;5;241m.\u001b[39mclose()\n\u001b[1;32m   1196\u001b[0m \u001b[38;5;28;01melif\u001b[39;00m \u001b[38;5;28mself\u001b[39m\u001b[38;5;241m.\u001b[39mstderr:\n",
      "\u001b[0;31mKeyboardInterrupt\u001b[0m: "
     ]
    }
   ],
   "source": [
    "import numpy as np\n",
    "import matplotlib.pyplot as plt\n",
    "from pybetacool import PyBetaCool\n",
    "\n",
    "neutralisation_list = [0,0.5,1] # fraction\n",
    "\n",
    "for i,neutralisation_space_charge_xs in enumerate(neutralisation_list):\n",
    "    neutralisation_space_charge_betacool=(1-neutralisation_space_charge_xs)*100 #xsuite and betacool use different definitions of neutralisation\n",
    "    BLDfilename = '/home/pkruyt/cernbox/BETACOOL_ecooling/benchmarking-Betacool/LEIR.bld'\n",
    "    betacoolExec = '/home/pkruyt/cernbox/BETACOOL_ecooling/betacool/Betacool'\n",
    "    obj = PyBetaCool(BLDfilename=BLDfilename, betacoolExec=betacoolExec)\n",
    "    # Edit one parameter (row=50, 4th value is \"magnetic field\")\n",
    "    obj.BLDContent[55][3] = neutralisation_space_charge_betacool \n",
    "    # Overwrites LEIR.bld with new setting \n",
    "    obj.BLDContent.save(BLDfilename)\n",
    "    # Execute Betacool\n",
    "    obj.runBetacool('/m')\n",
    "    tmp = obj.parseCurveFile('emittance.cur')\n",
    "\n",
    "    time=tmp[:,0]\n",
    "    emittance_x = tmp[:,1]*1e-6\n",
    "    emittance_y = tmp[:,2]*1e-6\n",
    "    dp_p=tmp[:,3]\n",
    "\n",
    "    filpath=f'results(2024)/emittance_betacool_SC={neutralisation_space_charge_xs}.npz'\n",
    "    #reset the bld file back to default \n",
    "    obj.BLDContent[55][3] = 100 \n",
    "    # Overwrites LEIR.bld with new setting \n",
    "    obj.BLDContent.save(BLDfilename)\n",
    "    \n",
    "    np.savez(filpath, time=time, emittance_x=emittance_x, emittance_y=emittance_y, dp_p=dp_p)\n",
    "\n",
    "    # Print progress indication\n",
    "    progress = (i + 1) / len(neutralisation_list) * 100\n",
    "    print(f\"Progress: {progress:.1f}%\")"
   ]
  }
 ],
 "metadata": {
  "kernelspec": {
   "display_name": "base",
   "language": "python",
   "name": "python3"
  },
  "language_info": {
   "codemirror_mode": {
    "name": "ipython",
    "version": 3
   },
   "file_extension": ".py",
   "mimetype": "text/x-python",
   "name": "python",
   "nbconvert_exporter": "python",
   "pygments_lexer": "ipython3",
   "version": "3.11.3"
  },
  "vscode": {
   "interpreter": {
    "hash": "b3c9a0a5475e728b39e61ac58d244ad936924f9cf82746515a9faeb1f1a0b703"
   }
  }
 },
 "nbformat": 4,
 "nbformat_minor": 5
}
